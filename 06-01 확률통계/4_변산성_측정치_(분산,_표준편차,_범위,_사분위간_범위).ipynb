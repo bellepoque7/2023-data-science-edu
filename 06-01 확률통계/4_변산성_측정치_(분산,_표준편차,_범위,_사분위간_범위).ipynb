{
  "cells": [
    {
      "cell_type": "markdown",
      "metadata": {
        "colab_type": "text",
        "id": "view-in-github"
      },
      "source": [
        "<a href=\"https://colab.research.google.com/github/bellepoque7/2023-data-science-edu/blob/main/4_%EB%B3%80%EC%82%B0%EC%84%B1_%EC%B8%A1%EC%A0%95%EC%B9%98_(%EB%B6%84%EC%82%B0%2C_%ED%91%9C%EC%A4%80%ED%8E%B8%EC%B0%A8%2C_%EB%B2%94%EC%9C%84%2C_%EC%82%AC%EB%B6%84%EC%9C%84%EA%B0%84_%EB%B2%94%EC%9C%84)_ipynb%EC%9D%98_%EC%82%AC%EB%B3%B8.ipynb\" target=\"_parent\"><img src=\"https://colab.research.google.com/assets/colab-badge.svg\" alt=\"Open In Colab\"/></a>"
      ]
    },
    {
      "cell_type": "markdown",
      "metadata": {
        "id": "oJS2HUFUwyvZ"
      },
      "source": [
        "# 4. 변산성 측정치 (분산, 표준편차, 범위, 사분위간 범위)\n",
        "\n",
        "- 변산성(variability): 자료가 흩어져 있는 정도, 혹은 개체에 따라 변할 수 있는 정도\n",
        "- 중심경향치가 자료가 무엇을 중심으로 모여있는가(혹은 흩어져 있는가)를 나타내는 것이라면,\n",
        "- 변산성 측정치는, 그 모여있는 정도(혹은 흩어져 있는 정도)를 의미함"
      ]
    },
    {
      "cell_type": "code",
      "execution_count": null,
      "metadata": {
        "id": "qwR6VopNwxMf"
      },
      "outputs": [],
      "source": [
        "import numpy as np\n",
        "x = [1, 1, 2, 3, 3, 3, 4, 5, 5, 7]"
      ]
    },
    {
      "cell_type": "markdown",
      "metadata": {
        "id": "6VVgAIiJw0DI"
      },
      "source": [
        "### 범위(range)\n",
        "- 자료가 갖는 최대값과 최소값 사이의 거리, 즉 자료가 얼마나 퍼져있는가를 나타냄\n",
        "- 범위 = 최댓값 - 최솟값"
      ]
    },
    {
      "cell_type": "code",
      "execution_count": null,
      "metadata": {
        "colab": {
          "base_uri": "https://localhost:8080/"
        },
        "id": "lJ_OCvTPw0K1",
        "outputId": "d78ec890-009c-4e37-cf1d-182b45b05d58"
      },
      "outputs": [
        {
          "data": {
            "text/plain": [
              "1"
            ]
          },
          "execution_count": 2,
          "metadata": {
            "tags": []
          },
          "output_type": "execute_result"
        }
      ],
      "source": [
        "# 최소값:\n",
        "\n",
        "np.min(x)"
      ]
    },
    {
      "cell_type": "code",
      "execution_count": null,
      "metadata": {
        "colab": {
          "base_uri": "https://localhost:8080/"
        },
        "id": "cudhdjOUw0Na",
        "outputId": "49381f7e-bb04-464b-e26a-f7df6f4df962"
      },
      "outputs": [
        {
          "data": {
            "text/plain": [
              "7"
            ]
          },
          "execution_count": 3,
          "metadata": {
            "tags": []
          },
          "output_type": "execute_result"
        }
      ],
      "source": [
        "# 최대값:\n",
        "\n",
        "np.max(x)"
      ]
    },
    {
      "cell_type": "code",
      "execution_count": null,
      "metadata": {
        "colab": {
          "base_uri": "https://localhost:8080/"
        },
        "id": "64tZ7pAEw0Pw",
        "outputId": "18329105-95b2-4414-c649-bc0fc731aeff"
      },
      "outputs": [
        {
          "data": {
            "text/plain": [
              "6"
            ]
          },
          "execution_count": 4,
          "metadata": {
            "tags": []
          },
          "output_type": "execute_result"
        }
      ],
      "source": [
        "# 범위:\n",
        "\n",
        "np.max(x) - np.min(x)"
      ]
    },
    {
      "cell_type": "markdown",
      "metadata": {
        "id": "VI7qMGErw0SE"
      },
      "source": [
        "### 분산\n",
        "\n",
        "- 평균에서 데이터가 벗어난 정도를 수치화한 값\n",
        "- 각각의 데이터에서 평균값을 빼고, 그것을 제곱하여 평균을 구함\n",
        "- 분산이 크면 : 데이터가 평균에서 많이 벗어나 있다\n",
        "- 분산이 작으면 : 데이터가 평균 주변에 모여 있다"
      ]
    },
    {
      "cell_type": "code",
      "execution_count": null,
      "metadata": {
        "colab": {
          "base_uri": "https://localhost:8080/"
        },
        "id": "GaPz3xcew0UU",
        "outputId": "2c11e094-1b15-44fb-f629-d1a59873dfd5"
      },
      "outputs": [
        {
          "data": {
            "text/plain": [
              "3.2399999999999998"
            ]
          },
          "execution_count": 5,
          "metadata": {
            "tags": []
          },
          "output_type": "execute_result"
        }
      ],
      "source": [
        "np.var(x)"
      ]
    },
    {
      "cell_type": "markdown",
      "metadata": {
        "id": "tD2foEHLw0Yr"
      },
      "source": [
        "# 표준편차\n",
        "평균에서 데이터가 벗어난 정도를 수치화한 값"
      ]
    },
    {
      "cell_type": "code",
      "execution_count": null,
      "metadata": {
        "colab": {
          "base_uri": "https://localhost:8080/"
        },
        "id": "mDcS-fajw0a5",
        "outputId": "641c326e-7fef-4b6b-f701-9c9100d77580"
      },
      "outputs": [
        {
          "data": {
            "text/plain": [
              "1.8"
            ]
          },
          "execution_count": 6,
          "metadata": {
            "tags": []
          },
          "output_type": "execute_result"
        }
      ],
      "source": [
        "np.std(x)"
      ]
    },
    {
      "cell_type": "markdown",
      "metadata": {
        "id": "2lxzoY9EyCxc"
      },
      "source": [
        "표준편차는 분산의 양의 제곱근.\n",
        "\n",
        "아래와 같이 계산하면 numpy.std한 것과 같음."
      ]
    },
    {
      "cell_type": "code",
      "execution_count": null,
      "metadata": {
        "colab": {
          "base_uri": "https://localhost:8080/"
        },
        "id": "-3NEtHmnyC0F",
        "outputId": "f3de1f70-6513-414e-99b7-1923ab5ec0e1"
      },
      "outputs": [
        {
          "data": {
            "text/plain": [
              "1.8"
            ]
          },
          "execution_count": 7,
          "metadata": {
            "tags": []
          },
          "output_type": "execute_result"
        }
      ],
      "source": [
        "np.sqrt(np.var(x))"
      ]
    },
    {
      "cell_type": "markdown",
      "metadata": {
        "id": "xSrsh_wXyMEy"
      },
      "source": [
        "numpy.sqrt로 제곱근을 구할 수 있음."
      ]
    },
    {
      "cell_type": "code",
      "execution_count": null,
      "metadata": {
        "colab": {
          "base_uri": "https://localhost:8080/"
        },
        "id": "lbwvAs_qyC2a",
        "outputId": "00bca55c-cace-4a26-fd84-46475e865f15"
      },
      "outputs": [
        {
          "data": {
            "text/plain": [
              "2.0"
            ]
          },
          "execution_count": 8,
          "metadata": {
            "tags": []
          },
          "output_type": "execute_result"
        }
      ],
      "source": [
        "np.sqrt(4)"
      ]
    },
    {
      "cell_type": "markdown",
      "metadata": {
        "id": "y2fiDaiwyPF7"
      },
      "source": [
        "# 사분위간 범위\n",
        "\n",
        "- 사분위간 범위(IQR, InterQuartile Range)는 제3사분위수에서 제1사분위수 간의 범위\n",
        "- 사분위수란 전체 데이터를 작은 값부터 큰 값까지 순서대로 나열한 후 4등분 하였을 때, 각 지점에 해당하는 값\n",
        "    - 제1사분위수(Q1): 25% 지점\n",
        "    - 제2사분위수(Q2): 50% 지점 = 중간값\n",
        "    - 제3사분위수(Q3): 75%\n",
        "\n",
        "- 제1사분위수와 제3사분위수 사이의 구간에는 항상 전체 데이터의 50%가 포함 됨\n",
        "- 사분위는 임의로 정하는 기준이므로 필요에 따라 십분위 등으로 변경가능"
      ]
    },
    {
      "cell_type": "code",
      "execution_count": null,
      "metadata": {
        "colab": {
          "base_uri": "https://localhost:8080/",
          "height": 316
        },
        "id": "wIIhK1JuirVB",
        "outputId": "da7c6fdc-9b31-42a1-e296-aea18dbb6885"
      },
      "outputs": [
        {
          "data": {
            "image/png": "[encoded data removed]",
            "text/plain": [
              "<IPython.core.display.Image object>"
            ]
          },
          "execution_count": 14,
          "metadata": {
            "tags": []
          },
          "output_type": "execute_result"
        }
      ],
      "source": [
        "from IPython.display import Image\n",
        "\n",
        "# image source : https://justinsighting.com/how-to-interpret-box-plots/\n",
        "Image('https://justinsighting.com/wp-content/uploads/2016/12/boxplot-description.png')"
      ]
    },
    {
      "cell_type": "code",
      "execution_count": null,
      "metadata": {
        "colab": {
          "base_uri": "https://localhost:8080/"
        },
        "id": "93QoS9hRybpS",
        "outputId": "bd98b6c7-e712-4793-a032-9a880c08d5f8"
      },
      "outputs": [
        {
          "data": {
            "text/plain": [
              "2.25"
            ]
          },
          "execution_count": 9,
          "metadata": {
            "tags": []
          },
          "output_type": "execute_result"
        }
      ],
      "source": [
        "#제1사분위수:\n",
        "\n",
        "np.quantile(x, .25)"
      ]
    },
    {
      "cell_type": "code",
      "execution_count": null,
      "metadata": {
        "colab": {
          "base_uri": "https://localhost:8080/"
        },
        "id": "4PCyPbLaygDW",
        "outputId": "33afd0ba-a066-4098-8af0-e5b699574823"
      },
      "outputs": [
        {
          "data": {
            "text/plain": [
              "3.0"
            ]
          },
          "execution_count": 10,
          "metadata": {
            "tags": []
          },
          "output_type": "execute_result"
        }
      ],
      "source": [
        "# 제2사분위수(50% 지점) = 중간값:\n",
        "\n",
        "np.quantile(x, .5)"
      ]
    },
    {
      "cell_type": "code",
      "execution_count": null,
      "metadata": {
        "colab": {
          "base_uri": "https://localhost:8080/"
        },
        "id": "cOIKjQBXygMe",
        "outputId": "cc670f59-bf54-453b-ddda-4630d597eed4"
      },
      "outputs": [
        {
          "data": {
            "text/plain": [
              "3.0"
            ]
          },
          "execution_count": 11,
          "metadata": {
            "tags": []
          },
          "output_type": "execute_result"
        }
      ],
      "source": [
        "np.median(x)"
      ]
    },
    {
      "cell_type": "code",
      "execution_count": null,
      "metadata": {
        "colab": {
          "base_uri": "https://localhost:8080/"
        },
        "id": "Cm1HFJVpygTO",
        "outputId": "f7c0649e-d902-4ab4-813b-a138960016b2"
      },
      "outputs": [
        {
          "data": {
            "text/plain": [
              "4.75"
            ]
          },
          "execution_count": 12,
          "metadata": {
            "tags": []
          },
          "output_type": "execute_result"
        }
      ],
      "source": [
        "# 제3사분위수(75% 지점)\n",
        "\n",
        "np.quantile(x, .75)"
      ]
    },
    {
      "cell_type": "code",
      "execution_count": null,
      "metadata": {
        "colab": {
          "base_uri": "https://localhost:8080/"
        },
        "id": "4Cp0qAf2ymDQ",
        "outputId": "fd562705-5f08-4e9a-db59-354b22b1104e"
      },
      "outputs": [
        {
          "data": {
            "text/plain": [
              "2.5"
            ]
          },
          "execution_count": 13,
          "metadata": {
            "tags": []
          },
          "output_type": "execute_result"
        }
      ],
      "source": [
        "# 사분위간 범위(Q3 - Q1):\n",
        "\n",
        "np.quantile(x, .75) - np.quantile(x, .25)"
      ]
    },
    {
      "cell_type": "code",
      "execution_count": null,
      "metadata": {
        "id": "FH8Esu9pxNje"
      },
      "outputs": [],
      "source": []
    },
    {
      "cell_type": "markdown",
      "metadata": {
        "id": "UZXDY7JDyp7H"
      },
      "source": [
        "### 변산성 측정치를 이용한 이상점 진단\n",
        "\n",
        "- 대부분의 자료는 중심경향치 주변에 몰려있음\n",
        "- 변산성 측정치를 기준으로 벗어난 정도를 파악할 수 있음\n",
        "    - 평균에서 벗어난 정도를 판단할 때는 표준편차를 사용\n",
        "        - 평균에서 표준편차의 n배 떨어져 있으면 \"n   표준편차\"와 같이 표현\n",
        "    - 중간값에서 벗어난 정도를 판단할 때는 IQR을 사용\n",
        "- 중심경향치에서 크게 벗어났다면 이상점으로 의심할 수 있음\n"
      ]
    },
    {
      "cell_type": "markdown",
      "metadata": {
        "id": "zymBSSoSxTts"
      },
      "source": [
        "## 박스 플롯(box)"
      ]
    },
    {
      "cell_type": "markdown",
      "metadata": {
        "id": "0Os6XAw9gM91"
      },
      "source": [
        "### STEP 1. 아래 코드를 실행합니다."
      ]
    },
    {
      "cell_type": "code",
      "execution_count": 1,
      "metadata": {
        "colab": {
          "base_uri": "https://localhost:8080/"
        },
        "id": "ye0irAyBejGm",
        "outputId": "325b6cf2-6ccf-478d-b814-00d005837264"
      },
      "outputs": [
        {
          "ename": "AttributeError",
          "evalue": "module 'matplotlib.font_manager' has no attribute '_rebuild'",
          "output_type": "error",
          "traceback": [
            "\u001b[0;31m---------------------------------------------------------------------------\u001b[0m",
            "\u001b[0;31mAttributeError\u001b[0m                            Traceback (most recent call last)",
            "Cell \u001b[0;32mIn[1], line 8\u001b[0m\n\u001b[1;32m      4\u001b[0m \u001b[39mimport\u001b[39;00m \u001b[39mmatplotlib\u001b[39;00m\u001b[39m.\u001b[39;00m\u001b[39mfont_manager\u001b[39;00m \u001b[39mas\u001b[39;00m \u001b[39mfm\u001b[39;00m\n\u001b[1;32m      6\u001b[0m \u001b[39m# fontpath = '/usr/share/fonts/truetype/nanum/NanumBarunGothic.ttf'\u001b[39;00m\n\u001b[1;32m      7\u001b[0m \u001b[39m# font = fm.FontProperties(fname=fontpath, size=10)\u001b[39;00m\n\u001b[0;32m----> 8\u001b[0m fm\u001b[39m.\u001b[39;49m_rebuild()\n\u001b[1;32m     10\u001b[0m \u001b[39m# 그래프에 retina display 적용\u001b[39;00m\n\u001b[1;32m     11\u001b[0m get_ipython()\u001b[39m.\u001b[39mrun_line_magic(\u001b[39m'\u001b[39m\u001b[39mconfig\u001b[39m\u001b[39m'\u001b[39m, \u001b[39m\"\u001b[39m\u001b[39mInlineBackend.figure_format = \u001b[39m\u001b[39m'\u001b[39m\u001b[39mretina\u001b[39m\u001b[39m'\u001b[39m\u001b[39m\"\u001b[39m)\n",
            "\u001b[0;31mAttributeError\u001b[0m: module 'matplotlib.font_manager' has no attribute '_rebuild'"
          ]
        }
      ],
      "source": [
        "# !apt -qq -y install fonts-nanum > /dev/null\n",
        "\n",
        "import matplotlib.pyplot as plt\n",
        "import matplotlib.font_manager as fm\n",
        "\n",
        "fontpath = '/usr/share/fonts/truetype/nanum/NanumBarunGothic.ttf'\n",
        "font = fm.FontProperties(fname=fontpath, size=10)\n",
        "fm._rebuild()\n",
        "\n",
        "# 그래프에 retina display 적용\n",
        "%config InlineBackend.figure_format = 'retina'\n",
        "\n",
        "# Colab 의 한글 폰트 설정\n",
        "plt.rc('font', family='NanumBarunGothic') "
      ]
    },
    {
      "cell_type": "markdown",
      "metadata": {
        "id": "QXi3SR9egQxV"
      },
      "source": [
        "### STEP 2. 상단 메뉴 - 런타임 - 런타임 다시 시작을 클릭"
      ]
    },
    {
      "cell_type": "markdown",
      "metadata": {
        "id": "vTbYBB66gaqi"
      },
      "source": [
        "### STEP 3. 아래 코드를 한 번 더 실행 합니다."
      ]
    },
    {
      "cell_type": "code",
      "execution_count": null,
      "metadata": {
        "colab": {
          "base_uri": "https://localhost:8080/"
        },
        "id": "-6z70pI8eufI",
        "outputId": "dd7509e6-cef1-4f5e-b4eb-5c4470e51593"
      },
      "outputs": [
        {
          "name": "stdout",
          "output_type": "stream",
          "text": [
            "\n",
            "WARNING: apt does not have a stable CLI interface. Use with caution in scripts.\n",
            "\n"
          ]
        }
      ],
      "source": [
        "!apt -qq -y install fonts-nanum > /dev/null\n",
        "\n",
        "import matplotlib.pyplot as plt\n",
        "import matplotlib.font_manager as fm\n",
        "\n",
        "fontpath = '/usr/share/fonts/truetype/nanum/NanumBarunGothic.ttf'\n",
        "font = fm.FontProperties(fname=fontpath, size=10)\n",
        "fm._rebuild()\n",
        "\n",
        "# 그래프에 retina display 적용\n",
        "%config InlineBackend.figure_format = 'retina'\n",
        "\n",
        "# Colab 의 한글 폰트 설정\n",
        "plt.rc('font', family='NanumBarunGothic') "
      ]
    },
    {
      "cell_type": "code",
      "execution_count": 2,
      "metadata": {
        "id": "oH5xDNudxesT"
      },
      "outputs": [],
      "source": [
        "import pandas as pd"
      ]
    },
    {
      "cell_type": "code",
      "execution_count": 3,
      "metadata": {
        "id": "PwqSx80pkzQ0"
      },
      "outputs": [],
      "source": [
        "df = pd.read_csv('https://bit.ly/ds-house-price-clean')"
      ]
    },
    {
      "cell_type": "code",
      "execution_count": 6,
      "metadata": {},
      "outputs": [
        {
          "data": {
            "text/html": [
              "<div>\n",
              "<style scoped>\n",
              "    .dataframe tbody tr th:only-of-type {\n",
              "        vertical-align: middle;\n",
              "    }\n",
              "\n",
              "    .dataframe tbody tr th {\n",
              "        vertical-align: top;\n",
              "    }\n",
              "\n",
              "    .dataframe thead th {\n",
              "        text-align: right;\n",
              "    }\n",
              "</style>\n",
              "<table border=\"1\" class=\"dataframe\">\n",
              "  <thead>\n",
              "    <tr style=\"text-align: right;\">\n",
              "      <th></th>\n",
              "      <th>지역</th>\n",
              "      <th>규모</th>\n",
              "      <th>연도</th>\n",
              "      <th>월</th>\n",
              "      <th>분양가</th>\n",
              "    </tr>\n",
              "  </thead>\n",
              "  <tbody>\n",
              "    <tr>\n",
              "      <th>0</th>\n",
              "      <td>서울</td>\n",
              "      <td>60㎡이하</td>\n",
              "      <td>2015</td>\n",
              "      <td>10</td>\n",
              "      <td>5652</td>\n",
              "    </tr>\n",
              "    <tr>\n",
              "      <th>1</th>\n",
              "      <td>서울</td>\n",
              "      <td>60㎡초과 85㎡이하</td>\n",
              "      <td>2015</td>\n",
              "      <td>10</td>\n",
              "      <td>5882</td>\n",
              "    </tr>\n",
              "    <tr>\n",
              "      <th>2</th>\n",
              "      <td>서울</td>\n",
              "      <td>85㎡초과 102㎡이하</td>\n",
              "      <td>2015</td>\n",
              "      <td>10</td>\n",
              "      <td>5721</td>\n",
              "    </tr>\n",
              "    <tr>\n",
              "      <th>3</th>\n",
              "      <td>서울</td>\n",
              "      <td>102㎡초과</td>\n",
              "      <td>2015</td>\n",
              "      <td>10</td>\n",
              "      <td>5879</td>\n",
              "    </tr>\n",
              "    <tr>\n",
              "      <th>4</th>\n",
              "      <td>인천</td>\n",
              "      <td>60㎡이하</td>\n",
              "      <td>2015</td>\n",
              "      <td>10</td>\n",
              "      <td>3488</td>\n",
              "    </tr>\n",
              "  </tbody>\n",
              "</table>\n",
              "</div>"
            ],
            "text/plain": [
              "   지역             규모    연도   월   분양가\n",
              "0  서울          60㎡이하  2015  10  5652\n",
              "1  서울    60㎡초과 85㎡이하  2015  10  5882\n",
              "2  서울   85㎡초과 102㎡이하  2015  10  5721\n",
              "3  서울         102㎡초과  2015  10  5879\n",
              "4  인천          60㎡이하  2015  10  3488"
            ]
          },
          "execution_count": 6,
          "metadata": {},
          "output_type": "execute_result"
        }
      ],
      "source": [
        "df.head()"
      ]
    },
    {
      "cell_type": "code",
      "execution_count": 4,
      "metadata": {
        "id": "PTldD5FUk989"
      },
      "outputs": [],
      "source": [
        "df_seoul = df.loc[df['지역'] == '서울']"
      ]
    },
    {
      "cell_type": "code",
      "execution_count": 5,
      "metadata": {
        "colab": {
          "base_uri": "https://localhost:8080/",
          "height": 284
        },
        "id": "jjafFCZIlBh0",
        "outputId": "3d991837-4bfe-4258-a92a-5bd87bf7c1da"
      },
      "outputs": [
        {
          "data": {
            "text/plain": [
              "<Axes: >"
            ]
          },
          "execution_count": 5,
          "metadata": {},
          "output_type": "execute_result"
        },
        {
          "name": "stderr",
          "output_type": "stream",
          "text": [
            "/Users/bellepoque7/Library/Python/3.10/lib/python/site-packages/IPython/core/events.py:89: UserWarning: Glyph 48516 (\\N{HANGUL SYLLABLE BUN}) missing from current font.\n",
            "  func(*args, **kwargs)\n",
            "/Users/bellepoque7/Library/Python/3.10/lib/python/site-packages/IPython/core/events.py:89: UserWarning: Glyph 50577 (\\N{HANGUL SYLLABLE YANG}) missing from current font.\n",
            "  func(*args, **kwargs)\n",
            "/Users/bellepoque7/Library/Python/3.10/lib/python/site-packages/IPython/core/events.py:89: UserWarning: Glyph 44032 (\\N{HANGUL SYLLABLE GA}) missing from current font.\n",
            "  func(*args, **kwargs)\n",
            "/Users/bellepoque7/Library/Python/3.10/lib/python/site-packages/IPython/core/pylabtools.py:152: UserWarning: Glyph 48516 (\\N{HANGUL SYLLABLE BUN}) missing from current font.\n",
            "  fig.canvas.print_figure(bytes_io, **kw)\n",
            "/Users/bellepoque7/Library/Python/3.10/lib/python/site-packages/IPython/core/pylabtools.py:152: UserWarning: Glyph 50577 (\\N{HANGUL SYLLABLE YANG}) missing from current font.\n",
            "  fig.canvas.print_figure(bytes_io, **kw)\n",
            "/Users/bellepoque7/Library/Python/3.10/lib/python/site-packages/IPython/core/pylabtools.py:152: UserWarning: Glyph 44032 (\\N{HANGUL SYLLABLE GA}) missing from current font.\n",
            "  fig.canvas.print_figure(bytes_io, **kw)\n"
          ]
        },
        {
          "data": {
            "image/png": "[encoded data removed]",
            "text/plain": [
              "<Figure size 640x480 with 1 Axes>"
            ]
          },
          "metadata": {},
          "output_type": "display_data"
        }
      ],
      "source": [
        "df_seoul['분양가'].plot(kind='box')"
      ]
    },
    {
      "cell_type": "markdown",
      "metadata": {
        "id": "lUX43oZVlLXU"
      },
      "source": [
        "### box plot\n",
        "!['사분위수'](https://mblogthumb-phinf.pstatic.net/MjAyMDA2MThfMTY2/MDAxNTkyNDcyMDQ1MDU2.sWV9M4-sL3w1u0PY0mgdsKzV4MCKSwYSy-FLwgsM3v0g.mnPWcN5fYm7Da9fn-S7XeQkqXjDjSqz6i4Y9itGOjWQg.PNG.tlrror9496/image.png?type=w800)"
      ]
    },
    {
      "cell_type": "code",
      "execution_count": null,
      "metadata": {
        "colab": {
          "base_uri": "https://localhost:8080/",
          "height": 300
        },
        "id": "PQ007gv1lhEu",
        "outputId": "887e9b50-a0e0-45e3-f42c-e64b1073b8c4"
      },
      "outputs": [
        {
          "data": {
            "text/html": [
              "\n",
              "  <div id=\"df-fa367d91-c6d8-4e29-9e05-9c255840bea9\">\n",
              "    <div class=\"colab-df-container\">\n",
              "      <div>\n",
              "<style scoped>\n",
              "    .dataframe tbody tr th:only-of-type {\n",
              "        vertical-align: middle;\n",
              "    }\n",
              "\n",
              "    .dataframe tbody tr th {\n",
              "        vertical-align: top;\n",
              "    }\n",
              "\n",
              "    .dataframe thead th {\n",
              "        text-align: right;\n",
              "    }\n",
              "</style>\n",
              "<table border=\"1\" class=\"dataframe\">\n",
              "  <thead>\n",
              "    <tr style=\"text-align: right;\">\n",
              "      <th></th>\n",
              "      <th>연도</th>\n",
              "      <th>월</th>\n",
              "      <th>분양가</th>\n",
              "    </tr>\n",
              "  </thead>\n",
              "  <tbody>\n",
              "    <tr>\n",
              "      <th>count</th>\n",
              "      <td>212.00000</td>\n",
              "      <td>212.000000</td>\n",
              "      <td>212.000000</td>\n",
              "    </tr>\n",
              "    <tr>\n",
              "      <th>mean</th>\n",
              "      <td>2017.45283</td>\n",
              "      <td>6.566038</td>\n",
              "      <td>7308.943396</td>\n",
              "    </tr>\n",
              "    <tr>\n",
              "      <th>std</th>\n",
              "      <td>1.31439</td>\n",
              "      <td>3.603629</td>\n",
              "      <td>1402.869496</td>\n",
              "    </tr>\n",
              "    <tr>\n",
              "      <th>min</th>\n",
              "      <td>2015.00000</td>\n",
              "      <td>1.000000</td>\n",
              "      <td>5061.000000</td>\n",
              "    </tr>\n",
              "    <tr>\n",
              "      <th>25%</th>\n",
              "      <td>2016.00000</td>\n",
              "      <td>3.000000</td>\n",
              "      <td>6519.750000</td>\n",
              "    </tr>\n",
              "    <tr>\n",
              "      <th>50%</th>\n",
              "      <td>2017.00000</td>\n",
              "      <td>7.000000</td>\n",
              "      <td>6895.500000</td>\n",
              "    </tr>\n",
              "    <tr>\n",
              "      <th>75%</th>\n",
              "      <td>2019.00000</td>\n",
              "      <td>10.000000</td>\n",
              "      <td>7732.000000</td>\n",
              "    </tr>\n",
              "    <tr>\n",
              "      <th>max</th>\n",
              "      <td>2020.00000</td>\n",
              "      <td>12.000000</td>\n",
              "      <td>13835.000000</td>\n",
              "    </tr>\n",
              "  </tbody>\n",
              "</table>\n",
              "</div>\n",
              "      <button class=\"colab-df-convert\" onclick=\"convertToInteractive('df-fa367d91-c6d8-4e29-9e05-9c255840bea9')\"\n",
              "              title=\"Convert this dataframe to an interactive table.\"\n",
              "              style=\"display:none;\">\n",
              "        \n",
              "  <svg xmlns=\"http://www.w3.org/2000/svg\" height=\"24px\"viewBox=\"0 0 24 24\"\n",
              "       width=\"24px\">\n",
              "    <path d=\"M0 0h24v24H0V0z\" fill=\"none\"/>\n",
              "    <path d=\"M18.56 5.44l.94 2.06.94-2.06 2.06-.94-2.06-.94-.94-2.06-.94 2.06-2.06.94zm-11 1L8.5 8.5l.94-2.06 2.06-.94-2.06-.94L8.5 2.5l-.94 2.06-2.06.94zm10 10l.94 2.06.94-2.06 2.06-.94-2.06-.94-.94-2.06-.94 2.06-2.06.94z\"/><path d=\"M17.41 7.96l-1.37-1.37c-.4-.4-.92-.59-1.43-.59-.52 0-1.04.2-1.43.59L10.3 9.45l-7.72 7.72c-.78.78-.78 2.05 0 2.83L4 21.41c.39.39.9.59 1.41.59.51 0 1.02-.2 1.41-.59l7.78-7.78 2.81-2.81c.8-.78.8-2.07 0-2.86zM5.41 20L4 18.59l7.72-7.72 1.47 1.35L5.41 20z\"/>\n",
              "  </svg>\n",
              "      </button>\n",
              "      \n",
              "  <style>\n",
              "    .colab-df-container {\n",
              "      display:flex;\n",
              "      flex-wrap:wrap;\n",
              "      gap: 12px;\n",
              "    }\n",
              "\n",
              "    .colab-df-convert {\n",
              "      background-color: #E8F0FE;\n",
              "      border: none;\n",
              "      border-radius: 50%;\n",
              "      cursor: pointer;\n",
              "      display: none;\n",
              "      fill: #1967D2;\n",
              "      height: 32px;\n",
              "      padding: 0 0 0 0;\n",
              "      width: 32px;\n",
              "    }\n",
              "\n",
              "    .colab-df-convert:hover {\n",
              "      background-color: #E2EBFA;\n",
              "      box-shadow: 0px 1px 2px rgba(60, 64, 67, 0.3), 0px 1px 3px 1px rgba(60, 64, 67, 0.15);\n",
              "      fill: #174EA6;\n",
              "    }\n",
              "\n",
              "    [theme=dark] .colab-df-convert {\n",
              "      background-color: #3B4455;\n",
              "      fill: #D2E3FC;\n",
              "    }\n",
              "\n",
              "    [theme=dark] .colab-df-convert:hover {\n",
              "      background-color: #434B5C;\n",
              "      box-shadow: 0px 1px 3px 1px rgba(0, 0, 0, 0.15);\n",
              "      filter: drop-shadow(0px 1px 2px rgba(0, 0, 0, 0.3));\n",
              "      fill: #FFFFFF;\n",
              "    }\n",
              "  </style>\n",
              "\n",
              "      <script>\n",
              "        const buttonEl =\n",
              "          document.querySelector('#df-fa367d91-c6d8-4e29-9e05-9c255840bea9 button.colab-df-convert');\n",
              "        buttonEl.style.display =\n",
              "          google.colab.kernel.accessAllowed ? 'block' : 'none';\n",
              "\n",
              "        async function convertToInteractive(key) {\n",
              "          const element = document.querySelector('#df-fa367d91-c6d8-4e29-9e05-9c255840bea9');\n",
              "          const dataTable =\n",
              "            await google.colab.kernel.invokeFunction('convertToInteractive',\n",
              "                                                     [key], {});\n",
              "          if (!dataTable) return;\n",
              "\n",
              "          const docLinkHtml = 'Like what you see? Visit the ' +\n",
              "            '<a target=\"_blank\" href=https://colab.research.google.com/notebooks/data_table.ipynb>data table notebook</a>'\n",
              "            + ' to learn more about interactive tables.';\n",
              "          element.innerHTML = '';\n",
              "          dataTable['output_type'] = 'display_data';\n",
              "          await google.colab.output.renderOutput(dataTable, element);\n",
              "          const docLink = document.createElement('div');\n",
              "          docLink.innerHTML = docLinkHtml;\n",
              "          element.appendChild(docLink);\n",
              "        }\n",
              "      </script>\n",
              "    </div>\n",
              "  </div>\n",
              "  "
            ],
            "text/plain": [
              "               연도           월           분양가\n",
              "count   212.00000  212.000000    212.000000\n",
              "mean   2017.45283    6.566038   7308.943396\n",
              "std       1.31439    3.603629   1402.869496\n",
              "min    2015.00000    1.000000   5061.000000\n",
              "25%    2016.00000    3.000000   6519.750000\n",
              "50%    2017.00000    7.000000   6895.500000\n",
              "75%    2019.00000   10.000000   7732.000000\n",
              "max    2020.00000   12.000000  13835.000000"
            ]
          },
          "execution_count": 11,
          "metadata": {},
          "output_type": "execute_result"
        }
      ],
      "source": [
        "df_seoul.describe()"
      ]
    },
    {
      "cell_type": "markdown",
      "metadata": {
        "id": "D6rnO2XDp2MC"
      },
      "source": [
        "IQR은 Inter Quantile Range의 약어로써, (3Q - 1Q) * 1.5 값입니다."
      ]
    },
    {
      "cell_type": "code",
      "execution_count": null,
      "metadata": {
        "colab": {
          "base_uri": "https://localhost:8080/"
        },
        "id": "u6HQmVvsnrW_",
        "outputId": "31e00698-4b3b-4a6e-be49-356612e936c6"
      },
      "outputs": [
        {
          "data": {
            "text/plain": [
              "1818.375"
            ]
          },
          "execution_count": 12,
          "metadata": {},
          "output_type": "execute_result"
        }
      ],
      "source": [
        "IQR = (7732 - 6519.75) * 1.5\n",
        "IQR"
      ]
    },
    {
      "cell_type": "code",
      "execution_count": null,
      "metadata": {
        "colab": {
          "base_uri": "https://localhost:8080/"
        },
        "id": "l4NjK011pVBg",
        "outputId": "d434323c-1dec-4b6c-934f-20021a8e862e"
      },
      "outputs": [
        {
          "data": {
            "text/plain": [
              "9550.375"
            ]
          },
          "execution_count": 13,
          "metadata": {},
          "output_type": "execute_result"
        }
      ],
      "source": [
        "## 박스 플롯 max\n",
        "7732 + IQR"
      ]
    },
    {
      "cell_type": "code",
      "execution_count": null,
      "metadata": {
        "colab": {
          "base_uri": "https://localhost:8080/"
        },
        "id": "84jMDDTGpcWR",
        "outputId": "f9057ea7-9a53-46fd-a507-f48b1c322ad1"
      },
      "outputs": [
        {
          "data": {
            "text/plain": [
              "4701.375"
            ]
          },
          "execution_count": 14,
          "metadata": {},
          "output_type": "execute_result"
        }
      ],
      "source": [
        "## 박스 플롯 min\n",
        "6519.75 - IQR"
      ]
    },
    {
      "cell_type": "markdown",
      "metadata": {
        "id": "Ywf2lhU3plpv"
      },
      "source": [
        "박스플롯은 데이터 outlier 감지 할 떄 가장 많이 활용 되며, 25%, median, 75% 분위의 값을 활용하는 용도로 많이 활용됩니다."
      ]
    },
    {
      "cell_type": "code",
      "execution_count": null,
      "metadata": {
        "id": "N7iOR-WNqjF4"
      },
      "outputs": [],
      "source": []
    }
  ],
  "metadata": {
    "colab": {
      "include_colab_link": true,
      "provenance": []
    },
    "kernelspec": {
      "display_name": "Python 3",
      "language": "python",
      "name": "python3"
    },
    "language_info": {
      "codemirror_mode": {
        "name": "ipython",
        "version": 3
      },
      "file_extension": ".py",
      "mimetype": "text/x-python",
      "name": "python",
      "nbconvert_exporter": "python",
      "pygments_lexer": "ipython3",
      "version": "3.10.9 (main, Dec 15 2022, 18:25:35) [Clang 14.0.0 (clang-1400.0.29.202)]"
    },
    "vscode": {
      "interpreter": {
        "hash": "aee8b7b246df8f9039afb4144a1f6fd8d2ca17a180786b69acc140d282b71a49"
      }
    }
  },
  "nbformat": 4,
  "nbformat_minor": 0
}
