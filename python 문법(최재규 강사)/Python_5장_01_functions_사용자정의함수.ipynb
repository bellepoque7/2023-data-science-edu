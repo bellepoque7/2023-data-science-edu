{
  "nbformat": 4,
  "nbformat_minor": 0,
  "metadata": {
    "colab": {
      "provenance": [],
      "include_colab_link": true
    },
    "kernelspec": {
      "name": "python3",
      "display_name": "Python 3"
    }
  },
  "cells": [
    {
      "cell_type": "markdown",
      "metadata": {
        "id": "view-in-github",
        "colab_type": "text"
      },
      "source": [
        "<a href=\"https://colab.research.google.com/github/bellepoque7/2023-data-science-edu/blob/main/python%20%EB%AC%B8%EB%B2%95(%EC%B5%9C%EC%9E%AC%EA%B7%9C%20%EA%B0%95%EC%82%AC)/Python_5%EC%9E%A5_01_functions_%EC%82%AC%EC%9A%A9%EC%9E%90%EC%A0%95%EC%9D%98%ED%95%A8%EC%88%98.ipynb\" target=\"_parent\"><img src=\"https://colab.research.google.com/assets/colab-badge.svg\" alt=\"Open In Colab\"/></a>"
      ]
    },
    {
      "cell_type": "markdown",
      "metadata": {
        "id": "1rmWQIfMSi0H"
      },
      "source": [
        "# 지금부터는 직접 내가 필요한 함수를 직접 만들어서 사용하는\n",
        "# '사용자 정의 함수'를 사용해보자."
      ]
    },
    {
      "cell_type": "code",
      "metadata": {
        "id": "nfTwDNbvnKyP"
      },
      "source": [
        "# 함수를 정의하는 방법\n",
        "\n",
        "def add(first, second):   # 함수 정의\n",
        "        \n",
        "\n",
        "# 이로써 add()라는 함수를 만들었다.\n",
        "# add() 함수는 2개의 파라미터를 받아서, 그 합을 반환한다."
      ],
      "execution_count": null,
      "outputs": []
    },
    {
      "cell_type": "code",
      "metadata": {
        "id": "9l7tOuavnP8l",
        "colab": {
          "base_uri": "https://localhost:8080/"
        },
        "outputId": "a0185269-ec74-4605-d8c5-06b81cfd7aa9"
      },
      "source": [
        "# 함수를 사용하는 예제를 아래에서 확인하자.\n",
        "\n",
        "a = 2000\n",
        "b = 20\n",
        "c = add(a, b)  # 함수 호출\n",
        "print(c)\n",
        "\n",
        "print(add(10, 20))"
      ],
      "execution_count": null,
      "outputs": [
        {
          "output_type": "stream",
          "text": [
            "2020\n",
            "30\n"
          ],
          "name": "stdout"
        }
      ]
    },
    {
      "cell_type": "markdown",
      "metadata": {
        "id": "ZzUhTEIunjdk"
      },
      "source": [
        "# 본격적으로 함수를 공부해보자.\n",
        "- 다른 프로그래밍 언어를 사용해본 경험이 있으면, 위의 예만으로도 파이썬 함수에 대한 어느 정도의 이해가 될 것이다. \n",
        "- 이제, 아래의 예제를 통해서 함수에 대한 조금 더 윤곽을 잡아보자.\n",
        "- 지금부터는 관련 있는 코드 부분들을 함수(function)로 나누어서 프로그래밍한다. \n",
        "- 지금은 전체 프로그램이 20줄 미만이라서 효과는 적지만, \n",
        "- 프로그램이 길어지면 관련있는 부분들을 함수로 나누어서 프로그래밍할 필요가 있다. \n",
        "- 지금부터 함수 사용의 간단한 경우부터, 복잡한 경우까지 단계별로 설명한다.\n",
        "    1.\t특정한 일만 하는 함수, 즉, 단순한 반복 작업의 묶음 기능\n",
        "    2.\t함수의 결과값을 반환하는 기능\n",
        "    3.\t함수가 처리할 값을 전달받는 기능\n",
        "    4.\t위의 모든 기능의 통합"
      ]
    },
    {
      "cell_type": "markdown",
      "metadata": {
        "id": "T2IJ2HhaZYXP"
      },
      "source": [
        "# 1. 특정한 일만 하는 함수"
      ]
    },
    {
      "cell_type": "code",
      "metadata": {
        "id": "r6KWnxJ7nhyE",
        "colab": {
          "base_uri": "https://localhost:8080/"
        },
        "outputId": "f67d512a-789c-477e-f6eb-e15c79d1b4dd"
      },
      "source": [
        "# 함수를 정의하는 형식은 아래와 같다.\n",
        "\"\"\"\n",
        "def 함수명():\n",
        "    함수 바디\n",
        "\"\"\"\n",
        "# 함수 정의\n",
        "# 아래의 함수는 파라미터를 받지도 않고, 반환값도 없다.\n",
        "def greet1():\n",
        "    print('Hi')\n",
        "\n",
        "# 함수 사용\n",
        "greet1()\n",
        "greet1()\n",
        "greet1()"
      ],
      "execution_count": null,
      "outputs": [
        {
          "output_type": "stream",
          "text": [
            "Hi\n",
            "Hi\n",
            "Hi\n"
          ],
          "name": "stdout"
        }
      ]
    },
    {
      "cell_type": "markdown",
      "metadata": {
        "id": "9rDCs9ywaCv2"
      },
      "source": [
        "# 2. 함수의 결과값을 반환하는 함수"
      ]
    },
    {
      "cell_type": "code",
      "metadata": {
        "id": "hcMwTvIhnzvr",
        "colab": {
          "base_uri": "https://localhost:8080/",
          "height": 72
        },
        "outputId": "de8a0f4d-3f95-4fc5-c26e-45e3cc9d8b92"
      },
      "source": [
        "# 아래의 함수는 문자열을 반환한다.\n",
        "# 반환하는 값을 return 문장으로 적어주면 된다.\n",
        "\n",
        "def greet2():\n",
        "    return 'Hello'\n",
        "\n",
        "# 함수 사용\n",
        "print(greet2())\n",
        "\n",
        "msg = greet2()\n",
        "print(msg)\n",
        "\n",
        "greet2()"
      ],
      "execution_count": null,
      "outputs": [
        {
          "output_type": "stream",
          "name": "stdout",
          "text": [
            "Hello\n",
            "Hello\n"
          ]
        },
        {
          "output_type": "execute_result",
          "data": {
            "text/plain": [
              "'Hello'"
            ],
            "application/vnd.google.colaboratory.intrinsic+json": {
              "type": "string"
            }
          },
          "metadata": {},
          "execution_count": 1
        }
      ]
    },
    {
      "cell_type": "markdown",
      "metadata": {
        "id": "stjrsNJGaIX-"
      },
      "source": [
        "# 3. 함수가 처리할 값을 파라미터로 전달받는 함수\n"
      ]
    },
    {
      "cell_type": "code",
      "metadata": {
        "id": "gp_ipVRfn1jr",
        "colab": {
          "base_uri": "https://localhost:8080/"
        },
        "outputId": "7488a8b4-aa00-4651-940b-9511bca5b9c9"
      },
      "source": [
        "# 아래의 함수는 값을 전달받고, 그 값을 화면에 출력한다.\n",
        "def greet3(message):\n",
        "    print(message)\n",
        "\n",
        "# 함수 사용\n",
        "greet3('Hi!')\n",
        "\n",
        "# 아래의 함수는 값을 전달받고, 그 값을 수정한 값을 출력한다.\n",
        "def greet3_2(message):\n",
        "    print(\"You said:\", message)\n",
        "\n",
        "# 함수 사용\n",
        "greet3_2('Hi~~')"
      ],
      "execution_count": null,
      "outputs": [
        {
          "output_type": "stream",
          "text": [
            "Hi!\n",
            "You said: Hi~~\n"
          ],
          "name": "stdout"
        }
      ]
    },
    {
      "cell_type": "markdown",
      "metadata": {
        "id": "cAJLlUPyaMcV"
      },
      "source": [
        "# 4. 파라미터 값을 전달받고, 또 함수의 결과값을 반환하는 함수\n"
      ]
    },
    {
      "cell_type": "code",
      "metadata": {
        "id": "hpFEBtr3oRta",
        "colab": {
          "base_uri": "https://localhost:8080/"
        },
        "outputId": "fcb2f867-bd02-4a16-8af1-cc07bc16e8c5"
      },
      "source": [
        "# 아래 함수는 파라미터도 전달하고, 반환값도 있다.\n",
        "def add(a, b):\n",
        "    print('add function is called.')\n",
        "    return a+b\n",
        "\n",
        "# 함수 사용\n",
        "c = add(1, 2)\n",
        "print(c)\n",
        "\n",
        "# 함수 사용\n",
        "a = 2\n",
        "b = 4\n",
        "c = add(a, b)\n",
        "print(c)"
      ],
      "execution_count": null,
      "outputs": [
        {
          "output_type": "stream",
          "text": [
            "add function is called.\n",
            "3\n",
            "add function is called.\n",
            "6\n"
          ],
          "name": "stdout"
        }
      ]
    },
    {
      "cell_type": "markdown",
      "metadata": {
        "id": "k5RR-6d8aRgt"
      },
      "source": [
        "# 기타: \n",
        "- 파이썬에서는 모든 함수는 값을 반환(return)한다고 했다.\n",
        "- return 문이 없는 함수는 어떤 값을 반환할까?\n",
        "- 심지어 print( ) 함수도 None이라는 값을 반환한다고 들었는데..."
      ]
    },
    {
      "cell_type": "markdown",
      "metadata": {
        "id": "1wtorARJ02Ki"
      },
      "source": [
        "여기서 C 언어와 달라지는 파이썬 함수의 특성이 있다. \n",
        "C 언어는 함수를 정의(definition)할 때 함수의 반환값이 있으면,\n",
        "그 반환값의 자료형을 명시해야한다.\n",
        "\n",
        "그러나 파이썬은 다르다. \n",
        "함수가 값을 반환할지 여부를 함수를 정의할 때 명시할 필요가 없다\n",
        "(동적 타입 바인딩이기 때문이다).\n",
        "\n",
        "함수의 끝에 명시적인 return 문장이 없거나,\n",
        "return 문장만 있고, 실제로 반환하는 값이 없는 경우에는\n",
        "자동으로 None 값을 반환한다.\n",
        "\n",
        "즉, 이로써 파이썬의 모든 함수는 값을 반환하도록 되어있다. \n",
        "중요하다. 파이썬의 함수는 모두 값을 반환한다."
      ]
    },
    {
      "cell_type": "markdown",
      "source": [],
      "metadata": {
        "id": "X0BQK_7B5gqx"
      }
    },
    {
      "cell_type": "markdown",
      "metadata": {
        "id": "K_RmFWd5nk0B"
      },
      "source": []
    },
    {
      "cell_type": "markdown",
      "metadata": {
        "id": "4o8hA0bganWl"
      },
      "source": [
        "# 위의 말이 무슨 의미인지 예를 들어 설명하자."
      ]
    },
    {
      "cell_type": "code",
      "metadata": {
        "id": "rqPNieoZS-bm",
        "colab": {
          "base_uri": "https://localhost:8080/"
        },
        "outputId": "c9893613-cb75-4de6-eec5-2bdb6a2dcc01"
      },
      "source": [
        "# 아래처럼 return 문이 없는 함수도 있다.\n",
        "# 이 경우는 반환값은 무엇일까?\n",
        "# 아래의 2 함수의 반환값을 확인해보자.\n",
        "# 둘다 None을 반환한다.\n",
        "\n",
        "# 아래 함수는 return 문장이 없다.\n",
        "def greet4():\n",
        "    print('Hi')\n",
        "    \n",
        "\n",
        "# 아래 문장은 return 문장은 있지만, 반환하는 값을 명시하지 않았다.\n",
        "def greet5():\n",
        "    print('Hi')\n",
        "    return\n",
        "\n",
        "print(greet4())\n",
        "print(greet5())\n",
        "\n",
        "# 위의 2개의 함수 모두 None 값을 반환한다는 것을 확인할 수 있다."
      ],
      "execution_count": null,
      "outputs": [
        {
          "output_type": "stream",
          "text": [
            "Hi\n",
            "None\n",
            "Hi\n",
            "None\n"
          ],
          "name": "stdout"
        }
      ]
    },
    {
      "cell_type": "code",
      "metadata": {
        "id": "kUcK_zGcogtz",
        "colab": {
          "base_uri": "https://localhost:8080/"
        },
        "outputId": "78eb9935-aa33-47d4-962a-56c5748abbff"
      },
      "source": [
        "# 아래의 코드를 보자.\n",
        "# 이 문장은 TEST를 출력한 후, None을 출력한다. \n",
        "# 즉, PRINT( ) 함수는 None이라는 값을 반환한다는 의미다.\n",
        "print(print('test'))"
      ],
      "execution_count": null,
      "outputs": [
        {
          "output_type": "stream",
          "text": [
            "test\n",
            "None\n"
          ],
          "name": "stdout"
        }
      ]
    },
    {
      "cell_type": "code",
      "metadata": {
        "id": "57ajvm832DU9",
        "colab": {
          "base_uri": "https://localhost:8080/"
        },
        "outputId": "b2dcb46a-140d-47ce-eff4-5f12412f4f2e"
      },
      "source": [
        "# 아래 처럼 함수의 바디가 없는 경우(즉, 아무일도 하지 않는 경우)에는 어떻게 될까?\n",
        "def greet6():\n",
        "    # 일단 지금은 뭘 코딩해야할지 모르겠지만...\n",
        "    pass\n",
        "\n",
        "print(greet6())"
      ],
      "execution_count": null,
      "outputs": [
        {
          "output_type": "stream",
          "text": [
            "None\n"
          ],
          "name": "stdout"
        }
      ]
    },
    {
      "cell_type": "markdown",
      "metadata": {
        "id": "Bx4XS3Vpa171"
      },
      "source": [
        "# 파이썬은 2개 이상의 값을 반환할 수도 있다. "
      ]
    },
    {
      "cell_type": "code",
      "metadata": {
        "id": "k1mopNAdoVyK",
        "colab": {
          "base_uri": "https://localhost:8080/"
        },
        "outputId": "56a71594-05a5-41e2-ce98-471f617f6e11"
      },
      "source": [
        "# 2개 이상의 값을 반환하고 싶을 때는 아래와 같이 하면된다.\n",
        "# 이 경우는 여러 값들이 Tuple(튜플)이라는 자료형으로 반환된다.\n",
        "# 튜플에 대한 이야기는 잠시후에...\n",
        "\n",
        "def arithmetic_operation(a, b):\n",
        "    return a+b, a-b, a*b, a/b\n",
        "\n",
        "c = arithmetic_operation(1, 2)\n",
        "print(type(c))\n",
        "print(c)\n",
        "print(c[0])\n",
        "print(c[1])\n",
        "\n",
        "#a, b, c, d = arithmetic_operation(1,2)\n",
        "#print(a, b, c, d)"
      ],
      "execution_count": null,
      "outputs": [
        {
          "output_type": "stream",
          "text": [
            "<class 'tuple'>\n",
            "(3, -1, 2, 0.5)\n",
            "3\n",
            "-1\n"
          ],
          "name": "stdout"
        }
      ]
    }
  ]
}