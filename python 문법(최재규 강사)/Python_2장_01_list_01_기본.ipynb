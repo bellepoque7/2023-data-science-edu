{
  "nbformat": 4,
  "nbformat_minor": 0,
  "metadata": {
    "colab": {
      "provenance": [],
      "include_colab_link": true
    },
    "kernelspec": {
      "name": "python3",
      "display_name": "Python 3"
    }
  },
  "cells": [
    {
      "cell_type": "markdown",
      "metadata": {
        "id": "view-in-github",
        "colab_type": "text"
      },
      "source": [
        "<a href=\"https://colab.research.google.com/github/bellepoque7/2023-data-science-edu/blob/main/python%20%EB%AC%B8%EB%B2%95(%EC%B5%9C%EC%9E%AC%EA%B7%9C%20%EA%B0%95%EC%82%AC)/Python_2%EC%9E%A5_01_list_01_%EA%B8%B0%EB%B3%B8.ipynb\" target=\"_parent\"><img src=\"https://colab.research.google.com/assets/colab-badge.svg\" alt=\"Open In Colab\"/></a>"
      ]
    },
    {
      "cell_type": "markdown",
      "metadata": {
        "id": "6dxwB6TcXx1A"
      },
      "source": [
        "# 리스트(list) 자료형\n",
        "\n",
        "새로운 정보가 있을 때마다, 변수를 새로 생성하는 대신, \n",
        "리스트(list)라는 자료형을 쓰면 하나의 변수만으로도 여러 개의 정보를 저장할 수 있다.\n"
      ]
    },
    {
      "cell_type": "markdown",
      "metadata": {
        "id": "P2eOyjHqkRWO"
      },
      "source": [
        "# 리스트 생성\n",
        " - 다양한 방법으로 리스트를 생성할 수 있다.\n",
        " - 크게는 2가지 방법이 있다.\n",
        "    - 리스트 리터럴(literal)을 사용하는 방법(literal은 일단 '상수'라고 생각하면 된다. 실제로는 파이썬에서는 상수라는 명칭을 사용하지 않는다.)\n",
        "    - list() 함수(생성자)를 사용하는 방법"
      ]
    },
    {
      "cell_type": "code",
      "metadata": {
        "colab": {
          "base_uri": "https://localhost:8080/"
        },
        "id": "B-TPyPDiwQNs",
        "outputId": "b73709b1-bc22-496f-8d60-c6a010bddbfd"
      },
      "source": [
        "# 1. 리스트 리터럴을 사용하는 방법\n",
        "\n",
        "a = []   # empty list 생성. 리스트는 대괄호로 표시한다.\n",
        "b = [1, 2, 3] # 값을 초기에 설정하면서 list 생성\n",
        "\n",
        "# [], [1,2,3]과 같은 객체들을 '리터럴(literal)'이라고 한다. 즉, 리스트의 리터럴이다.\n",
        "# 1, 2, 3과 같은 객체들을 'integer literal'이라고 한다.\n",
        "\n",
        "print(a)\n",
        "print(b)"
      ],
      "execution_count": null,
      "outputs": [
        {
          "output_type": "stream",
          "text": [
            "[]\n",
            "[1, 2, 3]\n"
          ],
          "name": "stdout"
        }
      ]
    },
    {
      "cell_type": "code",
      "metadata": {
        "id": "VP4n5Ls5Zbcy",
        "colab": {
          "base_uri": "https://localhost:8080/"
        },
        "outputId": "95c6a05d-024c-4210-b46c-d3ee0cba1eb7"
      },
      "source": [
        "# 2. 생성자를 사용하는 방법\n",
        "\n",
        "# 예전에 배웠던 int, float, str 등과 같이 모든 자료형에는 자료형 이름과 동일한 이름의 함수가 있다\n",
        "# int(), float(), str()와 같은...\n",
        "# list도 list()라는 이름의 함수가 있다. 이를 리스트의 생성자라고 한다.\n",
        "\n",
        "c = list() # list() 함수를 이용한 생성. empty 리스트가 생성된다.\n",
        "d = list('abcde') # list 함수의 파라미터로 str 타입의 값을 주었다.\n",
        "\n",
        "print(c)\n",
        "print(d)"
      ],
      "execution_count": null,
      "outputs": [
        {
          "output_type": "stream",
          "text": [
            "[]\n",
            "['a', 'b', 'c', 'd', 'e']\n"
          ],
          "name": "stdout"
        }
      ]
    },
    {
      "cell_type": "code",
      "metadata": {
        "id": "iGXANxqvkKmy",
        "colab": {
          "base_uri": "https://localhost:8080/"
        },
        "outputId": "0e12e38b-2842-4683-e0ca-b00acb20305b"
      },
      "source": [
        "# 리스트의 자료형을 확인해보자.\n",
        "\n",
        "a = []\n",
        "print(type(a))"
      ],
      "execution_count": null,
      "outputs": [
        {
          "output_type": "stream",
          "text": [
            "<class 'list'>\n"
          ],
          "name": "stdout"
        }
      ]
    },
    {
      "cell_type": "markdown",
      "metadata": {
        "id": "Q92IBB2skkNP"
      },
      "source": [
        "# 리스트 항목 접근\n",
        "- 리스트는 여러개의 값을 가지고 있기 떄문에, 특정 위치의 값을 참조할 필요가 있다.\n",
        "- 리스트의 특정 항목의 위치를 대괄호로 인덱스를 지정할 수 있다.\n",
        "- 리스트의 첫번째 항목의 인덱스는 0이다."
      ]
    },
    {
      "cell_type": "code",
      "metadata": {
        "id": "WQYGxWHeZxpN",
        "colab": {
          "base_uri": "https://localhost:8080/"
        },
        "outputId": "d9ef85db-a167-4269-8a4c-b00ddb99948c"
      },
      "source": [
        "# 리스트의 항목 접근\n",
        "\n",
        "b = [1, 2, 3]\n",
        "print(b)\n",
        "print(b[0], b[1], b[2]) # 인덱스 값은 좌측에서 0부터 시작한다."
      ],
      "execution_count": null,
      "outputs": [
        {
          "output_type": "stream",
          "name": "stdout",
          "text": [
            "[1, 2, 3]\n",
            "1 2 3\n"
          ]
        }
      ]
    },
    {
      "cell_type": "code",
      "metadata": {
        "colab": {
          "base_uri": "https://localhost:8080/"
        },
        "id": "vg-DxMAlwpVD",
        "outputId": "072926e1-aea9-469a-d8fe-3d9a00ad96cc"
      },
      "source": [
        "# 인덱스 -1은 뒤에서 1번째 값, 뒤에서부터의 순서는 -1부터 시작한다.\n",
        "# 뒤에서의 인덱스가 0부터 시작하려면 -0이라고 써야하는데, -0과 +0은 둘다 0이가 때문에 이렇게 할 수 없다.\n",
        "\n",
        "print(b[-1])\n",
        "print(b[-2])\n",
        "print(b[-3])"
      ],
      "execution_count": null,
      "outputs": [
        {
          "output_type": "stream",
          "text": [
            "3\n",
            "2\n",
            "1\n"
          ],
          "name": "stdout"
        }
      ]
    },
    {
      "cell_type": "code",
      "metadata": {
        "id": "xGL0WOjNeuJT",
        "colab": {
          "base_uri": "https://localhost:8080/",
          "height": 198
        },
        "outputId": "cbf4d8b3-8211-43be-ee3e-3cce059f4e1c"
      },
      "source": [
        "# 리스트의 인덱스가 범위를 벗어나면 에러가 발생한다.\n",
        "# 파이썬에서의 에러의 종류는 다양한데, 아래의 경우는 'IndexError'이다.\n",
        "# 에러의 종류는 이 교재의 후반부에서 다룬다.\n",
        "\n",
        "print(b[4])"
      ],
      "execution_count": null,
      "outputs": [
        {
          "output_type": "error",
          "ename": "IndexError",
          "evalue": "ignored",
          "traceback": [
            "\u001b[0;31m---------------------------------------------------------------------------\u001b[0m",
            "\u001b[0;31mIndexError\u001b[0m                                Traceback (most recent call last)",
            "\u001b[0;32m<ipython-input-6-d326698b769d>\u001b[0m in \u001b[0;36m<module>\u001b[0;34m()\u001b[0m\n\u001b[1;32m      3\u001b[0m \u001b[0;31m# 에러의 종류는 이 교재의 후반부에서 다룬다.\u001b[0m\u001b[0;34m\u001b[0m\u001b[0;34m\u001b[0m\u001b[0;34m\u001b[0m\u001b[0m\n\u001b[1;32m      4\u001b[0m \u001b[0;34m\u001b[0m\u001b[0m\n\u001b[0;32m----> 5\u001b[0;31m \u001b[0mprint\u001b[0m\u001b[0;34m(\u001b[0m\u001b[0mb\u001b[0m\u001b[0;34m[\u001b[0m\u001b[0;36m4\u001b[0m\u001b[0;34m]\u001b[0m\u001b[0;34m)\u001b[0m\u001b[0;34m\u001b[0m\u001b[0;34m\u001b[0m\u001b[0m\n\u001b[0m",
            "\u001b[0;31mIndexError\u001b[0m: list index out of range"
          ]
        }
      ]
    },
    {
      "cell_type": "markdown",
      "metadata": {
        "id": "NJnqB0aZkq_P"
      },
      "source": [
        "# 리스트의 리스트(list of list)\n",
        "- 리스트의 내부 항목을 리스트로 할 수도 있다.\n",
        "- 즉, 리스트의 항목 각각이 또 리스트인 경우이다.\n",
        "- 이를, list of list라고 한다(2차원 리스트라고 생각하면 된다)."
      ]
    },
    {
      "cell_type": "code",
      "metadata": {
        "id": "IOGk6eUzkrK-",
        "colab": {
          "base_uri": "https://localhost:8080/"
        },
        "outputId": "d49146c4-9428-4c94-e985-54b24bdcc978"
      },
      "source": [
        "e = [['a', 'b', 'c'], \n",
        "     ['A', 'B', 'C']]\n",
        "\n",
        "print(e)\n",
        "print(e[0]) # 0번째 항목이 list이다.\n",
        "print(e[0][0]) # 0번째 항목의 또 0번째 항목\n",
        "\n",
        "print(type(e))\n",
        "print(type(e[0][0]))"
      ],
      "execution_count": null,
      "outputs": [
        {
          "output_type": "stream",
          "text": [
            "[['a', 'b', 'c'], ['A', 'B', 'C']]\n",
            "['a', 'b', 'c']\n",
            "a\n",
            "<class 'list'>\n",
            "<class 'str'>\n"
          ],
          "name": "stdout"
        }
      ]
    },
    {
      "cell_type": "code",
      "metadata": {
        "id": "KOayCO8Vkf-7",
        "colab": {
          "base_uri": "https://localhost:8080/"
        },
        "outputId": "5283a951-011d-4e12-9b6c-d7802974fee3"
      },
      "source": [
        "# 그러면 위의 리스트 e의 대문자 'B'를 접근하려면 어떻게 하면 될까?\n",
        "\n",
        "print(e[1][1])"
      ],
      "execution_count": null,
      "outputs": [
        {
          "output_type": "stream",
          "text": [
            "B\n"
          ],
          "name": "stdout"
        }
      ]
    },
    {
      "cell_type": "markdown",
      "metadata": {
        "id": "XnFJ4UqWk1d-"
      },
      "source": [
        "# 파이썬의 리스트는 항목들이 동일한 자료형일 필요가 없다.\n",
        "- 이 점이 C나 Java 언어들의 배열과 다른 점이다.\n",
        "- 파이썬의 리스트는 항목들이 서로 다른 자료형이어도 되는데...\n",
        "- 이러한 융통성으로 인하여 파이썬의 list는 실행 속도가 느리다는 단점이 있다.\n",
        "- 이를 극복하기 위해서 numpy 등의 외부 라이브러리를 많이 사용한다."
      ]
    },
    {
      "cell_type": "code",
      "metadata": {
        "id": "2r3fXdrdk2o3",
        "colab": {
          "base_uri": "https://localhost:8080/"
        },
        "outputId": "747a584b-ab14-443d-d480-85463944b6f7"
      },
      "source": [
        "# 리스트의 항목은 동일한 자료형일 필요는 없다.\n",
        "\n",
        "f = [1, 3.14, 'a', 'Python', [1,2,3]]\n",
        "print(f)\n",
        "\n",
        "# 사실 이 특성때문에 리스트 연산이 속도가 느린 단점은 있다.\n",
        "# 이렇게 융통성을 제공하려면, 파이썬 내부적으로는 아주 복잡하게 작업을 해야하기 때문이다.\n",
        "# 그래서 일반적으로는 잘 사용하지 않는 기능이다."
      ],
      "execution_count": null,
      "outputs": [
        {
          "output_type": "stream",
          "text": [
            "[1, 3.14, 'a', 'Python', [1, 2, 3]]\n"
          ],
          "name": "stdout"
        }
      ]
    },
    {
      "cell_type": "markdown",
      "metadata": {
        "id": "rLpmuXR9lI_e"
      },
      "source": [
        "# 리스트의 항목 수정"
      ]
    },
    {
      "cell_type": "code",
      "metadata": {
        "id": "YNqMT_AWZ62z",
        "colab": {
          "base_uri": "https://localhost:8080/"
        },
        "outputId": "84656d16-adfc-4e1d-eb8e-1085fdc6980b"
      },
      "source": [
        "# 리스트의 항목 수정\n",
        "b = [1, 2, 3]\n",
        "print(b)\n",
        "\n",
        "# 대입 연산자를 이용하면 된다.\n",
        "b[0] = 10\n",
        "print(b)"
      ],
      "execution_count": null,
      "outputs": [
        {
          "output_type": "stream",
          "text": [
            "[1, 2, 3]\n",
            "[10, 2, 3]\n"
          ],
          "name": "stdout"
        }
      ]
    },
    {
      "cell_type": "markdown",
      "metadata": {
        "id": "WIFjIc4cbHrr"
      },
      "source": [
        "# 리스트 삭제"
      ]
    },
    {
      "cell_type": "code",
      "metadata": {
        "colab": {
          "base_uri": "https://localhost:8080/",
          "height": 215
        },
        "id": "e69R425Mbf0S",
        "outputId": "abd5afbc-6b32-48ca-8591-8c97ead92d79"
      },
      "source": [
        "# del 키워드를 알아보자.\n",
        "# del 키워드는 리스트에만 해당하는 것이 아니고,\n",
        "# 해당 변수가 참조하고 있는 객체와의 연결을 끊는다.\n",
        "\n",
        "a = 10\n",
        "print(\"before del operation:\", a)\n",
        "del a\n",
        "\n",
        "# 아래 문장을 실행하면 오류가 발생한다.\n",
        "# 변수 a의 객체와의 연결이 끊어졌기 때문이다.\n",
        "print(\"after del operation:\", a)"
      ],
      "execution_count": null,
      "outputs": [
        {
          "output_type": "stream",
          "text": [
            "before del operation: 10\n"
          ],
          "name": "stdout"
        },
        {
          "output_type": "error",
          "ename": "NameError",
          "evalue": "ignored",
          "traceback": [
            "\u001b[0;31m---------------------------------------------------------------------------\u001b[0m",
            "\u001b[0;31mNameError\u001b[0m                                 Traceback (most recent call last)",
            "\u001b[0;32m<ipython-input-11-00251089c84a>\u001b[0m in \u001b[0;36m<module>\u001b[0;34m()\u001b[0m\n\u001b[1;32m      9\u001b[0m \u001b[0;31m# 아래 문장을 실행하면 오류가 발생한다.\u001b[0m\u001b[0;34m\u001b[0m\u001b[0;34m\u001b[0m\u001b[0;34m\u001b[0m\u001b[0m\n\u001b[1;32m     10\u001b[0m \u001b[0;31m# 변수 a의 객체와의 연결이 끊어졌기 때문이다.\u001b[0m\u001b[0;34m\u001b[0m\u001b[0;34m\u001b[0m\u001b[0;34m\u001b[0m\u001b[0m\n\u001b[0;32m---> 11\u001b[0;31m \u001b[0mprint\u001b[0m\u001b[0;34m(\u001b[0m\u001b[0;34m\"after del operation:\"\u001b[0m\u001b[0;34m,\u001b[0m \u001b[0ma\u001b[0m\u001b[0;34m)\u001b[0m\u001b[0;34m\u001b[0m\u001b[0;34m\u001b[0m\u001b[0m\n\u001b[0m",
            "\u001b[0;31mNameError\u001b[0m: name 'a' is not defined"
          ]
        }
      ]
    },
    {
      "cell_type": "code",
      "metadata": {
        "id": "kgt1M4T_b5OK"
      },
      "source": [
        "# del 키워드를 조금 더 자세하게 알아보자.\n",
        "\n",
        "a = 10\n",
        "b = a\n",
        "\n",
        "# 아래에 의해서 변수 a는 객체 10과의 연결이 끊겼지만\n",
        "del a\n",
        "\n",
        "# 변수 b는 살아있다.\n",
        "print(b)"
      ],
      "execution_count": null,
      "outputs": []
    },
    {
      "cell_type": "code",
      "metadata": {
        "colab": {
          "base_uri": "https://localhost:8080/",
          "height": 215
        },
        "id": "3o5iBBCpbHL_",
        "outputId": "a46922b2-d779-46f5-be74-f03a5846f12a"
      },
      "source": [
        "# del 키워드를 이용해서 리스트 객체에도 동일하게 적용할 수 있다.\n",
        "\n",
        "a = [5,2,1,4,3]\n",
        "print(a)\n",
        "\n",
        "# 아래는 변수 a의 객체와의 연결을 끊는다.\n",
        "del a\n",
        "print(a)"
      ],
      "execution_count": null,
      "outputs": [
        {
          "output_type": "stream",
          "text": [
            "[5, 2, 1, 4, 3]\n"
          ],
          "name": "stdout"
        },
        {
          "output_type": "error",
          "ename": "NameError",
          "evalue": "ignored",
          "traceback": [
            "\u001b[0;31m---------------------------------------------------------------------------\u001b[0m",
            "\u001b[0;31mNameError\u001b[0m                                 Traceback (most recent call last)",
            "\u001b[0;32m<ipython-input-12-539960bae723>\u001b[0m in \u001b[0;36m<module>\u001b[0;34m()\u001b[0m\n\u001b[1;32m      6\u001b[0m \u001b[0;31m# 아래는 변수 a의 객체와의 연결을 끊는다.\u001b[0m\u001b[0;34m\u001b[0m\u001b[0;34m\u001b[0m\u001b[0;34m\u001b[0m\u001b[0m\n\u001b[1;32m      7\u001b[0m \u001b[0;32mdel\u001b[0m \u001b[0ma\u001b[0m\u001b[0;34m\u001b[0m\u001b[0;34m\u001b[0m\u001b[0m\n\u001b[0;32m----> 8\u001b[0;31m \u001b[0mprint\u001b[0m\u001b[0;34m(\u001b[0m\u001b[0ma\u001b[0m\u001b[0;34m)\u001b[0m\u001b[0;34m\u001b[0m\u001b[0;34m\u001b[0m\u001b[0m\n\u001b[0m",
            "\u001b[0;31mNameError\u001b[0m: name 'a' is not defined"
          ]
        }
      ]
    },
    {
      "cell_type": "code",
      "metadata": {
        "id": "gWQmUXcfbQBL",
        "colab": {
          "base_uri": "https://localhost:8080/"
        },
        "outputId": "2b4dffe2-6a32-4092-ac15-7afeb9876374"
      },
      "source": [
        "a = [5,2,1,4,3]\n",
        "print(a)\n",
        "\n",
        "# 아래는 a[3]에 대한 연결을 끊는다.\n",
        "# 즉, 인덱스 3인 항목값을 삭제한다.\n",
        "del a[3]\n",
        "\n",
        "print(a)"
      ],
      "execution_count": null,
      "outputs": [
        {
          "output_type": "stream",
          "text": [
            "[5, 2, 1, 4, 3]\n",
            "[5, 2, 1, 3]\n"
          ],
          "name": "stdout"
        }
      ]
    },
    {
      "cell_type": "markdown",
      "metadata": {
        "id": "gUo6gYW_lAD8"
      },
      "source": [
        "# 각자 연습\n",
        "- 아래에서 본인이 원하는 값들을 가진 리스트를 만들고,\n",
        "- 값도 수정해보고\n",
        "-  출력도 해보자."
      ]
    },
    {
      "cell_type": "code",
      "metadata": {
        "id": "DrzvK7ZWlJUM"
      },
      "source": [
        "# 여기서 연습\n",
        "\n"
      ],
      "execution_count": null,
      "outputs": []
    },
    {
      "cell_type": "code",
      "metadata": {
        "id": "lCFD7qhYjufR"
      },
      "source": [],
      "execution_count": null,
      "outputs": []
    }
  ]
}