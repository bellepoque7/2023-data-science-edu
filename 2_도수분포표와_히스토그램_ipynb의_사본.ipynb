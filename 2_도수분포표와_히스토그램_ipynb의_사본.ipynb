{
  "nbformat": 4,
  "nbformat_minor": 0,
  "metadata": {
    "colab": {
      "provenance": [],
      "include_colab_link": true
    },
    "kernelspec": {
      "name": "python3",
      "display_name": "Python 3"
    },
    "language_info": {
      "name": "python"
    }
  },
  "cells": [
    {
      "cell_type": "markdown",
      "metadata": {
        "id": "view-in-github",
        "colab_type": "text"
      },
      "source": [
        "<a href=\"https://colab.research.google.com/github/bellepoque7/2023-data-science-edu/blob/main/2_%EB%8F%84%EC%88%98%EB%B6%84%ED%8F%AC%ED%91%9C%EC%99%80_%ED%9E%88%EC%8A%A4%ED%86%A0%EA%B7%B8%EB%9E%A8_ipynb%EC%9D%98_%EC%82%AC%EB%B3%B8.ipynb\" target=\"_parent\"><img src=\"https://colab.research.google.com/assets/colab-badge.svg\" alt=\"Open In Colab\"/></a>"
      ]
    },
    {
      "cell_type": "markdown",
      "metadata": {
        "id": "pUXtXUuhZKxp"
      },
      "source": [
        "# 도수분포표와 히스토그램\n",
        "\n",
        "- 도수분포표(frequency table): 데이터를 구간으로 나누어, 각 구간의 빈도를 나타낸 표\n",
        "- 히스토그램(histogram): 도수분포표를 그래프로 그린 것"
      ]
    },
    {
      "cell_type": "markdown",
      "metadata": {
        "id": "NeRgddRWZTw1"
      },
      "source": [
        "## 범주 변수"
      ]
    },
    {
      "cell_type": "code",
      "metadata": {
        "id": "iDYSc2H7ZT9D"
      },
      "source": [
        "# 다음과 같이 혈액형이 있다고 하자.\n",
        "\n",
        "blood = ['A', 'A', 'A', 'B', 'B', 'AB', 'O']"
      ],
      "execution_count": null,
      "outputs": []
    },
    {
      "cell_type": "code",
      "metadata": {
        "id": "3BcXBsfUZUAg",
        "colab": {
          "base_uri": "https://localhost:8080/"
        },
        "outputId": "54df05f3-35ec-4f29-fdaa-d243737d5400"
      },
      "source": [
        "# numpy를 이용한 도수 분포표\n",
        "\n",
        "import numpy as np\n",
        "np.unique(blood, return_counts=True) \n",
        "# unique: 입력된 배열에서 중복되지 않는 고유한 요소들의 배열을 리턴\n",
        "# return_counts=True: 값이 True면 중복 되지 않는 요소들이 입력 배열에 나타난 회 수를 리턴"
      ],
      "execution_count": null,
      "outputs": [
        {
          "output_type": "execute_result",
          "data": {
            "text/plain": [
              "(array(['A', 'AB', 'B', 'O'], dtype='<U2'), array([3, 1, 2, 1]))"
            ]
          },
          "metadata": {},
          "execution_count": 2
        }
      ]
    },
    {
      "cell_type": "code",
      "metadata": {
        "id": "Oned69zuZUDl",
        "colab": {
          "base_uri": "https://localhost:8080/"
        },
        "outputId": "2c1d9b5e-5f0c-4b9e-82df-abbc3801ad3b"
      },
      "source": [
        "# pandas를 이용하는 방법\n",
        "\n",
        "import pandas as pd\n",
        "pd.Series(blood).value_counts()"
      ],
      "execution_count": null,
      "outputs": [
        {
          "output_type": "execute_result",
          "data": {
            "text/plain": [
              "A     3\n",
              "B     2\n",
              "AB    1\n",
              "O     1\n",
              "dtype: int64"
            ]
          },
          "metadata": {},
          "execution_count": 3
        }
      ]
    },
    {
      "cell_type": "code",
      "metadata": {
        "id": "b4sUYm7cZUGL",
        "colab": {
          "base_uri": "https://localhost:8080/",
          "height": 339
        },
        "outputId": "7b5cbf7f-f0a2-489a-964f-9d69a1aad10c"
      },
      "source": [
        "# 시각화:\n",
        "\n",
        "import seaborn as sns\n",
        "sns.countplot(blood)"
      ],
      "execution_count": null,
      "outputs": [
        {
          "output_type": "stream",
          "name": "stderr",
          "text": [
            "/usr/local/lib/python3.8/dist-packages/seaborn/_decorators.py:36: FutureWarning: Pass the following variable as a keyword arg: x. From version 0.12, the only valid positional argument will be `data`, and passing other arguments without an explicit keyword will result in an error or misinterpretation.\n",
            "  warnings.warn(\n"
          ]
        },
        {
          "output_type": "execute_result",
          "data": {
            "text/plain": [
              "<matplotlib.axes._subplots.AxesSubplot at 0x7f1cb1823b80>"
            ]
          },
          "metadata": {},
          "execution_count": 4
        },
        {
          "output_type": "display_data",
          "data": {
            "text/plain": [
              "<Figure size 432x288 with 1 Axes>"
            ],
            "image/png": "[encoded data removed]"
          },
          "metadata": {
            "needs_background": "light"
          }
        }
      ]
    },
    {
      "cell_type": "markdown",
      "metadata": {
        "id": "7aiMstkiZUIl"
      },
      "source": [
        "### 연속변수\n"
      ]
    },
    {
      "cell_type": "code",
      "metadata": {
        "id": "GrzgcfarZULF"
      },
      "source": [
        "x = [1, 1, 1, 2, 3, 5, 5, 7, 8, 9]"
      ],
      "execution_count": null,
      "outputs": []
    },
    {
      "cell_type": "code",
      "metadata": {
        "id": "bSzHxwhmZUNk"
      },
      "source": [
        "# 데이터의 범위를 4구간으로 나눔\n",
        "\n",
        "hist, edges = np.histogram(x, 4)"
      ],
      "execution_count": null,
      "outputs": []
    },
    {
      "cell_type": "markdown",
      "metadata": {
        "id": "ZhcpGhj8ZURF"
      },
      "source": [
        "- 먼저 각 구간의 경계는 1, 3, 5, 7, 9임\n",
        "- 1이상 3미만, 3이상 5미만, 등등으로 구간이 정해짐"
      ]
    },
    {
      "cell_type": "code",
      "metadata": {
        "id": "qhml15RCZUTV",
        "colab": {
          "base_uri": "https://localhost:8080/"
        },
        "outputId": "f99f1ed6-6a37-422f-b7b2-f43e6e8cfe8a"
      },
      "source": [
        "# 먼저 각 구간의 경계는 1, 3, 5, 7, 9임\n",
        "# 1이상 3미만, 3이상 5미만, 등등으로 구간이 정해짐\n",
        "\n",
        "edges"
      ],
      "execution_count": null,
      "outputs": [
        {
          "output_type": "execute_result",
          "data": {
            "text/plain": [
              "array([1., 3., 5., 7., 9.])"
            ]
          },
          "metadata": {},
          "execution_count": 7
        }
      ]
    },
    {
      "cell_type": "code",
      "metadata": {
        "id": "UT_KoiXkZUev",
        "colab": {
          "base_uri": "https://localhost:8080/"
        },
        "outputId": "f320ba05-b50d-4645-a2c7-77508ab63df6"
      },
      "source": [
        "# 첫번째 구간 1 ~ 3의 빈도는 4, 두번째 구간 3 ~ 5의 빈도는 1, 등등\n",
        "\n",
        "hist"
      ],
      "execution_count": null,
      "outputs": [
        {
          "output_type": "execute_result",
          "data": {
            "text/plain": [
              "array([4, 1, 2, 3])"
            ]
          },
          "metadata": {},
          "execution_count": 8
        }
      ]
    },
    {
      "cell_type": "code",
      "metadata": {
        "id": "fzCB_e1rZUhb",
        "colab": {
          "base_uri": "https://localhost:8080/",
          "height": 339
        },
        "outputId": "0039d1c3-ca10-485f-a428-1cb3e792f3b1"
      },
      "source": [
        "# 시각화\n",
        "\n",
        "sns.distplot(x, bins=4, kde=False)"
      ],
      "execution_count": null,
      "outputs": [
        {
          "output_type": "stream",
          "name": "stderr",
          "text": [
            "/usr/local/lib/python3.8/dist-packages/seaborn/distributions.py:2619: FutureWarning: `distplot` is a deprecated function and will be removed in a future version. Please adapt your code to use either `displot` (a figure-level function with similar flexibility) or `histplot` (an axes-level function for histograms).\n",
            "  warnings.warn(msg, FutureWarning)\n"
          ]
        },
        {
          "output_type": "execute_result",
          "data": {
            "text/plain": [
              "<matplotlib.axes._subplots.AxesSubplot at 0x7f1cb17b57f0>"
            ]
          },
          "metadata": {},
          "execution_count": 11
        },
        {
          "output_type": "display_data",
          "data": {
            "text/plain": [
              "<Figure size 432x288 with 1 Axes>"
            ],
            "image/png": "[encoded data removed]"
          },
          "metadata": {
            "needs_background": "light"
          }
        }
      ]
    },
    {
      "cell_type": "markdown",
      "metadata": {
        "id": "294-1JizZUkD"
      },
      "source": []
    },
    {
      "cell_type": "markdown",
      "metadata": {
        "id": "e0dn-x23ZUmj"
      },
      "source": []
    },
    {
      "cell_type": "markdown",
      "metadata": {
        "id": "kuwp5WEpZUo8"
      },
      "source": []
    }
  ]
}