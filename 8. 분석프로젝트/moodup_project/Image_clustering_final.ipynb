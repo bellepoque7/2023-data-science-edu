{
 "cells": [
  {
   "cell_type": "code",
   "execution_count": null,
   "metadata": {},
   "outputs": [],
   "source": [
    "import os\n",
    "\n",
    "import numpy as np\n",
    "import pandas as pd\n",
    "\n",
    "import tensorflow as tf\n",
    "from tensorflow import keras\n",
    "\n",
    "from tensorflow.keras.layers import Dense, RNN,LSTM\n",
    "from tensorflow.keras.layers import Conv2D, MaxPooling2D, UpSampling2D\n",
    "from tensorflow.keras.layers import Input,Flatten,Reshape\n",
    "from tensorflow.keras.layers import Activation, Dropout,BatchNormalization\n",
    "from tensorflow.keras.losses import mse, binary_crossentropy\n",
    "from tensorflow.keras.optimizers import Adam, RMSprop\n",
    "\n",
    "from PIL import Image\n",
    "from PIL import ImageDraw\n",
    "\n",
    "import tensorflow as tf\n",
    "from tensorflow import keras\n",
    "from tensorflow.keras import Sequential , Model,layers\n",
    "from tensorflow.keras.layers import Conv2D, MaxPooling2D,Flatten,UpSampling2D,Activation\n",
    "\n",
    "\n",
    "\n",
    "import matplotlib.pyplot as plt\n",
    "from matplotlib.colors import to_hex\n",
    "import matplotlib.cm as cm\n",
    "\n",
    "from sklearn.metrics import silhouette_samples, silhouette_score\n",
    "from sklearn.cluster import KMeans\n",
    "from sklearn.manifold import TSNE\n",
    "\n",
    "\n",
    "import pickle"
   ]
  },
  {
   "attachments": {},
   "cell_type": "markdown",
   "metadata": {},
   "source": [
    "# 이미지 전처리"
   ]
  },
  {
   "cell_type": "code",
   "execution_count": null,
   "metadata": {},
   "outputs": [],
   "source": [
    "dataset =[] \n",
    "for file in file_list:\n",
    "    img_path = './users/seounghyun.lee/mood_up/images_0411/' + file\n",
    "    img = Image.open(img_path)\n",
    "    img = img.convert('RGB')\n",
    "    img = img.resize((132,68))\n",
    "    \n",
    "\n",
    "    data = np.asarray(img)\n",
    "    data = data[2:68-2,2:132-2]\n",
    "    dataset.append(data)\n",
    "dataset = np.array(dataset)"
   ]
  },
  {
   "cell_type": "code",
   "execution_count": null,
   "metadata": {},
   "outputs": [],
   "source": [
    "x_train,x_test = train_test_split(dataset,test_size = 0.2,random_state = 42)"
   ]
  },
  {
   "cell_type": "code",
   "execution_count": null,
   "metadata": {},
   "outputs": [],
   "source": [
    "def dataset_asnp(dataset,dataset_shape):\n",
    "    x_np = np.zeros(list(dataset_shape))\n",
    "    y_np = np.zeros(dataset_shape[0])\n",
    "    for i, z in enumerate(dataset):\n",
    "        x_np[i] = z\n",
    "    return x_np\n",
    "\n",
    "x_train = dataset_asnp(x_train, shape_train)\n",
    "x_test= dataset_asnp(x_test, shape_test)\n"
   ]
  },
  {
   "cell_type": "code",
   "execution_count": null,
   "metadata": {},
   "outputs": [],
   "source": [
    "x_train = x_train.astype('float32')/255.0\n",
    "x_test = x_test.astype('float32')/255.0"
   ]
  },
  {
   "cell_type": "code",
   "execution_count": null,
   "metadata": {},
   "outputs": [],
   "source": [
    "def plot_show(data, p_row, p_col, size, title = False):\n",
    "    fig,axis = plt.subplots(p_row, p_col, figsize = (p_col*size, p_row*size),\n",
    "                          subplot_kw = {'xticks':[],'yticks':[]},\n",
    "                          gridspec_kw = dict(hspace=0.1,wspace=0.1))\n",
    "    for i ,ㅡ ax in enumerate(axis.flat):\n",
    "        ax.imshow(data[i],cmap = 'gray')\n",
    "    if title:\n",
    "        fig.suptitle(title)"
   ]
  },
  {
   "cell_type": "code",
   "execution_count": null,
   "metadata": {},
   "outputs": [],
   "source": [
    "plot_show(x_train[:10].reshape(10,64,128, 3),2,5,1.5,'train')\n",
    "plt.savefig('trin_dataset.png')\n",
    "plot_show(x_test[:10].reshape(10,64,128, 3),2,5,1.5,'test')\n",
    "plt.savefig('test_dataset.png')"
   ]
  },
  {
   "attachments": {},
   "cell_type": "markdown",
   "metadata": {},
   "source": [
    "# 차원축소 인코딩"
   ]
  },
  {
   "cell_type": "code",
   "execution_count": null,
   "metadata": {},
   "outputs": [],
   "source": [
    "input_layer = Input(shape=(64, 128, 3,))\n",
    "hidden_encoding = Conv2D(\n",
    "    32, # Number of layers or filters in the weight matrix\n",
    "    (3, 3), # Shape of the weight matrix\n",
    "    padding='same', # How to apply the weights to the images\n",
    ")(input_layer)\n",
    "hidden_encoding = BatchNormalization()(hidden_encoding)\n",
    "hidden_encoding = Activation('relu')(hidden_encoding)\n",
    "encoded = MaxPooling2D((2, 2))(hidden_encoding)\n",
    "hidden_decoding = Conv2D(\n",
    "    32, # Number of layers or filters in the weight matrix\n",
    "    (3, 3), # Shape of the weight matrix\n",
    "  \n",
    "    padding='same', # How to apply the weights to the images\n",
    ")(encoded)\n",
    "hidden_decoding = BatchNormalization()(hidden_decoding)\n",
    "hidden_decoding = Activation('relu')(hidden_decoding)\n",
    "upsample_decoding = UpSampling2D((2, 2))(hidden_decoding)\n",
    "decoded = Conv2D(\n",
    "    3, # Number of layers or filters in the weight matrix\n",
    "    (3, 3), # Shape of the weight matrix\n",
    "    activation='sigmoid',\n",
    "    padding='same', # How to apply the weights to the images\n",
    ")(upsample_decoding)\n",
    "autoencoder = Model(input_layer, decoded)\n",
    "autoencoder.summary()"
   ]
  },
  {
   "cell_type": "code",
   "execution_count": null,
   "metadata": {},
   "outputs": [],
   "source": [
    "cp = tf.keras.callbacks.ModelCheckpoint(filepath=\"autoencoder_fraud.h5\",\n",
    "                               mode='min', monitor='val_loss', verbose=2, save_best_only=True)"
   ]
  },
  {
   "cell_type": "code",
   "execution_count": null,
   "metadata": {},
   "outputs": [],
   "source": [
    "epochs = 100\n",
    "batch_size = 128"
   ]
  },
  {
   "cell_type": "code",
   "execution_count": null,
   "metadata": {},
   "outputs": [],
   "source": [
    "autoencoder.compile(optimizer='adam', loss='binary_crossentropy',metrics=['accuracy'])"
   ]
  },
  {
   "cell_type": "code",
   "execution_count": null,
   "metadata": {},
   "outputs": [],
   "source": [
    "history = autoencoder.fit(x_train, x_train, \n",
    "                          epochs=epochs, \n",
    "                          batch_size=batch_size, \n",
    "                          shuffle=True, \n",
    "                          validation_data=(x_test, x_test),\n",
    "                          callbacks =[cp_callback]\n",
    "                         ).history"
   ]
  },
  {
   "cell_type": "code",
   "execution_count": null,
   "metadata": {},
   "outputs": [],
   "source": [
    "plt.plot(history['loss'], linewidth=2, label='Train')\n",
    "plt.plot(history['val_loss'], linewidth=2, label='Test')\n",
    "plt.legend(loc='upper right')\n",
    "plt.title('Model loss')\n",
    "plt.ylabel('Loss')\n",
    "plt.xlabel('Epoch')\n",
    "plt.savefig('loss.png')\n",
    "plt.show()"
   ]
  },
  {
   "cell_type": "code",
   "execution_count": null,
   "metadata": {},
   "outputs": [],
   "source": [
    "encoder = Model(input_layer, encoded)\n",
    "total_data = np.vstack((x_train,x_test))\n",
    "encoded_imgs = encoder.predict(total_data)"
   ]
  },
  {
   "attachments": {},
   "cell_type": "markdown",
   "metadata": {},
   "source": [
    "# 군집화"
   ]
  },
  {
   "cell_type": "code",
   "execution_count": null,
   "metadata": {},
   "outputs": [],
   "source": [
    "encoded_imgs = encoder.predict(total_data)"
   ]
  },
  {
   "cell_type": "code",
   "execution_count": null,
   "metadata": {},
   "outputs": [],
   "source": [
    "\n",
    "#엘보우 기법\n",
    "from sklearn.cluster import KMeans\n",
    "\n",
    "\n",
    "ks = range(1,11)\n",
    "sse = []\n",
    "\n",
    "for k in ks:\n",
    "    model = KMeans(n_clusters=k, init = 'k-means++',random_state = 0)\n",
    "    model.fit(encoded_imgs)\n",
    "    sse.append(model.inertia_)\n",
    "\n",
    "\n",
    "plt.figure(figsize=(4, 4))\n",
    "\n",
    "plt.plot(ks, sse, '-o')\n",
    "plt.xlabel('number of clusters, k')\n",
    "plt.ylabel('sse')\n",
    "plt.xticks(ks)\n",
    "plt.savefig('elbow')\n",
    "plt.show()"
   ]
  },
  {
   "cell_type": "code",
   "execution_count": null,
   "metadata": {},
   "outputs": [],
   "source": [
    "#실루엣 지수 확인(1) : 각 클러스터별 실루엣 지수 나오게 하는 \n",
    "def visualize_silhouette(cluster_lists, X_features): \n",
    "    \n",
    "    from sklearn.datasets import make_blobs\n",
    "    from sklearn.cluster import KMeans\n",
    "    from sklearn.metrics import silhouette_samples, silhouette_score\n",
    "\n",
    "    import matplotlib.pyplot as plt\n",
    "    import matplotlib.cm as cm\n",
    "    import math\n",
    "    \n",
    "   \n",
    "    n_cols = len(cluster_lists)\n",
    "    \n",
    "   \n",
    "    fig, axs = plt.subplots(figsize=(4*n_cols, 4), nrows=1, ncols=n_cols)\n",
    "    \n",
    "   \n",
    "    for ind, n_cluster in enumerate(cluster_lists):\n",
    "        \n",
    "       \n",
    "        clusterer = KMeans(n_clusters = n_cluster, max_iter=500, random_state=0)\n",
    "        cluster_labels = clusterer.fit_predict(X_features)\n",
    "        \n",
    "        sil_avg = silhouette_score(X_features, cluster_labels)\n",
    "        sil_values = silhouette_samples(X_features, cluster_labels)\n",
    "        \n",
    "        y_lower = 10\n",
    "        axs[ind].set_title('Number of Cluster : '+ str(n_cluster)+'\\n' \\\n",
    "                          'Silhouette Score :' + str(round(sil_avg,3)) )\n",
    "        axs[ind].set_xlabel(\"The silhouette coefficient values\")\n",
    "        axs[ind].set_ylabel(\"Cluster label\")\n",
    "        axs[ind].set_xlim([-0.1, 1])\n",
    "        axs[ind].set_ylim([0, len(X_features) + (n_cluster + 1) * 10])\n",
    "        axs[ind].set_yticks([])  # Clear the yaxis labels / ticks\n",
    "        axs[ind].set_xticks([0, 0.2, 0.4, 0.6, 0.8, 1])\n",
    "        \n",
    "       \n",
    "        for i in range(n_cluster):\n",
    "            ith_cluster_sil_values = sil_values[cluster_labels==i]\n",
    "            ith_cluster_sil_values.sort()\n",
    "            \n",
    "            size_cluster_i = ith_cluster_sil_values.shape[0]\n",
    "            y_upper = y_lower + size_cluster_i\n",
    "            \n",
    "            color = cm.nipy_spectral(float(i) / n_cluster)\n",
    "            axs[ind].fill_betweenx(np.arange(y_lower, y_upper), 0, ith_cluster_sil_values, \\\n",
    "                                facecolor=color, edgecolor=color, alpha=0.7)\n",
    "            axs[ind].text(-0.05, y_lower + 0.5 * size_cluster_i, str(i))\n",
    "            y_lower = y_upper + 10\n",
    "            \n",
    "        axs[ind].axvline(x=sil_avg, color=\"red\", linestyle=\"--\")\n",
    "        plt.savefig(f'{i}silhouette')"
   ]
  },
  {
   "cell_type": "code",
   "execution_count": null,
   "metadata": {},
   "outputs": [],
   "source": [
    "from sklearn.datasets import make_blobs\n",
    "X, y = make_blobs(n_samples=500, n_features=2, centers=4, cluster_std=1, \\\n",
    "                  center_box=(-10.0, 10.0), shuffle=True, random_state=1)  \n",
    "visualize_silhouette([ 4,5,6,7], X)"
   ]
  },
  {
   "cell_type": "code",
   "execution_count": null,
   "metadata": {},
   "outputs": [],
   "source": [
    "from sklearn.datasets import make_blobs\n",
    "X, y = make_blobs(\n",
    "    n_samples=971,\n",
    "    n_features=3,\n",
    "    centers=5,\n",
    "    cluster_std=0.7,\n",
    "    center_box=(-10.0, 10.0),\n",
    "    shuffle=True,\n",
    "    random_state=1)\n",
    "\n",
    "visualize_silhouette([ 4,5,6,7], X)"
   ]
  },
  {
   "cell_type": "code",
   "execution_count": null,
   "metadata": {},
   "outputs": [],
   "source": [
    "#실루엣 지수 확인(2) : 각 클러스터별 군집 정도 scatter로 확인\n",
    "X = encoded_imgs\n",
    "\n",
    "# Generating the sample data from make_blobs\n",
    "# This particular setting has one distinct cluster and 3 clusters placed close\n",
    "# together.\n",
    "X, y = make_blobs(\n",
    "    n_samples=971,\n",
    "    n_features=3,\n",
    "    centers=5,\n",
    "    cluster_std=0.7,\n",
    "    center_box=(-10.0, 10.0),\n",
    "    shuffle=True,\n",
    "    random_state=1,\n",
    ")  # For reproducibility\n",
    "\n",
    "range_n_clusters = [i for i in range(2,11)]\n",
    "\n",
    "for n_clusters in range_n_clusters:\n",
    "    # Create a subplot with 1 row and 2 columns\n",
    "    fig, (ax1, ax2) = plt.subplots(1, 2)\n",
    "    fig.set_size_inches(18, 7)\n",
    "\n",
    "    # The 1st subplot is the silhouette plot\n",
    "    # The silhouette coefficient can range from -1, 1 but in this example all\n",
    "    # lie within [-0.1, 1]\n",
    "    ax1.set_xlim([-0.1, 1])\n",
    "    # The (n_clusters+1)*10 is for inserting blank space between silhouette\n",
    "    # plots of individual clusters, to demarcate them clearly.\n",
    "    ax1.set_ylim([0, len(X) + (n_clusters + 1) * 10])\n",
    "\n",
    "    # Initialize the clusterer with n_clusters value and a random generator\n",
    "    # seed of 10 for reproducibility.\n",
    "#     clusterer = KMeans(n_clusters=n_clusters, n_init=\"auto\", random_state=10)\n",
    "    clusterer = KMeans(n_clusters=n_clusters, random_state=10)\n",
    "    cluster_labels = clusterer.fit_predict(X)\n",
    "\n",
    "    # The silhouette_score gives the average value for all the samples.\n",
    "    # This gives a perspective into the density and separation of the formed\n",
    "    # clusters\n",
    "    silhouette_avg = silhouette_score(X, cluster_labels)\n",
    "    print(\n",
    "        \"For n_clusters =\",\n",
    "        n_clusters,\n",
    "        \"The average silhouette_score is :\",\n",
    "        silhouette_avg,\n",
    "    )\n",
    "\n",
    "    # Compute the silhouette scores for each sample\n",
    "    sample_silhouette_values = silhouette_samples(X, cluster_labels)\n",
    "\n",
    "    y_lower = 10\n",
    "    for i in range(n_clusters):\n",
    "        # Aggregate the silhouette scores for samples belonging to\n",
    "        # cluster i, and sort them\n",
    "        ith_cluster_silhouette_values = sample_silhouette_values[cluster_labels == i]\n",
    "\n",
    "        ith_cluster_silhouette_values.sort()\n",
    "\n",
    "        size_cluster_i = ith_cluster_silhouette_values.shape[0]\n",
    "        y_upper = y_lower + size_cluster_i\n",
    "\n",
    "        color = cm.nipy_spectral(float(i) / n_clusters)\n",
    "        ax1.fill_betweenx(\n",
    "            np.arange(y_lower, y_upper),\n",
    "            0,\n",
    "            ith_cluster_silhouette_values,\n",
    "            facecolor=color,\n",
    "            edgecolor=color,\n",
    "            alpha=0.7,\n",
    "        )\n",
    "\n",
    "        # Label the silhouette plots with their cluster numbers at the middle\n",
    "        ax1.text(-0.05, y_lower + 0.5 * size_cluster_i, str(i))\n",
    "\n",
    "        # Compute the new y_lower for next plot\n",
    "        y_lower = y_upper + 10  # 10 for the 0 samples\n",
    "\n",
    "    ax1.set_title(\"The silhouette plot for the various clusters.\")\n",
    "    ax1.set_xlabel(\"The silhouette coefficient values\")\n",
    "    ax1.set_ylabel(\"Cluster label\")\n",
    "\n",
    "    # The vertical line for average silhouette score of all the values\n",
    "    ax1.axvline(x=silhouette_avg, color=\"red\", linestyle=\"--\")\n",
    "\n",
    "    ax1.set_yticks([])  # Clear the yaxis labels / ticks\n",
    "    ax1.set_xticks([-0.1, 0, 0.2, 0.4, 0.6, 0.8, 1])\n",
    "\n",
    "    # 2nd Plot showing the actual clusters formed\n",
    "    colors = cm.nipy_spectral(cluster_labels.astype(float) / n_clusters)\n",
    "    ax2.scatter(\n",
    "        X[:, 0], X[:, 1], marker=\".\", s=30, lw=0, alpha=0.7, c=colors, edgecolor=\"k\"\n",
    "    )\n",
    "\n",
    "    # Labeling the clusters\n",
    "    centers = clusterer.cluster_centers_\n",
    "    # Draw white circles at cluster centers\n",
    "    ax2.scatter(\n",
    "        centers[:, 0],\n",
    "        centers[:, 1],\n",
    "        marker=\"o\",\n",
    "        c=\"white\",\n",
    "        alpha=1,\n",
    "        s=200,\n",
    "        edgecolor=\"k\",\n",
    "    )\n",
    "\n",
    "    for i, c in enumerate(centers):\n",
    "        ax2.scatter(c[0], c[1], marker=\"$%d$\" % i, alpha=1, s=50, edgecolor=\"k\")\n",
    "\n",
    "    ax2.set_title(\"The visualization of the clustered data.\")\n",
    "    ax2.set_xlabel(\"Feature space for the 1st feature\")\n",
    "    ax2.set_ylabel(\"Feature space for the 2nd feature\")\n",
    "\n",
    "    plt.suptitle(\n",
    "        \"Silhouette analysis for KMeans clustering on sample data with n_clusters = %d\"\n",
    "        % n_clusters,\n",
    "        fontsize=14,\n",
    "        fontweight=\"bold\",\n",
    "    )\n",
    "    plt.savefig(f'my_plot{i}.png')\n",
    "\n",
    "plt.show()"
   ]
  },
  {
   "cell_type": "code",
   "execution_count": null,
   "metadata": {},
   "outputs": [],
   "source": [
    "#군집화\n",
    "n_clusters = 5\n",
    "kmeans = KMeans(n_clusters=n_clusters, init = 'k-means++',random_state=42)\n",
    "kmeans.fit(encoded_imgs)"
   ]
  },
  {
   "cell_type": "code",
   "execution_count": null,
   "metadata": {},
   "outputs": [],
   "source": [
    "data_cluster = kmeans.fit(encoded_imgs)"
   ]
  },
  {
   "attachments": {},
   "cell_type": "markdown",
   "metadata": {},
   "source": [
    "# 시각화"
   ]
  },
  {
   "cell_type": "code",
   "execution_count": null,
   "metadata": {},
   "outputs": [],
   "source": [
    "for i in range(n_clusters):\n",
    "\n",
    "    cluster_imgs = total_data[kmeans.labels_ == i][i]\n",
    "    n_images = len(cluster_imgs)\n",
    "    n_rows = ceil(n_images / 5)\n",
    "    fig, axes = plt.subplots(n_rows, 6, figsize=(15, n_rows*3))\n",
    "    for j, img in enumerate(cluster_imgs):\n",
    "        img = np.array(img*255, dtype=np.uint8)  # 이미지 데이터 타입 변환\n",
    "        img = Image.fromarray(img)  # PIL 이미지 객체로 변환\n",
    "        img = img.resize((128, 64))  # 이미지 크기 조절\n",
    "        ax = axes.flat[j]\n",
    "        ax.imshow(img)\n",
    "        ax.axis('off')\n",
    "    for j in range(n_images, n_rows*6):\n",
    "        ax = axes.flat[j]\n",
    "        ax.set_visible(False)\n",
    "    plt.savefig(f'clustering_img{i+1}.png')\n",
    "    plt.show()"
   ]
  },
  {
   "cell_type": "code",
   "execution_count": null,
   "metadata": {},
   "outputs": [],
   "source": [
    "tsne = TSNE(n_components = 2, random_state = 42)\n",
    "x_tsne = tsne.fit_transform(data_test)\n",
    "\n",
    "plt.figure(figsize=(20,8))\n",
    "for c in np.unique(data_cluster.labels_):\n",
    "    plt.scatter(tsne_clust[data_cluster.labels_ == c,0], tsne_clust[data_cluster.labels_ == c,1], label='Cluster {}'.format(c+1),s = 150)\n",
    "\n",
    "# plt.axis('off')\n",
    "plt.savefig('clust_check')\n",
    "plt.legend()"
   ]
  },
  {
   "cell_type": "code",
   "execution_count": null,
   "metadata": {},
   "outputs": [],
   "source": [
    "cluster_images = [[] for _ in range(n_clusters)]\n",
    "for label, img in zip(kmeans.labels_, total_data):\n",
    "    cluster_images[label].append(img)"
   ]
  },
  {
   "attachments": {},
   "cell_type": "markdown",
   "metadata": {},
   "source": [
    "# 차원축소 오토 인코딩"
   ]
  },
  {
   "attachments": {},
   "cell_type": "markdown",
   "metadata": {},
   "source": [
    "- 군집별그룹화"
   ]
  },
  {
   "cell_type": "code",
   "execution_count": null,
   "metadata": {},
   "outputs": [],
   "source": [
    "cluster_images_4parts = [[[]for _ in range(4)] for _ in range(n_clusters)]\n",
    "temp = []\n",
    "for idx,images in enumerate(cluster_images):\n",
    "    img_parts = []\n",
    "    for img in images:\n",
    "        parts = np.split(img, 16, axis=0) # 이미지를 세로로 4개로 분할\n",
    "\n",
    "        now = 0\n",
    "        for i, part in enumerate(parts):\n",
    "            if i in [1,5,9,13]:\n",
    "                cluster_images_4parts[idx][now].append(part)\n",
    "                now += 1"
   ]
  },
  {
   "attachments": {},
   "cell_type": "markdown",
   "metadata": {},
   "source": [
    "- 군집별 모든 색상 추출"
   ]
  },
  {
   "cell_type": "code",
   "execution_count": null,
   "metadata": {},
   "outputs": [],
   "source": [
    " \n",
    "\n",
    "# 군집 내 각 행의 이미지에서 추출된 색상을 저장할 리스트\n",
    "\n",
    "color_list = []\n",
    "\n",
    "\n",
    "for i in range(n_clusters):\n",
    "    cluster = cluster_images_4parts[i] # 현재 군집\n",
    "    print('cluster',len(cluster))\n",
    "    \n",
    "    row_color_list = [[]for _ in range(4)]  # 현재 군집 내 각 행에서 추출된 색상을 저장할 리스트\n",
    "    now = 0\n",
    "    \n",
    "    for j in range(4):\n",
    "        row = cluster[j]\n",
    "#         print('now',j)\n",
    "#         print('--------------------------------------')\n",
    "#         print(row)\n",
    "        for img in row:\n",
    "            row_color = [] # 현재 행에서 추출된 색상을 저장할 리스트\n",
    "#             plt.imshow(img)\n",
    "            plt.show()\n",
    "            img = (img* 255).astype(np.uint8)\n",
    "            img = cv2.cvtColor(img, cv2.COLOR_BGR2RGB) # 이미지를 RGB 색상 공간으로 변환\n",
    "#             display_image(img)\n",
    "            colors = np.unique(img.reshape(-1, img.shape[2]), axis=0) # 이미지에서 모든 색상 추출\n",
    "  \n",
    "\n",
    "            for color in colors:\n",
    "                if not np.all(color == [0,0,0]):\n",
    "                    color_img = np.zeros((50, 50, 3), dtype=np.uint8)\n",
    "                    color_img[:, :, :] = color\n",
    "#                         print(f\"\\tRow {j}:\")\n",
    "#                     display_image(color_img)\n",
    "                    row_color.append(color.tolist()) # 추출된 색상을 리스트에 추가\n",
    "#                     print(row_color)\n",
    "#                     print('rowcolor',len(row_color))\n",
    "            row_color_list[j].extend(row_color)\n",
    "#             print('row_color_list',row_color_list)\n",
    "    color_list.append(row_color_list)"
   ]
  },
  {
   "cell_type": "code",
   "execution_count": null,
   "metadata": {},
   "outputs": [],
   "source": [
    "def display_image(img):\n",
    "    fig, ax = plt.subplots(figsize=(1, 1))\n",
    "    ax.imshow(cv2.cvtColor(img, cv2.COLOR_BGR2RGB))\n",
    "    ax.axis('off')\n",
    "    plt.show()"
   ]
  },
  {
   "attachments": {},
   "cell_type": "markdown",
   "metadata": {},
   "source": [
    "- 군집별 색상 추천(빈도수 확인)"
   ]
  },
  {
   "cell_type": "code",
   "execution_count": null,
   "metadata": {},
   "outputs": [],
   "source": [
    "from collections import Counter\n",
    "recommand_list= []\n",
    "\n",
    "for i in range(n_clusters):\n",
    "    print(f\"Cluster {i+1}:\")\n",
    "    cluster = color_list[i]\n",
    "    top_list = [[]for _ in range(4)]\n",
    "#     print(cluster)\n",
    "    for idx, row in enumerate(cluster):\n",
    "# #       \n",
    "        color_counts = np.unique(row, axis=0, return_counts=True)\n",
    "        top_indices = np.argsort(color_counts[1])[::-1][:6]\n",
    "        top_colors = color_counts[0][top_indices]\n",
    "        for color in top_colors:\n",
    "            color_img = np.zeros((50, 50, 3), dtype=np.uint8)\n",
    "            color_img[:, :, :] = color\n",
    "#             print('check',color_img.shape)\n",
    "#             print(f\"\\tRow {idx}:\")\n",
    "            display_image(color_img)\n",
    "            top_list[idx].append(color.tolist())\n",
    "        print('toplist',top_list)\n",
    "    recommand_list.append(top_list)\n",
    "#     print(recommand_list)\n",
    "print(len(recommand_list))"
   ]
  },
  {
   "attachments": {},
   "cell_type": "markdown",
   "metadata": {},
   "source": [
    "- 시각화"
   ]
  },
  {
   "cell_type": "code",
   "execution_count": null,
   "metadata": {},
   "outputs": [],
   "source": [
    "# def display_color_grid(x):\n",
    "for idx, cluster in enumerate(recommand_list):\n",
    "    fig, axes = plt.subplots(nrows=len(cluster), ncols=6, figsize=(10,10))\n",
    "    \n",
    "    for i in range(len(cluster)):\n",
    "        for j in range(6):\n",
    "            color_img = np.zeros((50, 50, 3), dtype=np.uint8)\n",
    "            color = cluster[i][j]\n",
    "            color_img[:, :, :] = color\n",
    "#             print('check', color)\n",
    "            axes[i, j].imshow(cv2.cvtColor(color_img, cv2.COLOR_BGR2RGB))\n",
    "            axes[i, j].axis('off')\n",
    "            \n",
    "    print(f\"Cluster {idx+1}:\")\n",
    "    plt.tight_layout()\n",
    "    plt.savefig(f'cluster{idx+1}.png')\n",
    "    plt.show()"
   ]
  }
 ],
 "metadata": {
  "language_info": {
   "name": "python"
  },
  "orig_nbformat": 4
 },
 "nbformat": 4,
 "nbformat_minor": 2
}
