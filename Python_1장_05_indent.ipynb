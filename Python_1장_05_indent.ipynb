{
  "nbformat": 4,
  "nbformat_minor": 0,
  "metadata": {
    "colab": {
      "provenance": [],
      "include_colab_link": true
    },
    "kernelspec": {
      "name": "python3",
      "display_name": "Python 3"
    }
  },
  "cells": [
    {
      "cell_type": "markdown",
      "metadata": {
        "id": "view-in-github",
        "colab_type": "text"
      },
      "source": [
        "<a href=\"https://colab.research.google.com/github/bellepoque7/2023-data-science-edu/blob/main/Python_1%EC%9E%A5_05_indent.ipynb\" target=\"_parent\"><img src=\"https://colab.research.google.com/assets/colab-badge.svg\" alt=\"Open In Colab\"/></a>"
      ]
    },
    {
      "cell_type": "markdown",
      "metadata": {
        "id": "XwvGfGcAGu9t"
      },
      "source": [
        "# 들여쓰기(Indentation)에 대한 이야기를 하려고 한다.\n",
        "- 파이썬이 다른 언어와의 모양 상에서의 가장 큰 차이점이 바로 '들여쓰기' 이기 때문이다.\n",
        "\n"
      ]
    },
    {
      "cell_type": "markdown",
      "metadata": {
        "id": "Xxi1ezLohbjm"
      },
      "source": [
        "다른 언어들은 어떨까?\n",
        "아래는 C 언어의 간단한 예제들이다.\n",
        "아래의 3 경우 모두 가능하다.\n",
        "\n",
        "\n",
        "```\n",
        "# 코드로 형식 지정됨\n",
        "int main()\n",
        "{\n",
        "    printf(\"Hello World\");\n",
        "}\n",
        "\n",
        "\n",
        "int main()\n",
        "{\n",
        "printf(\"Hello World\");\n",
        "}\n",
        "\n",
        "\n",
        "int main() { printf(\"Hello World\");  }\n",
        "```"
      ]
    },
    {
      "cell_type": "markdown",
      "metadata": {
        "id": "7D8OZyC_qb4l"
      },
      "source": [
        "# 파이썬 언어는 아래와 같이 칼럼을 왼쪽으로 맞추지 않으면 에러가 발생한다.\n",
        "- 꼭 왼쪽에 붙여서 써야한다.\n",
        "- 즉, 아래와 같은 경우에는 들여쓰기(indentation)을 하면 않된다."
      ]
    },
    {
      "cell_type": "code",
      "metadata": {
        "id": "DdhJ5dnH6f_0",
        "colab": {
          "base_uri": "https://localhost:8080/",
          "height": 130
        },
        "outputId": "4d21df68-6f56-48e4-ee5c-7a2d7848ce25"
      },
      "source": [
        "# 그러나, 파이썬은 다르다.\n",
        "# 아래의 문장은 에러가 발생한다.\n",
        "# 들여쓰기를 하면 않되기 때문이다.\n",
        "       print(2)"
      ],
      "execution_count": null,
      "outputs": [
        {
          "output_type": "error",
          "ename": "IndentationError",
          "evalue": "ignored",
          "traceback": [
            "\u001b[0;36m  File \u001b[0;32m\"<ipython-input-1-210bc03be51b>\"\u001b[0;36m, line \u001b[0;32m4\u001b[0m\n\u001b[0;31m    print(2)\u001b[0m\n\u001b[0m    ^\u001b[0m\n\u001b[0;31mIndentationError\u001b[0m\u001b[0;31m:\u001b[0m unexpected indent\n"
          ]
        }
      ]
    },
    {
      "cell_type": "code",
      "metadata": {
        "id": "4J1--DtcG7fS",
        "colab": {
          "base_uri": "https://localhost:8080/"
        },
        "outputId": "3ab1a2b0-b232-4f32-b703-36836760a49c"
      },
      "source": [
        "# 아래와 같이 들여쓰기를 맞춰줘야한다.\n",
        "print(1)\n",
        "print(2)"
      ],
      "execution_count": null,
      "outputs": [
        {
          "output_type": "stream",
          "text": [
            "1\n",
            "2\n"
          ],
          "name": "stdout"
        }
      ]
    },
    {
      "cell_type": "markdown",
      "metadata": {
        "id": "tHMHlpOVizth"
      },
      "source": [
        "# 파이썬에서 \"\"\"       .......       \"\"\" 문장은 주석이 아니다!!!"
      ]
    },
    {
      "cell_type": "markdown",
      "metadata": {
        "id": "83i7RH2eHMzO"
      },
      "source": [
        "# 여기서는 조금 다른 이야기를 하려고 한다.\n",
        "- 주석에 대한 이야기와 문자열에 대한 이야기다.\n",
        "- 기존의 다른 자료들이 정확하게 이를 잘 설명하지 않는 것 같아서 여기서 명확하게 하고자 한다."
      ]
    },
    {
      "cell_type": "code",
      "metadata": {
        "id": "StY2TQ2xp6tb",
        "colab": {
          "base_uri": "https://localhost:8080/",
          "height": 37
        },
        "outputId": "052548af-a45b-4cc6-f7ae-dcbb6fbeae2f"
      },
      "source": [
        "# '여러줄 주석'과 '문자열의 정의 형식'이 동일하다?\n",
        "# 어떤 자료에서는 문자열을 \"\"\" ~~~ \"\"\" 이렇게 표현할 수 있고\n",
        "# 2줄 이상의 주석도 \"\"\" ~~~ \"\"\" 이렇게 표현할 수 있다라고\n",
        "# 잘못 설명하는 경우도 있다.\n",
        "\n",
        "# 주석은 들여쓰기를 지키지 않아도 된다.\n",
        "    # 실제로 주석은 이렇게 해도 에러가 나지 않는다.\n",
        "# 이 셀을 한번 실행해보자.\n",
        "\n",
        "# 여러줄에 걸친 주석은 아래와 같이 큰 따옴표나 작은 따옴표 3개로 감싸는 형식으로 쓸 수도 있다하고 하기도 한다.\n",
        "# 아래와 같이\n",
        "\n",
        "\"\"\" \n",
        "여기도 주석\n",
        "일까요?\n",
        "\"\"\"\n",
        "\n",
        "# 그렇지만 이는 명확하게 말하면 주석이 아니다.\n",
        "# 많은 교재에서 위와 같은 형식을 주석이라고 하는데, 이는 틀린 설명이다.\n",
        "# 실제로 파이썬의 주석은 # 뿐이다."
      ],
      "execution_count": null,
      "outputs": [
        {
          "output_type": "execute_result",
          "data": {
            "application/vnd.google.colaboratory.intrinsic+json": {
              "type": "string"
            },
            "text/plain": [
              "' \\n여기도 주석\\n일까요?\\n'"
            ]
          },
          "metadata": {
            "tags": []
          },
          "execution_count": 3
        }
      ]
    },
    {
      "cell_type": "code",
      "metadata": {
        "colab": {
          "base_uri": "https://localhost:8080/"
        },
        "id": "xvc0nMgpRYLr",
        "outputId": "2c094f02-8821-4d57-9993-3e01aa18979e"
      },
      "source": [
        "# 아래는 문자열 상수(정확한 표현으로는 문자열 리터럴)를 정의하는 문장이다.\n",
        "# 상수를 정의하고 이를 변수에 대입하지 않기 때문에 사용하지는 않는다는 의미가 된다.\n",
        "\"\"\"\n",
        "여기서부터 \n",
        "여러줄 주석인 셈입니다.\n",
        "여기까지\n",
        "\"\"\"\n",
        "\n",
        "'''\n",
        "여기서부터 \n",
        "여러줄 주석인 셈입니다.\n",
        "여기까지\n",
        "'''\n",
        "\n",
        "# 그래서 아래 문장에서는 에러가 발생하지 않지만...\n",
        "comment = \"\"\" 이 문장에서는 에러가 발생하지 않습니다\"\"\"\n",
        "print(comment)\n",
        "\n",
        "# 즉 따옴표 3개로 묶은 것은 문자열입니다.\n",
        "# 즉, 위의 문장은 문자열 상수를 정의한 문장이라서 들여쓰기를 하면 않됩니다.\n",
        "# 따라서 주석이 아니라서 들여쓰기를 꼭 지켜야합니다."
      ],
      "execution_count": null,
      "outputs": [
        {
          "output_type": "stream",
          "text": [
            " 이 문장에서는 에러가 발생하지 않습니다\n"
          ],
          "name": "stdout"
        }
      ]
    },
    {
      "cell_type": "code",
      "metadata": {
        "id": "-uLBfct1iAv1",
        "colab": {
          "base_uri": "https://localhost:8080/",
          "height": 130
        },
        "outputId": "ebb159c6-18a3-403d-9f3a-4218561755ff"
      },
      "source": [
        "# 그렇지만 아래 문장에서는 에러가 발생한다.\n",
        "\n",
        "    \"\"\" 이 문장에서는 에러가 발생합니다\"\"\"\n",
        "print(comment)\n",
        "\n",
        "# 즉, \"\"\"              \"\"\"은 실제로는 주석이 아닙니다."
      ],
      "execution_count": null,
      "outputs": [
        {
          "output_type": "error",
          "ename": "IndentationError",
          "evalue": "ignored",
          "traceback": [
            "\u001b[0;36m  File \u001b[0;32m\"<ipython-input-5-aceabea9dbfc>\"\u001b[0;36m, line \u001b[0;32m3\u001b[0m\n\u001b[0;31m    \"\"\" 이 문장에서는 에러가 발생합니다\"\"\"\u001b[0m\n\u001b[0m    ^\u001b[0m\n\u001b[0;31mIndentationError\u001b[0m\u001b[0;31m:\u001b[0m unexpected indent\n"
          ]
        }
      ]
    },
    {
      "cell_type": "code",
      "metadata": {
        "id": "Pb-oASMs7rEu",
        "colab": {
          "base_uri": "https://localhost:8080/",
          "height": 37
        },
        "outputId": "3afd5ac0-bd3f-4654-a111-0676c20eb7f3"
      },
      "source": [
        "# 프로그램 코드에서 아래와 같은 상수 문장은 어떨까요?\n",
        "# 아래도 프로그램의 일부이다.\n",
        "\n",
        "100\n",
        "\"\"\" test\"\"\"\n",
        "\n",
        "# 위의 문장은 각각 정수 100, 문자열 'test'를 생성하고, 실제로는 사용은 않하는 문장인것이다.\n",
        "# [참고] 이 cell을 실행하면 'test'라고 출력되는데, 이 현상은 Colab에서 cell을 실행하면 마지막 문장의 결과값이 출력되도록 되어 있기 때문이다."
      ],
      "execution_count": null,
      "outputs": [
        {
          "output_type": "execute_result",
          "data": {
            "application/vnd.google.colaboratory.intrinsic+json": {
              "type": "string"
            },
            "text/plain": [
              "' test'"
            ]
          },
          "metadata": {
            "tags": []
          },
          "execution_count": 6
        }
      ]
    },
    {
      "cell_type": "code",
      "metadata": {
        "id": "gp3jd0p8-V8F",
        "colab": {
          "base_uri": "https://localhost:8080/",
          "height": 37
        },
        "outputId": "27f111d5-ddca-4f9e-ba9b-c69e8d895bf2"
      },
      "source": [
        "# 아래의 문장도 문자열 상수를 하나 정의한 것입니다.\n",
        "\n",
        "\"\"\" 이 문장에서는 에러가 발생하지 않습니다.\"\"\""
      ],
      "execution_count": null,
      "outputs": [
        {
          "output_type": "execute_result",
          "data": {
            "application/vnd.google.colaboratory.intrinsic+json": {
              "type": "string"
            },
            "text/plain": [
              "' 이 문장에서는 에러가 발생하지 않습니다.'"
            ]
          },
          "metadata": {
            "tags": []
          },
          "execution_count": 7
        }
      ]
    },
    {
      "cell_type": "code",
      "metadata": {
        "id": "TIWkFNvIiMFD",
        "colab": {
          "base_uri": "https://localhost:8080/",
          "height": 130
        },
        "outputId": "89a150e0-d105-4abe-b2b6-e4a13266b28a"
      },
      "source": [
        "# 아래의 문장도 문자열 상수를 하나 정의한 것입니다.\n",
        "# 그렇지만, 들여쓰기가 잘못되어서 에러가 발생한다.\n",
        "\n",
        "    \"\"\" 이 문장에서는 에러가 발생합니다.\"\"\"\n",
        "\n",
        "# 따라서 \"\"\"     \"\"\"이 주석이 아닌것이 확인되죠?"
      ],
      "execution_count": null,
      "outputs": [
        {
          "output_type": "error",
          "ename": "IndentationError",
          "evalue": "ignored",
          "traceback": [
            "\u001b[0;36m  File \u001b[0;32m\"<ipython-input-8-de585d49046e>\"\u001b[0;36m, line \u001b[0;32m4\u001b[0m\n\u001b[0;31m    \"\"\" 이 문장에서는 에러가 발생합니다.\"\"\"\u001b[0m\n\u001b[0m    ^\u001b[0m\n\u001b[0;31mIndentationError\u001b[0m\u001b[0;31m:\u001b[0m unexpected indent\n"
          ]
        }
      ]
    },
    {
      "cell_type": "code",
      "metadata": {
        "id": "ApROGteB62QA",
        "colab": {
          "base_uri": "https://localhost:8080/"
        },
        "outputId": "e33e654f-3598-40b4-ec97-a0fd6a4d2b59"
      },
      "source": [
        "# 위의 내용을 아래에서 확인해봅시다.\n",
        "\n",
        "print(1)\n",
        "# 아래 문장은 주석이어서 에러가 발생하지 않는다.\n",
        "    # comment1\n"
      ],
      "execution_count": null,
      "outputs": [
        {
          "output_type": "stream",
          "text": [
            "1\n"
          ],
          "name": "stdout"
        }
      ]
    },
    {
      "cell_type": "code",
      "metadata": {
        "id": "I8T2SROJH5Rv",
        "colab": {
          "base_uri": "https://localhost:8080/",
          "height": 130
        },
        "outputId": "0e242f44-f90f-4fb2-f479-7c15518910ae"
      },
      "source": [
        "print(1)\n",
        "\n",
        "# 그렇지만 아래의 문장은 에러가 발생한다.\n",
        "# 문자열 상수를 정의할때 필요없는(해서는 안되는) 들여쓰기를 해서 입니다.\n",
        "\n",
        "    \"\"\" comment2-1\"\"\"\n",
        "    ''' comment2-2'''"
      ],
      "execution_count": null,
      "outputs": [
        {
          "output_type": "error",
          "ename": "IndentationError",
          "evalue": "ignored",
          "traceback": [
            "\u001b[0;36m  File \u001b[0;32m\"<ipython-input-10-0dafa62468eb>\"\u001b[0;36m, line \u001b[0;32m6\u001b[0m\n\u001b[0;31m    \"\"\" comment2-1\"\"\"\u001b[0m\n\u001b[0m    ^\u001b[0m\n\u001b[0;31mIndentationError\u001b[0m\u001b[0;31m:\u001b[0m unexpected indent\n"
          ]
        }
      ]
    },
    {
      "cell_type": "code",
      "metadata": {
        "id": "Tim_c9efHpeb",
        "colab": {
          "base_uri": "https://localhost:8080/",
          "height": 37
        },
        "outputId": "de7a0ef0-7ecb-43b9-feb8-159db9c03479"
      },
      "source": [
        "# 아래는 들여쓰기가 정확해서 에러가 발생하지 않는다.\n",
        "\"\"\" comment3-1\"\"\"\n",
        "''' comment3-2'''\n",
        "\n",
        "\n",
        "# 아래의 실행 결과로 마지막 문자열만 출력되는 이유는 \n",
        "# print() 함수가 사용되고 있지 않지만\n",
        "# 인터프리터의 특성상 마지막 문장의 결과가 출력되기 때문이다.\n",
        "# 중요한 사항은 아니다."
      ],
      "execution_count": null,
      "outputs": [
        {
          "output_type": "execute_result",
          "data": {
            "application/vnd.google.colaboratory.intrinsic+json": {
              "type": "string"
            },
            "text/plain": [
              "' comment3-2'"
            ]
          },
          "metadata": {
            "tags": []
          },
          "execution_count": 11
        }
      ]
    },
    {
      "cell_type": "code",
      "metadata": {
        "id": "9scvV-OyivrE"
      },
      "source": [],
      "execution_count": null,
      "outputs": []
    }
  ]
}