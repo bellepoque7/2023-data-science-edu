{
  "nbformat": 4,
  "nbformat_minor": 0,
  "metadata": {
    "colab": {
      "provenance": [],
      "include_colab_link": true
    },
    "kernelspec": {
      "name": "python3",
      "display_name": "Python 3"
    }
  },
  "cells": [
    {
      "cell_type": "markdown",
      "metadata": {
        "id": "view-in-github",
        "colab_type": "text"
      },
      "source": [
        "<a href=\"https://colab.research.google.com/github/bellepoque7/2023-data-science-edu/blob/main/Python_1%EC%9E%A5_02_variables.ipynb\" target=\"_parent\"><img src=\"https://colab.research.google.com/assets/colab-badge.svg\" alt=\"Open In Colab\"/></a>"
      ]
    },
    {
      "cell_type": "markdown",
      "metadata": {
        "id": "0bKbR2h1BnZc"
      },
      "source": [
        "# 변수(variables)라는 개념에 대해서 공부해보자.\n",
        "- 컴퓨터는 사용하는 데이터를 주기억장치에 보관해서 사용한다.\n",
        "- 이 값을 CPU로 가져와서 사용하려면,\n",
        "- 그 변수가 위치한 곳의 주소를 일일이 기억해야하는데...\n",
        "- 그게 귀찮아서, 이름을 붙여서 사용하는데\n",
        "- 그것이 바로 '변수'다.\n",
        "- 일단 지금은 '변수'는 값을 저장하는 '그릇'이라고 생각하자(파이썬에서는 이 문장은 정확한 표현은 아니다. 그렇지만 일단 지금은 이렇게 생각하고 넘어가자)"
      ]
    },
    {
      "cell_type": "code",
      "metadata": {
        "id": "r5g60aYpt3kg"
      },
      "source": [
        "# 아래는 다양한 변수를 만들고, 원하는 값을 저장해서 사용한다.\n",
        "\n",
        "my_number = 100 # 정수형 변수\n",
        "my_name   = \"Kim\" # 문자열 변수\n",
        "my_height = 172.3 # 실수형 변수\n",
        "is_middle_school = True # 불리언(boolean) 변수"
      ],
      "execution_count": null,
      "outputs": []
    },
    {
      "cell_type": "markdown",
      "metadata": {
        "id": "WAhG7imsCdYs"
      },
      "source": [
        "# 위에서 변수 이름을 정하는 특별한 형태를 참고하자.\n",
        "- 변수의 이름이 기능/역할/의미를 파악할 수 있도록 상세하게 만드는게 좋다.\n",
        "- 위와 같이 underscore를 통해서 변수의 이름을 만드는 것이 일반적이다."
      ]
    },
    {
      "cell_type": "markdown",
      "metadata": {
        "id": "STPWQjwUCBR1"
      },
      "source": [
        "# 위와 같이 다양한 형태의 '값'들이 있다.\n",
        "- 우리가 수학 시간에 사용하는 '자연수', '정수', '실수', '허수' 들 처럼..\n",
        "- 컴퓨터에서도 다양한 형태의 값들을 사용할 수 있다.\n",
        "- 이를 자료형(data types)이라고 한다."
      ]
    },
    {
      "cell_type": "code",
      "metadata": {
        "id": "sosq5H3OX-TE",
        "colab": {
          "base_uri": "https://localhost:8080/"
        },
        "outputId": "33d0bdcc-ef3a-4782-8f40-cea01563ff05"
      },
      "source": [
        "# 변수가 가지고 있는 값을 print() 함수로 출력할 수 있다.\n",
        "print(my_number)\n",
        "print(my_name)\n",
        "print(my_height)\n",
        "print(is_middle_school)"
      ],
      "execution_count": null,
      "outputs": [
        {
          "output_type": "stream",
          "name": "stdout",
          "text": [
            "100\n",
            "Kim\n",
            "172.3\n",
            "True\n"
          ]
        }
      ]
    },
    {
      "cell_type": "markdown",
      "metadata": {
        "id": "nMRJGppAnRqY"
      },
      "source": [
        "# type() 함수는 파라미터의 자료형을 반환한다.\n",
        "- print() 함수에 이어서 2번째로 배우는 파이썬 내장 함수이다."
      ]
    },
    {
      "cell_type": "code",
      "metadata": {
        "id": "XKoKZaAZIpXl",
        "colab": {
          "base_uri": "https://localhost:8080/"
        },
        "outputId": "c95cd41d-56c4-46b8-c766-8f8d82039c7e"
      },
      "source": [
        "# 변수의 자료형은 type() 함수로 확인할 수 있다.\n",
        "print(type(my_number))\n",
        "print(type(my_name))\n",
        "print(type(my_height))\n",
        "print(type(is_middle_school))\n",
        "\n",
        "# 아래 출력 결과 중에서 '    ' 부분을 보면 된다."
      ],
      "execution_count": null,
      "outputs": [
        {
          "output_type": "stream",
          "text": [
            "<class 'int'>\n",
            "<class 'str'>\n",
            "<class 'float'>\n",
            "<class 'bool'>\n"
          ],
          "name": "stdout"
        }
      ]
    },
    {
      "cell_type": "markdown",
      "metadata": {
        "id": "gzdvpLcbCwhb"
      },
      "source": [
        "# 위에서 2번째 함수 type() 함수를 배웠다.\n",
        "- type() 함수의 파라미터로 주어지는 변수의 type(자료형)을 '반환'한다."
      ]
    },
    {
      "cell_type": "markdown",
      "metadata": {
        "id": "7dAQfP55C9ej"
      },
      "source": [
        "# print(type(my_number)) 이 문장에 대해서 더 이야기를 해보자.\n",
        "- 이 문장은 type(my_number)라는 함수가 가장 먼저 실행된다.\n",
        "- 이 type() 함수는 파라미터의 자료형을 '반환'한다.\n",
        "- print() 함수는 반환된 '그' 값을 출력한다."
      ]
    },
    {
      "cell_type": "code",
      "metadata": {
        "id": "Lbu8o82FooWp",
        "colab": {
          "base_uri": "https://localhost:8080/"
        },
        "outputId": "b91ab90d-65e4-41fc-9c30-03899fd5173b"
      },
      "source": [
        "# 함수의 반환값을 아래와 같이 변수에 담아서 사용할 수 있다.\n",
        "# 당연하게도 변수는 값을 보관하는 그릇이니까.\n",
        "a = type(my_name)\n",
        "print(a)\n",
        "\n",
        "print(type(my_name))"
      ],
      "execution_count": null,
      "outputs": [
        {
          "output_type": "stream",
          "text": [
            "<class 'str'>\n",
            "<class 'str'>\n"
          ],
          "name": "stdout"
        }
      ]
    },
    {
      "cell_type": "markdown",
      "metadata": {
        "id": "2yodetDEnfjw"
      },
      "source": [
        "# 변수는 당연하게도 값을 수정할 수 있다."
      ]
    },
    {
      "cell_type": "code",
      "metadata": {
        "id": "Y2G5O88EIYwt",
        "colab": {
          "base_uri": "https://localhost:8080/"
        },
        "outputId": "7a7c06c1-53a6-4fe3-ba63-e49b8bb4bbe4"
      },
      "source": [
        "# 변수에 새로운 값을 넣으면 기존 값은 지워지고 새로운 값으로 대체된다.\n",
        "\n",
        "a = 10\n",
        "print(a)\n",
        "\n",
        "a = 20\n",
        "print(a)"
      ],
      "execution_count": null,
      "outputs": [
        {
          "output_type": "stream",
          "name": "stdout",
          "text": [
            "10\n",
            "20\n"
          ]
        }
      ]
    },
    {
      "cell_type": "code",
      "metadata": {
        "id": "vF0ko43FaJe_",
        "colab": {
          "base_uri": "https://localhost:8080/"
        },
        "outputId": "4d3e428f-17d0-4623-83cf-edf43c4132e6"
      },
      "source": [
        "is_middle_school = False\n",
        "\n",
        "print(is_middle_school)\n",
        "\n",
        "# Boolean 자료형은 True 또는 False 값만 저장할 수 있다.\n",
        "# True/ False의 첫 글자는 '대문자'라는 점에 유의하자(파이썬은 대문자와 소문자를 구별한다)."
      ],
      "execution_count": null,
      "outputs": [
        {
          "output_type": "stream",
          "text": [
            "False\n"
          ],
          "name": "stdout"
        }
      ]
    },
    {
      "cell_type": "code",
      "metadata": {
        "id": "udjE11_VIgZ0",
        "colab": {
          "base_uri": "https://localhost:8080/"
        },
        "outputId": "94a6ceaf-a715-466c-d506-188c56a277a7"
      },
      "source": [
        "# 파이썬은 동적 타입 바인딩이라서 프로그램 실행 중에 변수의 자료형을 바꿀 수 있다.\n",
        "# 동적 타입 바인딩(dynamic type binding)은 파이썬에서 아주 중요한 개념이다.\n",
        "# 이 점이 C 언어와 같은 정적 타입 바인딩 언어와 큰 차이점이다.\n",
        "# 향후에 자세하게 설명할텐데, 지금은 아래와 같이 기억하자.\n",
        "# 변수에는 '아무런 값이나 마구 마구 저장할 수 있다!!!'\n",
        "\n",
        "a = 10\n",
        "print(a)\n",
        "print(type(a))\n",
        "\n",
        "a = 10.1\n",
        "print(a)\n",
        "print(type(a))\n",
        "\n",
        "a = \"fasdfasfdsfsadfsdadsafsdafsdafsdafds\"\n",
        "print(a)\n",
        "print(type(a))"
      ],
      "execution_count": null,
      "outputs": [
        {
          "output_type": "stream",
          "text": [
            "10\n",
            "<class 'int'>\n",
            "10.1\n",
            "<class 'float'>\n",
            "fasdfasfdsfsadfsdadsafsdafsdafsdafds\n",
            "<class 'str'>\n"
          ],
          "name": "stdout"
        }
      ]
    },
    {
      "cell_type": "code",
      "metadata": {
        "id": "xi8tYayCuI6r",
        "colab": {
          "base_uri": "https://localhost:8080/"
        },
        "outputId": "1b639d6e-ec31-4082-a0ec-1e309971a016"
      },
      "source": [
        "# 변수에 값을 대입하고 이를 이용해서 수식 계산을 해보자.\n",
        "\n",
        "i = 10\n",
        "j = 20\n",
        "\n",
        "add = i + j # 덧셈 연산자\n",
        "multiplication = i * j # 곱셈 연산자\n",
        "\n",
        "print(\"add: \", add)\n",
        "print(\"multi: \", multiplication)"
      ],
      "execution_count": null,
      "outputs": [
        {
          "output_type": "stream",
          "text": [
            "add:  30\n",
            "multi:  200\n"
          ],
          "name": "stdout"
        }
      ]
    },
    {
      "cell_type": "markdown",
      "metadata": {
        "id": "LdaYeZj99ULX"
      },
      "source": [
        "###실습\n",
        "\n",
        "총 다섯 가지 과자가 있습니다.  \n",
        "kitkat: 190 칼로리  \n",
        "oreos: 502 칼로리  \n",
        "pringles: 292 칼로리  \n",
        "twix: 135.9 칼로리  \n",
        "cheetos: 485 칼로리  \n",
        "\n",
        "과자를 다양하게 조합해서 먹었을 때 총 몇 칼로리인지 계산해 보려고 하는데요. 각 과자의 이름을 변수 이름으로 사용하여, 해당 과자의 칼로리를 저장해 주세요.\n",
        "\n",
        "변수를 제대로 정의하시면 콘솔에는 이렇게 출력이 됩니다.\n",
        "\n",
        "1194   \n",
        "1940   \n",
        "929.9  \n",
        "1880  "
      ]
    },
    {
      "cell_type": "code",
      "metadata": {
        "id": "t4_D0U7691ic",
        "colab": {
          "base_uri": "https://localhost:8080/"
        },
        "outputId": "2e86dd2d-7ee5-4279-f5d7-ab12a18e3e9e"
      },
      "source": [
        "# 여기에 코드를 작성 하세요.\n",
        "\n",
        "kitkat = 190\n",
        "oreos = 700\n",
        "pringles = 292\n",
        "twix = 135.9\n",
        "cheetos = 485\n",
        "\n",
        "\n",
        "# 다양한 과자 조합\n",
        "print(kitkat + oreos * 2)\n",
        "print(cheetos * 4)\n",
        "print(pringles + oreos + twix)\n",
        "print(pringles * 3 + oreos * 2)"
      ],
      "execution_count": null,
      "outputs": [
        {
          "output_type": "stream",
          "name": "stdout",
          "text": [
            "1590\n",
            "1940\n",
            "1127.9\n",
            "2276\n"
          ]
        }
      ]
    },
    {
      "cell_type": "code",
      "metadata": {
        "id": "RnxTHwKXz2XV"
      },
      "source": [],
      "execution_count": null,
      "outputs": []
    }
  ]
}