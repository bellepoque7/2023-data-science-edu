{
 "cells": [
  {
   "cell_type": "code",
   "execution_count": 1,
   "metadata": {},
   "outputs": [],
   "source": [
    "# !git clone https://github.com/Lilcob/dataset_for_lg.git"
   ]
  },
  {
   "cell_type": "code",
   "execution_count": 2,
   "metadata": {},
   "outputs": [],
   "source": [
    "# !unzip './dataset_for_lg/dataset_lg.zip'"
   ]
  },
  {
   "cell_type": "code",
   "execution_count": 3,
   "metadata": {},
   "outputs": [],
   "source": [
    "dataset_path = './dataset'"
   ]
  },
  {
   "attachments": {},
   "cell_type": "markdown",
   "metadata": {},
   "source": [
    "## 데이터 전처리"
   ]
  },
  {
   "cell_type": "code",
   "execution_count": 4,
   "metadata": {},
   "outputs": [
    {
     "name": "stdout",
     "output_type": "stream",
     "text": [
      "<class 'numpy.ndarray'>\n",
      "12288\n"
     ]
    }
   ],
   "source": [
    "import os\n",
    "import glob\n",
    "#pillow 와 opencv가 이미지 라이브러리 처리에 양대산맥\n",
    "from PIL import Image\n",
    "import numpy as np\n",
    "from sklearn.model_selection import train_test_split\n",
    "\n",
    "dataset = []\n",
    "labels = []\n",
    "\n",
    "folder_name = ['lung','lung_cancer']\n",
    "for idx,folder in enumerate(folder_name):\n",
    "    img_dir_name = os.path.join(dataset_path,folder)\n",
    "    files = glob.glob(img_dir_name + '/*')\n",
    "    # print(files)\n",
    "    for file in files:\n",
    "        img = Image.open(file)\n",
    "        # print(img) # 모두 이미지의 파일의 크기가 다를 것 \n",
    "        # 흑백이면 depth가 1, RGB는 3이기때문에 모두 3으로 맞추기\n",
    "        img = img.convert('RGB')\n",
    "        #사이즈 동일하게 변경\n",
    "        img = img.resize((64,64))\n",
    "        data = np.asarray(img)\n",
    "        dataset.append(data)\n",
    "        #라벨 저장, idx lung 폴더는 0, lung_cancer 1\n",
    "        labels.append(idx)\n",
    "\n",
    "\n",
    "print(type(data))\n",
    "print(data.size)\n",
    "# print(dataset[0], labels[0])\n",
    "\n",
    "#리스트형태를 Numpy 형태로 바꿀것\n",
    "datasets = np.array(dataset)\n",
    "labels = np.array(labels)"
   ]
  },
  {
   "cell_type": "code",
   "execution_count": 5,
   "metadata": {},
   "outputs": [
    {
     "name": "stdout",
     "output_type": "stream",
     "text": [
      "(207, 64, 64, 3)\n",
      "(207,)\n"
     ]
    }
   ],
   "source": [
    "x_train, x_test, y_train, y_test = train_test_split(datasets,labels,test_size=0.1)\n",
    "print(x_train.shape) # 207개의 데이터, 64x64 크기, depth 는 3 \n",
    "print(y_train.shape) # 23개의 데이터 "
   ]
  },
  {
   "cell_type": "code",
   "execution_count": null,
   "metadata": {},
   "outputs": [],
   "source": [
    "#함수형 방식 , functional 방식\n",
    "x_train = x_train / 255.0\n",
    "x_test = x_test / 255.0\n",
    "import tensorflow as tf\n",
    "from tensorflow.keras.layers import Input\n",
    "input_img = Input(shape = (64,64,3) ,name='input_start')\n",
    "\n",
    "from tensorflow.keras.layers import Conv2D, MaxPooling2D\n",
    "tower_0 = Conv2D(64, (1,1) , padding='same',activation='relu',name = 'tower_0_start')(input_img)\n",
    "####\n",
    "tower_1 = Conv2D(64, (1,1) , padding='same',activation='relu', name = 'tower_1_start')(input_img)\n",
    "tower_1 = Conv2D(64, (3,3) , padding='same',activation='relu')(tower_1)\n",
    "###\n",
    "\n",
    "tower_2 = MaxPooling2D((3,3) , strides=(1,1), padding='same')(input_img)\n",
    "tower_2 = Conv2D(64, (3,3) , padding='same',activation='relu')(tower_2)\n",
    "\n",
    "\n",
    "tower_3 = Conv2D(64, (1,1) , padding='same',activation='relu')(input_img)\n",
    "tower_3 = Conv2D(64, (3,3) , padding='same',activation='relu')(tower_3)\n",
    "tower_3 = Conv2D(64, (3,3) , padding='same',activation='relu')(tower_3)\n",
    "##\n",
    "output = tf.keras.layers.concatenate([tower_0,tower_1,tower_2,\n",
    "                                      tower_3], axis = 3)\n",
    "\n",
    "from tensorflow.keras.layers import Flatten, Dense\n",
    "output = Flatten()(output)\n",
    "out = Dense(1, activation = 'sigmoid')(output)\n",
    "#out = Dense(2, activation = 'softmax')(output)\n",
    "\n",
    "from tensorflow.keras.models import Model\n",
    "model = Model(inputs = input_img, outputs = out)\n",
    "\n",
    "print(model.summary())\n",
    "from tensorflow.keras.optimizers import SGD\n",
    "momentum_param = 0.9\n",
    "lrate = 0.1\n",
    "sgd = SGD(learning_rate = lrate, momentum = momentum_param)\n",
    "\n",
    "model.compile(loss= 'binary_crossentropy', optimizer = 'adam')\n",
    "model.fit(x_train, y_train, \n",
    "          validation_data= (x_test,y_test),\n",
    "          epochs=10, batch_size=64)"
   ]
  }
 ],
 "metadata": {
  "kernelspec": {
   "display_name": "Python 3",
   "language": "python",
   "name": "python3"
  },
  "language_info": {
   "codemirror_mode": {
    "name": "ipython",
    "version": 3
   },
   "file_extension": ".py",
   "mimetype": "text/x-python",
   "name": "python",
   "nbconvert_exporter": "python",
   "pygments_lexer": "ipython3",
   "version": "3.10.9 (main, Dec 15 2022, 18:25:35) [Clang 14.0.0 (clang-1400.0.29.202)]"
  },
  "orig_nbformat": 4,
  "vscode": {
   "interpreter": {
    "hash": "aee8b7b246df8f9039afb4144a1f6fd8d2ca17a180786b69acc140d282b71a49"
   }
  }
 },
 "nbformat": 4,
 "nbformat_minor": 2
}
