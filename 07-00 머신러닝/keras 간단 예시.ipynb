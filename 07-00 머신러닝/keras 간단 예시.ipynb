{
 "cells": [
  {
   "cell_type": "code",
   "execution_count": 1,
   "metadata": {},
   "outputs": [
    {
     "name": "stderr",
     "output_type": "stream",
     "text": [
      "2023-03-02 16:37:18.974694: I tensorflow/core/platform/cpu_feature_guard.cc:193] This TensorFlow binary is optimized with oneAPI Deep Neural Network Library (oneDNN) to use the following CPU instructions in performance-critical operations:  AVX2 FMA\n",
      "To enable them in other operations, rebuild TensorFlow with the appropriate compiler flags.\n"
     ]
    },
    {
     "data": {
      "text/plain": [
       "array([1, 3, 5, 7])"
      ]
     },
     "execution_count": 1,
     "metadata": {},
     "output_type": "execute_result"
    }
   ],
   "source": [
    "from tensorflow import keras\n",
    "import numpy as np\n",
    "\n",
    "x = np.array([0,1,2,3])\n",
    "y = x*2 + 1\n",
    "y"
   ]
  },
  {
   "cell_type": "code",
   "execution_count": 2,
   "metadata": {},
   "outputs": [
    {
     "name": "stderr",
     "output_type": "stream",
     "text": [
      "2023-03-02 16:39:11.954105: I tensorflow/core/platform/cpu_feature_guard.cc:193] This TensorFlow binary is optimized with oneAPI Deep Neural Network Library (oneDNN) to use the following CPU instructions in performance-critical operations:  AVX2 FMA\n",
      "To enable them in other operations, rebuild TensorFlow with the appropriate compiler flags.\n"
     ]
    }
   ],
   "source": [
    "model = keras.models.Sequential()"
   ]
  },
  {
   "cell_type": "code",
   "execution_count": 3,
   "metadata": {},
   "outputs": [
    {
     "data": {
      "text/plain": [
       "<keras.engine.sequential.Sequential at 0x1079b1330>"
      ]
     },
     "execution_count": 3,
     "metadata": {},
     "output_type": "execute_result"
    }
   ],
   "source": [
    "model"
   ]
  },
  {
   "cell_type": "code",
   "execution_count": 4,
   "metadata": {},
   "outputs": [],
   "source": [
    "# 1: 하나 나옴 1, 1개 들어온다.\n",
    "model.add(keras.layers.Dense(1,input_shape=(1,)))"
   ]
  },
  {
   "cell_type": "code",
   "execution_count": 5,
   "metadata": {},
   "outputs": [],
   "source": [
    "# optimizer, loss function  설정하기\n",
    "model.compile('sgd','mse')"
   ]
  },
  {
   "cell_type": "code",
   "execution_count": 7,
   "metadata": {},
   "outputs": [
    {
     "name": "stdout",
     "output_type": "stream",
     "text": [
      "Epoch 1/100\n",
      "1/1 [==============================] - 1s 1s/step - loss: 3.9896\n",
      "Epoch 2/100\n",
      "1/1 [==============================] - 0s 13ms/step - loss: 3.3662\n",
      "Epoch 3/100\n",
      "1/1 [==============================] - 0s 11ms/step - loss: 2.8429\n",
      "Epoch 4/100\n",
      "1/1 [==============================] - 0s 28ms/step - loss: 2.4037\n",
      "Epoch 5/100\n",
      "1/1 [==============================] - 0s 17ms/step - loss: 2.0350\n",
      "Epoch 6/100\n",
      "1/1 [==============================] - 0s 71ms/step - loss: 1.7255\n",
      "Epoch 7/100\n",
      "1/1 [==============================] - 0s 10ms/step - loss: 1.4655\n",
      "Epoch 8/100\n",
      "1/1 [==============================] - 0s 17ms/step - loss: 1.2473\n",
      "Epoch 9/100\n",
      "1/1 [==============================] - 0s 27ms/step - loss: 1.0639\n",
      "Epoch 10/100\n",
      "1/1 [==============================] - 0s 12ms/step - loss: 0.9099\n",
      "Epoch 11/100\n",
      "1/1 [==============================] - 0s 22ms/step - loss: 0.7805\n",
      "Epoch 12/100\n",
      "1/1 [==============================] - 0s 21ms/step - loss: 0.6717\n",
      "Epoch 13/100\n",
      "1/1 [==============================] - 0s 19ms/step - loss: 0.5803\n",
      "Epoch 14/100\n",
      "1/1 [==============================] - 0s 18ms/step - loss: 0.5033\n",
      "Epoch 15/100\n",
      "1/1 [==============================] - 0s 23ms/step - loss: 0.4386\n",
      "Epoch 16/100\n",
      "1/1 [==============================] - 0s 17ms/step - loss: 0.3841\n",
      "Epoch 17/100\n",
      "1/1 [==============================] - 0s 21ms/step - loss: 0.3382\n",
      "Epoch 18/100\n",
      "1/1 [==============================] - 0s 23ms/step - loss: 0.2994\n",
      "Epoch 19/100\n",
      "1/1 [==============================] - 0s 25ms/step - loss: 0.2668\n",
      "Epoch 20/100\n",
      "1/1 [==============================] - 0s 17ms/step - loss: 0.2392\n",
      "Epoch 21/100\n",
      "1/1 [==============================] - 0s 26ms/step - loss: 0.2158\n",
      "Epoch 22/100\n",
      "1/1 [==============================] - 0s 9ms/step - loss: 0.1961\n",
      "Epoch 23/100\n",
      "1/1 [==============================] - 0s 18ms/step - loss: 0.1793\n",
      "Epoch 24/100\n",
      "1/1 [==============================] - 0s 20ms/step - loss: 0.1651\n",
      "Epoch 25/100\n",
      "1/1 [==============================] - 0s 17ms/step - loss: 0.1530\n",
      "Epoch 26/100\n",
      "1/1 [==============================] - 0s 27ms/step - loss: 0.1427\n",
      "Epoch 27/100\n",
      "1/1 [==============================] - 0s 19ms/step - loss: 0.1338\n",
      "Epoch 28/100\n",
      "1/1 [==============================] - 0s 20ms/step - loss: 0.1263\n",
      "Epoch 29/100\n",
      "1/1 [==============================] - 0s 17ms/step - loss: 0.1197\n",
      "Epoch 30/100\n",
      "1/1 [==============================] - 0s 16ms/step - loss: 0.1141\n",
      "Epoch 31/100\n",
      "1/1 [==============================] - 0s 13ms/step - loss: 0.1092\n",
      "Epoch 32/100\n",
      "1/1 [==============================] - 0s 31ms/step - loss: 0.1049\n",
      "Epoch 33/100\n",
      "1/1 [==============================] - 0s 17ms/step - loss: 0.1012\n",
      "Epoch 34/100\n",
      "1/1 [==============================] - 0s 28ms/step - loss: 0.0979\n",
      "Epoch 35/100\n",
      "1/1 [==============================] - 0s 16ms/step - loss: 0.0950\n",
      "Epoch 36/100\n",
      "1/1 [==============================] - 0s 33ms/step - loss: 0.0924\n",
      "Epoch 37/100\n",
      "1/1 [==============================] - 0s 18ms/step - loss: 0.0901\n",
      "Epoch 38/100\n",
      "1/1 [==============================] - 0s 18ms/step - loss: 0.0879\n",
      "Epoch 39/100\n",
      "1/1 [==============================] - 0s 17ms/step - loss: 0.0860\n",
      "Epoch 40/100\n",
      "1/1 [==============================] - 0s 16ms/step - loss: 0.0843\n",
      "Epoch 41/100\n",
      "1/1 [==============================] - 0s 12ms/step - loss: 0.0827\n",
      "Epoch 42/100\n",
      "1/1 [==============================] - 0s 21ms/step - loss: 0.0812\n",
      "Epoch 43/100\n",
      "1/1 [==============================] - 0s 37ms/step - loss: 0.0798\n",
      "Epoch 44/100\n",
      "1/1 [==============================] - 0s 25ms/step - loss: 0.0785\n",
      "Epoch 45/100\n",
      "1/1 [==============================] - 0s 14ms/step - loss: 0.0772\n",
      "Epoch 46/100\n",
      "1/1 [==============================] - 0s 35ms/step - loss: 0.0761\n",
      "Epoch 47/100\n",
      "1/1 [==============================] - 0s 12ms/step - loss: 0.0750\n",
      "Epoch 48/100\n",
      "1/1 [==============================] - 0s 15ms/step - loss: 0.0739\n",
      "Epoch 49/100\n",
      "1/1 [==============================] - 0s 13ms/step - loss: 0.0729\n",
      "Epoch 50/100\n",
      "1/1 [==============================] - 0s 20ms/step - loss: 0.0719\n",
      "Epoch 51/100\n",
      "1/1 [==============================] - 0s 24ms/step - loss: 0.0709\n",
      "Epoch 52/100\n",
      "1/1 [==============================] - 0s 22ms/step - loss: 0.0700\n",
      "Epoch 53/100\n",
      "1/1 [==============================] - 0s 8ms/step - loss: 0.0691\n",
      "Epoch 54/100\n",
      "1/1 [==============================] - 0s 23ms/step - loss: 0.0682\n",
      "Epoch 55/100\n",
      "1/1 [==============================] - 0s 21ms/step - loss: 0.0673\n",
      "Epoch 56/100\n",
      "1/1 [==============================] - 0s 14ms/step - loss: 0.0665\n",
      "Epoch 57/100\n",
      "1/1 [==============================] - 0s 13ms/step - loss: 0.0657\n",
      "Epoch 58/100\n",
      "1/1 [==============================] - 0s 12ms/step - loss: 0.0649\n",
      "Epoch 59/100\n",
      "1/1 [==============================] - 0s 15ms/step - loss: 0.0641\n",
      "Epoch 60/100\n",
      "1/1 [==============================] - 0s 22ms/step - loss: 0.0633\n",
      "Epoch 61/100\n",
      "1/1 [==============================] - 0s 17ms/step - loss: 0.0625\n",
      "Epoch 62/100\n",
      "1/1 [==============================] - 0s 78ms/step - loss: 0.0618\n",
      "Epoch 63/100\n",
      "1/1 [==============================] - 0s 19ms/step - loss: 0.0610\n",
      "Epoch 64/100\n",
      "1/1 [==============================] - 0s 15ms/step - loss: 0.0603\n",
      "Epoch 65/100\n",
      "1/1 [==============================] - 0s 11ms/step - loss: 0.0596\n",
      "Epoch 66/100\n",
      "1/1 [==============================] - 0s 10ms/step - loss: 0.0588\n",
      "Epoch 67/100\n",
      "1/1 [==============================] - 0s 16ms/step - loss: 0.0581\n",
      "Epoch 68/100\n",
      "1/1 [==============================] - 0s 10ms/step - loss: 0.0574\n",
      "Epoch 69/100\n",
      "1/1 [==============================] - 0s 20ms/step - loss: 0.0568\n",
      "Epoch 70/100\n",
      "1/1 [==============================] - 0s 30ms/step - loss: 0.0561\n",
      "Epoch 71/100\n",
      "1/1 [==============================] - 0s 20ms/step - loss: 0.0554\n",
      "Epoch 72/100\n",
      "1/1 [==============================] - 0s 31ms/step - loss: 0.0548\n",
      "Epoch 73/100\n",
      "1/1 [==============================] - 0s 16ms/step - loss: 0.0541\n",
      "Epoch 74/100\n",
      "1/1 [==============================] - 0s 20ms/step - loss: 0.0535\n",
      "Epoch 75/100\n",
      "1/1 [==============================] - 0s 11ms/step - loss: 0.0528\n",
      "Epoch 76/100\n",
      "1/1 [==============================] - 0s 23ms/step - loss: 0.0522\n",
      "Epoch 77/100\n",
      "1/1 [==============================] - 0s 11ms/step - loss: 0.0516\n",
      "Epoch 78/100\n",
      "1/1 [==============================] - 0s 10ms/step - loss: 0.0510\n",
      "Epoch 79/100\n",
      "1/1 [==============================] - 0s 11ms/step - loss: 0.0504\n",
      "Epoch 80/100\n",
      "1/1 [==============================] - 0s 20ms/step - loss: 0.0498\n",
      "Epoch 81/100\n",
      "1/1 [==============================] - 0s 10ms/step - loss: 0.0492\n",
      "Epoch 82/100\n",
      "1/1 [==============================] - 0s 13ms/step - loss: 0.0486\n",
      "Epoch 83/100\n",
      "1/1 [==============================] - 0s 16ms/step - loss: 0.0480\n",
      "Epoch 84/100\n",
      "1/1 [==============================] - 0s 12ms/step - loss: 0.0474\n",
      "Epoch 85/100\n",
      "1/1 [==============================] - 0s 28ms/step - loss: 0.0469\n",
      "Epoch 86/100\n",
      "1/1 [==============================] - 0s 12ms/step - loss: 0.0463\n",
      "Epoch 87/100\n",
      "1/1 [==============================] - 0s 12ms/step - loss: 0.0458\n",
      "Epoch 88/100\n",
      "1/1 [==============================] - 0s 19ms/step - loss: 0.0452\n",
      "Epoch 89/100\n",
      "1/1 [==============================] - 0s 16ms/step - loss: 0.0447\n",
      "Epoch 90/100\n",
      "1/1 [==============================] - 0s 10ms/step - loss: 0.0442\n",
      "Epoch 91/100\n",
      "1/1 [==============================] - 0s 13ms/step - loss: 0.0436\n",
      "Epoch 92/100\n",
      "1/1 [==============================] - 0s 15ms/step - loss: 0.0431\n",
      "Epoch 93/100\n",
      "1/1 [==============================] - 0s 13ms/step - loss: 0.0426\n",
      "Epoch 94/100\n",
      "1/1 [==============================] - 0s 10ms/step - loss: 0.0421\n",
      "Epoch 95/100\n",
      "1/1 [==============================] - 0s 12ms/step - loss: 0.0416\n",
      "Epoch 96/100\n",
      "1/1 [==============================] - 0s 14ms/step - loss: 0.0411\n",
      "Epoch 97/100\n",
      "1/1 [==============================] - 0s 15ms/step - loss: 0.0406\n",
      "Epoch 98/100\n",
      "1/1 [==============================] - 0s 10ms/step - loss: 0.0401\n",
      "Epoch 99/100\n",
      "1/1 [==============================] - 0s 14ms/step - loss: 0.0397\n",
      "Epoch 100/100\n",
      "1/1 [==============================] - 0s 10ms/step - loss: 0.0392\n"
     ]
    },
    {
     "data": {
      "text/plain": [
       "<keras.callbacks.History at 0x121f66200>"
      ]
     },
     "execution_count": 7,
     "metadata": {},
     "output_type": "execute_result"
    }
   ],
   "source": [
    "# 입력, 결과, 학습 에폭\n",
    "model.fit(x,y,epochs = 100)"
   ]
  },
  {
   "cell_type": "code",
   "execution_count": 8,
   "metadata": {},
   "outputs": [
    {
     "name": "stdout",
     "output_type": "stream",
     "text": [
      "1/1 [==============================] - 0s 148ms/step\n"
     ]
    },
    {
     "data": {
      "text/plain": [
       "array([[  2.8260925],\n",
       "       [  7.131916 ],\n",
       "       [ 17.896475 ],\n",
       "       [215.96436  ]], dtype=float32)"
      ]
     },
     "execution_count": 8,
     "metadata": {},
     "output_type": "execute_result"
    }
   ],
   "source": [
    "model.predict([1,3,8,100])"
   ]
  },
  {
   "cell_type": "code",
   "execution_count": null,
   "metadata": {},
   "outputs": [],
   "source": []
  }
 ],
 "metadata": {
  "kernelspec": {
   "display_name": "Python 3",
   "language": "python",
   "name": "python3"
  },
  "language_info": {
   "codemirror_mode": {
    "name": "ipython",
    "version": 3
   },
   "file_extension": ".py",
   "mimetype": "text/x-python",
   "name": "python",
   "nbconvert_exporter": "python",
   "pygments_lexer": "ipython3",
   "version": "3.10.9 (main, Dec 15 2022, 18:25:35) [Clang 14.0.0 (clang-1400.0.29.202)]"
  },
  "orig_nbformat": 4,
  "vscode": {
   "interpreter": {
    "hash": "aee8b7b246df8f9039afb4144a1f6fd8d2ca17a180786b69acc140d282b71a49"
   }
  }
 },
 "nbformat": 4,
 "nbformat_minor": 2
}
