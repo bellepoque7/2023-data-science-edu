{
  "nbformat": 4,
  "nbformat_minor": 0,
  "metadata": {
    "colab": {
      "provenance": [],
      "collapsed_sections": [
        "FtI8HQZHZ23Z"
      ],
      "include_colab_link": true
    },
    "kernelspec": {
      "name": "python3",
      "display_name": "Python 3"
    }
  },
  "cells": [
    {
      "cell_type": "markdown",
      "metadata": {
        "id": "view-in-github",
        "colab_type": "text"
      },
      "source": [
        "<a href=\"https://colab.research.google.com/github/bellepoque7/2023-data-science-edu/blob/main/Python_4%EC%9E%A5_07_for_%EB%B0%98%EB%B3%B5%EB%AC%B8.ipynb\" target=\"_parent\"><img src=\"https://colab.research.google.com/assets/colab-badge.svg\" alt=\"Open In Colab\"/></a>"
      ]
    },
    {
      "cell_type": "markdown",
      "metadata": {
        "id": "qprRTo0kBKcf"
      },
      "source": [
        "# for 반복문을 배워보자.\n",
        "-  while 반복문에 비해서 for 반복문은 기능이 더 많다.\n",
        "-  그런만큼 다양한 사용 방법이 있어서 복잡하게 느껴질 수 있다."
      ]
    },
    {
      "cell_type": "code",
      "metadata": {
        "colab": {
          "base_uri": "https://localhost:8080/"
        },
        "id": "44bleaELXPvh",
        "outputId": "4c276d27-9982-4cf8-ce40-edca84fcb7f7"
      },
      "source": [
        "# 아래는 문자열 전체를 한꺼번에 출력한다.\n",
        "\n",
        "alphabets = \"abcdefghijklmnopqrstuvwxyz\"\n",
        "\n",
        "# 내장 함수 print()를 사용한다.\n",
        "print(alphabets)\n"
      ],
      "execution_count": null,
      "outputs": [
        {
          "output_type": "stream",
          "text": [
            "abcdefghijklmnopqrstuvwxyz\n"
          ],
          "name": "stdout"
        }
      ]
    },
    {
      "cell_type": "code",
      "source": [
        "print(len(\"abcdefghijklmnopqrstuvwxyz\"))"
      ],
      "metadata": {
        "colab": {
          "base_uri": "https://localhost:8080/"
        },
        "id": "5zw5Sd8UbOyn",
        "outputId": "bac5bf14-280b-4e07-f6f9-8ca8a6684d26"
      },
      "execution_count": null,
      "outputs": [
        {
          "output_type": "stream",
          "name": "stdout",
          "text": [
            "26\n"
          ]
        }
      ]
    },
    {
      "cell_type": "markdown",
      "metadata": {
        "id": "-U7vJws3XXFY"
      },
      "source": [
        "# 아래와 같이 출력하고 싶다면?\n",
        "a-b-c-d-e-f-g-h-i-j-k-l-m-n-o-p-q-r-s-t-u-v-w-x-y-z\n",
        "# 어떻게 하면 될까?\n",
        "# 당연히 한 문자씩 순서대로 출력해야한다."
      ]
    },
    {
      "cell_type": "code",
      "metadata": {
        "id": "IHD8JjrtqP0c",
        "colab": {
          "base_uri": "https://localhost:8080/"
        },
        "outputId": "7cf587c1-0298-4c49-f490-b90a26a6c691"
      },
      "source": [
        "# for 반복문을 이용한 문자열 사용\n",
        "\n",
        "# 아래의 문장은 문자열 변수 'alphabets\"의 문자들을 순차적으로 출력하는 문장이다.\n",
        "# for 반복문에서 이럴 때 조건 연산자 in을 사용하면 편하다.\n",
        "\n",
        "for c in alphabets: \n",
        "    print(c)\n",
        "\n",
        "# 위의 문장은 이렇게 읽으면 된다.\n",
        "# alphabets라는 문자열(실제로는 향후에 리스트 등의 자료형을 배우게 되면 iterable 객체) 객체를 \n",
        "# 앞에서 부터 순차적으로 하나씩 c라는 변수에 담아서,\n",
        "# for 반복문의 body에서 사용하라   "
      ],
      "execution_count": null,
      "outputs": [
        {
          "output_type": "stream",
          "text": [
            "a\n",
            "b\n",
            "c\n",
            "d\n",
            "e\n",
            "f\n",
            "g\n",
            "h\n",
            "i\n",
            "j\n",
            "k\n",
            "l\n",
            "m\n",
            "n\n",
            "o\n",
            "p\n",
            "q\n",
            "r\n",
            "s\n",
            "t\n",
            "u\n",
            "v\n",
            "w\n",
            "x\n",
            "y\n",
            "z\n"
          ],
          "name": "stdout"
        }
      ]
    },
    {
      "cell_type": "code",
      "metadata": {
        "colab": {
          "base_uri": "https://localhost:8080/"
        },
        "id": "0Ts8tE9lXoY4",
        "outputId": "5ed82a82-926d-4f19-8977-2e4325162607"
      },
      "source": [
        "# 위와 다르게 한 줄로 출력하고 싶다면?\n",
        "\n",
        "for c in alphabets: \n",
        "    print(c, end=\"\") # print() 함수의 end 파라미터는 앞에서 잠깐 소개했었다."
      ],
      "execution_count": null,
      "outputs": [
        {
          "output_type": "stream",
          "text": [
            "abcdefghijklmnopqrstuvwxyz"
          ],
          "name": "stdout"
        }
      ]
    },
    {
      "cell_type": "code",
      "metadata": {
        "colab": {
          "base_uri": "https://localhost:8080/"
        },
        "id": "pIExHb6wXwz3",
        "outputId": "ad05b067-3d19-4fa2-cded-b4b547a08e25"
      },
      "source": [
        "# 그럼, 아래와 같이 출력하고 싶다면?\n",
        "# a-b-c-d-e-f-g-h-i-j-k-l-m-n-o-p-q-r-s-t-u-v-w-x-y-z\n",
        "\n",
        "for c in alphabets: \n",
        "    print(c, end=\"-\")"
      ],
      "execution_count": null,
      "outputs": [
        {
          "output_type": "stream",
          "text": [
            "a-b-c-d-e-f-g-h-i-j-k-l-m-n-o-p-q-r-s-t-u-v-w-x-y-z-"
          ],
          "name": "stdout"
        }
      ]
    },
    {
      "cell_type": "markdown",
      "metadata": {
        "id": "r2SK0yBVX5X3"
      },
      "source": [
        "# 그런데, 마지막 문자 z 다음에는 -를 출력하지 않아야한다."
      ]
    },
    {
      "cell_type": "code",
      "metadata": {
        "colab": {
          "base_uri": "https://localhost:8080/"
        },
        "id": "b3j54sRNYAnf",
        "outputId": "562d3b47-f40b-4fa6-c264-1de748fd9fd9"
      },
      "source": [
        "for c in alphabets: \n",
        "    if c == 'z': \n",
        "        print(c)\n",
        "    else:\n",
        "        print(c, end=\"-\")"
      ],
      "execution_count": null,
      "outputs": [
        {
          "output_type": "stream",
          "text": [
            "a-b-c-d-e-f-g-h-i-j-k-l-m-n-o-p-q-r-s-t-u-v-w-x-y-z\n"
          ],
          "name": "stdout"
        }
      ]
    },
    {
      "cell_type": "code",
      "metadata": {
        "colab": {
          "base_uri": "https://localhost:8080/"
        },
        "id": "GsiXadnsDr3w",
        "outputId": "c42dc7f2-ebee-42b3-b94a-449193d6ec54"
      },
      "source": [
        "# 다른 방법\n",
        "\n",
        "alphabets = \"abcdefghijklmnopqrstuvwxyz\"\n",
        "\n",
        "for c in alphabets:\n",
        "    if c == alphabets[-1]:\n",
        "        print(c)\n",
        "    else:\n",
        "        print(c, end = \"-\")"
      ],
      "execution_count": null,
      "outputs": [
        {
          "output_type": "stream",
          "name": "stdout",
          "text": [
            "a\n",
            "b-c-d-e-f-g-h-i-j-k-l-m-n-o-p-q-r-s-t-u-v-w-x-y-z-"
          ]
        }
      ]
    },
    {
      "cell_type": "code",
      "metadata": {
        "colab": {
          "base_uri": "https://localhost:8080/"
        },
        "id": "NQm20vrr5o5i",
        "outputId": "0b737bf7-ffba-411f-cbc6-abcf3ec70a1d"
      },
      "source": [
        "alphabets = \"abcdefghijklmnopqrstuvwxyz\"\n",
        "\n",
        "for i in alphabets:\n",
        "    if(i != 'a'):\n",
        "        print(\"-\",end=\"\")\n",
        "    print(i, end=\"\")"
      ],
      "execution_count": null,
      "outputs": [
        {
          "output_type": "stream",
          "name": "stdout",
          "text": [
            "a-b-c-d-e-f-g-h-i-j-k-l-m-n-o-p-q-r-s-t-u-v-w-x-y-z"
          ]
        }
      ]
    },
    {
      "cell_type": "code",
      "metadata": {
        "colab": {
          "base_uri": "https://localhost:8080/"
        },
        "id": "pTLRmZWt5rKf",
        "outputId": "0546d1fe-fa4e-426c-a5b1-3239f5e2d884"
      },
      "source": [
        "alpabets = \"abcdefghijklmnopqrstuvwxyz\"\n",
        "\n",
        "for c in alpabets:\n",
        "    if c == 'z':\n",
        "        print(c)\n",
        "    else:\n",
        "        print((\"{}-\").format(c), end=\"\")"
      ],
      "execution_count": null,
      "outputs": [
        {
          "output_type": "stream",
          "text": [
            "a-b-c-d-e-f-g-h-i-j-k-l-m-n-o-p-q-r-s-t-u-v-w-x-y-z\n"
          ],
          "name": "stdout"
        }
      ]
    },
    {
      "cell_type": "markdown",
      "metadata": {
        "id": "oOAzsb48YQXv"
      },
      "source": [
        "# 위와 다른 방법은 없을까?\n",
        "# 이런 생각을 계속하면서 프로그래밍을 공부하면 효과가 좋다."
      ]
    },
    {
      "cell_type": "code",
      "metadata": {
        "id": "gUS9PlUAEGGJ",
        "colab": {
          "base_uri": "https://localhost:8080/"
        },
        "outputId": "fa49a391-61e3-4846-c9b3-092f87d83dbf"
      },
      "source": [
        "# 아래의 코드를 실행해보자.\n",
        "# 각 문자 앞에 번호를 같이 출력하고 싶다.\n",
        "\n",
        "alphabets = \"abcdefghijklmnopqrstuvwxyz\"\n",
        "\n",
        "i = 0\n",
        "for c in alphabets: \n",
        "    msg = str(i) + \":\" + c\n",
        "    print(msg)\n",
        "    i += 1 # 복합 연산자라고 한다. i = i + 1 과 동일하다.\n"
      ],
      "execution_count": null,
      "outputs": [
        {
          "output_type": "stream",
          "text": [
            "0:a\n",
            "1:b\n",
            "2:c\n",
            "3:d\n",
            "4:e\n",
            "5:f\n",
            "6:g\n",
            "7:h\n",
            "8:i\n",
            "9:j\n",
            "10:k\n",
            "11:l\n",
            "12:m\n",
            "13:n\n",
            "14:o\n",
            "15:p\n",
            "16:q\n",
            "17:r\n",
            "18:s\n",
            "19:t\n",
            "20:u\n",
            "21:v\n",
            "22:w\n",
            "23:x\n",
            "24:y\n",
            "25:z\n"
          ],
          "name": "stdout"
        }
      ]
    },
    {
      "cell_type": "code",
      "metadata": {
        "id": "DVmsClmqF5Ft",
        "colab": {
          "base_uri": "https://localhost:8080/"
        },
        "outputId": "3d227bde-da08-4913-bb43-988402409b04"
      },
      "source": [
        "# 지금은 모르고 넘어가도 되지만..\n",
        "# 위의 코드를 더 간략하게 하는 방법이 있다.\n",
        "\n",
        "alphabets = \"abcdefghijklmnopqrstuvwxyz\"\n",
        "\n",
        "for i, c in enumerate(alphabets): \n",
        "    msg = str(i) + \":\" + c\n",
        "    print(msg)\n",
        "\n",
        "# enumerate()하는 함수인데.. 향후에 배워도 된다.\n",
        "# 이 함수는 반환값이 2가지이다(인덱스와 값)"
      ],
      "execution_count": null,
      "outputs": [
        {
          "output_type": "stream",
          "text": [
            "0:a\n",
            "1:b\n",
            "2:c\n",
            "3:d\n",
            "4:e\n",
            "5:f\n",
            "6:g\n",
            "7:h\n",
            "8:i\n",
            "9:j\n",
            "10:k\n",
            "11:l\n",
            "12:m\n",
            "13:n\n",
            "14:o\n",
            "15:p\n",
            "16:q\n",
            "17:r\n",
            "18:s\n",
            "19:t\n",
            "20:u\n",
            "21:v\n",
            "22:w\n",
            "23:x\n",
            "24:y\n",
            "25:z\n"
          ],
          "name": "stdout"
        }
      ]
    },
    {
      "cell_type": "code",
      "metadata": {
        "id": "lBNk5E0D-7tH",
        "colab": {
          "base_uri": "https://localhost:8080/"
        },
        "outputId": "7dc6c2c8-1729-4c72-9841-69fbfc28f800"
      },
      "source": [
        "# len()라는 함수는 파이썬에서 sequence 자료형(예: string, bytes, tuple, list, or range) \n",
        "# 또는 collection 자료형(예: dictionary, set or frozen set)와 같은 \n",
        "# 객체들의 갯수를 반환하는 함수다.\n",
        "\n",
        "print(len(\"abc\"))\n",
        "print(len(\"abc123\"))\n",
        "print(len(\"\"))"
      ],
      "execution_count": null,
      "outputs": [
        {
          "output_type": "stream",
          "text": [
            "3\n",
            "6\n",
            "0\n"
          ],
          "name": "stdout"
        }
      ]
    },
    {
      "cell_type": "code",
      "metadata": {
        "id": "pwoK5vafElyd",
        "colab": {
          "base_uri": "https://localhost:8080/"
        },
        "outputId": "457d9bf9-2e13-4e37-bce1-64f3bcefb915"
      },
      "source": [
        "# 향후에 list 자료형을 배우면 for 문을 더욱 다양하게 사용하겠지만\n",
        "# 미리 예제를 하나 보고 넘어가자.\n",
        "\n",
        "# 아래가 리스트의 예제이다.\n",
        "# 아직은 설명하지는 않았지만....\n",
        "\n",
        "scores = [90, 100, 87, 89, 82]\n",
        "\n",
        "total_score = 0 \n",
        "for score in scores: \n",
        "    total_score += score\n",
        "\n",
        "average = total_score / len(scores)\n",
        "if  average >= 80:\n",
        "    print(\"평균 성적 {}으로 합격입니다.\".format(average))\n",
        "else:\n",
        "    print(\"평균 성적 {}으로 불합격입니다.\".format(average))"
      ],
      "execution_count": null,
      "outputs": [
        {
          "output_type": "stream",
          "text": [
            "평균 성적 89.6으로 합격입니다.\n"
          ],
          "name": "stdout"
        }
      ]
    },
    {
      "cell_type": "code",
      "metadata": {
        "id": "JIgQ-mSRizrL",
        "colab": {
          "base_uri": "https://localhost:8080/"
        },
        "outputId": "85c42c93-7e68-417c-8a9d-275654184c8a"
      },
      "source": [
        "# 실제로는 위와 같은 방식으로 구현하지 않는다.\n",
        "# 파이썬에서 제공되는 함수들을 많이 사용하기 때문이다.\n",
        "\n",
        "scores = [90, 100, 87, 89, 82]\n",
        "\n",
        "# 아래는 sum( )이라는 내장함수를 사용한다.\n",
        "average = sum(scores) / len(scores)\n",
        "\n",
        "if  average >= 80:\n",
        "    print(\"평균 성적 {}으로 합격입니다.\".format(average))\n",
        "else:\n",
        "    print(\"평균 성적 {}으로 불합격입니다.\".format(average))"
      ],
      "execution_count": null,
      "outputs": [
        {
          "output_type": "stream",
          "text": [
            "평균 성적 89.6으로 합격입니다.\n"
          ],
          "name": "stdout"
        }
      ]
    },
    {
      "cell_type": "markdown",
      "metadata": {
        "id": "iNrYOWWHY5sP"
      },
      "source": [
        "# 아래의 내용은 향후에 설명할 내용의 맛보기입니다."
      ]
    },
    {
      "cell_type": "code",
      "metadata": {
        "id": "YU7FkinixXmQ",
        "colab": {
          "base_uri": "https://localhost:8080/"
        },
        "outputId": "ea0e1d1e-40e1-4998-9088-27519a58da69"
      },
      "source": [
        "# len() 함수는 파라미터의 길이를 반환한다.\n",
        "\n",
        "# 문자열의 특정 문자 1개를 [   ]를 사용하여 인덱스를 통해서 사용할 수도 있다.\n",
        "# 향후에 자세하게 소개된다.\n",
        "\n",
        "alphabets = \"abcdefghijklmnopqrstuvwxyz\"\n",
        "\n",
        "i = 0\n",
        "while i < len(alphabets):\n",
        "    print(alphabets[i])\n",
        "    i = i + 1"
      ],
      "execution_count": null,
      "outputs": [
        {
          "output_type": "stream",
          "text": [
            "a\n",
            "b\n",
            "c\n",
            "d\n",
            "e\n",
            "f\n",
            "g\n",
            "h\n",
            "i\n",
            "j\n",
            "k\n",
            "l\n",
            "m\n",
            "n\n",
            "o\n",
            "p\n",
            "q\n",
            "r\n",
            "s\n",
            "t\n",
            "u\n",
            "v\n",
            "w\n",
            "x\n",
            "y\n",
            "z\n"
          ],
          "name": "stdout"
        }
      ]
    },
    {
      "cell_type": "code",
      "metadata": {
        "id": "-KVe8bmkICXe",
        "colab": {
          "base_uri": "https://localhost:8080/"
        },
        "outputId": "ca7d1fd0-86c9-4e5a-ef1e-fc394a7151b7"
      },
      "source": [
        "# 그렇지만 위와 같은 형식은 추천하지 않는다.\n",
        "# 대신.. 아래 형식을 추천한다.\n",
        "\n",
        "alphabets = \"abcdefghijklmnopqrstuvwxyz\"\n",
        "\n",
        "for c in alphabets:\n",
        "    print(c)\n"
      ],
      "execution_count": null,
      "outputs": [
        {
          "output_type": "stream",
          "text": [
            "a\n",
            "b\n",
            "c\n",
            "d\n",
            "e\n",
            "f\n",
            "g\n",
            "h\n",
            "i\n",
            "j\n",
            "k\n",
            "l\n",
            "m\n",
            "n\n",
            "o\n",
            "p\n",
            "q\n",
            "r\n",
            "s\n",
            "t\n",
            "u\n",
            "v\n",
            "w\n",
            "x\n",
            "y\n",
            "z\n"
          ],
          "name": "stdout"
        }
      ]
    },
    {
      "cell_type": "code",
      "metadata": {
        "id": "A7usswOmrBsO",
        "colab": {
          "base_uri": "https://localhost:8080/"
        },
        "outputId": "477a31a0-a3c6-4b5b-a2de-2b5f0a292d14"
      },
      "source": [
        "\"\"\"\n",
        "for문은 in 뒤에 범위를 지정해서 지정된 범위만큼 반복 실행할 수 도 있다.\n",
        "for 변수 in 범위:\n",
        "    실행할 문장들\n",
        "    ...\n",
        "\n",
        "이때 범위를 지정하기 위해서 range( ) 함수를 사용할 수 있다. \n",
        "다음 코드에서, range(num) 즉, 0에서 num-1까지 for 반복문의 바디가 실행된다. 즉, 아래는 0에서 9까지의 합을 구한다.\n",
        "\n",
        "\"\"\"\n",
        "\n",
        "sum = 0\n",
        "\n",
        "for x in range(11):\n",
        "    sum += x\n",
        "\n",
        "print(sum)"
      ],
      "execution_count": null,
      "outputs": [
        {
          "output_type": "stream",
          "text": [
            "55\n"
          ],
          "name": "stdout"
        }
      ]
    },
    {
      "cell_type": "code",
      "metadata": {
        "id": "EpDQoz46_Xtu",
        "colab": {
          "base_uri": "https://localhost:8080/"
        },
        "outputId": "110335fa-1112-444b-a222-66a70afaa0e7"
      },
      "source": [
        "# range() 함수를 사용하여서 특정 범위 동안 반복문을 수행할 수도 있다.\n",
        "# 아래는 1 이상 11 미만 까지 반복\n",
        "for x in range(1, 11):\n",
        "    print(x)"
      ],
      "execution_count": null,
      "outputs": [
        {
          "output_type": "stream",
          "text": [
            "1\n",
            "2\n",
            "3\n",
            "4\n",
            "5\n",
            "6\n",
            "7\n",
            "8\n",
            "9\n",
            "10\n"
          ],
          "name": "stdout"
        }
      ]
    },
    {
      "cell_type": "code",
      "metadata": {
        "id": "bSJxOay7IeFn",
        "colab": {
          "base_uri": "https://localhost:8080/"
        },
        "outputId": "b3ac55d2-308e-4f9c-e2e7-68e7152f2f80"
      },
      "source": [
        "# 아래는 10 에서 \n",
        "for x in range(1, 11, 1):\n",
        "    print(x)"
      ],
      "execution_count": null,
      "outputs": [
        {
          "output_type": "stream",
          "text": [
            "1\n",
            "2\n",
            "3\n",
            "4\n",
            "5\n",
            "6\n",
            "7\n",
            "8\n",
            "9\n",
            "10\n"
          ],
          "name": "stdout"
        }
      ]
    },
    {
      "cell_type": "markdown",
      "metadata": {
        "id": "QwClmkimBd7J"
      },
      "source": [
        "# for 반복문은 향후에 다양한 자료형을 배우면서도 자세히 소개된다.\n",
        "- 여기의 내용이 모두 이해되지 않으면 나중에 자세하게 배우자."
      ]
    },
    {
      "cell_type": "code",
      "source": [
        "# 구구단 출력하기\n",
        "# 2-9단까지 앞 부분 (한번 순회)\n",
        "# 1-9 까지 곱해짐. 뒷 부분 (1-9까지 순회, 이것이 8번 반복)\n",
        "#  for문을 2개 사용 한다.\n",
        "# 앞부분 변수와, 뒷부분 변수를 지정한다.\n",
        "\n",
        "x = \n",
        "y = \n",
        "\n",
        "\n"
      ],
      "metadata": {
        "id": "l1mw8bxucrf9"
      },
      "execution_count": null,
      "outputs": []
    },
    {
      "cell_type": "markdown",
      "metadata": {
        "id": "FtI8HQZHZ23Z"
      },
      "source": [
        "### 구구단 출력하기  \n",
        "2 * 1 = 2  \n",
        "2 * 2 = 4  \n",
        "2 * 3 = 6  \n",
        "...  \n",
        "9 * 9 = 81"
      ]
    },
    {
      "cell_type": "code",
      "metadata": {
        "id": "Noy0rAi-Z3xi",
        "colab": {
          "base_uri": "https://localhost:8080/"
        },
        "outputId": "6156c118-ebb7-46db-f4bc-67b1470a9dc9"
      },
      "source": [
        "x = [2, 3, 4, 5, 6, 7, 8, 9]\n",
        "y = [1, 2, 3, 4, 5, 6, 7, 8, 9]\n",
        "\n",
        "for i in x:\n",
        "    for j in y:\n",
        "        print(i, 'x', j, '=', i*j)\n",
        "    "
      ],
      "execution_count": null,
      "outputs": [
        {
          "output_type": "stream",
          "name": "stdout",
          "text": [
            "2 x 1 = 2\n",
            "2 x 2 = 4\n",
            "2 x 3 = 6\n",
            "2 x 4 = 8\n",
            "2 x 5 = 10\n",
            "2 x 6 = 12\n",
            "2 x 7 = 14\n",
            "2 x 8 = 16\n",
            "2 x 9 = 18\n",
            "3 x 1 = 3\n",
            "3 x 2 = 6\n",
            "3 x 3 = 9\n",
            "3 x 4 = 12\n",
            "3 x 5 = 15\n",
            "3 x 6 = 18\n",
            "3 x 7 = 21\n",
            "3 x 8 = 24\n",
            "3 x 9 = 27\n",
            "4 x 1 = 4\n",
            "4 x 2 = 8\n",
            "4 x 3 = 12\n",
            "4 x 4 = 16\n",
            "4 x 5 = 20\n",
            "4 x 6 = 24\n",
            "4 x 7 = 28\n",
            "4 x 8 = 32\n",
            "4 x 9 = 36\n",
            "5 x 1 = 5\n",
            "5 x 2 = 10\n",
            "5 x 3 = 15\n",
            "5 x 4 = 20\n",
            "5 x 5 = 25\n",
            "5 x 6 = 30\n",
            "5 x 7 = 35\n",
            "5 x 8 = 40\n",
            "5 x 9 = 45\n",
            "6 x 1 = 6\n",
            "6 x 2 = 12\n",
            "6 x 3 = 18\n",
            "6 x 4 = 24\n",
            "6 x 5 = 30\n",
            "6 x 6 = 36\n",
            "6 x 7 = 42\n",
            "6 x 8 = 48\n",
            "6 x 9 = 54\n",
            "7 x 1 = 7\n",
            "7 x 2 = 14\n",
            "7 x 3 = 21\n",
            "7 x 4 = 28\n",
            "7 x 5 = 35\n",
            "7 x 6 = 42\n",
            "7 x 7 = 49\n",
            "7 x 8 = 56\n",
            "7 x 9 = 63\n",
            "8 x 1 = 8\n",
            "8 x 2 = 16\n",
            "8 x 3 = 24\n",
            "8 x 4 = 32\n",
            "8 x 5 = 40\n",
            "8 x 6 = 48\n",
            "8 x 7 = 56\n",
            "8 x 8 = 64\n",
            "8 x 9 = 72\n",
            "9 x 1 = 9\n",
            "9 x 2 = 18\n",
            "9 x 3 = 27\n",
            "9 x 4 = 36\n",
            "9 x 5 = 45\n",
            "9 x 6 = 54\n",
            "9 x 7 = 63\n",
            "9 x 8 = 72\n",
            "9 x 9 = 81\n"
          ]
        }
      ]
    },
    {
      "cell_type": "markdown",
      "metadata": {
        "id": "--chmOFQaTsY"
      },
      "source": [
        "### if & for 연습문제\n",
        "   \n",
        "  1. 구구단을 2 - 9단까지 출력하시오(while문 사용)\n",
        "  2. 1 - 100까지 정수 중 2의 배수 또는 11의 배수를 모두 출력하시오(for, if 사용) \n",
        "  4. a = [22, 1, 3, 4, 7, 98, 21, 55, 87, 99, 19, 20, 45] 에서 최대값과 최소값을 찾으시오. (sorted, sort 사용 금지), (for, if 사용)\n",
        "  5. a = [22, 1, 3, 4, 7, 98, 21, 55, 87, 99, 19, 20, 45] 에서 평균을 for 와 while을 사용하여 각각 구해보시오."
      ]
    },
    {
      "cell_type": "code",
      "metadata": {
        "id": "hvwjSJfNadH_"
      },
      "source": [
        "x = 2\n",
        "while x <= 9:\n",
        "    y = 1\n",
        "    while y <= 9:\n",
        "        print(x, 'x', y, '=', x*y)\n",
        "        y += 1\n",
        "    x += 1"
      ],
      "execution_count": null,
      "outputs": []
    },
    {
      "cell_type": "code",
      "metadata": {
        "id": "XAw3eMvcWFy6",
        "colab": {
          "base_uri": "https://localhost:8080/"
        },
        "outputId": "aceceecc-7789-41a7-8d57-4cd6705be42a"
      },
      "source": [
        "x = 2\n",
        "y = 1\n",
        "while x <= 9:\n",
        "    while y <= 9:\n",
        "        print(x, 'x', y, '=', x*y)\n",
        "        y += 1\n",
        "    x += 1"
      ],
      "execution_count": null,
      "outputs": [
        {
          "output_type": "stream",
          "text": [
            "2 x 1 = 2\n",
            "2 x 2 = 4\n",
            "2 x 3 = 6\n",
            "2 x 4 = 8\n",
            "2 x 5 = 10\n",
            "2 x 6 = 12\n",
            "2 x 7 = 14\n",
            "2 x 8 = 16\n",
            "2 x 9 = 18\n"
          ],
          "name": "stdout"
        }
      ]
    },
    {
      "cell_type": "code",
      "metadata": {
        "id": "TQus0YWXah0i"
      },
      "source": [
        "nums = list(range(1, 101))\n",
        "for x in nums:\n",
        "    if x % 2 == 0 or x % 11 == 0:\n",
        "        print(x)"
      ],
      "execution_count": null,
      "outputs": []
    },
    {
      "cell_type": "code",
      "metadata": {
        "colab": {
          "base_uri": "https://localhost:8080/"
        },
        "id": "rHGtZFX0aiJs",
        "outputId": "2fad3e1d-42b2-4e64-9499-7898bcb2238a"
      },
      "source": [
        "# sort 함수(정렬)을 사용한 경우\n",
        "a = [22, 1, 3, 4, 7, 98, 21, 55, 87, 99, 19, 20, 45]\n",
        "a.sort()\n",
        "a[0], a[-1]"
      ],
      "execution_count": null,
      "outputs": [
        {
          "output_type": "execute_result",
          "data": {
            "text/plain": [
              "(1, 99)"
            ]
          },
          "metadata": {
            "tags": []
          },
          "execution_count": 30
        }
      ]
    },
    {
      "cell_type": "code",
      "metadata": {
        "colab": {
          "base_uri": "https://localhost:8080/"
        },
        "id": "QEUZqN-IaiTx",
        "outputId": "af0ce17b-7d69-4cfb-88d8-95d48376bdb1"
      },
      "source": [
        "# 처음 만나는 값을 최소 값으로 가정\n",
        "# 그리고 그 후 숫자를 만날때마다 현재 최소값보다 그 숫자가 작으면 최소값을 그 숫자로 업데이트\n",
        "\n",
        "_min = a[0]\n",
        "for x in a:\n",
        "    if x < _min:\n",
        "        _min = x\n",
        "print(_min)\n",
        "        "
      ],
      "execution_count": null,
      "outputs": [
        {
          "output_type": "stream",
          "text": [
            "1\n"
          ],
          "name": "stdout"
        }
      ]
    },
    {
      "cell_type": "code",
      "metadata": {
        "colab": {
          "base_uri": "https://localhost:8080/"
        },
        "id": "XKtaUQlgaiaq",
        "outputId": "171e9fa1-1ea6-43c5-fdc4-9dac2d7df4e5"
      },
      "source": [
        "_max = a[0]\n",
        "for x in a:\n",
        "    if x > _max:\n",
        "        _max = x\n",
        "print(_max)"
      ],
      "execution_count": null,
      "outputs": [
        {
          "output_type": "stream",
          "text": [
            "99\n"
          ],
          "name": "stdout"
        }
      ]
    },
    {
      "cell_type": "code",
      "metadata": {
        "colab": {
          "base_uri": "https://localhost:8080/"
        },
        "id": "mQTleLePaolU",
        "outputId": "b04e30f1-5ab5-48f1-becd-5ca198f14d4e"
      },
      "source": [
        "# 최대 최소 동시에\n",
        "_min = a[0]\n",
        "_max = a[0]\n",
        "for x in a[1:]:\n",
        "    if x < _min:\n",
        "        _min = x\n",
        "    if x > _max:\n",
        "        _max = x\n",
        "\n",
        "print(_min, _max)\n"
      ],
      "execution_count": null,
      "outputs": [
        {
          "output_type": "stream",
          "text": [
            "1 99\n"
          ],
          "name": "stdout"
        }
      ]
    },
    {
      "cell_type": "code",
      "metadata": {
        "id": "f1MfsPmoaouB"
      },
      "source": [
        "a = [22, 1, 3, 4, 7, 98, 21, 55, 87, 99, 19, 20, 45]"
      ],
      "execution_count": null,
      "outputs": []
    },
    {
      "cell_type": "code",
      "metadata": {
        "colab": {
          "base_uri": "https://localhost:8080/"
        },
        "id": "_dDG1A7dao1c",
        "outputId": "09121513-8a47-4c2e-8f91-6d0286786b9c"
      },
      "source": [
        "# while\n",
        "i = 0\n",
        "_sum = 0\n",
        "while i < len(a):\n",
        "    _sum += a[i]\n",
        "    i += 1\n",
        "    \n",
        "print(_sum / len(a))\n",
        "    \n"
      ],
      "execution_count": null,
      "outputs": [
        {
          "output_type": "stream",
          "text": [
            "37.0\n"
          ],
          "name": "stdout"
        }
      ]
    },
    {
      "cell_type": "code",
      "metadata": {
        "colab": {
          "base_uri": "https://localhost:8080/"
        },
        "id": "KbXPOrMDavmJ",
        "outputId": "ba200b06-2a79-4a2d-87c7-8e493712d3d2"
      },
      "source": [
        "# for\n",
        "_sum = 0\n",
        "for x in a:\n",
        "    _sum += x\n",
        "    \n",
        "print(_sum / len(a))\n",
        "    "
      ],
      "execution_count": null,
      "outputs": [
        {
          "output_type": "stream",
          "text": [
            "37.0\n"
          ],
          "name": "stdout"
        }
      ]
    },
    {
      "cell_type": "code",
      "metadata": {
        "id": "pIMMSuj3azLE"
      },
      "source": [],
      "execution_count": null,
      "outputs": []
    }
  ]
}