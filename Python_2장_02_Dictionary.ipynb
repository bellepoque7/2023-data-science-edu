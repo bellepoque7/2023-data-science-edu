{
  "nbformat": 4,
  "nbformat_minor": 0,
  "metadata": {
    "colab": {
      "provenance": [],
      "include_colab_link": true
    },
    "kernelspec": {
      "name": "python3",
      "display_name": "Python 3"
    }
  },
  "cells": [
    {
      "cell_type": "markdown",
      "metadata": {
        "id": "view-in-github",
        "colab_type": "text"
      },
      "source": [
        "<a href=\"https://colab.research.google.com/github/bellepoque7/2023-data-science-edu/blob/main/Python_2%EC%9E%A5_02_Dictionary.ipynb\" target=\"_parent\"><img src=\"https://colab.research.google.com/assets/colab-badge.svg\" alt=\"Open In Colab\"/></a>"
      ]
    },
    {
      "cell_type": "markdown",
      "metadata": {
        "id": "eGOVTLrX42Sa"
      },
      "source": [
        "# Dictionary 자료형"
      ]
    },
    {
      "cell_type": "code",
      "metadata": {
        "id": "mjAzX2BkOMq-",
        "colab": {
          "base_uri": "https://localhost:8080/"
        },
        "outputId": "944d6acb-14ca-409b-ac68-5f4a35e51238"
      },
      "source": [
        "# 딕셔너리 객체 생성\n",
        "game_keys = {'A': 'attack', 'M': 'move', 'P': 'patrol'}\n",
        "print(game_keys)\n",
        "\n",
        "\n",
        "# key 값으로 value 사용\n",
        "print(game_keys['A'])\n",
        "print(game_keys['M'])"
      ],
      "execution_count": null,
      "outputs": [
        {
          "output_type": "stream",
          "text": [
            "{'A': 'attack', 'M': 'move', 'P': 'patrol'}\n",
            "attack\n",
            "move\n"
          ],
          "name": "stdout"
        }
      ]
    },
    {
      "cell_type": "code",
      "metadata": {
        "id": "tmqMqmX0OmgF",
        "colab": {
          "base_uri": "https://localhost:8080/"
        },
        "outputId": "d73aa583-c088-4c3b-821b-3dcf91b9ed4a"
      },
      "source": [
        "universities = {\n",
        "     \"subjects\":[\"math\", \"computer\", \"science\", \"history\"],\n",
        "     \"languages\":[\"Korean\", \"English\", \"Chinese\", \"Japanese\"]\n",
        "     }\n",
        "\n",
        "print(universities)\n",
        "print(universities[\"subjects\"])"
      ],
      "execution_count": null,
      "outputs": [
        {
          "output_type": "stream",
          "text": [
            "{'subjects': ['math', 'computer', 'science', 'history'], 'languages': ['Korean', 'English', 'Chinese', 'Japanese']}\n",
            "['math', 'computer', 'science', 'history']\n"
          ],
          "name": "stdout"
        }
      ]
    },
    {
      "cell_type": "code",
      "metadata": {
        "id": "4dC1Auvg66PF",
        "colab": {
          "base_uri": "https://localhost:8080/"
        },
        "outputId": "f5c84726-7475-43cf-ef95-132195712d77"
      },
      "source": [
        "# Dictionary\n",
        "\n",
        "dict = {}\n",
        "dict['A'] = 'Apple'\n",
        "dict['B'] = 'Blueberry'\n",
        "dict['M'] = 'Melon'\n",
        "print(dict)"
      ],
      "execution_count": null,
      "outputs": [
        {
          "output_type": "stream",
          "text": [
            "{'A': 'Apple', 'B': 'Blueberry', 'M': 'Melon'}\n"
          ],
          "name": "stdout"
        }
      ]
    },
    {
      "cell_type": "code",
      "metadata": {
        "id": "nE-KFnfkQZou",
        "colab": {
          "base_uri": "https://localhost:8080/"
        },
        "outputId": "224dab41-892d-434a-91e0-621c461c28a8"
      },
      "source": [
        "fruits = {'A': \"Apple\"}\n",
        "fruits['B'] = 'Blueberry'\n",
        "fruits['M'] = 'Melon'\n",
        "\n",
        "print(fruits)\n",
        "print(fruits['A'])"
      ],
      "execution_count": null,
      "outputs": [
        {
          "output_type": "stream",
          "text": [
            "{'A': 'Apple', 'B': 'Blueberry', 'M': 'Melon'}\n",
            "Apple\n"
          ],
          "name": "stdout"
        }
      ]
    },
    {
      "cell_type": "code",
      "metadata": {
        "id": "ucv67p_NQf74",
        "colab": {
          "base_uri": "https://localhost:8080/"
        },
        "outputId": "d2b9a45f-203a-4916-a40b-294bf1046a84"
      },
      "source": [
        "fruits = {'A': \"Apple\"}\n",
        "fruits['B'] = 'Blueberry'\n",
        "fruits['M'] = 'Melon'\n",
        "print(fruits)\n",
        "\n",
        "print(fruits.keys())\n",
        "print(fruits.values())\n",
        "print(fruits.items())\n",
        "\n",
        "print(type(fruits.keys()))\n",
        "print(type(fruits.values()))\n",
        "print(type(fruits.items()))"
      ],
      "execution_count": null,
      "outputs": [
        {
          "output_type": "stream",
          "text": [
            "{'A': 'Apple', 'B': 'Blueberry', 'M': 'Melon'}\n",
            "dict_keys(['A', 'B', 'M'])\n",
            "dict_values(['Apple', 'Blueberry', 'Melon'])\n",
            "dict_items([('A', 'Apple'), ('B', 'Blueberry'), ('M', 'Melon')])\n",
            "<class 'dict_keys'>\n",
            "<class 'dict_values'>\n",
            "<class 'dict_items'>\n"
          ],
          "name": "stdout"
        }
      ]
    },
    {
      "cell_type": "code",
      "metadata": {
        "id": "ijUIXMWK6_yD"
      },
      "source": [],
      "execution_count": null,
      "outputs": []
    },
    {
      "cell_type": "code",
      "metadata": {
        "id": "F8kDaVKV7D20"
      },
      "source": [],
      "execution_count": null,
      "outputs": []
    }
  ]
}