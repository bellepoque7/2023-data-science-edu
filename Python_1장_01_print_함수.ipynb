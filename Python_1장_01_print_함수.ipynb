{
  "nbformat": 4,
  "nbformat_minor": 0,
  "metadata": {
    "colab": {
      "provenance": [],
      "include_colab_link": true
    },
    "kernelspec": {
      "name": "python3",
      "display_name": "Python 3"
    }
  },
  "cells": [
    {
      "cell_type": "markdown",
      "metadata": {
        "id": "view-in-github",
        "colab_type": "text"
      },
      "source": [
        "<a href=\"https://colab.research.google.com/github/bellepoque7/2023-data-science-edu/blob/main/Python_1%EC%9E%A5_01_print_%ED%95%A8%EC%88%98.ipynb\" target=\"_parent\"><img src=\"https://colab.research.google.com/assets/colab-badge.svg\" alt=\"Open In Colab\"/></a>"
      ]
    },
    {
      "cell_type": "markdown",
      "metadata": {
        "id": "Sz54ku-XIIFB"
      },
      "source": [
        "# 파이썬 언어 시작\n"
      ]
    },
    {
      "cell_type": "markdown",
      "metadata": {
        "id": "k-dgsgR_q0Zu"
      },
      "source": [
        "# 이와 같이 설명이 적혀있는 Cell은 Text cell이다.\n",
        "# 파이썬 코드는 아래와 같은 Code cell에 적어야한다."
      ]
    },
    {
      "cell_type": "code",
      "metadata": {
        "id": "nhLHRQRLomxu",
        "colab": {
          "base_uri": "https://localhost:8080/"
        },
        "outputId": "90c2fa74-2878-4806-d046-4e03d522fe2c"
      },
      "source": [
        "# Sharp(샵) 기호로 시작되는 줄은 주석이다.\n",
        "# 즉, 지금 읽고 있는 이 줄들은 모두 주석이다. \n",
        "# 주석은, 프로그램의 실행과는 상관없이 코드의 설명 등에 도움되는 정보를 기입하는 문장을 말한다.\n",
        "# print() 함수는 괄호() 안의 내용물(파라미터)을 화면에 출력해준다.\n",
        "\n",
        "# 아래는 1이라는 숫자값을 출력한다.\n",
        "print(1)\n",
        "\n",
        "# 이 코드를 실행하려면 \n",
        "# 이 셀(cell) 좌측 상단의 삼각형 모양의 실행 아이콘을 클릭하거나\n",
        "# Ctrl+Enter 키를 누르면 된다."
      ],
      "execution_count": null,
      "outputs": [
        {
          "output_type": "stream",
          "name": "stdout",
          "text": [
            "1\n"
          ]
        }
      ]
    },
    {
      "cell_type": "code",
      "metadata": {
        "id": "KcBDmLS8rBMN",
        "colab": {
          "base_uri": "https://localhost:8080/"
        },
        "outputId": "0a02c086-492b-4a5b-e5a4-bd49a39da89d"
      },
      "source": [
        "# print() 함수를 통해 문자열도 출력할 수 있다.\n",
        "# 즉, print() 함수의 괄호 내부에 출력할 내용을 적어주면 되기 때문이다.\n",
        "# \" \" 또는 ' '로 묶인 부분을 문자열(string)이라고 한다.\n",
        "# 문자열은 향후에 자세하게 설명한다.\n",
        "\n",
        "print('Hello World!')"
      ],
      "execution_count": null,
      "outputs": [
        {
          "output_type": "stream",
          "name": "stdout",
          "text": [
            "Hello World!\n"
          ]
        }
      ]
    },
    {
      "cell_type": "code",
      "metadata": {
        "id": "IGZnGc0i2RIW",
        "colab": {
          "base_uri": "https://localhost:8080/"
        },
        "outputId": "8d9a9840-6935-4578-e580-4190758ebc8c"
      },
      "source": [
        "# 숫자 1을 출력하고 싶으면...\n",
        "print(1)\n",
        "\n",
        "# 문자열 \"1\"을 출력하고 싶으면...\n",
        "print(\"1\")\n",
        "\n",
        "# 물론 위의 2개의 출력 결과는 화면 상에서는 동일하다, \n",
        "# 숫자 1과 문자열 \"1\"은 컴퓨터 내부적으로 저장되는 형식이 다를 뿐이다.\n",
        "print(1 + 1)"
      ],
      "execution_count": null,
      "outputs": [
        {
          "output_type": "stream",
          "name": "stdout",
          "text": [
            "1\n",
            "1\n",
            "2\n"
          ]
        }
      ]
    },
    {
      "cell_type": "code",
      "metadata": {
        "id": "G0fOdeksAojy",
        "colab": {
          "base_uri": "https://localhost:8080/"
        },
        "outputId": "d8619e5d-ef7e-461f-e480-c9a89a64371e"
      },
      "source": [
        "# print() 함수의 괄호 내부에 적는 값을 파라미터(parameters, 매개 변수)라고 한다.\n",
        "# print() 함수는 파라미터가 없으면 아무것도 출력되지 않고 줄만 바뀐다.\n",
        "print(1)\n",
        "print()\n",
        "print(2)"
      ],
      "execution_count": null,
      "outputs": [
        {
          "output_type": "stream",
          "name": "stdout",
          "text": [
            "1\n",
            "\n",
            "2\n"
          ]
        }
      ]
    },
    {
      "cell_type": "code",
      "metadata": {
        "id": "2oTFhtsiAzEn",
        "colab": {
          "base_uri": "https://localhost:8080/"
        },
        "outputId": "a5327bf2-2ff6-4407-c4c2-43911672f4cc"
      },
      "source": [
        "# 즉, print() 함수는 출력한 후 자동으로 줄을 바꿔준다.\n",
        "print(\"Hello Python\")\n",
        "\n",
        "# 만약 줄을 바꾸고 싶다면... 아래와 같이 하면 된다.\n",
        "print(\"Hello\", end=\"\\n\") # 문자열 내에 \\n 기호는 줄을 바꾸어주는 역할을 한다.\n",
        "print(\"Python\")\n",
        "\n",
        "# 만약 줄을 바꾸고 싶지 않다면.... 아래와 같이 하면면 된다.\n",
        "print(\"first\", end=\"\")\n",
        "print(\"second\")\n",
        "\n",
        "# 위의 사항에서 무엇을 알 수있을까?\n",
        "# print() 함수에는 파라미터가 1개 또는 2개(사실은 더 있을 수 있다)가 될 수 있다는 사실이다."
      ],
      "execution_count": null,
      "outputs": [
        {
          "output_type": "stream",
          "name": "stdout",
          "text": [
            "Hello Python\n",
            "Hello\n",
            "Python\n",
            "firstsecond\n"
          ]
        }
      ]
    },
    {
      "cell_type": "code",
      "metadata": {
        "id": "Zv8-Z_QEBBqQ",
        "colab": {
          "base_uri": "https://localhost:8080/"
        },
        "outputId": "7b4afdbb-efb4-47af-fad3-890a425543c5"
      },
      "source": [
        "# 수식 계산은 계산이 완료된 최종 결과가 출력된다.\n",
        "print(3+7*5)\n",
        "\n",
        "# 여기서 무엇을 알 수 있을까?\n",
        "# print() 함수를 실행하기 전에, 파라미터를 먼저 계산한다는 점이다. \n",
        "# 그, 계산된 결과가 print() 함수에게 전달된다."
      ],
      "execution_count": null,
      "outputs": [
        {
          "output_type": "stream",
          "text": [
            "38\n"
          ],
          "name": "stdout"
        }
      ]
    },
    {
      "cell_type": "code",
      "metadata": {
        "colab": {
          "base_uri": "https://localhost:8080/"
        },
        "id": "fiAKYQrHrxH1",
        "outputId": "c55c738b-d74c-4019-f3e3-d0a92b30a129"
      },
      "source": [
        "# 여러 값을 콤마(,)로 구분해서 출력할 수도 있다.\n",
        "print(\"sum is:\", 3+7)"
      ],
      "execution_count": null,
      "outputs": [
        {
          "output_type": "stream",
          "name": "stdout",
          "text": [
            "sum is: 10\n"
          ]
        }
      ]
    },
    {
      "cell_type": "code",
      "metadata": {
        "id": "z9QS1fRs2Te7",
        "colab": {
          "base_uri": "https://localhost:8080/"
        },
        "outputId": "590ed610-7cf3-4c6e-d096-744e6525a150"
      },
      "source": [
        "# 문자열은 큰 따옴표와 작은 따옴표 모두 사용할 수 있다.\n",
        "print('Hello')\n",
        "print(\"Hello\")"
      ],
      "execution_count": null,
      "outputs": [
        {
          "output_type": "stream",
          "text": [
            "Hello\n",
            "Hello\n"
          ],
          "name": "stdout"
        }
      ]
    },
    {
      "cell_type": "code",
      "metadata": {
        "id": "hpigPQAi2f4h",
        "colab": {
          "base_uri": "https://localhost:8080/"
        },
        "outputId": "a2d614ed-c935-4b93-ced3-7b5164c1c573"
      },
      "source": [
        "# 필요한 경우는 큰 따옴표 내부에 작은 따옴표를... 작은 따옴표 내부에 큰 따옴표를 '문자'의 의미로 \n",
        "# 사용할 수 있다.\n",
        "print(\"This is Jung's Book.\")\n",
        "print('This is Jung\"s Book.')"
      ],
      "execution_count": null,
      "outputs": [
        {
          "output_type": "stream",
          "name": "stdout",
          "text": [
            "This is Jung's Book.\n",
            "This is Jung\"s Book.\n"
          ]
        }
      ]
    },
    {
      "cell_type": "code",
      "metadata": {
        "id": "_zCA3XIZ2voh",
        "colab": {
          "base_uri": "https://localhost:8080/",
          "height": 136
        },
        "outputId": "21137d7f-5ab8-4580-aa9d-7276a33f96dd"
      },
      "source": [
        "# 아래의 경우는 에러가 난다.\n",
        "# 어디가 문자열의 끝인지 불 명확하기 때문이다.\n",
        "print('This is Jung's Book.')"
      ],
      "execution_count": null,
      "outputs": [
        {
          "output_type": "error",
          "ename": "SyntaxError",
          "evalue": "ignored",
          "traceback": [
            "\u001b[0;36m  File \u001b[0;32m\"<ipython-input-13-5ff4166757df>\"\u001b[0;36m, line \u001b[0;32m3\u001b[0m\n\u001b[0;31m    print('This is Jung's Book.')\u001b[0m\n\u001b[0m                        ^\u001b[0m\n\u001b[0;31mSyntaxError\u001b[0m\u001b[0;31m:\u001b[0m invalid syntax\n"
          ]
        }
      ]
    },
    {
      "cell_type": "code",
      "metadata": {
        "id": "erdb_h3H2buU",
        "colab": {
          "base_uri": "https://localhost:8080/"
        },
        "outputId": "5a90e4d2-4aa6-4c81-9dff-538062ae1d8b"
      },
      "source": [
        "# 여러줄에 걸친 긴 문자열은 아래와 같이 할 수도 있다.\n",
        "\n",
        "print(\"\"\"여러 줄에 걸친 \n",
        "            문자열은 큰 따옴표로 \n",
        "       감쌀수 있습니다.\"\"\")\n",
        "\n",
        "print('''여러 줄에 걸친 \n",
        "            문자열은 작은 따옴표로도\n",
        "       감쌀수 있습니다.''')"
      ],
      "execution_count": null,
      "outputs": [
        {
          "output_type": "stream",
          "text": [
            "여러 줄에 걸친 \n",
            "            문자열은 큰 따옴표로 \n",
            "       감쌀수 있습니다.\n",
            "여러 줄에 걸친 \n",
            "            문자열은 작은 따옴표로도\n",
            "       감쌀수 있습니다.\n"
          ],
          "name": "stdout"
        }
      ]
    },
    {
      "cell_type": "markdown",
      "metadata": {
        "id": "LjzTGcRGDBCA"
      },
      "source": [
        "# [각자 실습 해보자]\n",
        "- 아래의 셀에서 각자 다양한 형식으로 print() 함수를 활용해보자.\n",
        "- 뭔가 이상한 짓을 많이 해볼수록 도움된다."
      ]
    },
    {
      "cell_type": "code",
      "metadata": {
        "id": "NuKpFtWhDJd6",
        "colab": {
          "base_uri": "https://localhost:8080/"
        },
        "outputId": "eb77b4d1-b998-4110-d61f-564d7fea0a03"
      },
      "source": [
        "# 예를 들면 아래는 어떻게 출력될까?\n",
        "\n",
        "print((((((1))))))\n",
        "print(3+4*5)\n",
        "print((3+4)*5)\n",
        "\n",
        "# 아래 2 문장의 출력 결과의 차이를 살펴보자.\n",
        "print('a','b','c')\n",
        "print('abc')"
      ],
      "execution_count": null,
      "outputs": [
        {
          "output_type": "stream",
          "text": [
            "1\n",
            "23\n",
            "35\n",
            "a b c\n",
            "abc\n"
          ],
          "name": "stdout"
        }
      ]
    },
    {
      "cell_type": "code",
      "metadata": {
        "id": "oIJvSVvOwh64"
      },
      "source": [],
      "execution_count": null,
      "outputs": []
    }
  ]
}