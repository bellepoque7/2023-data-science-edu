{
  "nbformat": 4,
  "nbformat_minor": 0,
  "metadata": {
    "colab": {
      "provenance": [],
      "include_colab_link": true
    },
    "kernelspec": {
      "name": "python3",
      "display_name": "Python 3"
    },
    "language_info": {
      "name": "python"
    }
  },
  "cells": [
    {
      "cell_type": "markdown",
      "metadata": {
        "id": "view-in-github",
        "colab_type": "text"
      },
      "source": [
        "<a href=\"https://colab.research.google.com/github/bellepoque7/2023-data-science-edu/blob/main/1_%EA%B8%B0%EC%B4%88%ED%86%B5%EA%B3%84_%EA%B8%B0%EC%88%A0%ED%86%B5%EA%B3%84_ipynb%EC%9D%98_%EC%82%AC%EB%B3%B8.ipynb\" target=\"_parent\"><img src=\"https://colab.research.google.com/assets/colab-badge.svg\" alt=\"Open In Colab\"/></a>"
      ]
    },
    {
      "cell_type": "markdown",
      "metadata": {
        "id": "vftZbpdipeto"
      },
      "source": [
        "# 1. 변수와 척도"
      ]
    },
    {
      "cell_type": "markdown",
      "metadata": {
        "id": "PZZjj1Dcp5dk"
      },
      "source": [
        "## 변수의 종류"
      ]
    },
    {
      "cell_type": "markdown",
      "metadata": {
        "id": "3bgcNKNLp8WX"
      },
      "source": [
        "### 연속변수\n",
        "- 연속적인 값을 가지는 변수 \n",
        "- 예) 나이, 점수, 무게, 가격 등  \n",
        "\n",
        "### 범주변수(이산변수) \n",
        "\n",
        "- 서로 다른 것으로 구분되는 변수  \n",
        "- 예) 성별(남자/여자), 애완동물(강아지/고양이)\n"
      ]
    },
    {
      "cell_type": "markdown",
      "metadata": {
        "id": "GEfpODnhp8oP"
      },
      "source": [
        "## 척도 \n",
        "척도(scale): 측정된 변수의 값을 표현하는 수준(levels of measurement)을 의미 "
      ]
    },
    {
      "cell_type": "markdown",
      "metadata": {
        "id": "JEQNgieUp8ts"
      },
      "source": [
        "### 명명척도(nominal scale)\n",
        "\n",
        "- 측정값이 같고 다름을 말할 수 있음  \n",
        "- 측정값들 사이에 순서가 없음  \n",
        "- 사칙연산이 불가능  \n",
        "- 종류에 따른 빈도만 계산  \n",
        "- 예) 혈액형  \n"
      ]
    },
    {
      "cell_type": "markdown",
      "metadata": {
        "id": "dNVisO92p8z6"
      },
      "source": [
        "### 서열척도(ordinal scale)\n",
        "\n",
        "- 측정값들 사이에 순서가 있음\n",
        "- 측정값들의 간격이 동일하지 않음\n",
        "- 사칙연산은 불가능\n",
        "- 예) 직급(부장, 과장, 대리, ...)\n",
        "- 부장이 과장보다, 과장이 대리보다 높음\n",
        "- 부장과 과장의 차이가 과장과 대리의 차이와 같지 않음"
      ]
    },
    {
      "cell_type": "markdown",
      "metadata": {
        "id": "2PB2rT-fp87c"
      },
      "source": [
        "### 등간척도(interval scale)\n",
        "\n",
        "- 측정값들 사이에 순서가 있고 간격이 일정\n",
        "- 영점(0)의 의미가 임의적 (영점을 옮겨도 무방함)\n",
        "- 덧셈, 뺄셈이 가능\n",
        "- 예) 섭씨온도\n",
        "  - 섭씨 20도는 섭씨 10도보다 수치로는 2배. \n",
        "  -  그러나 2배 따뜻한 것이 아님  \n",
        "  -  화씨로 바꾸면 각각 50도와 68도가 되어 1.36배에 불과  \n",
        "  -  영점의 기준이 임의적이기 때문 (섭씨 0도 = 화씨 32도)  "
      ]
    },
    {
      "cell_type": "markdown",
      "metadata": {
        "id": "iIQq0SH-YLyY"
      },
      "source": [
        "### 비율척도(ratio scale)\n",
        "\n",
        "- 등간척도 + 절대영점\n",
        "- 사칙연산 모두 가능\n",
        "- 절대영점이란, 영점의 의미가 아무 것도 존재하지 않는 상태를 말함\n",
        "- 예) 길이\n",
        "  - 20미터는 10미터보다 수치로도 2배이고\n",
        "  - 실제로도 2배 길다\n",
        "  - 미터를 피트로 바꿔도 32.8피트와 65.6피트로 2배\n",
        "  - 영점의 기준이 절대적 (0 미터 = 0 피트)"
      ]
    },
    {
      "cell_type": "markdown",
      "metadata": {
        "id": "PrQAmeshYL7O"
      },
      "source": [
        "### 척도의 중요성\n",
        "\n",
        "- 척도에 따라 적용가능한 통계 분석방법이 다름\n",
        "- 숫자로 표현된 경우라 하더라도 무조건 사칙연산이 가능하지는 않음. 그 숫자의 의미(=척도)를 이해해야\n",
        "- 예) 남자 = 1, 여자 = 2로 표현하는 경우\n",
        "- 수로 표현되었지만 1 + 1 = 2\n",
        "와 같이 계산하면 남자 2명이 여자 1명과 같다는 이상한 해석이 됨\n",
        "- 가능하면 비율척도나 등간척도의 형태로 자료 수집을 하는 것이 분석에 용이\n",
        "  - 예) 연령을 조사하는 경우\n",
        "    - 서열척도로 조사: \"어린이, 청장년, 노인\"와 같이 나누어 조사\n",
        "    - 비율척도로 조사: 만 나이로 조사\n",
        "    - 비율척도는 다양한 계산과 분석이 가능하지만,  서열척도는 어린이 몇 명, 노인 몇 명 등의 분석만 가능"
      ]
    }
  ]
}