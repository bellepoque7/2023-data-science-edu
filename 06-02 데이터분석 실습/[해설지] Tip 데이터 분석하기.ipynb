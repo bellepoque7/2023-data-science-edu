{
 "cells": [
  {
   "cell_type": "markdown",
   "metadata": {},
   "source": [
    "# [해설지] Tip 데이터 분석하기"
   ]
  },
  {
   "cell_type": "markdown",
   "metadata": {},
   "source": [
    "### Tip 데이터셋에서 가장 높은 Tip을 받기 위한 전략 짜기"
   ]
  },
  {
   "cell_type": "markdown",
   "metadata": {},
   "source": [
    "### 학습 목표\n",
    "- 각 테이블 별로 전체 금액, 팁 금액, 성별 등의 정보가 담겨있는 Tip 데이터셋을 자세히 살펴본다.\n",
    "- 데이터를 pandas, numpy, matplotlib 등의 패키지로 다루는 데에 익숙해진다.\n",
    "- 각 Column별로 Tip이 높아지는 경향성을 찾아보며 어떤 특징의 테이블에 언제 가야 더 많이 받을 수 있는지 분석해본다."
   ]
  },
  {
   "cell_type": "markdown",
   "metadata": {},
   "source": [
    "---"
   ]
  },
  {
   "cell_type": "markdown",
   "metadata": {},
   "source": [
    "## Contents"
   ]
  },
  {
   "cell_type": "markdown",
   "metadata": {},
   "source": [
    "#### 1. [데이터 분석 준비하기](#1.-데이터-분석-준비하기)\n",
    "\n",
    "#### 2. [데이터셋 뜯어보기](#2.-데이터셋-뜯어보기)\n",
    "\n",
    "#### 3. [가설을 세우고 그에 따라 세부 분석해보기]()\n",
    "- 가설 첫 번째 : 테이블의 인원수를 나타내는 `size` 컬럼은 tip을 결정짓는 중요한 요소일 것이다"
   ]
  },
  {
   "cell_type": "markdown",
   "metadata": {},
   "source": [
    "---"
   ]
  },
  {
   "cell_type": "markdown",
   "metadata": {},
   "source": [
    "# 1. 데이터 분석 준비하기"
   ]
  },
  {
   "cell_type": "markdown",
   "metadata": {},
   "source": [
    "### Import Modules"
   ]
  },
  {
   "cell_type": "markdown",
   "metadata": {},
   "source": [
    "데이터 분석에 필요한 module을 import 해 봅니다.    \n",
    "지금까지 배웠던 numpy, pandas, matplotlib과 함께 또다른 시각화 툴인 seaborn 까지 사용해 보겠습니다."
   ]
  },
  {
   "cell_type": "code",
   "execution_count": 1,
   "metadata": {},
   "outputs": [],
   "source": [
    "# numpy\n",
    "import numpy as np\n",
    "\n",
    "# pandas\n",
    "import pandas as pd\n",
    "\n",
    "# seaborn\n",
    "import seaborn as sns\n",
    "\n",
    "#matplotlib\n",
    "import matplotlib.pyplot as plt\n",
    "%matplotlib inline"
   ]
  },
  {
   "cell_type": "markdown",
   "metadata": {},
   "source": [
    "### Load Dataset"
   ]
  },
  {
   "cell_type": "markdown",
   "metadata": {},
   "source": [
    "이번 데이터셋은 데이터 시각화 패키지인 `seaborn` 패키지 안에 포함되어 있습니다.     \n",
    "\n",
    "- `seaborn` 모듈 복습하기   \n",
    "    seaborn은 matplotlib과 비슷하게 데이터에 대한 시각화를 제공하는 패키지로 간단하고 가벼운 그래프에 최적화 되어있는 matplotlib과 달리, 시각화 자체의 기능을 더 살려서 예쁘고 다양한 형태의 그래프를 그릴 수 있도록 만들어진 패키지입니다.\n",
    "\n",
    "- seaborn 공식 홈페이지 : http://seaborn.pydata.org/\n",
    "\n",
    "\n",
    "seaborn은 간단한 데이터셋으로 여러 실험을 해볼 수 있도록 샘플 데이터셋을 제공합니다.    \n",
    "제공되는 데이터셋은 다음 함수로 확인할 수 있습니다."
   ]
  },
  {
   "cell_type": "code",
   "execution_count": 2,
   "metadata": {},
   "outputs": [],
   "source": [
    "# 빨간 warning message를 보고싶지 않다면\n",
    "import warnings\n",
    "warnings.filterwarnings('ignore')"
   ]
  },
  {
   "cell_type": "code",
   "execution_count": 3,
   "metadata": {},
   "outputs": [
    {
     "data": {
      "text/plain": [
       "['anscombe',\n",
       " 'attention',\n",
       " 'brain_networks',\n",
       " 'car_crashes',\n",
       " 'diamonds',\n",
       " 'dots',\n",
       " 'exercise',\n",
       " 'flights',\n",
       " 'fmri',\n",
       " 'gammas',\n",
       " 'geyser',\n",
       " 'iris',\n",
       " 'mpg',\n",
       " 'penguins',\n",
       " 'planets',\n",
       " 'df_tip',\n",
       " 'titanic']"
      ]
     },
     "execution_count": 3,
     "metadata": {},
     "output_type": "execute_result"
    }
   ],
   "source": [
    "# seaborn 데이터 살펴보기\n",
    "sns.get_dataset_names()"
   ]
  },
  {
   "cell_type": "markdown",
   "metadata": {},
   "source": [
    "비행 데이터를 담은 `flights`, 붓꽃 데이터를 담은 `iris` 등 여러가지 데이터가 있네요.    \n",
    "이 중 우리가 오늘 사용해 볼 데이터셋은 Tip 데이터입니다. `sns.load_dataset(\"df_tip\")` 으로 데이터셋을 가져와 보겠습니다.   \n",
    "\n",
    "다른 데이터들이 어떤 데이터인지 궁금하다면 직접 사용해보는 것을 추천합니다!\n",
    "\n",
    "참고로, 저희는 데이터셋을 가져와서 원본은 따로 저장을 해두고, 복사한 데이터셋을 사용합니다.\n",
    "꼭 이렇게 해야만 하는 것은 아니지만, 데이터를 다루다보면 데이터셋을 종종 바꾸는 일이 있기 때문에 원본 데이터셋은 따로 저장해두는 습관을 가지는 것이 좋습니다."
   ]
  },
  {
   "cell_type": "code",
   "execution_count": 4,
   "metadata": {},
   "outputs": [
    {
     "name": "stdout",
     "output_type": "stream",
     "text": [
      "(244, 7)\n"
     ]
    },
    {
     "data": {
      "text/html": [
       "<div>\n",
       "<style scoped>\n",
       "    .dataframe tbody tr th:only-of-type {\n",
       "        vertical-align: middle;\n",
       "    }\n",
       "\n",
       "    .dataframe tbody tr th {\n",
       "        vertical-align: top;\n",
       "    }\n",
       "\n",
       "    .dataframe thead th {\n",
       "        text-align: right;\n",
       "    }\n",
       "</style>\n",
       "<table border=\"1\" class=\"dataframe\">\n",
       "  <thead>\n",
       "    <tr style=\"text-align: right;\">\n",
       "      <th></th>\n",
       "      <th>total_bill</th>\n",
       "      <th>tip</th>\n",
       "      <th>sex</th>\n",
       "      <th>smoker</th>\n",
       "      <th>day</th>\n",
       "      <th>time</th>\n",
       "      <th>size</th>\n",
       "    </tr>\n",
       "  </thead>\n",
       "  <tbody>\n",
       "    <tr>\n",
       "      <th>0</th>\n",
       "      <td>16.99</td>\n",
       "      <td>1.01</td>\n",
       "      <td>Female</td>\n",
       "      <td>No</td>\n",
       "      <td>Sun</td>\n",
       "      <td>Dinner</td>\n",
       "      <td>2</td>\n",
       "    </tr>\n",
       "    <tr>\n",
       "      <th>1</th>\n",
       "      <td>10.34</td>\n",
       "      <td>1.66</td>\n",
       "      <td>Male</td>\n",
       "      <td>No</td>\n",
       "      <td>Sun</td>\n",
       "      <td>Dinner</td>\n",
       "      <td>3</td>\n",
       "    </tr>\n",
       "    <tr>\n",
       "      <th>2</th>\n",
       "      <td>21.01</td>\n",
       "      <td>3.50</td>\n",
       "      <td>Male</td>\n",
       "      <td>No</td>\n",
       "      <td>Sun</td>\n",
       "      <td>Dinner</td>\n",
       "      <td>3</td>\n",
       "    </tr>\n",
       "    <tr>\n",
       "      <th>3</th>\n",
       "      <td>23.68</td>\n",
       "      <td>3.31</td>\n",
       "      <td>Male</td>\n",
       "      <td>No</td>\n",
       "      <td>Sun</td>\n",
       "      <td>Dinner</td>\n",
       "      <td>2</td>\n",
       "    </tr>\n",
       "    <tr>\n",
       "      <th>4</th>\n",
       "      <td>24.59</td>\n",
       "      <td>3.61</td>\n",
       "      <td>Female</td>\n",
       "      <td>No</td>\n",
       "      <td>Sun</td>\n",
       "      <td>Dinner</td>\n",
       "      <td>4</td>\n",
       "    </tr>\n",
       "  </tbody>\n",
       "</table>\n",
       "</div>"
      ],
      "text/plain": [
       "   total_bill   tip     sex smoker  day    time  size\n",
       "0       16.99  1.01  Female     No  Sun  Dinner     2\n",
       "1       10.34  1.66    Male     No  Sun  Dinner     3\n",
       "2       21.01  3.50    Male     No  Sun  Dinner     3\n",
       "3       23.68  3.31    Male     No  Sun  Dinner     2\n",
       "4       24.59  3.61  Female     No  Sun  Dinner     4"
      ]
     },
     "execution_count": 4,
     "metadata": {},
     "output_type": "execute_result"
    }
   ],
   "source": [
    "# 데이터 불러오기\n",
    "# pd.read_csv('df_tip.csv')\n",
    "data = sns.load_dataset(\"df_tip\")\n",
    "df_tip = data\n",
    "print(df_tip.shape)\n",
    "df_tip.head()"
   ]
  },
  {
   "cell_type": "markdown",
   "metadata": {},
   "source": [
    "총 244개의 행과 7개의 열로 이루어져 있군요.  \n",
    "각 행은 해당 식당에서 식사한 각 테이블에 대한 정보를 나타냅니다. 즉, 테이블 단위로 데이터가 쌓여있다고 봐도 좋을 것 같아요.\n",
    "각 데이터는 total_bill, tip, sex, smoker, day, time, size 7개의 정보를 담고 있습니다.\n",
    "\n",
    "각 컬럼에 대한 세부 내용은 다음과 같습니다.    \n",
    "- `total_bill` : 테이블의 전체 지불 금액\n",
    "- `tip` : 팁으로 낸 금액\n",
    "- `sex` : 웨이터의 성별\n",
    "- `smoker` : 손님의 흡연 여부\n",
    "- `day` : 요일\n",
    "- `time`  : 시간\n",
    "- `size` : 테이블 인원수"
   ]
  },
  {
   "cell_type": "markdown",
   "metadata": {},
   "source": [
    "`info()` 함수를 사용하여 데이터 셋을 한 눈에 확인해보겠습니다. "
   ]
  },
  {
   "cell_type": "code",
   "execution_count": 5,
   "metadata": {},
   "outputs": [
    {
     "name": "stdout",
     "output_type": "stream",
     "text": [
      "<class 'pandas.core.frame.DataFrame'>\n",
      "RangeIndex: 244 entries, 0 to 243\n",
      "Data columns (total 7 columns):\n",
      "total_bill    244 non-null float64\n",
      "tip           244 non-null float64\n",
      "sex           244 non-null category\n",
      "smoker        244 non-null category\n",
      "day           244 non-null category\n",
      "time          244 non-null category\n",
      "size          244 non-null int64\n",
      "dtypes: category(4), float64(2), int64(1)\n",
      "memory usage: 7.2 KB\n"
     ]
    }
   ],
   "source": [
    "# 데이터 셋 정보 한 눈에 확인해보기\n",
    "df_tip.info()"
   ]
  },
  {
   "cell_type": "markdown",
   "metadata": {},
   "source": [
    "이번에도 결측치 먼저 확인해보겠습니다."
   ]
  },
  {
   "cell_type": "code",
   "execution_count": 6,
   "metadata": {
    "scrolled": true
   },
   "outputs": [
    {
     "data": {
      "text/plain": [
       "total_bill    0\n",
       "tip           0\n",
       "sex           0\n",
       "smoker        0\n",
       "day           0\n",
       "time          0\n",
       "size          0\n",
       "dtype: int64"
      ]
     },
     "execution_count": 6,
     "metadata": {},
     "output_type": "execute_result"
    }
   ],
   "source": [
    "# 결측치 개수 확인해보기\n",
    "df_tip.isnull().sum()"
   ]
  },
  {
   "cell_type": "markdown",
   "metadata": {},
   "source": [
    "다행히 결측치는 아무것도 없군요! 그렇다면 바로 진행해보도록 하겠습니다."
   ]
  },
  {
   "cell_type": "markdown",
   "metadata": {},
   "source": [
    "### `tip_rate` 컬럼 추가\n",
    "흠, 우리는 어떤 테이블이 Tip을 많이 주는지를 본다고 했죠. 그렇다면 어떤 데이터가 또 있으면 좋을까요?\n",
    "우리나라에서는 tip을 주는 문화가 없지만, 서양 국가에서는 tip을 주는 것이 매우 자연스러운 문화입니다. Tip의 금액은 보통 전체 금액의 10%~20%를 주는 것이 적당한 수준으로 문화가 자리잡고 있습니다. 물론 전체 금액의 일정 비율로 주는 것이 아니라, 내가 원하는 만큼의 금액을 주기도 합니다.\n",
    "\n",
    "이렇듯 팁을 전체 금액에 대해 몇 %를 지불하였는지에 대한 여부는 팁의 총 금액에도 큰 영향을 미치는 요소이니, 팁을 몇 퍼센트나 줬는지 확인해보면 좋을 것 같습니다.\n",
    "\n",
    "그럼 `tip`을 `total_bill`로 나눈 `tip_rate` 컬럼을 새로 만들어보겠습니다."
   ]
  },
  {
   "cell_type": "code",
   "execution_count": 7,
   "metadata": {},
   "outputs": [
    {
     "data": {
      "text/html": [
       "<div>\n",
       "<style scoped>\n",
       "    .dataframe tbody tr th:only-of-type {\n",
       "        vertical-align: middle;\n",
       "    }\n",
       "\n",
       "    .dataframe tbody tr th {\n",
       "        vertical-align: top;\n",
       "    }\n",
       "\n",
       "    .dataframe thead th {\n",
       "        text-align: right;\n",
       "    }\n",
       "</style>\n",
       "<table border=\"1\" class=\"dataframe\">\n",
       "  <thead>\n",
       "    <tr style=\"text-align: right;\">\n",
       "      <th></th>\n",
       "      <th>total_bill</th>\n",
       "      <th>tip</th>\n",
       "      <th>sex</th>\n",
       "      <th>smoker</th>\n",
       "      <th>day</th>\n",
       "      <th>time</th>\n",
       "      <th>size</th>\n",
       "      <th>tip_rate</th>\n",
       "    </tr>\n",
       "  </thead>\n",
       "  <tbody>\n",
       "    <tr>\n",
       "      <th>0</th>\n",
       "      <td>16.99</td>\n",
       "      <td>1.01</td>\n",
       "      <td>Female</td>\n",
       "      <td>No</td>\n",
       "      <td>Sun</td>\n",
       "      <td>Dinner</td>\n",
       "      <td>2</td>\n",
       "      <td>5.94</td>\n",
       "    </tr>\n",
       "    <tr>\n",
       "      <th>1</th>\n",
       "      <td>10.34</td>\n",
       "      <td>1.66</td>\n",
       "      <td>Male</td>\n",
       "      <td>No</td>\n",
       "      <td>Sun</td>\n",
       "      <td>Dinner</td>\n",
       "      <td>3</td>\n",
       "      <td>16.05</td>\n",
       "    </tr>\n",
       "    <tr>\n",
       "      <th>2</th>\n",
       "      <td>21.01</td>\n",
       "      <td>3.50</td>\n",
       "      <td>Male</td>\n",
       "      <td>No</td>\n",
       "      <td>Sun</td>\n",
       "      <td>Dinner</td>\n",
       "      <td>3</td>\n",
       "      <td>16.66</td>\n",
       "    </tr>\n",
       "    <tr>\n",
       "      <th>3</th>\n",
       "      <td>23.68</td>\n",
       "      <td>3.31</td>\n",
       "      <td>Male</td>\n",
       "      <td>No</td>\n",
       "      <td>Sun</td>\n",
       "      <td>Dinner</td>\n",
       "      <td>2</td>\n",
       "      <td>13.98</td>\n",
       "    </tr>\n",
       "    <tr>\n",
       "      <th>4</th>\n",
       "      <td>24.59</td>\n",
       "      <td>3.61</td>\n",
       "      <td>Female</td>\n",
       "      <td>No</td>\n",
       "      <td>Sun</td>\n",
       "      <td>Dinner</td>\n",
       "      <td>4</td>\n",
       "      <td>14.68</td>\n",
       "    </tr>\n",
       "  </tbody>\n",
       "</table>\n",
       "</div>"
      ],
      "text/plain": [
       "   total_bill   tip     sex smoker  day    time  size  tip_rate\n",
       "0       16.99  1.01  Female     No  Sun  Dinner     2      5.94\n",
       "1       10.34  1.66    Male     No  Sun  Dinner     3     16.05\n",
       "2       21.01  3.50    Male     No  Sun  Dinner     3     16.66\n",
       "3       23.68  3.31    Male     No  Sun  Dinner     2     13.98\n",
       "4       24.59  3.61  Female     No  Sun  Dinner     4     14.68"
      ]
     },
     "execution_count": 7,
     "metadata": {},
     "output_type": "execute_result"
    }
   ],
   "source": [
    "# 팁 비율 컬럼 추가하기\n",
    "df_tip[\"tip_rate\"] = round(df_tip[\"tip\"] / df_tip[\"total_bill\"] *100, 2)\n",
    "df_tip.head() "
   ]
  },
  {
   "cell_type": "markdown",
   "metadata": {},
   "source": [
    "`round()` 반올림 함수를 이용해서 깔끔하게 나타나졌네요."
   ]
  },
  {
   "cell_type": "markdown",
   "metadata": {},
   "source": [
    "---"
   ]
  },
  {
   "cell_type": "markdown",
   "metadata": {},
   "source": [
    "# 2. 데이터셋 뜯어보기\n",
    "본격적으로 데이터셋을 하나하나 뜯어보도록 합니다. 데이터를 완벽하게 이해해야 원하는 결론도 낼 수 있다는 점을 잊지 마세요!"
   ]
  },
  {
   "cell_type": "markdown",
   "metadata": {},
   "source": [
    "### (1) `sex` : 웨이터의 성별"
   ]
  },
  {
   "cell_type": "markdown",
   "metadata": {},
   "source": [
    "성별은 어떤 데이터로 이루어져 있고, 각 데이터는 몇 개씩 있을까요?    \n",
    "\n",
    "\n",
    "\n",
    "먼저 pandas의 `groupby` 함수를 이용해서 확인해보겠습니다. \n",
    "\n",
    "`groupby` 함수는 `dataset.groupby(\"column\")` 의 형태로 사용하며, 그 뒤에 원하는 통계량을 붙여주어야 값을 확인할 수 있습니다.\n",
    "우리는 값의 개수를 확인할 것이므로, `size()`를 사용해보겠습니다."
   ]
  },
  {
   "cell_type": "code",
   "execution_count": 8,
   "metadata": {},
   "outputs": [
    {
     "data": {
      "text/plain": [
       "sex\n",
       "Male      157\n",
       "Female     87\n",
       "dtype: int64"
      ]
     },
     "execution_count": 8,
     "metadata": {},
     "output_type": "execute_result"
    }
   ],
   "source": [
    "# 웨이터의 성별 값 확인하기\n",
    "df_tip.groupby('sex').size()"
   ]
  },
  {
   "cell_type": "markdown",
   "metadata": {},
   "source": [
    "위 결과는 **Series**의 데이터 자료형으로 표현된 것입니다.\n",
    "Series 자료형이란, pandas에서 컬럼이 단 한 개인 데이터셋을 다루는 자료형입니다.\n",
    "위 형태를 여러 개의 컬럼을 가진 pandas의 DataFrame으로 보고싶다면 `reset_index`를 활용해서 index를 만들어 주면 됩니다."
   ]
  },
  {
   "cell_type": "code",
   "execution_count": 9,
   "metadata": {},
   "outputs": [
    {
     "data": {
      "text/html": [
       "<div>\n",
       "<style scoped>\n",
       "    .dataframe tbody tr th:only-of-type {\n",
       "        vertical-align: middle;\n",
       "    }\n",
       "\n",
       "    .dataframe tbody tr th {\n",
       "        vertical-align: top;\n",
       "    }\n",
       "\n",
       "    .dataframe thead th {\n",
       "        text-align: right;\n",
       "    }\n",
       "</style>\n",
       "<table border=\"1\" class=\"dataframe\">\n",
       "  <thead>\n",
       "    <tr style=\"text-align: right;\">\n",
       "      <th></th>\n",
       "      <th>sex</th>\n",
       "      <th>counts</th>\n",
       "    </tr>\n",
       "  </thead>\n",
       "  <tbody>\n",
       "    <tr>\n",
       "      <th>0</th>\n",
       "      <td>Male</td>\n",
       "      <td>157</td>\n",
       "    </tr>\n",
       "    <tr>\n",
       "      <th>1</th>\n",
       "      <td>Female</td>\n",
       "      <td>87</td>\n",
       "    </tr>\n",
       "  </tbody>\n",
       "</table>\n",
       "</div>"
      ],
      "text/plain": [
       "      sex  counts\n",
       "0    Male     157\n",
       "1  Female      87"
      ]
     },
     "execution_count": 9,
     "metadata": {},
     "output_type": "execute_result"
    }
   ],
   "source": [
    "# 성별을 pandas Dataframe 형식으로 보기\n",
    "sex_count = df_tip.groupby('sex').size().reset_index(name = \"counts\")\n",
    "sex_count"
   ]
  },
  {
   "cell_type": "markdown",
   "metadata": {},
   "source": [
    "새로운 컬럼의 이름을 우리가 보고싶었던 데이터인 \"counts\"로 설정하니 깔끔하게 확인이 되었네요!"
   ]
  },
  {
   "cell_type": "markdown",
   "metadata": {},
   "source": [
    "다음은 그래프로도 확인해 보겠습니다.     \n",
    "앞서 소개했던 matplotlib의 상위 버전인 seaborn을 사용하도록 하죠.\n",
    "다만, seaborn도 matplotlib을 기반으로 만들어진 패키지이기 때문에 plt 함수를 활용해서 더 많은 동작을 실행할 수 있습니다."
   ]
  },
  {
   "cell_type": "code",
   "execution_count": 10,
   "metadata": {},
   "outputs": [
    {
     "data": {
      "image/png": "[encoded data removed]",
      "text/plain": [
       "<matplotlib.figure.Figure at 0x7efc27c1e748>"
      ]
     },
     "metadata": {
      "needs_background": "light"
     },
     "output_type": "display_data"
    }
   ],
   "source": [
    "# 그래프로 성별 확인해보기\n",
    "sns.countplot(data = df_tip, x= \"sex\")\n",
    "plt.show()"
   ]
  },
  {
   "cell_type": "markdown",
   "metadata": {},
   "source": [
    "네, 그래프로 보니 이 데이터셋에는 남자 웨이터가 더 많은 것이 확실히 보이는군요. 약 2:1의 성비를 담고 있는 것으로 보입니다."
   ]
  },
  {
   "cell_type": "markdown",
   "metadata": {},
   "source": [
    "정확한 비율이 궁금하다면 다음과 같이 계산해볼 수 있죠!"
   ]
  },
  {
   "cell_type": "code",
   "execution_count": 11,
   "metadata": {
    "scrolled": true
   },
   "outputs": [
    {
     "name": "stdout",
     "output_type": "stream",
     "text": [
      "Male    64.3%\n",
      "Female  35.7%\n"
     ]
    }
   ],
   "source": [
    "print(\"Male   \", \"{:.1f}%\".format(sex_count.loc[0, \"counts\"] / len(df_tip) * 100))\n",
    "print(\"Female \", \"{:.1f}%\".format(sex_count.loc[1, \"counts\"] / len(df_tip) * 100))"
   ]
  },
  {
   "cell_type": "markdown",
   "metadata": {},
   "source": [
    "### (2) `smoker` : 손님의 흡연 여부"
   ]
  },
  {
   "cell_type": "markdown",
   "metadata": {},
   "source": [
    "smoker의 데이터 개수는 이제 간단하게 확인할 수 있겠습니다."
   ]
  },
  {
   "cell_type": "code",
   "execution_count": 12,
   "metadata": {},
   "outputs": [
    {
     "data": {
      "text/html": [
       "<div>\n",
       "<style scoped>\n",
       "    .dataframe tbody tr th:only-of-type {\n",
       "        vertical-align: middle;\n",
       "    }\n",
       "\n",
       "    .dataframe tbody tr th {\n",
       "        vertical-align: top;\n",
       "    }\n",
       "\n",
       "    .dataframe thead th {\n",
       "        text-align: right;\n",
       "    }\n",
       "</style>\n",
       "<table border=\"1\" class=\"dataframe\">\n",
       "  <thead>\n",
       "    <tr style=\"text-align: right;\">\n",
       "      <th></th>\n",
       "      <th>smoker</th>\n",
       "      <th>counts</th>\n",
       "    </tr>\n",
       "  </thead>\n",
       "  <tbody>\n",
       "    <tr>\n",
       "      <th>0</th>\n",
       "      <td>Yes</td>\n",
       "      <td>93</td>\n",
       "    </tr>\n",
       "    <tr>\n",
       "      <th>1</th>\n",
       "      <td>No</td>\n",
       "      <td>151</td>\n",
       "    </tr>\n",
       "  </tbody>\n",
       "</table>\n",
       "</div>"
      ],
      "text/plain": [
       "  smoker  counts\n",
       "0    Yes      93\n",
       "1     No     151"
      ]
     },
     "execution_count": 12,
     "metadata": {},
     "output_type": "execute_result"
    }
   ],
   "source": [
    "# groupby 를 활용해 흡연 여부 데이터 프레임 형식으로 보기\n",
    "df_tip.groupby('smoker').size().reset_index(name = \"counts\")"
   ]
  },
  {
   "cell_type": "code",
   "execution_count": 13,
   "metadata": {},
   "outputs": [
    {
     "data": {
      "image/png": "[encoded data removed]",
      "text/plain": [
       "<matplotlib.figure.Figure at 0x7efc27e99518>"
      ]
     },
     "metadata": {
      "needs_background": "light"
     },
     "output_type": "display_data"
    }
   ],
   "source": [
    "# 데이터 시각화해보기 \n",
    "sns.countplot(data = df_tip, x = 'smoker')\n",
    "plt.show()"
   ]
  },
  {
   "cell_type": "markdown",
   "metadata": {},
   "source": [
    "흡연자보다는, 비흡연자가 많네요!"
   ]
  },
  {
   "cell_type": "markdown",
   "metadata": {},
   "source": [
    "### (3) `day`, `time` : 요일, 시간"
   ]
  },
  {
   "cell_type": "markdown",
   "metadata": {},
   "source": [
    "이번에는 day와 time 별로 데이터 상황을 살펴보겠습니다.    \n",
    "\n",
    "\n",
    "여러 값이 있는 데이터를 살펴보는 것은 `pivot_table`를 활용하면 간단합니다.     \n",
    "`pivot_table`에서 데이터의 개수를 세기 위해 `counts`라는 컬럼을 만들어주겠습니다. "
   ]
  },
  {
   "cell_type": "code",
   "execution_count": 14,
   "metadata": {},
   "outputs": [
    {
     "data": {
      "text/html": [
       "<div>\n",
       "<style scoped>\n",
       "    .dataframe tbody tr th:only-of-type {\n",
       "        vertical-align: middle;\n",
       "    }\n",
       "\n",
       "    .dataframe tbody tr th {\n",
       "        vertical-align: top;\n",
       "    }\n",
       "\n",
       "    .dataframe thead th {\n",
       "        text-align: right;\n",
       "    }\n",
       "</style>\n",
       "<table border=\"1\" class=\"dataframe\">\n",
       "  <thead>\n",
       "    <tr style=\"text-align: right;\">\n",
       "      <th></th>\n",
       "      <th>total_bill</th>\n",
       "      <th>tip</th>\n",
       "      <th>sex</th>\n",
       "      <th>smoker</th>\n",
       "      <th>day</th>\n",
       "      <th>time</th>\n",
       "      <th>size</th>\n",
       "      <th>tip_rate</th>\n",
       "      <th>counts</th>\n",
       "    </tr>\n",
       "  </thead>\n",
       "  <tbody>\n",
       "    <tr>\n",
       "      <th>0</th>\n",
       "      <td>16.99</td>\n",
       "      <td>1.01</td>\n",
       "      <td>Female</td>\n",
       "      <td>No</td>\n",
       "      <td>Sun</td>\n",
       "      <td>Dinner</td>\n",
       "      <td>2</td>\n",
       "      <td>5.94</td>\n",
       "      <td>1</td>\n",
       "    </tr>\n",
       "    <tr>\n",
       "      <th>1</th>\n",
       "      <td>10.34</td>\n",
       "      <td>1.66</td>\n",
       "      <td>Male</td>\n",
       "      <td>No</td>\n",
       "      <td>Sun</td>\n",
       "      <td>Dinner</td>\n",
       "      <td>3</td>\n",
       "      <td>16.05</td>\n",
       "      <td>1</td>\n",
       "    </tr>\n",
       "    <tr>\n",
       "      <th>2</th>\n",
       "      <td>21.01</td>\n",
       "      <td>3.50</td>\n",
       "      <td>Male</td>\n",
       "      <td>No</td>\n",
       "      <td>Sun</td>\n",
       "      <td>Dinner</td>\n",
       "      <td>3</td>\n",
       "      <td>16.66</td>\n",
       "      <td>1</td>\n",
       "    </tr>\n",
       "    <tr>\n",
       "      <th>3</th>\n",
       "      <td>23.68</td>\n",
       "      <td>3.31</td>\n",
       "      <td>Male</td>\n",
       "      <td>No</td>\n",
       "      <td>Sun</td>\n",
       "      <td>Dinner</td>\n",
       "      <td>2</td>\n",
       "      <td>13.98</td>\n",
       "      <td>1</td>\n",
       "    </tr>\n",
       "    <tr>\n",
       "      <th>4</th>\n",
       "      <td>24.59</td>\n",
       "      <td>3.61</td>\n",
       "      <td>Female</td>\n",
       "      <td>No</td>\n",
       "      <td>Sun</td>\n",
       "      <td>Dinner</td>\n",
       "      <td>4</td>\n",
       "      <td>14.68</td>\n",
       "      <td>1</td>\n",
       "    </tr>\n",
       "  </tbody>\n",
       "</table>\n",
       "</div>"
      ],
      "text/plain": [
       "   total_bill   tip     sex smoker  day    time  size  tip_rate  counts\n",
       "0       16.99  1.01  Female     No  Sun  Dinner     2      5.94       1\n",
       "1       10.34  1.66    Male     No  Sun  Dinner     3     16.05       1\n",
       "2       21.01  3.50    Male     No  Sun  Dinner     3     16.66       1\n",
       "3       23.68  3.31    Male     No  Sun  Dinner     2     13.98       1\n",
       "4       24.59  3.61  Female     No  Sun  Dinner     4     14.68       1"
      ]
     },
     "execution_count": 14,
     "metadata": {},
     "output_type": "execute_result"
    }
   ],
   "source": [
    "# counts 컬럼에 동일하게 1 값을 넣어주기\n",
    "df_tip[\"counts\"] = 1\n",
    "df_tip.head()"
   ]
  },
  {
   "cell_type": "markdown",
   "metadata": {},
   "source": [
    "이제 `pivot_table`을 counts에 대한 sum(총합)을 이용하면 간단하게 각 시간/요일 별 데이터 수를 확인할 수 있겠죠!     "
   ]
  },
  {
   "cell_type": "code",
   "execution_count": 15,
   "metadata": {},
   "outputs": [
    {
     "data": {
      "text/html": [
       "<div>\n",
       "<style scoped>\n",
       "    .dataframe tbody tr th:only-of-type {\n",
       "        vertical-align: middle;\n",
       "    }\n",
       "\n",
       "    .dataframe tbody tr th {\n",
       "        vertical-align: top;\n",
       "    }\n",
       "\n",
       "    .dataframe thead th {\n",
       "        text-align: right;\n",
       "    }\n",
       "</style>\n",
       "<table border=\"1\" class=\"dataframe\">\n",
       "  <thead>\n",
       "    <tr style=\"text-align: right;\">\n",
       "      <th>day</th>\n",
       "      <th>Thur</th>\n",
       "      <th>Fri</th>\n",
       "      <th>Sat</th>\n",
       "      <th>Sun</th>\n",
       "    </tr>\n",
       "    <tr>\n",
       "      <th>time</th>\n",
       "      <th></th>\n",
       "      <th></th>\n",
       "      <th></th>\n",
       "      <th></th>\n",
       "    </tr>\n",
       "  </thead>\n",
       "  <tbody>\n",
       "    <tr>\n",
       "      <th>Lunch</th>\n",
       "      <td>61.0</td>\n",
       "      <td>7.0</td>\n",
       "      <td>NaN</td>\n",
       "      <td>NaN</td>\n",
       "    </tr>\n",
       "    <tr>\n",
       "      <th>Dinner</th>\n",
       "      <td>1.0</td>\n",
       "      <td>12.0</td>\n",
       "      <td>87.0</td>\n",
       "      <td>76.0</td>\n",
       "    </tr>\n",
       "  </tbody>\n",
       "</table>\n",
       "</div>"
      ],
      "text/plain": [
       "day     Thur   Fri   Sat   Sun\n",
       "time                          \n",
       "Lunch   61.0   7.0   NaN   NaN\n",
       "Dinner   1.0  12.0  87.0  76.0"
      ]
     },
     "execution_count": 15,
     "metadata": {},
     "output_type": "execute_result"
    }
   ],
   "source": [
    "# index 는 time 으로, columns 는 day 로 설정하여 피봇 테이블 만들기 \n",
    "df_tip.pivot_table(\"counts\", index = \"time\", columns = \"day\", aggfunc = 'sum')"
   ]
  },
  {
   "cell_type": "markdown",
   "metadata": {},
   "source": [
    "빈 값으로 나타난 것은 데이터가 없기 때문입니다. 0으로 채워주고, 데이터 또한 정수형으로 바꿔주도록 하겠습니다.  \n",
    "\n",
    "특히, 피벗테이블의 마지막에 총합 행과 열을 추가해주고싶으면 `margins=True` 값을 넣어주면 됩니다."
   ]
  },
  {
   "cell_type": "code",
   "execution_count": 16,
   "metadata": {},
   "outputs": [
    {
     "data": {
      "text/html": [
       "<div>\n",
       "<style scoped>\n",
       "    .dataframe tbody tr th:only-of-type {\n",
       "        vertical-align: middle;\n",
       "    }\n",
       "\n",
       "    .dataframe tbody tr th {\n",
       "        vertical-align: top;\n",
       "    }\n",
       "\n",
       "    .dataframe thead th {\n",
       "        text-align: right;\n",
       "    }\n",
       "</style>\n",
       "<table border=\"1\" class=\"dataframe\">\n",
       "  <thead>\n",
       "    <tr style=\"text-align: right;\">\n",
       "      <th>day</th>\n",
       "      <th>Thur</th>\n",
       "      <th>Fri</th>\n",
       "      <th>Sat</th>\n",
       "      <th>Sun</th>\n",
       "      <th>All</th>\n",
       "    </tr>\n",
       "    <tr>\n",
       "      <th>time</th>\n",
       "      <th></th>\n",
       "      <th></th>\n",
       "      <th></th>\n",
       "      <th></th>\n",
       "      <th></th>\n",
       "    </tr>\n",
       "  </thead>\n",
       "  <tbody>\n",
       "    <tr>\n",
       "      <th>Lunch</th>\n",
       "      <td>61</td>\n",
       "      <td>7</td>\n",
       "      <td>0</td>\n",
       "      <td>0</td>\n",
       "      <td>68</td>\n",
       "    </tr>\n",
       "    <tr>\n",
       "      <th>Dinner</th>\n",
       "      <td>1</td>\n",
       "      <td>12</td>\n",
       "      <td>87</td>\n",
       "      <td>76</td>\n",
       "      <td>176</td>\n",
       "    </tr>\n",
       "    <tr>\n",
       "      <th>All</th>\n",
       "      <td>62</td>\n",
       "      <td>19</td>\n",
       "      <td>87</td>\n",
       "      <td>76</td>\n",
       "      <td>244</td>\n",
       "    </tr>\n",
       "  </tbody>\n",
       "</table>\n",
       "</div>"
      ],
      "text/plain": [
       "day     Thur  Fri  Sat  Sun  All\n",
       "time                            \n",
       "Lunch     61    7    0    0   68\n",
       "Dinner     1   12   87   76  176\n",
       "All       62   19   87   76  244"
      ]
     },
     "execution_count": 16,
     "metadata": {},
     "output_type": "execute_result"
    }
   ],
   "source": [
    "# 빈 값은 0으로 채워주고 정수형으로 형 변환해주기\n",
    "df_tip.pivot_table(\"counts\", index = \"time\", columns = \"day\", aggfunc = 'sum', margins = True).fillna(0).astype('int64')"
   ]
  },
  {
   "cell_type": "markdown",
   "metadata": {},
   "source": [
    "앗, day에는 **목, 금, 토, 일** 데이터만 있는 것 같아 보입니다. 또한, 토요일과 일요일은 점심 장사를 안하는 것 같군요!\n",
    "\n",
    "특히, 요일별 데이터에서는 금요일 데이터가 가장 적은게 눈에 띕니다. 간단히 확인을 해보면,"
   ]
  },
  {
   "cell_type": "code",
   "execution_count": 17,
   "metadata": {},
   "outputs": [
    {
     "data": {
      "text/plain": [
       "7.786885245901639"
      ]
     },
     "execution_count": 17,
     "metadata": {},
     "output_type": "execute_result"
    }
   ],
   "source": [
    "# 비율 확인하기\n",
    "(19 / 244) * 100"
   ]
  },
  {
   "cell_type": "markdown",
   "metadata": {},
   "source": [
    "약 7.8%밖에 안되는 데이터만 존재하는군요.\n",
    "\n",
    "그래프로도 확인을 해보죠. "
   ]
  },
  {
   "cell_type": "markdown",
   "metadata": {},
   "source": [
    "그래프로도 확인을 해보죠. time별로 확인하고 싶다면 hue라는 파라미터에 \"time\"을 입력해주면 됩니다."
   ]
  },
  {
   "cell_type": "code",
   "execution_count": 18,
   "metadata": {},
   "outputs": [
    {
     "data": {
      "image/png": "[encoded data removed]",
      "text/plain": [
       "<matplotlib.figure.Figure at 0x7efc21bc5b70>"
      ]
     },
     "metadata": {
      "needs_background": "light"
     },
     "output_type": "display_data"
    }
   ],
   "source": [
    "# 그래프로 시각화해보기\n",
    "sns.countplot(data = df_tip, x = \"day\", hue = \"time\")\n",
    "plt.show()"
   ]
  },
  {
   "cell_type": "markdown",
   "metadata": {},
   "source": [
    "지금까지 알아본 것을 정리하면 다음과 같습니다.\n",
    "\n",
    "- **요일day**\n",
    "목, 금, 토, 일의 데이터만 존재하며, 특히 금요일은 전체 데이터의 약 7.8%의 매우 적은 데이터만 있다.\n",
    "또한, 요일의 종류로 본다면 평일이 목/금 이틀, 주말이 토/일 이틀로 구분할 수 있다.\n",
    "\n",
    "- **시간time**\n",
    "런치와 디너 두 가지의 데이터를 가진다.\n",
    "그러나 런치는 목, 금요일에만 데이터가 있고, 토, 일 즉 주말에는 런치에 대한 데이터가 없고, 평일 디너의 데이터 개수는 매우 적다.\n",
    "따라서 시간으로 데이터를 분석할 때, **런치는 모두 평일 데이터이며, 디너는 주로 주말의 데이터**라는 점을 고려해야 한다."
   ]
  },
  {
   "cell_type": "markdown",
   "metadata": {},
   "source": [
    "### (4) `size` : 테이블 인원수\n",
    "\n",
    "size는 테이블 인원수를 나타냅니다.   \n",
    "\n",
    "테이블 인원 수에 따른 Tip 과 Total Bill 값을 시각화를 통해 확인해보도록 하겠습니다."
   ]
  },
  {
   "cell_type": "code",
   "execution_count": 19,
   "metadata": {},
   "outputs": [
    {
     "data": {
      "image/png": "[encoded data removed]",
      "text/plain": [
       "<matplotlib.figure.Figure at 0x7efc21b49940>"
      ]
     },
     "metadata": {
      "needs_background": "light"
     },
     "output_type": "display_data"
    }
   ],
   "source": [
    "# subplot 사용하여 1개 행, 2개 열로 두개의 컬럼 동시에 시각화하기 \n",
    "plt.figure(figsize=(16,8))\n",
    "\n",
    "plt.subplot(121)\n",
    "sns.barplot(data = df_tip, x = \"size\", y = \"tip\")\n",
    "plt.title('tip')\n",
    "\n",
    "plt.subplot(122)\n",
    "sns.barplot(data = df_tip, x = \"size\", y = \"total_bill\")\n",
    "plt.title('total_bill')\n",
    "\n",
    "plt.show()"
   ]
  },
  {
   "cell_type": "markdown",
   "metadata": {},
   "source": [
    "역시 예상대로 size가 커질수록 tip과 total_bill이 증가하는 경향을 보이는군요.\n",
    "Tip을 결정짓는 가장 중요한 요인 중 하나는 size가 될 것 같습니다."
   ]
  },
  {
   "cell_type": "markdown",
   "metadata": {},
   "source": [
    "잠깐! 여기서 그래프의 색상을 바꿀 수 있는 방법을 소개합니다.    \n",
    "    \n",
    "seaborn은 다양한 color palette를 제공하므로, 원하는 것을 골라서 사용할 수 있습니다. \n",
    "- https://seaborn.pydata.org/generated/seaborn.color_palette.html    \n",
    "\n",
    "\n",
    "여기에서 다양한 컬러 팔레트를 확인하고, 원하는 팔레트를 골라서 사용하세요!"
   ]
  },
  {
   "cell_type": "code",
   "execution_count": 20,
   "metadata": {},
   "outputs": [],
   "source": [
    "sns.set_palette(\"Set2\")\n",
    "# sns.set_palette(\"Paired\")\n",
    "#sns.set_palette(\"husl\")"
   ]
  },
  {
   "cell_type": "markdown",
   "metadata": {},
   "source": [
    "pallete를 `husl`로 설정하면 그래프가 어떻게 바뀔까요?"
   ]
  },
  {
   "cell_type": "code",
   "execution_count": 21,
   "metadata": {},
   "outputs": [
    {
     "data": {
      "image/png": "[encoded data removed]",
      "text/plain": [
       "<matplotlib.figure.Figure at 0x7efc219f3e48>"
      ]
     },
     "metadata": {
      "needs_background": "light"
     },
     "output_type": "display_data"
    }
   ],
   "source": [
    "# 그래프 색상 바꿔서 다시 출력해보기 \n",
    "plt.figure(figsize=(16,8))\n",
    "\n",
    "plt.subplot(121)\n",
    "sns.barplot(data = df_tip, x = \"size\", y = \"tip\")\n",
    "plt.title('tip')\n",
    "\n",
    "plt.subplot(122)\n",
    "sns.barplot(data = df_tip, x = \"size\", y = \"total_bill\")\n",
    "plt.title('total_bill')\n",
    "\n",
    "plt.show()"
   ]
  },
  {
   "cell_type": "markdown",
   "metadata": {},
   "source": [
    "#### size별 데이터 개수는 어떨까?"
   ]
  },
  {
   "cell_type": "markdown",
   "metadata": {},
   "source": [
    "size별 데이터는 몇 개씩 있을까요? 확인해봅시다."
   ]
  },
  {
   "cell_type": "code",
   "execution_count": 22,
   "metadata": {},
   "outputs": [
    {
     "data": {
      "text/html": [
       "<div>\n",
       "<style scoped>\n",
       "    .dataframe tbody tr th:only-of-type {\n",
       "        vertical-align: middle;\n",
       "    }\n",
       "\n",
       "    .dataframe tbody tr th {\n",
       "        vertical-align: top;\n",
       "    }\n",
       "\n",
       "    .dataframe thead th {\n",
       "        text-align: right;\n",
       "    }\n",
       "</style>\n",
       "<table border=\"1\" class=\"dataframe\">\n",
       "  <thead>\n",
       "    <tr style=\"text-align: right;\">\n",
       "      <th></th>\n",
       "      <th>size</th>\n",
       "      <th>counts</th>\n",
       "    </tr>\n",
       "  </thead>\n",
       "  <tbody>\n",
       "    <tr>\n",
       "      <th>0</th>\n",
       "      <td>1</td>\n",
       "      <td>4</td>\n",
       "    </tr>\n",
       "    <tr>\n",
       "      <th>1</th>\n",
       "      <td>2</td>\n",
       "      <td>156</td>\n",
       "    </tr>\n",
       "    <tr>\n",
       "      <th>2</th>\n",
       "      <td>3</td>\n",
       "      <td>38</td>\n",
       "    </tr>\n",
       "    <tr>\n",
       "      <th>3</th>\n",
       "      <td>4</td>\n",
       "      <td>37</td>\n",
       "    </tr>\n",
       "    <tr>\n",
       "      <th>4</th>\n",
       "      <td>5</td>\n",
       "      <td>5</td>\n",
       "    </tr>\n",
       "    <tr>\n",
       "      <th>5</th>\n",
       "      <td>6</td>\n",
       "      <td>4</td>\n",
       "    </tr>\n",
       "  </tbody>\n",
       "</table>\n",
       "</div>"
      ],
      "text/plain": [
       "   size  counts\n",
       "0     1       4\n",
       "1     2     156\n",
       "2     3      38\n",
       "3     4      37\n",
       "4     5       5\n",
       "5     6       4"
      ]
     },
     "execution_count": 22,
     "metadata": {},
     "output_type": "execute_result"
    }
   ],
   "source": [
    "# 테이블 인원수 데이터 개수 확인해보기\n",
    "df_tip.groupby('size').size().reset_index(name = \"counts\")"
   ]
  },
  {
   "cell_type": "code",
   "execution_count": 23,
   "metadata": {},
   "outputs": [
    {
     "data": {
      "image/png": "[encoded data removed]",
      "text/plain": [
       "<matplotlib.figure.Figure at 0x7efc219169e8>"
      ]
     },
     "metadata": {
      "needs_background": "light"
     },
     "output_type": "display_data"
    }
   ],
   "source": [
    "# 확인한 데이터 개수 시각화해보기\n",
    "sns.countplot(data = df_tip, x=\"size\")\n",
    "plt.show()"
   ]
  },
  {
   "cell_type": "markdown",
   "metadata": {},
   "source": [
    "1인~6인 테이블이 존재하지만, 2인 테이블이 가장 많은 것을 확인할 수 있습니다.\n",
    "혼자 먹는 1인 테이블과 5인 이상의 테이블은 아주 희귀하군요. 5-6인 테이블은 팁을 많이 받겠지만, 많은 기회가 있진 않을 것이라 예상할 수 있습니다.    "
   ]
  },
  {
   "cell_type": "markdown",
   "metadata": {},
   "source": [
    "---"
   ]
  },
  {
   "cell_type": "markdown",
   "metadata": {},
   "source": [
    "# 3. 가설을 세우고 그에 따라 세부 분석해보기"
   ]
  },
  {
   "cell_type": "markdown",
   "metadata": {},
   "source": [
    "지금까지 데이터를 어느정도 살펴보았으니, 이제 원하는 목표를 위해 가설을 세운 후 세부적으로 분석을 해보겠습니다.     \n",
    "\n",
    "데이터 분석에서 가장 중요한 것은 가설을 세우고 이를 검증하는 것이라고 할 수 있습니다.\n",
    "그래서 데이터를 들여다 볼 때도 어떤 컬럼이 Target 컬럼과 어떤 연관이 있을지에 대해 고민해보는 것이 매우 중요하죠."
   ]
  },
  {
   "cell_type": "markdown",
   "metadata": {},
   "source": [
    "## 가설 : 테이블의 인원수를 나타내는 `size` 컬럼은 tip을 결정짓는 중요한 요소일 것이다"
   ]
  },
  {
   "cell_type": "markdown",
   "metadata": {},
   "source": [
    "앞서 데이터를 살펴보면서 `size`가 `total_bill`과 `df_tip`를 결정짓는 중요한 요소임을 확인하였습니다.     \n",
    "그렇다면 실제로 그런지 조금 더 구체적으로 살펴보죠!"
   ]
  },
  {
   "cell_type": "code",
   "execution_count": 24,
   "metadata": {},
   "outputs": [
    {
     "data": {
      "image/png": "[encoded data removed]",
      "text/plain": [
       "<matplotlib.figure.Figure at 0x7efc21885438>"
      ]
     },
     "metadata": {
      "needs_background": "light"
     },
     "output_type": "display_data"
    }
   ],
   "source": [
    "# size 에 따른 tip, tip_rate 그래프 시각화하기\n",
    "plt.figure(figsize=(16,8))\n",
    "\n",
    "plt.subplot(121)\n",
    "sns.barplot(data = df_tip, x = \"size\", y = \"tip\")\n",
    "plt.title('tip')\n",
    "\n",
    "plt.subplot(122)\n",
    "sns.barplot(data = df_tip, x = \"size\", y = \"tip_rate\")\n",
    "plt.title('tip_rate')\n",
    "\n",
    "plt.show()"
   ]
  },
  {
   "cell_type": "markdown",
   "metadata": {},
   "source": [
    "흠, 하지만 tip_rate를 살펴보았을 때는 size가 커질수록 팁을 주는 비율은 낮아지는 것이 확인됩니다.   \n",
    "\n",
    "혼자 온 손님의 경우 20% 이상의 팁을 많이 주는 반면, 5-6인 테이블에서는 약 15% 내외로만 주는군요.\n",
    "\n",
    "비용이 높아질수록 tip의 절대적인 금액도 높아지므로 비율은 낮춰서 주는 것으로 파악됩니다."
   ]
  },
  {
   "cell_type": "markdown",
   "metadata": {},
   "source": [
    "#### 그렇다면 `total_bill`과 `tip_rate`의 관계는 어떨까?"
   ]
  },
  {
   "cell_type": "markdown",
   "metadata": {},
   "source": [
    "`total_bill`과 `tip_rate`의 관계를 확인할 수 있는 그래프도 한 번 확인해보겠습니다.    \n",
    "\n",
    "두 가지 데이터의 분포를 확인하고 싶은 경우, 점을 찍을 수 있는 산점도로 확인하면 편리합니다.\n",
    "seaborn은 간단한 추세선을 `fit_reg`로 확인할 수 있습니다. 추세선은 기본적으로 다항식으로 표현되는데, `order` 인자로 차수를 결정할 수 있습니다."
   ]
  },
  {
   "cell_type": "code",
   "execution_count": 25,
   "metadata": {},
   "outputs": [
    {
     "data": {
      "image/png": "[encoded data removed]",
      "text/plain": [
       "<matplotlib.figure.Figure at 0x7efc218ab198>"
      ]
     },
     "metadata": {
      "needs_background": "light"
     },
     "output_type": "display_data"
    }
   ],
   "source": [
    "# order=1 인 경우: 1차 함수\n",
    "sns.lmplot(data=df_tip, x=\"total_bill\", y=\"tip_rate\", fit_reg=True, order=1)\n",
    "plt.show()"
   ]
  },
  {
   "cell_type": "code",
   "execution_count": 26,
   "metadata": {},
   "outputs": [
    {
     "data": {
      "image/png": "[encoded data removed]",
      "text/plain": [
       "<matplotlib.figure.Figure at 0x7efc217796d8>"
      ]
     },
     "metadata": {
      "needs_background": "light"
     },
     "output_type": "display_data"
    }
   ],
   "source": [
    "# order=2 인 경우: 2차 함수\n",
    "sns.lmplot(data=df_tip, x=\"total_bill\", y=\"tip_rate\", fit_reg=True, order=5)\n",
    "plt.show()"
   ]
  },
  {
   "cell_type": "markdown",
   "metadata": {},
   "source": [
    "어떤가요? 같은 그래프이지만 추세선은 다르게 나타납니다.  \n",
    "\n",
    "당연한 이야기지만 차수가 낮다면 비교적 단순한 경향성을 알아볼 수 있고, 차수가 높다면 데이터에 보다 적합하면서도 복잡한 추세를 알아볼 수 있습니다.   \n",
    "그렇다면 복잡하고 정교하게 추세를 볼수록 항상 좋은걸까요? 한 번 생각해봅시다.\n",
    "\n",
    "음, 차수를 너무 높게 잡아서 복잡한 추세를 보게되면, 그 주어진 데이터에만 맞는 아주 복잡한 선이 그려질 수 있습니다.   \n",
    "\n",
    "이 말은, 일반화하기에는 어렵다는 뜻이고, 그 결과 주어진 데이터가 아닌 새로운 데이터에 대해서는 맞지 않을수도 있다는 이야기가 되죠.\n",
    "이 문제를 머신러닝에서는 과적합(overfitting) 이라고 합니다. "
   ]
  },
  {
   "cell_type": "markdown",
   "metadata": {},
   "source": [
    "#### 이상치(Outlier)를 살펴보자"
   ]
  },
  {
   "cell_type": "markdown",
   "metadata": {},
   "source": [
    "위 그래프를 통해 `total_bill`과 `tip_rate`는 반비례하는 경향을 가지는 것을 확인할 수 있습니다.    \n",
    "\n",
    "또 한 가지 흥미로운 점은, 혼자서 엄청 떨어져 있는 특이한 tip_rate(70%이상, 40%이상) 가 있다는 점입니다. \n",
    "이를 시각화를 통해 확인해보겠습니다.\n",
    "\n",
    "이는 **이상치(Outlier)**로, 데이터를 다룰 때 혼자 너무 떨어져 있는 데이터의 경우 전체적인 경향성을 확인하는 데에 부정적인 영향을 줄 수 있으므로 주의해야 합니다.\n",
    "\n",
    "아웃라이어를 확실히 확인하고 싶을 때에는 boxplot을 활용하면 편리합니다."
   ]
  },
  {
   "cell_type": "code",
   "execution_count": 27,
   "metadata": {},
   "outputs": [
    {
     "data": {
      "image/png": "[encoded data removed]",
      "text/plain": [
       "<matplotlib.figure.Figure at 0x7efc2148e940>"
      ]
     },
     "metadata": {
      "needs_background": "light"
     },
     "output_type": "display_data"
    }
   ],
   "source": [
    "# 시각화로 이상치 확인해보기\n",
    "plt.figure(figsize=(3,6))\n",
    "\n",
    "sns.boxplot(data = df_tip, y = \"tip_rate\")\n",
    "plt.show()"
   ]
  },
  {
   "cell_type": "markdown",
   "metadata": {},
   "source": [
    "박스플롯을 그리면 데이터의 분포가 나타납니다.     \n",
    "\n",
    "박스플롯에 대한 세부 특징은 다음과 같습니다.\n",
    "\n",
    "- 박스 내에 있는 선은 **중앙값**, 박스의 윗변은 **상위 25%값**, 아랫변은 **상위 75%값**을 나타내며, 각각의 포인트를 통계에서는 **Q1(1사분위수), Q3(3사분위수)**라고 부릅니다.\n",
    "- Q1 - Q3 값을 `IQL (Inter Qualtile Range, 사분범위)`라고 하며, 박스의 윗꼬리는 Q1- 1.5 * IQR, 박스의 아랫꼬리는 Q3 + 1.5 * IQR 위치입니다.\n",
    "- 특히, 박스의 아랫꼬리부터 윗꼬리 사이 범위를 벗어나는 데이터를 **이상치**라고 부르는데, 박스플롯에서는 따로 점을 찍어서 나타냅니다.\n",
    "\n",
    "\n",
    "이상치를 어떻게 처리하느냐는 상황에 따라, 도메인에 따라 달라질 수 있습니다. 박스플롯에 나타나는 모든 데이터포인트를 삭제할수도, 일부분을 삭제할수도 있습니다. 저희는 이상치 중에서도 혼자 가장 멀리 떨어져있는 70% 이상의 데이터포인트를 확인해보겠습니다."
   ]
  },
  {
   "cell_type": "code",
   "execution_count": 28,
   "metadata": {},
   "outputs": [
    {
     "data": {
      "text/html": [
       "<div>\n",
       "<style scoped>\n",
       "    .dataframe tbody tr th:only-of-type {\n",
       "        vertical-align: middle;\n",
       "    }\n",
       "\n",
       "    .dataframe tbody tr th {\n",
       "        vertical-align: top;\n",
       "    }\n",
       "\n",
       "    .dataframe thead th {\n",
       "        text-align: right;\n",
       "    }\n",
       "</style>\n",
       "<table border=\"1\" class=\"dataframe\">\n",
       "  <thead>\n",
       "    <tr style=\"text-align: right;\">\n",
       "      <th></th>\n",
       "      <th>total_bill</th>\n",
       "      <th>tip</th>\n",
       "      <th>sex</th>\n",
       "      <th>smoker</th>\n",
       "      <th>day</th>\n",
       "      <th>time</th>\n",
       "      <th>size</th>\n",
       "      <th>tip_rate</th>\n",
       "      <th>counts</th>\n",
       "    </tr>\n",
       "  </thead>\n",
       "  <tbody>\n",
       "    <tr>\n",
       "      <th>172</th>\n",
       "      <td>7.25</td>\n",
       "      <td>5.15</td>\n",
       "      <td>Male</td>\n",
       "      <td>Yes</td>\n",
       "      <td>Sun</td>\n",
       "      <td>Dinner</td>\n",
       "      <td>2</td>\n",
       "      <td>71.03</td>\n",
       "      <td>1</td>\n",
       "    </tr>\n",
       "  </tbody>\n",
       "</table>\n",
       "</div>"
      ],
      "text/plain": [
       "     total_bill   tip   sex smoker  day    time  size  tip_rate  counts\n",
       "172        7.25  5.15  Male    Yes  Sun  Dinner     2     71.03       1"
      ]
     },
     "execution_count": 28,
     "metadata": {},
     "output_type": "execute_result"
    }
   ],
   "source": [
    "# 70% 이상의 팁 비율(이상치) 확인하기\n",
    "df_tip[df_tip[\"tip_rate\"]>=70]"
   ]
  },
  {
   "cell_type": "markdown",
   "metadata": {},
   "source": [
    "2명의 손님이 일요일 저녁에 간단한 저녁을 간단히 먹고 팁을 꽤 많이 지불했나보군요.\n",
    "저희는 현재 데이터셋 자체가 크지 않은 상황이기에 이상치들을 모두 지우는 것은 적합하지 않을 수 있습니다.\n",
    "\n",
    "가장 멀리 떨어져있는 위 행만 삭제를 하고 진행해보도록 하겠습니다. \n",
    "\n",
    " \n",
    "index를 확인했으니, pandas의 `drop` 함수로 간단히 제거할 수 있습니다"
   ]
  },
  {
   "cell_type": "code",
   "execution_count": 29,
   "metadata": {},
   "outputs": [
    {
     "name": "stdout",
     "output_type": "stream",
     "text": [
      "(243, 9)\n"
     ]
    }
   ],
   "source": [
    "# drop 함수로 이상치 제거하기\n",
    "df_tip = df_tip.drop(172)\n",
    "print(df_tip.shape)"
   ]
  },
  {
   "cell_type": "markdown",
   "metadata": {},
   "source": [
    "1개의 행이 없어진 243개의 데이터셋이 되었습니다."
   ]
  },
  {
   "cell_type": "markdown",
   "metadata": {},
   "source": [
    "이제  다시 분포를 확인해봅시다. "
   ]
  },
  {
   "cell_type": "code",
   "execution_count": 30,
   "metadata": {},
   "outputs": [
    {
     "data": {
      "text/plain": [
       "<seaborn.axisgrid.FacetGrid at 0x7efc214a0e10>"
      ]
     },
     "execution_count": 30,
     "metadata": {},
     "output_type": "execute_result"
    },
    {
     "data": {
      "image/png": "[encoded data removed]",
      "text/plain": [
       "<matplotlib.figure.Figure at 0x7efc214a01d0>"
      ]
     },
     "metadata": {
      "needs_background": "light"
     },
     "output_type": "display_data"
    }
   ],
   "source": [
    "# 이상치 제거 이후 분포 다시 확인해보기 \n",
    "sns.lmplot(data=df_tip, x=\"total_bill\", y=\"tip_rate\", fit_reg=True, order=5)"
   ]
  },
  {
   "cell_type": "markdown",
   "metadata": {},
   "source": [
    "이제 전체적으로 혼자 엄청 떨어진 데이터 없이 정상적인 데이터 분포를 확인할 수 있고, 반비례 관계를 가지는 것을 확인했습니다."
   ]
  },
  {
   "cell_type": "markdown",
   "metadata": {},
   "source": [
    "#### 그렇다면, `tip_rate`가 작은  큰 테이블이 좋은가, 아니면 `tip_rate`가 큰 작은 테이블이 좋은가?\n",
    "이런 질문을 던져보지 않을 수 없겠죠! 바로 확인해봅시다."
   ]
  },
  {
   "cell_type": "markdown",
   "metadata": {},
   "source": [
    "먼저 우리가 원하는 컬럼인 `size`를 기준으로 `groupby`를 한 후, `describe` 함수를 이용해서 간단한 통계량을 한 번에 확인해보겠습니다.    \n",
    "`describe`는 전체 데이터에 대한 통계량을 한 번에 볼 때 유용합니다.     \n",
    "\n",
    "describe에서는 \"tip\" 데이터만 빼서 확인해보죠!"
   ]
  },
  {
   "cell_type": "code",
   "execution_count": 31,
   "metadata": {},
   "outputs": [
    {
     "data": {
      "text/html": [
       "<div>\n",
       "<style scoped>\n",
       "    .dataframe tbody tr th:only-of-type {\n",
       "        vertical-align: middle;\n",
       "    }\n",
       "\n",
       "    .dataframe tbody tr th {\n",
       "        vertical-align: top;\n",
       "    }\n",
       "\n",
       "    .dataframe thead th {\n",
       "        text-align: right;\n",
       "    }\n",
       "</style>\n",
       "<table border=\"1\" class=\"dataframe\">\n",
       "  <thead>\n",
       "    <tr style=\"text-align: right;\">\n",
       "      <th></th>\n",
       "      <th>count</th>\n",
       "      <th>mean</th>\n",
       "      <th>std</th>\n",
       "      <th>min</th>\n",
       "      <th>25%</th>\n",
       "      <th>50%</th>\n",
       "      <th>75%</th>\n",
       "      <th>max</th>\n",
       "    </tr>\n",
       "    <tr>\n",
       "      <th>size</th>\n",
       "      <th></th>\n",
       "      <th></th>\n",
       "      <th></th>\n",
       "      <th></th>\n",
       "      <th></th>\n",
       "      <th></th>\n",
       "      <th></th>\n",
       "      <th></th>\n",
       "    </tr>\n",
       "  </thead>\n",
       "  <tbody>\n",
       "    <tr>\n",
       "      <th>1</th>\n",
       "      <td>4.0</td>\n",
       "      <td>1.437500</td>\n",
       "      <td>0.506516</td>\n",
       "      <td>1.00</td>\n",
       "      <td>1.0000</td>\n",
       "      <td>1.415</td>\n",
       "      <td>1.8525</td>\n",
       "      <td>1.92</td>\n",
       "    </tr>\n",
       "    <tr>\n",
       "      <th>2</th>\n",
       "      <td>155.0</td>\n",
       "      <td>2.565742</td>\n",
       "      <td>0.966660</td>\n",
       "      <td>1.00</td>\n",
       "      <td>2.0000</td>\n",
       "      <td>2.500</td>\n",
       "      <td>3.1250</td>\n",
       "      <td>5.85</td>\n",
       "    </tr>\n",
       "    <tr>\n",
       "      <th>3</th>\n",
       "      <td>38.0</td>\n",
       "      <td>3.393158</td>\n",
       "      <td>1.557344</td>\n",
       "      <td>1.36</td>\n",
       "      <td>2.3575</td>\n",
       "      <td>3.290</td>\n",
       "      <td>3.6825</td>\n",
       "      <td>10.00</td>\n",
       "    </tr>\n",
       "    <tr>\n",
       "      <th>4</th>\n",
       "      <td>37.0</td>\n",
       "      <td>4.135405</td>\n",
       "      <td>1.640668</td>\n",
       "      <td>2.00</td>\n",
       "      <td>3.0000</td>\n",
       "      <td>3.760</td>\n",
       "      <td>5.0700</td>\n",
       "      <td>9.00</td>\n",
       "    </tr>\n",
       "    <tr>\n",
       "      <th>5</th>\n",
       "      <td>5.0</td>\n",
       "      <td>4.028000</td>\n",
       "      <td>1.440111</td>\n",
       "      <td>2.00</td>\n",
       "      <td>3.0000</td>\n",
       "      <td>5.000</td>\n",
       "      <td>5.0000</td>\n",
       "      <td>5.14</td>\n",
       "    </tr>\n",
       "    <tr>\n",
       "      <th>6</th>\n",
       "      <td>4.0</td>\n",
       "      <td>5.225000</td>\n",
       "      <td>1.053170</td>\n",
       "      <td>4.20</td>\n",
       "      <td>4.8000</td>\n",
       "      <td>5.000</td>\n",
       "      <td>5.4250</td>\n",
       "      <td>6.70</td>\n",
       "    </tr>\n",
       "  </tbody>\n",
       "</table>\n",
       "</div>"
      ],
      "text/plain": [
       "      count      mean       std   min     25%    50%     75%    max\n",
       "size                                                               \n",
       "1       4.0  1.437500  0.506516  1.00  1.0000  1.415  1.8525   1.92\n",
       "2     155.0  2.565742  0.966660  1.00  2.0000  2.500  3.1250   5.85\n",
       "3      38.0  3.393158  1.557344  1.36  2.3575  3.290  3.6825  10.00\n",
       "4      37.0  4.135405  1.640668  2.00  3.0000  3.760  5.0700   9.00\n",
       "5       5.0  4.028000  1.440111  2.00  3.0000  5.000  5.0000   5.14\n",
       "6       4.0  5.225000  1.053170  4.20  4.8000  5.000  5.4250   6.70"
      ]
     },
     "execution_count": 31,
     "metadata": {},
     "output_type": "execute_result"
    }
   ],
   "source": [
    "# describe 함수로 통계량 확인해보기\n",
    "df_tip.groupby('size').describe()[\"tip\"]"
   ]
  },
  {
   "cell_type": "markdown",
   "metadata": {},
   "source": [
    "여기서 우리가 주의해야 할 값은 1명 테이블의 팁의 최대값과 6명 테이블 팁의 최소값입니다.\n",
    "\n",
    "- 1명 테이블 팁 최대값 : 1.92\n",
    "- 6명 테이블 팁 최소값 : 4.2\n",
    "\n",
    "즉, tip_rate가 작다고 해도 total_bill이 크기 때문에 tip값은 절대적으로 클 수밖에 없는거죠."
   ]
  },
  {
   "cell_type": "markdown",
   "metadata": {},
   "source": [
    "따라서 이런 결론을 내릴 수 있습니다.\n",
    "> **size가 큰 테이블은 작은 테이블보다 `tip_rate`가 작더라도 `tip` 금액은 클 것이다** "
   ]
  },
  {
   "cell_type": "markdown",
   "metadata": {},
   "source": [
    "### [가설] size는 tip을 결정짓는 가장 중요한 요소이다 : 결론\n",
    "\n",
    "  \n",
    "`tip_rate`가 높더라도 `size`가 작다면 총 금액이 작아서, 비율로 환산할 시 실제로 받는 절대적인 tip 금액은 작다.   \n",
    "그러므로, 일단은 **1순위로 size가 큰 테이블을 잡는 것이 유리하다.**"
   ]
  },
  {
   "cell_type": "markdown",
   "metadata": {},
   "source": [
    "### 결론을 낸 후의 고찰"
   ]
  },
  {
   "cell_type": "markdown",
   "metadata": {},
   "source": [
    "하지만, size를 다시 한 번 상기해보면 어떤가요?"
   ]
  },
  {
   "cell_type": "code",
   "execution_count": 32,
   "metadata": {},
   "outputs": [
    {
     "data": {
      "image/png": "[encoded data removed]",
      "text/plain": [
       "<matplotlib.figure.Figure at 0x7efc21843b70>"
      ]
     },
     "metadata": {
      "needs_background": "light"
     },
     "output_type": "display_data"
    }
   ],
   "source": [
    "# size 다시 한번 시각화해보기\n",
    "sns.countplot(data=df_tip, x = \"size\")\n",
    "plt.show()"
   ]
  },
  {
   "cell_type": "markdown",
   "metadata": {},
   "source": [
    "실제로 size는 2명인 테이블이 154개로 가장 압도적이고, 1명이거나 5명, 6명인 테이블은 각각 전체의 5%도 안되는 개수를 가집니다.    \n",
    "\n",
    "따라서 큰 테이블을 잡는 것은 좋으나, 그 빈도는 높지 않을 것으로 예상됩니다."
   ]
  },
  {
   "cell_type": "markdown",
   "metadata": {},
   "source": [
    "---"
   ]
  }
 ],
 "metadata": {
  "kernelspec": {
   "display_name": "Python 3",
   "language": "python",
   "name": "python3"
  },
  "language_info": {
   "codemirror_mode": {
    "name": "ipython",
    "version": 3
   },
   "file_extension": ".py",
   "mimetype": "text/x-python",
   "name": "python",
   "nbconvert_exporter": "python",
   "pygments_lexer": "ipython3",
   "version": "3.6.6"
  }
 },
 "nbformat": 4,
 "nbformat_minor": 2
}
