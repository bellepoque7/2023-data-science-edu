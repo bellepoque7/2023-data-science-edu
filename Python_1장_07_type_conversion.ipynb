{
  "nbformat": 4,
  "nbformat_minor": 0,
  "metadata": {
    "colab": {
      "provenance": [],
      "include_colab_link": true
    },
    "kernelspec": {
      "name": "python3",
      "display_name": "Python 3"
    }
  },
  "cells": [
    {
      "cell_type": "markdown",
      "metadata": {
        "id": "view-in-github",
        "colab_type": "text"
      },
      "source": [
        "<a href=\"https://colab.research.google.com/github/bellepoque7/2023-data-science-edu/blob/main/Python_1%EC%9E%A5_07_type_conversion.ipynb\" target=\"_parent\"><img src=\"https://colab.research.google.com/assets/colab-badge.svg\" alt=\"Open In Colab\"/></a>"
      ]
    },
    {
      "cell_type": "markdown",
      "metadata": {
        "id": "-b5pwyNE5HSM"
      },
      "source": [
        "# 형 변환(type conversion)\n",
        "- implicit type conversion\n",
        "- explicit type conversion(== type casting)"
      ]
    },
    {
      "cell_type": "code",
      "metadata": {
        "id": "VdI4cZTrkbVb",
        "colab": {
          "base_uri": "https://localhost:8080/"
        },
        "outputId": "16004589-d70a-4114-b12e-0f9a8a8c5e50"
      },
      "source": [
        "# implicit type conversion\n",
        "\n",
        "a = 10\n",
        "b = 20.0\n",
        "\n",
        "c = a + b\n",
        "print(c, type(c))\n",
        "\n",
        "# 왜? 연산 중에 data type을 바꿔야할까요?\n",
        "# 왜? int를 float로 바꿀까요? 그 반대는?"
      ],
      "execution_count": null,
      "outputs": [
        {
          "output_type": "stream",
          "text": [
            "30.0 <class 'float'>\n"
          ],
          "name": "stdout"
        }
      ]
    },
    {
      "cell_type": "code",
      "metadata": {
        "id": "fGtxKU5bkWpw",
        "colab": {
          "base_uri": "https://localhost:8080/"
        },
        "outputId": "edb54798-118f-4861-e63c-e6b477fae25a"
      },
      "source": [
        "# explicit type conversion\n",
        "# type conversion 함수는 많습니다.\n",
        "# [참고] https://intellipaat.com/blog/tutorial/python-tutorial/type-conversion-in-python/\n",
        "\n",
        "f = 2\n",
        "print(float(f))\n",
        "\n",
        "print(int(2.2))\n",
        "print(int(2.5))\n",
        "print(int(2.9))"
      ],
      "execution_count": null,
      "outputs": [
        {
          "output_type": "stream",
          "text": [
            "2.0\n",
            "2\n",
            "2\n",
            "2\n"
          ],
          "name": "stdout"
        }
      ]
    },
    {
      "cell_type": "code",
      "metadata": {
        "id": "prj8OgXsk2qu",
        "colab": {
          "base_uri": "https://localhost:8080/"
        },
        "outputId": "1a71e7ad-b009-45c8-b2ca-b3e3f1bdf114"
      },
      "source": [
        "a = 5 / 2\n",
        "print(a)\n",
        "\n",
        "a = 5 // 2\n",
        "print(a)"
      ],
      "execution_count": null,
      "outputs": [
        {
          "output_type": "stream",
          "text": [
            "2.5\n",
            "2\n"
          ],
          "name": "stdout"
        }
      ]
    },
    {
      "cell_type": "code",
      "metadata": {
        "id": "zOKdBiGRlFUw",
        "outputId": "c1bbebfa-ee8f-4c4f-d9e0-2016f2b1b706",
        "colab": {
          "base_uri": "https://localhost:8080/",
          "height": 130
        }
      },
      "source": [
        "a = 100\n",
        "b = “200”\n",
        "result1 = a + b"
      ],
      "execution_count": null,
      "outputs": [
        {
          "output_type": "error",
          "ename": "SyntaxError",
          "evalue": "ignored",
          "traceback": [
            "\u001b[0;36m  File \u001b[0;32m\"<ipython-input-5-f11920c910bc>\"\u001b[0;36m, line \u001b[0;32m2\u001b[0m\n\u001b[0;31m    b = “200”\u001b[0m\n\u001b[0m            ^\u001b[0m\n\u001b[0;31mSyntaxError\u001b[0m\u001b[0;31m:\u001b[0m invalid character in identifier\n"
          ]
        }
      ]
    },
    {
      "cell_type": "code",
      "metadata": {
        "id": "Th5Qpd3-lII-",
        "outputId": "1ba6bdd5-96e4-44ca-ff0b-ce90aa69d449",
        "colab": {
          "base_uri": "https://localhost:8080/"
        }
      },
      "source": [
        "a = 100\n",
        "b = \"200\"\n",
        "b = int(b)\n",
        "result2 = a + b\n",
        "print(result2)\n",
        "print(a, b)"
      ],
      "execution_count": null,
      "outputs": [
        {
          "output_type": "stream",
          "text": [
            "300\n",
            "100 200\n"
          ],
          "name": "stdout"
        }
      ]
    },
    {
      "cell_type": "code",
      "metadata": {
        "id": "EGri3ay2lB_g",
        "outputId": "9009159a-8d5d-4aa6-9d36-312d7030772b",
        "colab": {
          "base_uri": "https://localhost:8080/"
        }
      },
      "source": [
        "print(str(100))\n",
        "print(type(str(100)))"
      ],
      "execution_count": null,
      "outputs": [
        {
          "output_type": "stream",
          "text": [
            "100\n",
            "<class 'str'>\n"
          ],
          "name": "stdout"
        }
      ]
    },
    {
      "cell_type": "code",
      "metadata": {
        "id": "O7Copsw0lT8k",
        "colab": {
          "base_uri": "https://localhost:8080/"
        },
        "outputId": "b3b9ef0f-4024-492b-9585-78d96b142b95"
      },
      "source": [
        "user = \"Jung\"\n",
        "lines = 50\n",
        "\n",
        "# print(\"Hi\" + user + lines + \" lines of code.\")\n",
        "print(\"Hi\" + user + str(lines) + \" lines of code.\")"
      ],
      "execution_count": null,
      "outputs": [
        {
          "output_type": "stream",
          "text": [
            "HiJung50 lines of code.\n"
          ],
          "name": "stdout"
        }
      ]
    },
    {
      "cell_type": "code",
      "metadata": {
        "id": "0kItWpOUzxef"
      },
      "source": [],
      "execution_count": null,
      "outputs": []
    }
  ]
}