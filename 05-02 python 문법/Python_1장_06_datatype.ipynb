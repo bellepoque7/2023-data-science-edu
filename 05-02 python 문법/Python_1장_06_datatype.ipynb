{
  "nbformat": 4,
  "nbformat_minor": 0,
  "metadata": {
    "colab": {
      "provenance": [],
      "include_colab_link": true
    },
    "kernelspec": {
      "name": "python3",
      "display_name": "Python 3"
    }
  },
  "cells": [
    {
      "cell_type": "markdown",
      "metadata": {
        "id": "view-in-github",
        "colab_type": "text"
      },
      "source": [
        "<a href=\"https://colab.research.google.com/github/bellepoque7/2023-data-science-edu/blob/main/Python_1%EC%9E%A5_06_datatype.ipynb\" target=\"_parent\"><img src=\"https://colab.research.google.com/assets/colab-badge.svg\" alt=\"Open In Colab\"/></a>"
      ]
    },
    {
      "cell_type": "markdown",
      "metadata": {
        "id": "DOjNUzfOAHiw"
      },
      "source": [
        "# 자료형(data types)\n",
        "- 다른 프로그래밍 언어에서도 그렇지만 자료형은 아주 중요한 부분이다.\n",
        "- 파이썬에서는 실용적인 많은 자료형이 제공되기 때문에 이들을 명확하게 이해하고 사용하는 것이 아주 중요하다.\n",
        "- 지금은 자료형의 아주 기초적인 부분만 다룬다."
      ]
    },
    {
      "cell_type": "code",
      "metadata": {
        "id": "fkoEQloo3P4o",
        "colab": {
          "base_uri": "https://localhost:8080/",
          "height": 70
        },
        "outputId": "8ee77804-efcf-4f01-ecca-c821bd4c92ef"
      },
      "source": [
        "# 값의 data type은 type() 함수로 확인할 수 있다.\n",
        "# 즉, type() 함수는 파라미터의 data type을 반환한다.\n",
        "\n",
        "print(type(1))\n",
        "print(type(1.0))\n",
        "print(type('python'))\n",
        "\n",
        "# 출력 결과에서 class라는 의미는\n",
        "# 파이썬에서는 모든 자료형은 클래스(class)에 의해서 제공된다는 의미이다\n",
        "# 즉, 1이라는 값은 int 클래스의 instance라고 한다.\n",
        "# 클래스에 대한 자세한 설명은 곧 나온다."
      ],
      "execution_count": null,
      "outputs": [
        {
          "output_type": "stream",
          "text": [
            "<class 'int'>\n",
            "<class 'float'>\n",
            "<class 'str'>\n"
          ],
          "name": "stdout"
        }
      ]
    },
    {
      "cell_type": "markdown",
      "metadata": {
        "id": "pMBt2H0vTwxn"
      },
      "source": [
        "# 파이썬은 '동적 타입 바인딩' 언어이다\n",
        "- 이 말은, 변수를 선언할 때 어떤 자료형의 값을 저장할 것이다라고 미리 정해둘 필요가 없다는 말이다.\n",
        "- C 언어에서는 아래와 같이 해야한다.\n",
        "\n",
        "```\n",
        "int a;\n",
        "a = 10;\n",
        "```\n",
        "\n"
      ]
    },
    {
      "cell_type": "code",
      "metadata": {
        "id": "Hw5QU0CB9KsZ"
      },
      "source": [
        "# 파이썬은 '동적 타입 바인딩' 언어\n",
        "a = 1 # 이 대입 연산으로 인해서 변수 a는 정수형 변수\n",
        "b = 1.0 # 이 대입 연산으로 인해서 변수 b는 실수형 변수"
      ],
      "execution_count": null,
      "outputs": []
    },
    {
      "cell_type": "markdown",
      "metadata": {
        "id": "Hn5ayi4DT-jF"
      },
      "source": [
        "# 자동 형 변환(묵시적 형 변환)"
      ]
    },
    {
      "cell_type": "code",
      "metadata": {
        "colab": {
          "base_uri": "https://localhost:8080/"
        },
        "id": "fc_i5PJRT9bt",
        "outputId": "e2c41562-d5ff-4b46-f686-3d275e24e270"
      },
      "source": [
        "# 아래의 변수 add는 a+b에 의해서 정수와 실수간의 덧셈으로써 add 변수도 실수형 변수가 된다.\n",
        "# 따라서 아래에는 형 변환(type conversion)이 자동으로 일어난다.\n",
        "# 이를 '자동 형 변환(implicit type conversion)'이라고 한다.\n",
        "\n",
        "add = a + b\n",
        "print(a)\n",
        "print(b)\n",
        "print(add)\n",
        "\n",
        "print(type(a))\n",
        "print(type(b))\n",
        "print(type(add))"
      ],
      "execution_count": null,
      "outputs": [
        {
          "output_type": "stream",
          "text": [
            "1\n",
            "1.0\n",
            "2.0\n",
            "<class 'int'>\n",
            "<class 'float'>\n",
            "<class 'float'>\n"
          ],
          "name": "stdout"
        }
      ]
    },
    {
      "cell_type": "markdown",
      "metadata": {
        "id": "R7X6INA5Upuk"
      },
      "source": [
        "# 명시적 형 변환"
      ]
    },
    {
      "cell_type": "code",
      "metadata": {
        "id": "zXJNnk-t9ba9",
        "colab": {
          "base_uri": "https://localhost:8080/"
        },
        "outputId": "8ef3331a-eb84-4b18-8be5-e109e7c03824"
      },
      "source": [
        "# 아래는 '명시적 형변환(explicit type conversion)이다.\n",
        "# 프로그래머가 명확히 형변환을 명령하는것이다.\n",
        "\n",
        "# int 값으로 변환\n",
        "# int() 함수는 파라미터를 정수로 변경한다.\n",
        "print(int(10.1))\n",
        "\n",
        "# 문자열 '123'도 int 형 123으로 변경한다.\n",
        "print(int('123'))"
      ],
      "execution_count": null,
      "outputs": [
        {
          "output_type": "stream",
          "text": [
            "10\n",
            "123\n"
          ],
          "name": "stdout"
        }
      ]
    },
    {
      "cell_type": "code",
      "metadata": {
        "id": "1J8baVQ3dnIO",
        "colab": {
          "base_uri": "https://localhost:8080/",
          "height": 188
        },
        "outputId": "f2b02849-94f4-4b8d-ff10-235e5b63b8de"
      },
      "source": [
        "# 그렇지만 'abc' 문자열을 int 형으로 변경할 수 없다.\n",
        "print(int('abc'))"
      ],
      "execution_count": null,
      "outputs": [
        {
          "output_type": "error",
          "ename": "ValueError",
          "evalue": "ignored",
          "traceback": [
            "\u001b[0;31m---------------------------------------------------------------------------\u001b[0m",
            "\u001b[0;31mValueError\u001b[0m                                Traceback (most recent call last)",
            "\u001b[0;32m<ipython-input-3-d90c0eef9887>\u001b[0m in \u001b[0;36m<module>\u001b[0;34m()\u001b[0m\n\u001b[1;32m      1\u001b[0m \u001b[0;31m# 그렇지만 'abc' 문자열을 int 형으로 변경할 수 없다.\u001b[0m\u001b[0;34m\u001b[0m\u001b[0;34m\u001b[0m\u001b[0;34m\u001b[0m\u001b[0m\n\u001b[0;32m----> 2\u001b[0;31m \u001b[0mprint\u001b[0m\u001b[0;34m(\u001b[0m\u001b[0mint\u001b[0m\u001b[0;34m(\u001b[0m\u001b[0;34m'abc'\u001b[0m\u001b[0;34m)\u001b[0m\u001b[0;34m)\u001b[0m\u001b[0;34m\u001b[0m\u001b[0;34m\u001b[0m\u001b[0m\n\u001b[0m",
            "\u001b[0;31mValueError\u001b[0m: invalid literal for int() with base 10: 'abc'"
          ]
        }
      ]
    },
    {
      "cell_type": "code",
      "metadata": {
        "id": "6Tj5IBLW4bQL",
        "colab": {
          "base_uri": "https://localhost:8080/"
        },
        "outputId": "93cea2c4-9f53-4233-c71f-57215749cff5"
      },
      "source": [
        "# 문자열로 변환\n",
        "\n",
        "a = str(123)\n",
        "print(a)\n",
        "\n",
        "b = a + ' '+ 'Python'\n",
        "print(b)\n"
      ],
      "execution_count": null,
      "outputs": [
        {
          "output_type": "stream",
          "text": [
            "123\n",
            "123 Python\n"
          ],
          "name": "stdout"
        }
      ]
    },
    {
      "cell_type": "markdown",
      "metadata": {
        "id": "1U64IcpS9JO6"
      },
      "source": [
        "# 위에서 보아서 알겠지만(그리고 이전에도 간단하게 설명했었지만..)\n",
        "- 자료형의 이름과 동일한 형변환 함수들이 있다.\n",
        "- 향후에 클래스(class)를 배우면, 클래스의 생성자(초기자)를 사용하는 것이다.\n",
        "- 따라서 int(), float(), str(), bool() 등의 형변환 함수가 있다."
      ]
    }
  ]
}