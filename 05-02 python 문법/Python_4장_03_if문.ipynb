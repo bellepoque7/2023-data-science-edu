{
  "nbformat": 4,
  "nbformat_minor": 0,
  "metadata": {
    "colab": {
      "provenance": [],
      "include_colab_link": true
    },
    "kernelspec": {
      "name": "python3",
      "display_name": "Python 3"
    }
  },
  "cells": [
    {
      "cell_type": "markdown",
      "metadata": {
        "id": "view-in-github",
        "colab_type": "text"
      },
      "source": [
        "<a href=\"https://colab.research.google.com/github/bellepoque7/2023-data-science-edu/blob/main/python%20%EB%AC%B8%EB%B2%95(%EC%B5%9C%EC%9E%AC%EA%B7%9C%20%EA%B0%95%EC%82%AC)/Python_4%EC%9E%A5_03_if%EB%AC%B8.ipynb\" target=\"_parent\"><img src=\"https://colab.research.google.com/assets/colab-badge.svg\" alt=\"Open In Colab\"/></a>"
      ]
    },
    {
      "cell_type": "markdown",
      "metadata": {
        "id": "omFeRLZ4xhzG"
      },
      "source": [
        "# 프로그래밍을 하다보면, 변수 값을 비교하거나 체크할 필요가 있는 경우가 있다.\n",
        "- 이때 조건문이라는 것을 사용한다.\n",
        "- if 문이 대표적인 조건문이다.\n",
        "- 예제를 살펴보고, 다양하게 변형해보자."
      ]
    },
    {
      "cell_type": "markdown",
      "metadata": {
        "id": "komBgbS0Sm_p"
      },
      "source": [
        "# if 문"
      ]
    },
    {
      "cell_type": "code",
      "metadata": {
        "id": "rFKZZwHO2w_0",
        "colab": {
          "base_uri": "https://localhost:8080/"
        },
        "outputId": "61a9b166-c209-4a37-f431-4f7c91d20002"
      },
      "source": [
        "# 가장 간단한 if문\n",
        "# if 문의 body는 들여쓰기를 해야한다.\n",
        "\n",
        "a = 10\n",
        "b = 10\n",
        "if a == b:\n",
        "    print(a, \"is same to\",  b)"
      ],
      "execution_count": null,
      "outputs": [
        {
          "output_type": "stream",
          "text": [
            "10 is same to 10\n"
          ],
          "name": "stdout"
        }
      ]
    },
    {
      "cell_type": "code",
      "metadata": {
        "id": "Z4LBDSx63VTg",
        "colab": {
          "base_uri": "https://localhost:8080/",
          "height": 130
        },
        "outputId": "afa560d2-99cd-435f-cefd-6ead3df748c6"
      },
      "source": [
        "# 아래는 indent 문제로 에러가 발생한다.\n",
        "# 즉, if 문의 내부 임을 명시하기 위해서 들여쓰기를 해야한다.\n",
        "# 들여쓰기는 '빈칸 4칸' 또는 'Tab' 키를 사용한다.\n",
        "\n",
        "a = 10\n",
        "b = 10\n",
        " if a == b:\n",
        "    print(a, \"is same to\", b)"
      ],
      "execution_count": null,
      "outputs": [
        {
          "output_type": "error",
          "ename": "IndentationError",
          "evalue": "ignored",
          "traceback": [
            "\u001b[0;36m  File \u001b[0;32m\"<ipython-input-4-742b866cb232>\"\u001b[0;36m, line \u001b[0;32m7\u001b[0m\n\u001b[0;31m    if a == b:\u001b[0m\n\u001b[0m    ^\u001b[0m\n\u001b[0;31mIndentationError\u001b[0m\u001b[0;31m:\u001b[0m unexpected indent\n"
          ]
        }
      ]
    },
    {
      "cell_type": "markdown",
      "metadata": {
        "id": "oD5XpetqSqHX"
      },
      "source": [
        "# if... else 문"
      ]
    },
    {
      "cell_type": "code",
      "metadata": {
        "id": "F4eNNCkt3W9N",
        "colab": {
          "base_uri": "https://localhost:8080/"
        },
        "outputId": "39b19f8b-d2e0-4549-805f-662360394dc2"
      },
      "source": [
        "# 조건이 True인 경우와 False인 경우 모두 해야하는 일이 있다면\n",
        "# if...else 문을 사용하자.\n",
        "# if 문의 body에는 여러 줄을 적을 수도 있다.\n",
        "# 이를 block이라고 한다.\n",
        "# 이를 표시하기 위해서 들여쓰기를 하는 것이다.\n",
        "\n",
        "a = 10\n",
        "b = 20\n",
        "\n",
        "if a > b:\n",
        "    print(\"max is\", a)\n",
        "    print('this is the body block of if')\n",
        "else:\n",
        "    print(\"max is\", b)\n",
        "    print('this is the body block of else')"
      ],
      "execution_count": null,
      "outputs": [
        {
          "output_type": "stream",
          "text": [
            "max is 20\n",
            "this is the body block of else\n"
          ],
          "name": "stdout"
        }
      ]
    },
    {
      "cell_type": "markdown",
      "metadata": {
        "id": "6JeQ3kPqSv_I"
      },
      "source": [
        "# if ... elif 문"
      ]
    },
    {
      "cell_type": "code",
      "metadata": {
        "id": "7MXOvrUv38rz",
        "colab": {
          "base_uri": "https://localhost:8080/"
        },
        "outputId": "7d475f2c-f82d-4a8b-b1f8-773266d9a14f"
      },
      "source": [
        "# 조건을 여러 개를 비교해야하는 경우라면 \n",
        "# elif 문으로 여러 조건을 순차적으로 점검할 수 있다.\n",
        "\n",
        "a = 10\n",
        "b = 10\n",
        "\n",
        "if a > b:\n",
        "    print(\"max is \", a)\n",
        "    print(\"min is \", b)\n",
        "elif a == b: # else if\n",
        "    print(\"a is same to b\")\n",
        "else:\n",
        "    print(\"max is \", b)\n",
        "    print(\"max is \", a)"
      ],
      "execution_count": null,
      "outputs": [
        {
          "output_type": "stream",
          "text": [
            "a is same to b\n"
          ],
          "name": "stdout"
        }
      ]
    },
    {
      "cell_type": "code",
      "metadata": {
        "id": "TpyMEhF5BxP4"
      },
      "source": [],
      "execution_count": null,
      "outputs": []
    }
  ]
}