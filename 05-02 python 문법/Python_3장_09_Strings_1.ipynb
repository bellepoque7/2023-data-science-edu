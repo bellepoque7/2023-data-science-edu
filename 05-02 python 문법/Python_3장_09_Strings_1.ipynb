{
  "nbformat": 4,
  "nbformat_minor": 0,
  "metadata": {
    "colab": {
      "provenance": [],
      "include_colab_link": true
    },
    "kernelspec": {
      "name": "python3",
      "display_name": "Python 3"
    }
  },
  "cells": [
    {
      "cell_type": "markdown",
      "metadata": {
        "id": "view-in-github",
        "colab_type": "text"
      },
      "source": [
        "<a href=\"https://colab.research.google.com/github/bellepoque7/2023-data-science-edu/blob/main/python%20%EB%AC%B8%EB%B2%95(%EC%B5%9C%EC%9E%AC%EA%B7%9C%20%EA%B0%95%EC%82%AC)/Python_3%EC%9E%A5_09_Strings_1.ipynb\" target=\"_parent\"><img src=\"https://colab.research.google.com/assets/colab-badge.svg\" alt=\"Open In Colab\"/></a>"
      ]
    },
    {
      "cell_type": "markdown",
      "metadata": {
        "id": "ROYfE59-5D5c"
      },
      "source": [
        "# 문자열 생성"
      ]
    },
    {
      "cell_type": "code",
      "metadata": {
        "id": "IlVOtkfRbQY7",
        "colab": {
          "base_uri": "https://localhost:8080/"
        },
        "outputId": "9e139335-1e7c-44cb-d9b4-1e6edeb90e83"
      },
      "source": [
        "# 큰 따옴표 또는 작은 따옴표로 문자열를 사용할 수 있다.\n",
        "\n",
        "a = \"Hello Python\"\n",
        "b = 'Python is good.'\n",
        "\n",
        "print(a)\n",
        "print(b)\n",
        "print(type(a))\n",
        "print(type(b))"
      ],
      "execution_count": null,
      "outputs": [
        {
          "output_type": "stream",
          "text": [
            "Hello Python\n",
            "Python is good.\n",
            "<class 'str'>\n",
            "<class 'str'>\n"
          ],
          "name": "stdout"
        }
      ]
    },
    {
      "cell_type": "code",
      "metadata": {
        "id": "Xi9-i6sq_dSg"
      },
      "source": [
        "# 아래와 같이 \n",
        "# 큰 따옴표 내부의 작은 따옴표(또는 작은 따옴표 내부의 큰 따옴표)는 일반 문자로 고려된다.\n",
        "a = \"Hello Python's World\"\n",
        "b = 'Hello Python\"s World'\n",
        "\n",
        "print(a)\n",
        "print(b)"
      ],
      "execution_count": null,
      "outputs": []
    },
    {
      "cell_type": "code",
      "metadata": {
        "id": "tf5utQGGNwo3",
        "colab": {
          "base_uri": "https://localhost:8080/",
          "height": 139
        },
        "outputId": "b8655344-4acc-4d9d-b4d0-dd9d8c9ce257"
      },
      "source": [
        "# 큰 따옴표 또는 작은 따옴표 3개로 2줄 이상의 긴 문자열을 사용할 수 있다.\n",
        "\n",
        "a = \"\"\"This is a long string which is 3 lines...\n",
        "this is the second line.\n",
        "this is the third line.\"\"\"\n",
        "\n",
        "print(a)\n",
        "\n",
        "b = \"\"\"another string\n",
        "this is the second line.\n",
        "this is the third line.\"\"\"\n",
        "\n",
        "print(b)\n",
        "\n",
        "\"\"\" 이 문자열은 주석(commnet) 같아 보이지만\n",
        "실제로는 문자열을 정의한 문장입니다.\n",
        "\"\"\""
      ],
      "execution_count": null,
      "outputs": [
        {
          "output_type": "stream",
          "text": [
            "This is a long string which is 3 lines...\n",
            "this is the second line.\n",
            "this is the third line.\n",
            "another string\n",
            "this is the second line.\n",
            "this is the third line.\n"
          ],
          "name": "stdout"
        },
        {
          "output_type": "execute_result",
          "data": {
            "application/vnd.google.colaboratory.intrinsic+json": {
              "type": "string"
            },
            "text/plain": [
              "' 이 문자열은 주석(commnet) 같아 보이지만\\n실제로는 문자열을 정의한 문장입니다.\\n'"
            ]
          },
          "metadata": {
            "tags": []
          },
          "execution_count": 3
        }
      ]
    },
    {
      "cell_type": "code",
      "metadata": {
        "id": "h_jHlXHe2L5m",
        "colab": {
          "base_uri": "https://localhost:8080/"
        },
        "outputId": "a76d9851-08fa-41ee-8bfd-ed4e48ec3333"
      },
      "source": [
        "# 위와 같이 문자열을 정의할 수도 있지만 \n",
        "# str( ) 함수를 이용해서 숫자를 문자로 변환할 수 있다(명시적 형 변환).\n",
        "\n",
        "a = str(3.14)\n",
        "print(a)\n",
        "print(type(a))"
      ],
      "execution_count": null,
      "outputs": [
        {
          "output_type": "stream",
          "text": [
            "3.14\n",
            "<class 'str'>\n"
          ],
          "name": "stdout"
        }
      ]
    },
    {
      "cell_type": "markdown",
      "metadata": {
        "id": "ece4nROBcOaJ"
      },
      "source": [
        "# 문자열 포맷팅(1): formatting letter사용\n",
        "- 문자열을 출력하는 형식을 지정(formatting) 기능을 보자."
      ]
    },
    {
      "cell_type": "markdown",
      "metadata": {
        "id": "n21OqPwXdjuF"
      },
      "source": [
        "문자열 포맷팅을 쓰는 이유"
      ]
    },
    {
      "cell_type": "code",
      "metadata": {
        "colab": {
          "base_uri": "https://localhost:8080/"
        },
        "id": "gJ1AMfZvdkij",
        "outputId": "9689c96b-e5d2-4f9d-d6d7-966b894b194d"
      },
      "source": [
        "# \"오늘은 2021년 9월 10일 월요일입니다\" 출력\n",
        "year = 2021\n",
        "month = 9\n",
        "day = 10\n",
        "day_of_week = \"월\"\n",
        "\n",
        "# 문자열 포맷팅을 사용하지 않을 경우\n",
        "print(\"오늘은 \" + str(year) + \"년 \" + str(month) + \"월 \" + str(day) + \"일 \" + day_of_week + \"요일입니다.\")\n",
        "\n",
        "# 문자열 포맷팅을 사용할 경우\n",
        "print(\"오늘은 %d년 %d월 %d일 %s요일입니다.\" % (year, month, day, day_of_week)) #정수는 %d, 문자는 %s로 체워넣는다\n",
        "print(\"오늘은 %d년 %d월 %d일 %s요일입니다.\" % (year, month, day + 1, \"화\")) #%d = decimal integer, %s = string\n",
        "\n",
        "print(1.0 / 3)\n",
        "print(\"1 나누기 3은 %d\" % (1.0 / 3)) # %d는\n",
        "print(\"1 나누기 3은 %f\" % (1.0 / 3)) # %f는 floating point\n",
        "print(\"1 나누기 3은 %.3f\" % (1.0 / 3)) # %.3f는 소수점 3자리까지"
      ],
      "execution_count": null,
      "outputs": [
        {
          "output_type": "stream",
          "name": "stdout",
          "text": [
            "오늘은 2021년 9월 10일 월요일입니다.\n",
            "오늘은 2021년 9월 10일 월요일입니다.\n",
            "오늘은 2021년 9월 11일 화요일입니다.\n",
            "0.3333333333333333\n",
            "1 나누기 3은 0\n",
            "1 나누기 3은 0.333333\n",
            "1 나누기 3은 0.333\n"
          ]
        }
      ]
    },
    {
      "cell_type": "code",
      "metadata": {
        "id": "jcGhZdifcPF5",
        "colab": {
          "base_uri": "https://localhost:8080/"
        },
        "outputId": "77a32910-b246-4332-8e77-0e935866f1ac"
      },
      "source": [
        "# %d, %s와 같은 포맷 문자 위치에 % 뒤의 값이 삽입된다.\n",
        "print(\"Hello Python %d\" % 3)\n",
        "print(\"Hello Python %s\" % \"version 3\")\n",
        "\n",
        "# 포매팅된 결과물이 바로 문자열이다.\n",
        "msg = \"Hello Python %s\" % \"version 3\"\n",
        "print(msg)"
      ],
      "execution_count": null,
      "outputs": [
        {
          "output_type": "stream",
          "text": [
            "Hello Python 3\n",
            "Hello Python version 3\n",
            "Hello Python version 3\n"
          ],
          "name": "stdout"
        }
      ]
    },
    {
      "cell_type": "code",
      "metadata": {
        "colab": {
          "base_uri": "https://localhost:8080/"
        },
        "id": "nwt2stLq0FyP",
        "outputId": "f025b0f1-2b42-4088-fb19-9f1ee9a77900"
      },
      "source": [
        "# 2개 이상의 값을 넣고 싶으면 괄호 안에 콤마(,)로 구분해서 적어주면 된다.\n",
        "print(\"Hello Python %d, my name is %s\" % (3, 'keechul'))"
      ],
      "execution_count": null,
      "outputs": [
        {
          "output_type": "stream",
          "text": [
            "Hello Python 3, my name is keechul\n"
          ],
          "name": "stdout"
        }
      ]
    },
    {
      "cell_type": "markdown",
      "metadata": {
        "id": "N3breDdLzEZy"
      },
      "source": [
        "# 문자열 포맷팅(2): 문자열의 format() 메쏘드 사용\n",
        "- 메쏘드(method)라는 것은 클래스 개념과 관련있다.\n",
        "- 그래서 자세한 설명은 나중으로 미룬다.\n",
        "- 일단 클래스에서 제공되는 함수라고 생각하자."
      ]
    },
    {
      "cell_type": "code",
      "metadata": {
        "id": "7-5XcSKSDbaA",
        "colab": {
          "base_uri": "https://localhost:8080/"
        },
        "outputId": "995367ac-b022-4445-e03b-3c3b0046b489"
      },
      "source": [
        "# 문자열의 format( ) 메쏘드를 사용할 도 있다.\n",
        "# {}안의 숫자로 위치를 설정한다.\n",
        "# 메쏘드에 대한 이야기는 나중에 자세하게 한다.\n",
        "\n",
        "print(\"Hello Python {}\".format(3))\n",
        "print(\"Hello Python {0}\".format(\"version 3\"))\n",
        "print(\"Hello Python {0}. and {1}\".format(\"version 3\", \"Jung\"))"
      ],
      "execution_count": null,
      "outputs": [
        {
          "output_type": "stream",
          "name": "stdout",
          "text": [
            "Hello Python 3\n",
            "Hello Python version 3\n",
            "Hello Python version 3. and Jung\n"
          ]
        }
      ]
    },
    {
      "cell_type": "code",
      "metadata": {
        "id": "l19Y_nahcUAZ"
      },
      "source": [
        "alpabets = \"abcdefghijklmnopqrstuvwxyz\"\n",
        "\n",
        "for c in alpabets:\n",
        "    if c == 'z':\n",
        "        print(c)\n",
        "    else:\n",
        "        print((\"{}-\").format(c), end=\"\")"
      ],
      "execution_count": null,
      "outputs": []
    },
    {
      "cell_type": "markdown",
      "metadata": {
        "id": "UumzD0vZzbPK"
      },
      "source": [
        "# 문자열 포맷팅(3): f-string 포맷팅\n",
        "- 파이썬 3.6 버젼부터 사용할 수 있는 기능이다.\n",
        "- 이 방법은 이 교재의 말미에 나오는 웹 프로그래밍을 위한 Jinja Template와 유사하다."
      ]
    },
    {
      "cell_type": "code",
      "metadata": {
        "id": "zkFGDgC8ztEq"
      },
      "source": [
        "# 아래와 같이 shell에서도 파이썬 버젼을 확인할 수 있다.\n",
        "\n",
        "!python --version"
      ],
      "execution_count": null,
      "outputs": []
    },
    {
      "cell_type": "code",
      "metadata": {
        "id": "6KVBlqfM0ACI"
      },
      "source": [
        "# 또는, 아래와 같이 sys 모듈을 사용해서 파이썬 코드로도 확인할 수 있다.\n",
        "\n",
        "import sys\n",
        "print(sys.version)"
      ],
      "execution_count": null,
      "outputs": []
    },
    {
      "cell_type": "markdown",
      "metadata": {
        "id": "V8uja6Ac1kPV"
      },
      "source": [
        "# 문자열 포맷팅 방식 비교"
      ]
    },
    {
      "cell_type": "code",
      "metadata": {
        "id": "3agl4DnI1JMp",
        "colab": {
          "base_uri": "https://localhost:8080/"
        },
        "outputId": "d35991ea-4113-465d-949d-bcc1e778f1ef"
      },
      "source": [
        "# 위의 내용을 포맷 문자로 구현하면 아래와 같다.\n",
        "s_code = '20201234'\n",
        "s_name = 'Tom'\n",
        "print(\"저의 이름은 %s이며, 학번은 %s입니다\" % (s_name, s_code))"
      ],
      "execution_count": null,
      "outputs": [
        {
          "output_type": "stream",
          "text": [
            "저의 이름은 Tom이며, 학번은 20201234입니다\n"
          ],
          "name": "stdout"
        }
      ]
    },
    {
      "cell_type": "code",
      "metadata": {
        "id": "w2rtL1vG1WRd",
        "colab": {
          "base_uri": "https://localhost:8080/"
        },
        "outputId": "be3c48be-08cd-4bbf-f96d-86a8d2704d14"
      },
      "source": [
        "# 위의 내용을 format() 메쏘드로 구현하면 아래와 같다.\n",
        "\n",
        "s_code = '20201234'\n",
        "s_name = 'Tom'\n",
        "print(\"저의 이름은 {}이며, 학번은 {}입니다\".format(s_name, s_code))"
      ],
      "execution_count": null,
      "outputs": [
        {
          "output_type": "stream",
          "name": "stdout",
          "text": [
            "저의 이름은 Tom이며, 학번은 20201234입니다\n"
          ]
        }
      ]
    },
    {
      "cell_type": "code",
      "metadata": {
        "id": "giDi1Uae0HNJ",
        "colab": {
          "base_uri": "https://localhost:8080/"
        },
        "outputId": "00c9e75f-dcef-41e1-bc3c-89c3451f7b9c"
      },
      "source": [
        "# f-string은 아래와 같이 사용할 수 있다.\n",
        "# 문자열을 아주 직관적으로 만들 수 있는 방법이다.\n",
        "\n",
        "s_code = '20201234'\n",
        "s_name = 'Tom'\n",
        "print(f\"저의 이름은 {s_name}이며, 학번은 {s_code}입니다\")"
      ],
      "execution_count": null,
      "outputs": [
        {
          "output_type": "stream",
          "name": "stdout",
          "text": [
            "저의 이름은 Tom이며, 학번은 20201234입니다\n"
          ]
        }
      ]
    },
    {
      "cell_type": "markdown",
      "metadata": {
        "id": "bk9mQYLq6Sqo"
      },
      "source": [
        "# 실습  \n",
        "주어진 코드에서 wage는 1시간에 얼마 버는지를 나타내는 값이고, exchange_rate는 1달러를 한국 돈으로 바꾸면 얼마인지 나타내는 값입니다.   \n",
        "문자열 포맷팅인 format() 방식을 사용하여 아래의 문장들을 출력하세요."
      ]
    },
    {
      "cell_type": "code",
      "metadata": {
        "id": "1mB3qCZwcTCY"
      },
      "source": [
        "\n",
        "wage = 5                  # 시급 (1시간에 5달러)\n",
        "exchange_rate = 1142.16   # 환율 (1달러에 1142.16원)\n",
        "\n",
        "# 다음 답과 같이 코드를 입력 하세요.\n",
        "# \"1시간에 5달러 벌었습니다.\" \n",
        "# \"5시간에 25달러 벌었습니다.\" \n",
        "# \"1시간에 5710.8원 벌었습니다.\" \n",
        "# \"5시간에 28554.0원 벌었습니다.\" "
      ],
      "execution_count": null,
      "outputs": []
    },
    {
      "cell_type": "markdown",
      "metadata": {
        "id": "ZPdTUhdzGOgk"
      },
      "source": [
        "###정답"
      ]
    },
    {
      "cell_type": "code",
      "metadata": {
        "id": "v5wBwZt2F-4e",
        "colab": {
          "base_uri": "https://localhost:8080/"
        },
        "outputId": "0809b508-dfa3-41ca-fcf2-850252a56067"
      },
      "source": [
        "wage = 5                  # 시급 (1시간에 5달러)\n",
        "exchange_rate = 1142.16   # 환율 (1달러에 1142.16원)\n",
        "\n",
        "# \"1시간에 5달러 벌었습니다.\" 출력\n",
        "print(\"{}시간에 {}{} 벌었습니다.\".format(1, wage * 1, \"달러\"))\n",
        "\n",
        "# \"5시간에 25달러 벌었습니다.\" 출력\n",
        "# 코드를 입력하세요.\n",
        "print(\"{}시간에 {}{} 벌었습니다.\".format(5, wage * 5, \"달러\"))\n",
        "\n",
        "# \"1시간에 5710.8원 벌었습니다.\" 출력\n",
        "# 코드를 입력하세요.\n",
        "print(\"{}시간에 {:.1f}{} 벌었습니다.\".format(1, wage * 1 * exchange_rate, \"원\"))\n",
        "# \"5시간에 28554.0원 벌었습니다.\" 출력\n",
        "# 코드를 입력하세요.\n",
        "print(\"{}시간에 {:.1f}{} 벌었습니다.\".format(5, wage * 5 * exchange_rate, \"원\"))"
      ],
      "execution_count": null,
      "outputs": [
        {
          "output_type": "stream",
          "name": "stdout",
          "text": [
            "1시간에 5달러 벌었습니다.\n",
            "5시간에 25달러 벌었습니다.\n",
            "1시간에 5710.8원 벌었습니다.\n",
            "5시간에 28554.0원 벌었습니다.\n"
          ]
        }
      ]
    },
    {
      "cell_type": "markdown",
      "metadata": {
        "id": "Qy90EYBs6aPW"
      },
      "source": [
        "# 문자열 연산\n",
        "- 문자열 연산은 리스트 연산과 유사하다(리스트 자료형은 후에 설명된다).\n",
        "- 다만 문자열은 immutable(변경 불가능)이라는 특성만 주의하면 된다.\n",
        "    - 지금 당장은 immutable이라는 단어의 의미를 설명하기는 어렵다. \n",
        "    - 다만 값을 변경할 수 없다는 의미로 이해하자.\n",
        "- 아래에서는 교재에서 설명하지 않은 다양한 문자열 연산 방법을 설명한다.\n",
        "    - 잘 배워두자.\n",
        "    - 향후에 아주 중요하게 사용된다."
      ]
    },
    {
      "cell_type": "code",
      "metadata": {
        "id": "IuFF6iHw_YKi",
        "colab": {
          "base_uri": "https://localhost:8080/"
        },
        "outputId": "6b7347a9-2f85-4d7b-8e90-08a4e1d55f63"
      },
      "source": [
        "a = 'python'\n",
        "b = ' World'\n",
        "print(a)\n",
        "print(b)\n",
        "\n",
        "# 문자열끼리의 덧셈은 '문자열 연결'이다.\n",
        "print(a+b)\n",
        "\n",
        "# 문자열과 정수의 곱셈은 '문자열의 반복'이다\n",
        "print(a*2)\n",
        "new_a = a*2\n",
        "print(new_a)\n",
        "\n",
        "# 문자열과 정수의 곱셈을 활용하면 아래와 같이 사용할 수 있다.\n",
        "print(\"*\"*100) # *를 100개 출력\n",
        "print(\"-\"*100)"
      ],
      "execution_count": null,
      "outputs": [
        {
          "output_type": "stream",
          "text": [
            "python\n",
            " World\n",
            "python World\n",
            "pythonpython\n",
            "pythonpython\n",
            "****************************************************************************************************\n",
            "----------------------------------------------------------------------------------------------------\n"
          ],
          "name": "stdout"
        }
      ]
    },
    {
      "cell_type": "code",
      "metadata": {
        "id": "O1bivqQ3PFFs",
        "colab": {
          "base_uri": "https://localhost:8080/",
          "height": 198
        },
        "outputId": "9344ae08-e4e3-4c56-f8a6-7ee91e179a1c"
      },
      "source": [
        "# 여기서 문자열 끼리의 곱셈 연산을 해보고 싶은 생각이 혹시 드시나요?\n",
        "# 이는 허락되지 않는다.\n",
        "# 혹시 이러한 문자열 끼리의 곱셈이 가능했으면 좋겠다는 생각이 든다면, \n",
        "# 그 결과값은 어떠한 형식이기를 기대하는지 스스로 한번 생각해보자.\n",
        "\n",
        "print(\"a\"*\"b\")"
      ],
      "execution_count": null,
      "outputs": [
        {
          "output_type": "error",
          "ename": "TypeError",
          "evalue": "ignored",
          "traceback": [
            "\u001b[0;31m---------------------------------------------------------------------------\u001b[0m",
            "\u001b[0;31mTypeError\u001b[0m                                 Traceback (most recent call last)",
            "\u001b[0;32m<ipython-input-6-0ca860515a96>\u001b[0m in \u001b[0;36m<module>\u001b[0;34m()\u001b[0m\n\u001b[1;32m      4\u001b[0m \u001b[0;31m# 그 결과값은 어떠한 형식이기를 기대하는지 스스로 한번 생각해보자.\u001b[0m\u001b[0;34m\u001b[0m\u001b[0;34m\u001b[0m\u001b[0;34m\u001b[0m\u001b[0m\n\u001b[1;32m      5\u001b[0m \u001b[0;34m\u001b[0m\u001b[0m\n\u001b[0;32m----> 6\u001b[0;31m \u001b[0mprint\u001b[0m\u001b[0;34m(\u001b[0m\u001b[0;34m\"a\"\u001b[0m\u001b[0;34m*\u001b[0m\u001b[0;34m\"b\"\u001b[0m\u001b[0;34m)\u001b[0m\u001b[0;34m\u001b[0m\u001b[0;34m\u001b[0m\u001b[0m\n\u001b[0m",
            "\u001b[0;31mTypeError\u001b[0m: can't multiply sequence by non-int of type 'str'"
          ]
        }
      ]
    },
    {
      "cell_type": "markdown",
      "metadata": {
        "id": "DnQC8ftQTMQG"
      },
      "source": [
        "# 위와 같이 엉뚱한 생각을 많이 해보시는 것도 프로그래밍 공부에 도움이 됩니다."
      ]
    },
    {
      "cell_type": "code",
      "metadata": {
        "id": "2k40He_0AoSo",
        "colab": {
          "base_uri": "https://localhost:8080/"
        },
        "outputId": "37adc36b-491f-42c9-d744-082cbee7ab36"
      },
      "source": [
        "print('python' == 'python')\n",
        "\n",
        "# 문자열은 대소문자를 구별한다.\n",
        "print('python' == 'Python')\n",
        "print('a' == 'A')"
      ],
      "execution_count": null,
      "outputs": [
        {
          "output_type": "stream",
          "name": "stdout",
          "text": [
            "True\n",
            "False\n",
            "False\n"
          ]
        }
      ]
    },
    {
      "cell_type": "markdown",
      "metadata": {
        "id": "tf9dWrwH3ZC0"
      },
      "source": [
        "# in 조건문"
      ]
    },
    {
      "cell_type": "code",
      "metadata": {
        "id": "4HjqQowh2usv",
        "colab": {
          "base_uri": "https://localhost:8080/"
        },
        "outputId": "2db701e5-f207-4c88-a2b6-e481d7174103"
      },
      "source": [
        "print('p' in 'python')\n",
        "print('a' in 'python')\n"
      ],
      "execution_count": null,
      "outputs": [
        {
          "output_type": "stream",
          "text": [
            "True\n",
            "False\n"
          ],
          "name": "stdout"
        }
      ]
    },
    {
      "cell_type": "markdown",
      "metadata": {
        "id": "NhbKwq1I3b20"
      },
      "source": [
        "# 위와 같은 in 조건문이 없다면...\n",
        "- 아래와 같이 반복문을 사용해야할 것이다."
      ]
    },
    {
      "cell_type": "code",
      "metadata": {
        "id": "tiEMi_5A3hQk"
      },
      "source": [
        "is_found = False\n",
        "\n",
        "for i in 'python':\n",
        "    if 'p' == i:\n",
        "        is_found = True\n",
        "        break\n",
        "        \n",
        "print(is_found)\n"
      ],
      "execution_count": null,
      "outputs": []
    },
    {
      "cell_type": "code",
      "metadata": {
        "id": "CmgVrZ4o8o30"
      },
      "source": [
        "# 문자열의 문자를 하나씩 출력하고 싶다면 반복문을 사용해보자.\n",
        "a = 'python'\n",
        "\n",
        "i = 0\n",
        "while i<len(a):\n",
        "    print(a[i])\n",
        "    i += 1"
      ],
      "execution_count": null,
      "outputs": []
    },
    {
      "cell_type": "code",
      "metadata": {
        "id": "JUxx7gUN8uiP",
        "colab": {
          "base_uri": "https://localhost:8080/"
        },
        "outputId": "2a987b84-949f-4948-93a5-8aae701e8899"
      },
      "source": [
        "# 예전에도 설명했었지만, 위의 코드 셀 방식보다는 아래 형식을 추천한다.\n",
        "# 굳이 인덱싱을 별도로 할 필요가 없다면 말이다.\n",
        "a = 'python'\n",
        "\n",
        "for ch in a:\n",
        "    print(ch)"
      ],
      "execution_count": null,
      "outputs": [
        {
          "output_type": "stream",
          "text": [
            "p\n",
            "y\n",
            "t\n",
            "h\n",
            "o\n",
            "n\n"
          ],
          "name": "stdout"
        }
      ]
    },
    {
      "cell_type": "code",
      "metadata": {
        "id": "ujDdLe4TPMMT"
      },
      "source": [],
      "execution_count": null,
      "outputs": []
    }
  ]
}