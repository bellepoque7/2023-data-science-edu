{
  "nbformat": 4,
  "nbformat_minor": 0,
  "metadata": {
    "colab": {
      "provenance": [],
      "include_colab_link": true
    },
    "kernelspec": {
      "name": "python3",
      "display_name": "Python 3"
    },
    "language_info": {
      "name": "python"
    }
  },
  "cells": [
    {
      "cell_type": "markdown",
      "metadata": {
        "id": "view-in-github",
        "colab_type": "text"
      },
      "source": [
        "<a href=\"https://colab.research.google.com/github/bellepoque7/2023-data-science-edu/blob/main/Python_5%EC%9E%A5_02_functions_%EC%82%AC%EC%9A%A9%EC%9E%90%EC%A0%95%EC%9D%98%ED%95%A8%EC%88%98_%ED%95%A8%EC%88%98%EC%9D%98_%EC%9D%B4%ED%95%B4_%EB%B0%8F_%ED%99%9C%EC%9A%A9.ipynb\" target=\"_parent\"><img src=\"https://colab.research.google.com/assets/colab-badge.svg\" alt=\"Open In Colab\"/></a>"
      ]
    },
    {
      "cell_type": "markdown",
      "metadata": {
        "id": "8PEnAqqdfnAJ"
      },
      "source": [
        "### 학습목표\n",
        " 1. 함수의 이해\n",
        " 2. 함수 구현 및 사용 숙지"
      ]
    },
    {
      "cell_type": "markdown",
      "metadata": {
        "id": "U58X1eRpfnAL"
      },
      "source": [
        "### 함수?\n",
        "* 지금까지 무심코 코드에서 사용된 많은 함수들이 존재 합니다.\n",
        "* 예를들면, sum, len, range 같은 함수 등이 있죠.\n",
        "* 함수란 우리가 알고있는 개념처럼 주어진 입력(input)에 대해서 의도된 출력(output)를 전달하는 역할을 합니다.\n",
        "\n",
        "* 그렇다면, 하나씩 살펴보겠습니다.\n",
        "  > range 함수는 정수를 입력으로 전달하면 [0, 정수) 로 이루어진 리스트를 생성하는 역할을 합니다.\n",
        "  \n",
        "  > sum 함수는 리스트, 튜플등을 입력으로 전달하면 전체 아이템의 합을 출력으로 전달하는 역할을 합니다.\n",
        "  \n",
        "  > len 함수는 리스트, 튜플등을 입력으로 전달하면 아이템의 개수를 출력으로 전달하는 역할을 합니다.\n",
        "  \n",
        "* 그리고, 위의 함수들은 모두 python 내부에 이미 정의(구현)이 되어 있습니다.\n",
        "* 위와 같은 함수를 내장함수(built-in function)이라고 합니다."
      ]
    },
    {
      "cell_type": "code",
      "metadata": {
        "colab": {
          "base_uri": "https://localhost:8080/"
        },
        "id": "ZCtbMfGHfnAM",
        "outputId": "440eacad-3ae1-4862-cc0c-4b11164e24bc"
      },
      "source": [
        "# 내장 함수의 예\n",
        "a = [1, 2, 3, 4]\n",
        "length = len(a)\n",
        "print(length)\n",
        "\n",
        "summation = sum(a)\n",
        "print(summation)"
      ],
      "execution_count": null,
      "outputs": [
        {
          "output_type": "stream",
          "text": [
            "4\n",
            "10\n"
          ],
          "name": "stdout"
        }
      ]
    },
    {
      "cell_type": "markdown",
      "metadata": {
        "id": "d1xEko_OfnAM"
      },
      "source": [
        "#### **함수의 정의**\n",
        "  + 정의 시 최초에 def 키워드 사용\n",
        "  + argument 정의 (함수에 입력으로 전달하는 값을 의미, argument 또는 parameter라고 함) \n",
        "  + : (콜론) -> 함수 역시 코드 블록이기 때문에 콜론(:) 필요\n",
        "  + body (함수의 구현 부분, 함수 역시 코드 블록이기 때문에 들여쓰기 된 부분까지 함수의 코드블록으로 인지 함)\n",
        "    - 함수를 호출한 코드 (caller)로 함수가 해당 기능을 수행하고 완료된 값(output)을 전달하기 위해 return 키워드 사용\n",
        "    - 즉, return 이후에 오는 값을 caller로 전달\n",
        "  + 함수의 네이밍 역시 중요\n",
        "    - 즉, 어떤 기능을 하는 함수인지 이름으로 최대한 나타날 수 있게 해야함\n",
        "    - e.g) get_a (x) get_student_name (o)"
      ]
    },
    {
      "cell_type": "code",
      "metadata": {
        "id": "sDNozXpNfnAN"
      },
      "source": [
        "def add(x, y):\n",
        "    n = x + y\n",
        "    return n"
      ],
      "execution_count": null,
      "outputs": []
    },
    {
      "cell_type": "code",
      "metadata": {
        "colab": {
          "base_uri": "https://localhost:8080/"
        },
        "id": "6K1i_eWKfnAN",
        "outputId": "33a6fac9-df18-4f27-aba6-4727632213b2"
      },
      "source": [
        "c = add(30, 300)\n",
        "\n",
        "print(c)"
      ],
      "execution_count": null,
      "outputs": [
        {
          "output_type": "stream",
          "text": [
            "330\n"
          ],
          "name": "stdout"
        }
      ]
    },
    {
      "cell_type": "markdown",
      "metadata": {
        "id": "PWJev_wJfnAO"
      },
      "source": [
        "#### **함수의 사용(호출)**\n",
        " + 함수명(파라미터1, 파라미터2, ... 파라미터n)\n",
        " + 위와 같이 정의 된 함수의 이름과 전달되는 parameter(인자)를 괄호안에 전달하여 함수를 호출\n",
        " + 함수가 호출되면 실행의 흐름이 호출자(caller)에서 함수(callee)로 변경 됨\n",
        " \n",
        " + 함수의 입력(인풋) 파라미터(parameter), 아규먼트(argument)라고도 함"
      ]
    },
    {
      "cell_type": "code",
      "metadata": {
        "id": "7JhG2YVLmM6K"
      },
      "source": [],
      "execution_count": null,
      "outputs": []
    },
    {
      "cell_type": "code",
      "metadata": {
        "colab": {
          "base_uri": "https://localhost:8080/"
        },
        "id": "u2WhFiEAfnAO",
        "outputId": "193b7d8b-f344-4585-c6ea-83cb812e0b12"
      },
      "source": [
        "c = add(30, 40)\n",
        "print(c)"
      ],
      "execution_count": null,
      "outputs": [
        {
          "output_type": "stream",
          "text": [
            "70\n"
          ],
          "name": "stdout"
        }
      ]
    },
    {
      "cell_type": "markdown",
      "metadata": {
        "id": "nAE4lqwKfnAO"
      },
      "source": [
        "#### **함수 네이밍(naming)**\n",
        "  * 함수 이름으로부터 기능이 명시 \n",
        "  * 의미와 반대되거나 맞지 않는 이름은 사용금지"
      ]
    },
    {
      "cell_type": "code",
      "metadata": {
        "colab": {
          "base_uri": "https://localhost:8080/"
        },
        "id": "leMORVjXfnAO",
        "outputId": "cccad212-8fd7-4056-9ff2-946e8de5e2fb"
      },
      "source": [
        "def substract(x, y):\n",
        "    sub = x - y\n",
        "    return sub\n",
        "\n",
        "print(substract(4, 3))"
      ],
      "execution_count": null,
      "outputs": [
        {
          "output_type": "stream",
          "text": [
            "1\n"
          ],
          "name": "stdout"
        }
      ]
    },
    {
      "cell_type": "markdown",
      "metadata": {
        "id": "3DrrmKwEfnAP"
      },
      "source": [
        "#### **parameter(argument) (인자)**\n",
        " + 함수에 전달되는 입력(input)\n",
        " + 입력이 필요하지 않을 수도, 1개의 입력만 있을 수도, 여러개의 입력이 존재할 수 도 있음\n",
        " + 파라미터로 int, string, float, boolm, list, dict 등등 어떤 파이썬 객체도 전달 가능\n",
        " + 심지어, 함수도 함수의 파라미터로 전달 가능\n",
        " \n",
        " + python의 경우, 타입 명시가 없기 때문에, 함수 생성 시, 의도된 파라미터의 타입에 맞게 입력을 전달하는 것이 중요\n",
        " + 또한 파라미터를 전달 할 때, 정의된 순서에 따라 값을 전달하는 것이 중요\n"
      ]
    },
    {
      "cell_type": "code",
      "metadata": {
        "colab": {
          "base_uri": "https://localhost:8080/"
        },
        "id": "EjooYycGfnAP",
        "outputId": "f08fb756-b2e5-4ebb-ab0b-a1584f2d4913"
      },
      "source": [
        "def substract(x, y):\n",
        "    sub = x - y\n",
        "    return sub\n",
        "\n",
        "a = substract(100, 70)\n",
        "print(a)"
      ],
      "execution_count": null,
      "outputs": [
        {
          "output_type": "stream",
          "text": [
            "30\n"
          ],
          "name": "stdout"
        }
      ]
    },
    {
      "cell_type": "markdown",
      "metadata": {
        "id": "2oNz6W9yfnAP"
      },
      "source": [
        "####  Default parameter (기본 인자) \n",
        " + 함수의 파라미터에 기본값 지정 가능\n",
        " + 파라미터를 명시하지 않을 경우, 지정된 기본값으로 대체"
      ]
    },
    {
      "cell_type": "code",
      "metadata": {
        "colab": {
          "base_uri": "https://localhost:8080/"
        },
        "id": "4CgZYqX8fnAQ",
        "outputId": "825d19f2-b0a5-4883-cf15-c7fa970e9eb2"
      },
      "source": [
        "def add(x, y=10, z=5):\n",
        "    a = x + y + z\n",
        "    return a\n",
        "add(10)"
      ],
      "execution_count": null,
      "outputs": [
        {
          "output_type": "execute_result",
          "data": {
            "text/plain": [
              "25"
            ]
          },
          "metadata": {
            "tags": []
          },
          "execution_count": 7
        }
      ]
    },
    {
      "cell_type": "code",
      "metadata": {
        "colab": {
          "base_uri": "https://localhost:8080/"
        },
        "id": "qYp_avhChWvE",
        "outputId": "d5f339cb-c506-47f3-9978-e1ce6e1436f4"
      },
      "source": [
        "add(10, 1, 2)"
      ],
      "execution_count": null,
      "outputs": [
        {
          "output_type": "execute_result",
          "data": {
            "text/plain": [
              "13"
            ]
          },
          "metadata": {
            "tags": []
          },
          "execution_count": 8
        }
      ]
    },
    {
      "cell_type": "markdown",
      "metadata": {
        "id": "0uElUjLlfnAQ"
      },
      "source": [
        "* **기본 파라미터의 다른 예**\n",
        " - print 함수\n",
        "   - sep, end, file등 여러 기본 파라미터를 가짐 "
      ]
    },
    {
      "cell_type": "code",
      "metadata": {
        "colab": {
          "base_uri": "https://localhost:8080/"
        },
        "id": "_HcR9wp8fnAQ",
        "outputId": "d08281f9-0dcf-4d8e-8b8e-46ecd3934469"
      },
      "source": [
        "print(1, 2, 3, sep='!', end='%%%')\n",
        "print(2, 3, 4, sep='p')"
      ],
      "execution_count": null,
      "outputs": [
        {
          "output_type": "stream",
          "text": [
            "1!2!3%%%2p3p4\n"
          ],
          "name": "stdout"
        }
      ]
    },
    {
      "cell_type": "markdown",
      "metadata": {
        "id": "oFGLWgzUfnAR"
      },
      "source": [
        "####  Default parameter 사용 시 주의 점\n",
        "  * 디폴트 파라미터 뒤에 일반 파라미터가 위치할 수 없음\n",
        "  \n",
        "  * e.g) 올바른 예\n",
        "    > def test(a, b, c = 1)\n",
        "    \n",
        "    > def test(a, b = 1, c = 2)\n",
        "    \n",
        "    > def test(a = 1, b = 1, c = 3)\n",
        "    \n",
        "  * e.g) 올바르지 않은 예\n",
        "    > def test(a, b = 1, c)\n",
        "    \n",
        "    > def test(a = 1, b, c)\n",
        "    \n",
        "    > def test(a = 1, b = 1, c)"
      ]
    },
    {
      "cell_type": "code",
      "metadata": {
        "colab": {
          "base_uri": "https://localhost:8080/",
          "height": 130
        },
        "id": "IRwB4tyFfnAR",
        "outputId": "4b57350b-fe55-464c-e46d-354ef71ce63f"
      },
      "source": [
        "def test(a, b=3, c):\n",
        "    print(a, b, c)\n",
        "    \n",
        "test(10, 20, 1)"
      ],
      "execution_count": null,
      "outputs": [
        {
          "output_type": "error",
          "ename": "SyntaxError",
          "evalue": "ignored",
          "traceback": [
            "\u001b[0;36m  File \u001b[0;32m\"<ipython-input-11-a26a25714758>\"\u001b[0;36m, line \u001b[0;32m1\u001b[0m\n\u001b[0;31m    def test(a, b=3, c):\u001b[0m\n\u001b[0m            ^\u001b[0m\n\u001b[0;31mSyntaxError\u001b[0m\u001b[0;31m:\u001b[0m non-default argument follows default argument\n"
          ]
        }
      ]
    },
    {
      "cell_type": "markdown",
      "metadata": {
        "id": "-NoTf5dvfnAR"
      },
      "source": [
        "#### **keyword parameter (키워드 파라미터)**\n",
        "  * 파이썬의 경우, 파라미터에 값을 전달 할 때, 파라미터의 이름을 명시하여 전달 가능\n",
        "  * 파라미터 이름을 사용하지 않을 경우, 기본적으로 순서에 맞게 전달"
      ]
    },
    {
      "cell_type": "code",
      "metadata": {
        "colab": {
          "base_uri": "https://localhost:8080/"
        },
        "id": "V04gmgcQfnAS",
        "outputId": "32d83484-aa73-4340-bb71-7588b5b2977b"
      },
      "source": [
        "def test(x, y, z):\n",
        "    a = x + y + z\n",
        "    return a\n",
        "\n",
        "test(x=10, z=3, y=50)"
      ],
      "execution_count": null,
      "outputs": [
        {
          "output_type": "execute_result",
          "data": {
            "text/plain": [
              "63"
            ]
          },
          "metadata": {
            "tags": []
          },
          "execution_count": 12
        }
      ]
    },
    {
      "cell_type": "markdown",
      "metadata": {
        "id": "1nQWH2TXfnAS"
      },
      "source": [
        "#### **return (리턴)**\n",
        " + 기본적으로 함수의 종료를 명시\n",
        "   + return 옆에 값이나 수식이 있다면 해당 값을 호출자(caller)에게 반환(전달)\n",
        "   + return 만 존재하면 None 반환\n",
        "   + return이 없는 경우, 기본적으로 함수 코드 블록이 종료되면 종료로 간주. 이때도 None 반환"
      ]
    },
    {
      "cell_type": "code",
      "metadata": {
        "colab": {
          "base_uri": "https://localhost:8080/"
        },
        "id": "bAMISrXYfnAS",
        "outputId": "0b13ccd5-f69f-4d8b-892e-d5a1263b7983"
      },
      "source": [
        "def weird_multiply(x, y):\n",
        "    if x > 10:\n",
        "        return x * y\n",
        "    \n",
        "    print(x + y)\n",
        "    return (x + 2) * y\n",
        "\n",
        "weird_multiply(12, 5)"
      ],
      "execution_count": null,
      "outputs": [
        {
          "output_type": "execute_result",
          "data": {
            "text/plain": [
              "60"
            ]
          },
          "metadata": {
            "tags": []
          },
          "execution_count": 13
        }
      ]
    },
    {
      "cell_type": "code",
      "metadata": {
        "colab": {
          "base_uri": "https://localhost:8080/"
        },
        "id": "QzvdVAlufnAS",
        "outputId": "691851a3-23b4-46af-c6cc-730ca85bcd46"
      },
      "source": [
        "def weird_multiply(x, y):\n",
        "    if x > 10:\n",
        "        return x * y\n",
        "    \n",
        "    print(x + y)\n",
        "    return (x + 2) * y\n",
        "\n",
        "c = weird_multiply(1, 5)\n",
        "print(c)"
      ],
      "execution_count": null,
      "outputs": [
        {
          "output_type": "stream",
          "text": [
            "6\n",
            "15\n"
          ],
          "name": "stdout"
        }
      ]
    },
    {
      "cell_type": "code",
      "metadata": {
        "colab": {
          "base_uri": "https://localhost:8080/"
        },
        "id": "O8qxPzNSfnAT",
        "outputId": "80af2bc7-479c-431c-c04b-b5fa7af924eb"
      },
      "source": [
        "def weird_multiply(x, y):\n",
        "    if x > 10:\n",
        "        return x * y\n",
        "    # return이 생략된 것과 마찬가지\n",
        "c = weird_multiply(2, 5)\n",
        "print(c)"
      ],
      "execution_count": null,
      "outputs": [
        {
          "output_type": "stream",
          "text": [
            "None\n"
          ],
          "name": "stdout"
        }
      ]
    },
    {
      "cell_type": "markdown",
      "metadata": {
        "id": "d-2jQdgNfnAT"
      },
      "source": [
        "#### **multiple return (복수 값 반환)**\n",
        " + tuple반환을 하여 복수개의 값 리턴 가능"
      ]
    },
    {
      "cell_type": "code",
      "metadata": {
        "colab": {
          "base_uri": "https://localhost:8080/"
        },
        "id": "3YX0V408fnAT",
        "outputId": "322f0a36-c1e3-4d2f-f83a-113d75e88eb0"
      },
      "source": [
        "def add_mul(x, y):\n",
        "    s = x + y\n",
        "    m = x * y\n",
        "    \n",
        "    return s, m\n",
        "\n",
        "a, b = add_mul(20, 3)\n",
        "print(a, b)"
      ],
      "execution_count": null,
      "outputs": [
        {
          "output_type": "stream",
          "text": [
            "23 60\n"
          ],
          "name": "stdout"
        }
      ]
    },
    {
      "cell_type": "markdown",
      "metadata": {
        "id": "qU00yqJlfnAT"
      },
      "source": [
        "#### **variable scope (변수의 범위)** \n",
        " + 변수가 참조 가능한 코드상의 범위를 명시\n",
        " + 함수내의 변수는 자신이 속한 코드 블록이 종료되면 소멸됨\n",
        " + 이렇게 특정 코드 블록에서 선언된 변수를 **지역변수(local variable)** 이라고 함\n",
        " + 반대로 가장 상단에서 정의되어 프로그램 종료 전까지 유지되는 변수를 **전역변수(global variable)**이라고 함\n",
        " + 같은 이름의 지역변수와 전역변수가 존재할 경우, 지역변수의 우선순위가 더 높음"
      ]
    },
    {
      "cell_type": "code",
      "metadata": {
        "colab": {
          "base_uri": "https://localhost:8080/"
        },
        "id": "e6aSX1ZifnAU",
        "outputId": "007a4029-35d7-4b5e-a587-bae9382f20c9"
      },
      "source": [
        "num1 = 10\n",
        "num2 = 30\n",
        "\n",
        "def test(num1, num2):\n",
        "    print(num1, num2)\n",
        "\n",
        "test(30, 40)\n",
        "print(num1, num2)\n",
        "    "
      ],
      "execution_count": null,
      "outputs": [
        {
          "output_type": "stream",
          "text": [
            "30 40\n",
            "10 30\n"
          ],
          "name": "stdout"
        }
      ]
    },
    {
      "cell_type": "code",
      "metadata": {
        "colab": {
          "base_uri": "https://localhost:8080/"
        },
        "id": "aFBV3iggfnAU",
        "outputId": "bec59db4-33de-4b45-fbda-918afecf32bc"
      },
      "source": [
        "print(num1, num2)"
      ],
      "execution_count": null,
      "outputs": [
        {
          "output_type": "stream",
          "text": [
            "10 30\n"
          ],
          "name": "stdout"
        }
      ]
    },
    {
      "cell_type": "markdown",
      "metadata": {
        "id": "xFdstRCRfnAU"
      },
      "source": [
        "#### **variable length argument (가변길이 인자)**\n",
        " - 전달되는 파라미터의 개수가 고정적이지 않은 경우 사용\n",
        " - e.g)\n",
        "   - print 함수\n",
        "   - format 함수\n",
        "  \n",
        "> ***args**,  ****kwargs**\n",
        "\n",
        "> ***args**    : 파라미터를 튜플의 형태로 전달\n",
        "\n",
        "> ****kwargs** : 파리미터를 딕셔너리 형태로 전달(네임드 파라미터)"
      ]
    },
    {
      "cell_type": "code",
      "metadata": {
        "colab": {
          "base_uri": "https://localhost:8080/"
        },
        "id": "AdgWoTNIfnAV",
        "outputId": "f62d1579-c048-4a04-beaf-835d652dd7c2"
      },
      "source": [
        "def test(*args): # arguments\n",
        "    for item in args:\n",
        "        print(item)\n",
        "    \n",
        "test(10, 30, 40, 50, 60, 70)\n",
        "    "
      ],
      "execution_count": null,
      "outputs": [
        {
          "output_type": "stream",
          "text": [
            "10\n",
            "30\n",
            "40\n",
            "50\n",
            "60\n",
            "70\n"
          ],
          "name": "stdout"
        }
      ]
    },
    {
      "cell_type": "markdown",
      "metadata": {
        "id": "I_nnvICsfnAW"
      },
      "source": [
        "#### **keyword parameter (키워드 파라미터)**\n",
        " - \\**가 붙은 경우에는 키워드 파라미터로 인식\n",
        " - 즉 함수 호출 시, 파리미터의 이름과 값을 함께 전달 가능"
      ]
    },
    {
      "cell_type": "code",
      "metadata": {
        "colab": {
          "base_uri": "https://localhost:8080/"
        },
        "id": "OvWBtftrfnAW",
        "outputId": "e1623086-9f75-4d30-da8f-722322c9a580"
      },
      "source": [
        "def test2(**kwargs): # key word arguments \n",
        "    for key, value in kwargs.items():\n",
        "        print('key:', key, ', value:', value)\n",
        "    \n",
        "test2(a=1, b=2, c=3, d=4, name='Leo')\n",
        "    "
      ],
      "execution_count": null,
      "outputs": [
        {
          "output_type": "stream",
          "text": [
            "key: a , value: 1\n",
            "key: b , value: 2\n",
            "key: c , value: 3\n",
            "key: d , value: 4\n",
            "key: name , value: Leo\n"
          ],
          "name": "stdout"
        }
      ]
    },
    {
      "cell_type": "markdown",
      "metadata": {
        "id": "btSIdOwyfnAY"
      },
      "source": [
        "* 가변길이 함수의 대표적인 예\n",
        " **문자열 포맷 함수**\n",
        " - 여러가지 값과 포맷을 이용하여 문자열을 정의할 수 있는 함수\n",
        " - {} placeholder를 문자열 내에 위치 시킨 후, 해당 위치에 format함수로 전달된 값으로 대체하여 문자열 생성\n",
        " - 포맷 구성은 다음 링크 참조 : https://pyformat.info/"
      ]
    },
    {
      "cell_type": "code",
      "metadata": {
        "colab": {
          "base_uri": "https://localhost:8080/"
        },
        "id": "OXSoPnwrfnAZ",
        "outputId": "5f92f4ab-36b2-4a0b-ada2-03692e252652"
      },
      "source": [
        "a = '오늘 온도: {today_temp}도, 강수확률은: {today_prob}% 내일온도: {tomorrow_temp}도'.format(tomorrow_temp=23, today_prob=40, today_temp=40)\n",
        "print(a)"
      ],
      "execution_count": null,
      "outputs": [
        {
          "output_type": "stream",
          "text": [
            "오늘 온도: 40도, 강수확률은: 40% 내일온도: 23도\n"
          ],
          "name": "stdout"
        }
      ]
    },
    {
      "cell_type": "code",
      "metadata": {
        "id": "FOBdb8p0nW0G"
      },
      "source": [],
      "execution_count": null,
      "outputs": []
    }
  ]
}