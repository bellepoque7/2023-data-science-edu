{
  "cells": [
    {
      "cell_type": "markdown",
      "metadata": {
        "colab_type": "text",
        "id": "view-in-github"
      },
      "source": [
        "<a href=\"https://colab.research.google.com/github/bellepoque7/2023-data-science-edu/blob/main/Python_1%EC%9E%A5_04_operators(%EC%97%B0%EC%82%B0%EC%9E%90).ipynb\" target=\"_parent\"><img src=\"https://colab.research.google.com/assets/colab-badge.svg\" alt=\"Open In Colab\"/></a>"
      ]
    },
    {
      "cell_type": "markdown",
      "metadata": {
        "id": "mfAUeNGH8pk2"
      },
      "source": [
        "# 연산자(operators)를 사용해보자."
      ]
    },
    {
      "cell_type": "markdown",
      "metadata": {
        "id": "r9P8YkF7x2pK"
      },
      "source": [
        "# 1. 산술 연산자"
      ]
    },
    {
      "cell_type": "markdown",
      "metadata": {},
      "source": []
    },
    {
      "cell_type": "code",
      "execution_count": null,
      "metadata": {
        "colab": {
          "base_uri": "https://localhost:8080/"
        },
        "id": "vSgqciUsvHMI",
        "outputId": "1e08d817-796d-49c5-e8d4-558980cb08f2",
        "vscode": {
          "languageId": "python"
        }
      },
      "outputs": [
        {
          "name": "stdout",
          "output_type": "stream",
          "text": [
            "12\n"
          ]
        }
      ],
      "source": [
        "# 산술 연산자는 가장 기본적인 연산자다.\n",
        "# 대부분의 연산자는 일반적으로 수학에서 사용하는 심볼과 동일하다.\n",
        "\n",
        "print(3+4+5)"
      ]
    },
    {
      "cell_type": "code",
      "execution_count": null,
      "metadata": {
        "colab": {
          "base_uri": "https://localhost:8080/"
        },
        "id": "PnZDCsqaxOc8",
        "outputId": "f23d355c-499e-4d92-ab26-4bb77041db32",
        "vscode": {
          "languageId": "python"
        }
      },
      "outputs": [
        {
          "name": "stdout",
          "output_type": "stream",
          "text": [
            "2\n"
          ]
        }
      ],
      "source": [
        "# 아래의 결과로부터 - 연산자를 먼저 계산하는 것을 알수 있다.\n",
        "# 즉, 괄호 부분을 먼저 계산한다.\n",
        "print(3+(4-5))"
      ]
    },
    {
      "cell_type": "code",
      "execution_count": null,
      "metadata": {
        "colab": {
          "base_uri": "https://localhost:8080/"
        },
        "id": "_Pp7X4SGxa1q",
        "outputId": "f87eba31-90f8-40c9-8a44-760ed7bcac04",
        "vscode": {
          "languageId": "python"
        }
      },
      "outputs": [
        {
          "name": "stdout",
          "output_type": "stream",
          "text": [
            "2\n"
          ]
        }
      ],
      "source": [
        "# 아래의 결과로부터 + 연산자를 먼저 계산하는 것을 알수 있다.\n",
        "print(3+4-5) \n",
        "\n",
        "# 즉, +,- 연산자는 왼쪽 연산자를 먼저 계산한다.\n",
        "# 우리가 일상 생활에서 사용하는 연산자의 우선 순위와 동일하게 동작한다."
      ]
    },
    {
      "cell_type": "code",
      "execution_count": null,
      "metadata": {
        "colab": {
          "base_uri": "https://localhost:8080/"
        },
        "id": "t8ic6NJQekPW",
        "outputId": "baed2d2c-40d2-40b6-b56a-db178c02fc68",
        "vscode": {
          "languageId": "python"
        }
      },
      "outputs": [
        {
          "name": "stdout",
          "output_type": "stream",
          "text": [
            "23\n",
            "27\n"
          ]
        }
      ],
      "source": [
        "# 아래의 결과로부터 * 연산자가 + 연산자보다 먼저 계산한다는 것을 알 수 있다.\n",
        "# 즉, 곱셈은 덧셈보다 우선 연산한다.\n",
        "print(3+4*5)\n",
        "\n",
        "# 그래서 덧셈을 먼저하고 싶으면 괄호(  )로 감싸주면 된다.\n",
        "print(3*(4+5))"
      ]
    },
    {
      "cell_type": "code",
      "execution_count": null,
      "metadata": {
        "colab": {
          "base_uri": "https://localhost:8080/"
        },
        "id": "zkrqvl9Y819-",
        "outputId": "783101ba-ad4b-4ee8-b5b5-f62c85514907",
        "vscode": {
          "languageId": "python"
        }
      },
      "outputs": [
        {
          "name": "stdout",
          "output_type": "stream",
          "text": [
            "35\n",
            "3.3333333333333335\n",
            "3\n",
            "2\n",
            "2\n",
            "1\n"
          ]
        }
      ],
      "source": [
        "# 즉, 괄호도 연산자다.\n",
        "# 괄호는 연산의 우선 순위를 결정해준다.\n",
        "print((3+4)*5)\n",
        "\n",
        "# /는 실수 나눗셈이다. 실수 나눗셈이란 나눗셈의 결과가 실수로 나오는 것을 말한다.\n",
        "print(10/3)\n",
        "\n",
        "# //는 정수 나눗셈이다. 나눗셈의 결과로 정수값을 반환한다. \n",
        "# 나눗셈 연산 후 결과값을 내림. 즉 소수부분을 버리고 정수부분만 남겨둠. 이걸 floor division 라고 함\n",
        "print(10//3)\n",
        "\n",
        "x = int(5 / 2)  # 5를 2로 나눈 후 정수로 변환\n",
        "print(x)    \n",
        "\n",
        "x = 5 // 2      # 5를 2로 나눈 후 소수 부분을 버림\n",
        "print(x) \n",
        "\n",
        "# %는 나머지 연산자이다.\n",
        "print(10%3)"
      ]
    },
    {
      "cell_type": "markdown",
      "metadata": {
        "id": "DmlaTfPtxsfh"
      },
      "source": [
        "# 2. 관계 연산자(비교 연산자)"
      ]
    },
    {
      "cell_type": "code",
      "execution_count": null,
      "metadata": {
        "colab": {
          "base_uri": "https://localhost:8080/"
        },
        "id": "eo7rBGwZH2JW",
        "outputId": "f25ff8ca-f463-43ad-fc2b-ee6cc9af1a95",
        "vscode": {
          "languageId": "python"
        }
      },
      "outputs": [
        {
          "name": "stdout",
          "output_type": "stream",
          "text": [
            "True\n",
            "<class 'bool'>\n",
            "False\n"
          ]
        }
      ],
      "source": [
        "# 관계 연산자를 설명하기 전에 \n",
        "# boolean(불리언, 부울) 자료형을 간단히 설명하자.\n",
        "# boolean 자료형은 True 또는 False를 값으로 가지는 자료형이다.\n",
        "\n",
        "a = True\n",
        "print(a)\n",
        "print(type(a))\n",
        "\n",
        "b = False\n",
        "print(b)\n",
        "\n",
        "# True 또는 False 값을 가지는 자료형을 boolean(불리언) 자료형이라고 한다.\n",
        "# 첫 글자가 대문자이다. 조심하자.\n",
        "# 나중에 다시 자세하게 설명한다."
      ]
    },
    {
      "cell_type": "code",
      "execution_count": null,
      "metadata": {
        "colab": {
          "base_uri": "https://localhost:8080/"
        },
        "id": "8lw2_St8w9MS",
        "outputId": "6719690a-a765-49c5-fe40-a5d6689c552a",
        "vscode": {
          "languageId": "python"
        }
      },
      "outputs": [
        {
          "name": "stdout",
          "output_type": "stream",
          "text": [
            "True\n",
            "False\n",
            "False\n",
            "True\n",
            "False\n",
            "True\n",
            "True\n",
            "False\n",
            "True\n"
          ]
        }
      ],
      "source": [
        "# 관계 연산자의 의미\n",
        "# 관계 연산자의 결과는 True 또는 False이다.\n",
        "# 관계를 검사한다는 의미이므로, 관계가 만족하면 True를 그렇지 않으면 False가 된다.\n",
        "\n",
        "print(1 == 1) # 같은지\n",
        "print(1 == 2)\n",
        "print(1 != 1) # 다른지\n",
        "print(1 != 2)\n",
        "print(1 > 1) # 큰지\n",
        "print(1 < 2) # 작은지\n",
        "print(1 >= 1) # 크거나 같은지\n",
        "print(1 >= 2) \n",
        "print(1 <= 2) # 작거나 같은지"
      ]
    },
    {
      "cell_type": "markdown",
      "metadata": {
        "id": "BgptyF8XWmvu"
      },
      "source": [
        "# 위와 같은 관계 연산자를 언제 사용하면 좋을까?"
      ]
    },
    {
      "cell_type": "code",
      "execution_count": null,
      "metadata": {
        "colab": {
          "base_uri": "https://localhost:8080/"
        },
        "id": "lPqC-Ovxal1P",
        "outputId": "2b7901a5-d702-4bb4-a658-bf97e212542b",
        "vscode": {
          "languageId": "python"
        }
      },
      "outputs": [
        {
          "name": "stdout",
          "output_type": "stream",
          "text": [
            "no is 10\n"
          ]
        }
      ],
      "source": [
        "# 향후에 배우게 될 조건문과 반복문 등의 제어문(control statements)에서 많이 사용한다.\n",
        "# 아래는 값을 비교해서 행동을 결정하는 조건문이다.\n",
        "\n",
        "no = 10\n",
        "if no == 10:\n",
        "    print(\"no is 10\")\n",
        "    \n",
        "else:\n",
        "    print(\"no is not 10\")\n",
        "\n",
        "# 조건문은 잠시 후에 자세하게 배워보자."
      ]
    },
    {
      "cell_type": "code",
      "execution_count": null,
      "metadata": {
        "colab": {
          "base_uri": "https://localhost:8080/"
        },
        "id": "WDgUQfoVfKYM",
        "outputId": "c926d49a-4e74-45b6-9258-ffdd16adcf7d",
        "vscode": {
          "languageId": "python"
        }
      },
      "outputs": [
        {
          "name": "stdout",
          "output_type": "stream",
          "text": [
            "addition from i to 10 is 55\n"
          ]
        }
      ],
      "source": [
        "# 비교 연산자는 아래와 같은 반복문에서도 많이 사용된다.\n",
        "# 아래는 1부터 10까지의 숫자들의 합을 출력한다.\n",
        "\n",
        "i = 1\n",
        "add = 0\n",
        "\n",
        "while i <= 10:\n",
        "    add = add + i\n",
        "    i = i + 1\n",
        "\n",
        "print('addition from i to 10 is', add)\n",
        "\n",
        "# 반복문은 잠시 후에 자세하게 배워보자."
      ]
    },
    {
      "cell_type": "markdown",
      "metadata": {
        "id": "FBrC_nywzEqo"
      },
      "source": [
        "# 3. 논리 연산자"
      ]
    },
    {
      "cell_type": "code",
      "execution_count": null,
      "metadata": {
        "colab": {
          "base_uri": "https://localhost:8080/"
        },
        "id": "E_7b0HSxw-cK",
        "outputId": "b66ab617-aac3-4b56-94bb-a1b820ccee95",
        "vscode": {
          "languageId": "python"
        }
      },
      "outputs": [
        {
          "name": "stdout",
          "output_type": "stream",
          "text": [
            "False\n",
            "True\n",
            "True\n",
            "True\n",
            "False\n"
          ]
        }
      ],
      "source": [
        "# 논리 연산자는 and, or, not 가 있다.\n",
        "# 논리 연산자의 결과는 True 또는 False이다.\n",
        "# 또한, 논리 연산자의 피연산자가 논리값이다. 그래서 논리연산자라고 하는 것이다.\n",
        "\n",
        "print(True and False) # and 연산자는 피연산자 2개가 모두 True인 경우에 True\n",
        "print(True and True)\n",
        "print(True or False) # or 연산자는 피연산자 중 1개라도 True인 경우에 True\n",
        "print(True or True)\n",
        "print(False or False)"
      ]
    },
    {
      "cell_type": "code",
      "execution_count": null,
      "metadata": {
        "colab": {
          "base_uri": "https://localhost:8080/"
        },
        "id": "WqiTNNSIXFCF",
        "outputId": "b177f631-db5d-4b16-9cfb-9df1aa479db7",
        "vscode": {
          "languageId": "python"
        }
      },
      "outputs": [
        {
          "name": "stdout",
          "output_type": "stream",
          "text": [
            "True\n",
            "False\n",
            "False\n",
            "False\n",
            "True\n",
            "True\n",
            "True\n",
            "False\n",
            "False\n"
          ]
        }
      ],
      "source": [
        "print(1==1 and 2==2)\n",
        "print(1!=1 and 2==2)\n",
        "print(1==1 and 2!=2)\n",
        "print(1!=1 and 2!=2)\n",
        "print(1==1 or 2==2)\n",
        "print(1!=1 or 2==2)\n",
        "print(1==1 or 2!=2)\n",
        "print(1!=1 or 2!=2)\n",
        "print(not 10 > 5) # not 연산자는 반대"
      ]
    },
    {
      "cell_type": "markdown",
      "metadata": {
        "id": "1X1AJkRdXXl0"
      },
      "source": [
        "# 이런 논리 연산자는 언제 사용할까요?"
      ]
    },
    {
      "cell_type": "code",
      "execution_count": null,
      "metadata": {
        "colab": {
          "base_uri": "https://localhost:8080/"
        },
        "id": "oxH86GgLbeKi",
        "outputId": "5aea1305-8abd-4265-cc80-90eb04c6343c",
        "vscode": {
          "languageId": "python"
        }
      },
      "outputs": [
        {
          "name": "stdout",
          "output_type": "stream",
          "text": [
            "Anyone is not positive\n"
          ]
        }
      ],
      "source": [
        "# 아래와 같은 경우에 사용할 수 있다.\n",
        "\n",
        "no1 = 10\n",
        "no2 = -10\n",
        "if no1 > 0 and no2 > 0:\n",
        "    print(\"Two numbers are positive\")\n",
        "else:\n",
        "    print(\"Anyone is not positive\")"
      ]
    },
    {
      "cell_type": "markdown",
      "metadata": {
        "id": "IOjHBKWXE40b"
      },
      "source": [
        "# 다시 한번 더 강조!!! 이런 논리 연산자와 관계 연산자는 언제 사용할까?\n",
        "- 조금 있으면 조건문이나 반복문을 배운다. 그때 요긴하게 사용된다.조금만 기다리자.\n"
      ]
    },
    {
      "cell_type": "markdown",
      "metadata": {
        "id": "kIzUpCwWzK-g"
      },
      "source": [
        "# 4. 대입 연산자"
      ]
    },
    {
      "cell_type": "code",
      "execution_count": null,
      "metadata": {
        "colab": {
          "base_uri": "https://localhost:8080/"
        },
        "id": "SSdWbOrOwYnu",
        "outputId": "a8c18ef3-1952-4340-b96a-9c2e1a1fcfd6",
        "vscode": {
          "languageId": "python"
        }
      },
      "outputs": [
        {
          "name": "stdout",
          "output_type": "stream",
          "text": [
            "10\n",
            "10 20\n"
          ]
        }
      ],
      "source": [
        "# 대입 연산자는 변수에 값을 대입한다.\n",
        "a = 10\n",
        "print(a)\n",
        "\n",
        "# 2개 이상의 변수에 동시에 대입이 가능하다.\n",
        "a, b = 10, 20 # tuple(튜플)이라고 하는 자료형인데, 나중에 설명한다.\n",
        "print(a,b)"
      ]
    },
    {
      "cell_type": "code",
      "execution_count": null,
      "metadata": {
        "colab": {
          "base_uri": "https://localhost:8080/"
        },
        "id": "eqywi1ozXtRL",
        "outputId": "543483cd-9aad-4a80-d972-1f0d1aca769e",
        "vscode": {
          "languageId": "python"
        }
      },
      "outputs": [
        {
          "name": "stdout",
          "output_type": "stream",
          "text": [
            "10 20\n",
            "20 10\n"
          ]
        }
      ],
      "source": [
        "# 따라서, 변수들 사이의 값을 서로 맞바꾸고 싶으면 아래와 같이 해도된다.\n",
        "print(a,b)\n",
        "a, b = b, a\n",
        "print(a,b)"
      ]
    },
    {
      "cell_type": "code",
      "execution_count": null,
      "metadata": {
        "colab": {
          "base_uri": "https://localhost:8080/"
        },
        "id": "atsamntfw_ZB",
        "outputId": "c8ada5ba-aac4-4cbb-9631-77da92de70d3",
        "vscode": {
          "languageId": "python"
        }
      },
      "outputs": [
        {
          "name": "stdout",
          "output_type": "stream",
          "text": [
            "30\n",
            "20\n",
            "40\n",
            "20\n",
            "0\n"
          ]
        }
      ],
      "source": [
        "# 대입 연산자는 이외에도 ‘복합 대입 연산자’가 있다. \n",
        "# +=, -=, *=, /=, //=, %=, **= 들이 복합 대입 연산자다.\n",
        "\n",
        "a = 10\n",
        "\n",
        "# += 연산자는 좌측의 변수의 값에 '더해서 넣는다'\n",
        "a += 20 # a = a + 20\n",
        "print(a)\n",
        "\n",
        "a -= 10\n",
        "print(a)\n",
        "\n",
        "a *= 2\n",
        "print(a)\n",
        "\n",
        "a //= 2\n",
        "print(a)\n",
        "\n",
        "a %= 2\n",
        "print(a)"
      ]
    },
    {
      "cell_type": "code",
      "execution_count": null,
      "metadata": {
        "colab": {
          "base_uri": "https://localhost:8080/"
        },
        "id": "ZQRuYksjq0Zp",
        "outputId": "0fdf9832-5917-47af-9af3-6828dae45b3b",
        "vscode": {
          "languageId": "python"
        }
      },
      "outputs": [
        {
          "name": "stdout",
          "output_type": "stream",
          "text": [
            "40\n"
          ]
        }
      ],
      "source": [
        "a = 10\n",
        "a += 20\n",
        "a -= 10\n",
        "a *= 2\n",
        "print(a)"
      ]
    },
    {
      "cell_type": "markdown",
      "metadata": {
        "id": "1c0eYrk6zTvf"
      },
      "source": [
        "# 5. 조건 연산자 in"
      ]
    },
    {
      "cell_type": "code",
      "execution_count": null,
      "metadata": {
        "colab": {
          "base_uri": "https://localhost:8080/"
        },
        "id": "-KV5x2UT9G6d",
        "outputId": "bce3cb87-2e62-40ae-ec5d-24c3e562d9b2",
        "vscode": {
          "languageId": "python"
        }
      },
      "outputs": [
        {
          "name": "stdout",
          "output_type": "stream",
          "text": [
            "True\n",
            "False\n"
          ]
        }
      ],
      "source": [
        "# in과 같은 연산자를 조건 연산자라고 한다.\n",
        "# 조건 연산자는 향후에 자세하게 나온다.\n",
        "# 지금은 일단 설명하지는 않겠다.\n",
        "\n",
        "lis = [1, 2, 3]\n",
        "print(1 in lis)\n",
        "print(1 not in lis)"
      ]
    },
    {
      "cell_type": "markdown",
      "metadata": {
        "id": "OzaizdMYFGqM"
      },
      "source": [
        "# [각자 실습 해보자]\n",
        "\n",
        "아래의 셀에서 각가 다양한 연산자를 사용해보자."
      ]
    },
    {
      "cell_type": "code",
      "execution_count": null,
      "metadata": {
        "id": "VKr5U7m95U32",
        "vscode": {
          "languageId": "python"
        }
      },
      "outputs": [],
      "source": [
        "# 여기에..."
      ]
    }
  ],
  "metadata": {
    "colab": {
      "include_colab_link": true,
      "provenance": []
    },
    "kernelspec": {
      "display_name": "Python 3",
      "name": "python3"
    }
  },
  "nbformat": 4,
  "nbformat_minor": 0
}
