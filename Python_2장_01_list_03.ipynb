{
  "nbformat": 4,
  "nbformat_minor": 0,
  "metadata": {
    "colab": {
      "provenance": [],
      "include_colab_link": true
    },
    "kernelspec": {
      "name": "python3",
      "display_name": "Python 3"
    }
  },
  "cells": [
    {
      "cell_type": "markdown",
      "metadata": {
        "id": "view-in-github",
        "colab_type": "text"
      },
      "source": [
        "<a href=\"https://colab.research.google.com/github/bellepoque7/2023-data-science-edu/blob/main/Python_2%EC%9E%A5_01_list_03.ipynb\" target=\"_parent\"><img src=\"https://colab.research.google.com/assets/colab-badge.svg\" alt=\"Open In Colab\"/></a>"
      ]
    },
    {
      "cell_type": "markdown",
      "metadata": {
        "id": "kmNE6h4FlPA_"
      },
      "source": [
        "# 리스트 조작과 관련된 여러 함수들\n",
        "\n",
        "# 이제 메쏘드(method)라는 개념을 구제적으로 알아야한다.\n",
        "- 이 단어는 클래스(class)와 관련있다.\n",
        "- 클래스는 객체 지향 프로그래밍(OOP: object-oriented programming)관련 있다.\n",
        "- 객체(object)는 '값(data)'와 '함수(function)을 합친 개념이다.\n",
        "- 파이썬에서는 모든 데이터는 객체다\n",
        "\n",
        "# ...간단하게 말하면...\n",
        "- 객체 이름 뒤에 .을 붙여서 객체에서 제공하는 여러 기능을 사용할 수 있다.\n",
        "- 그 기능을 메쏘드(method)라고 한다.\n",
        "\n",
        "# 리스트 객체에도 다양한 메쏘드들이 있다.\n",
        "- 하나씩 배워보자.\n",
        "- 지금 다 기억할 필요없다.\n",
        "- 이런 기능들이 있구나...하는 생각만 가지면 된다.\n",
        "- 나중에 필요할때 웹 검색해서 사용하면 된다.\n",
        "- 검색창에서 '파이썬', '리스트', '메쏘드' 등의 키워드로..."
      ]
    },
    {
      "cell_type": "code",
      "metadata": {
        "id": "hid6nJ3jovll",
        "colab": {
          "base_uri": "https://localhost:8080/"
        },
        "outputId": "8fe3e524-c95e-4f39-e175-564da35d4fff"
      },
      "source": [
        "# 예제로 설명하자.\n",
        "\n",
        "# 아래의 sample이라는 변수는 str(스트링) 클래스의 객체라는 말이다.\n",
        "sample = 'test'\n",
        "print(type(sample))\n",
        "\n",
        "# 아래는 str 객체의 앞글자를 대문자로 '변경해서 \"반환\"'하는 capitalize() 메쏘드를 사용하는 것이다.\n",
        "print(sample.capitalize())word_list = \"I_love_python\".split('_')\n",
        "# 즉, 해당 str 객체가 변경되지 않는다. str 객체는 immutable이기 때문이기도 하다.\n",
        "print(sample)"
      ],
      "execution_count": null,
      "outputs": [
        {
          "output_type": "stream",
          "text": [
            "<class 'str'>\n",
            "Test\n",
            "test\n"
          ],
          "name": "stdout"
        }
      ]
    },
    {
      "cell_type": "markdown",
      "metadata": {
        "id": "gia0YTTycrb5"
      },
      "source": [
        "# in 키워드"
      ]
    },
    {
      "cell_type": "code",
      "metadata": {
        "id": "gkQe4Pp3paOj",
        "colab": {
          "base_uri": "https://localhost:8080/"
        },
        "outputId": "8b9f4175-b7be-4cc4-8e45-fea848b778c3"
      },
      "source": [
        "# 리스트 안에 원하는 값이 존재하는지 검사하는 키워드...in\n",
        "a = [1, 2, 2, 3, 4, 5, 5, 5]\n",
        "\n",
        "# in 키워드는 리스트에 존재하면 True 반환\n",
        "print(3 in a)\n",
        "print(10 in a)"
      ],
      "execution_count": null,
      "outputs": [
        {
          "output_type": "stream",
          "text": [
            "True\n",
            "False\n"
          ],
          "name": "stdout"
        }
      ]
    },
    {
      "cell_type": "markdown",
      "metadata": {
        "id": "KsFsxXkecz1o"
      },
      "source": [
        "# 리스트 검색\n",
        "- count()\n",
        "- index()"
      ]
    },
    {
      "cell_type": "code",
      "metadata": {
        "id": "XmSd5jQyYBHW",
        "colab": {
          "base_uri": "https://localhost:8080/"
        },
        "outputId": "413d1874-f2f4-4a0c-e7ec-0cd8ffbcc30c"
      },
      "source": [
        "# 리스트 안에 원하는 값이 존재하는지 검사하는 함수들...\n",
        "# 조금씩 다른 여러가지가 있다.\n",
        "a = [1, 2, 2, 3, 4, 5, 5, 5]\n",
        "print(a.count(5)) # 리스트에 있는 파라미터 값을 갯수 반환\n",
        "print(3 in a)\n",
        "print(10 in a)\n",
        "print(a.index(3)) # 리스트에 있는 파리미터 값의 위치반환(처음 1개만)"
      ],
      "execution_count": null,
      "outputs": [
        {
          "output_type": "stream",
          "text": [
            "3\n",
            "True\n",
            "False\n",
            "3\n"
          ],
          "name": "stdout"
        }
      ]
    },
    {
      "cell_type": "code",
      "metadata": {
        "id": "wNOCsj40PSEZ"
      },
      "source": [
        "# index() 메쏘드 사용의 주의 사항\n",
        "# 검색할 항목이 없으면 ValueError 발생\n",
        "# print(a.index(10))\n",
        "# 따라서 검색하기 전에 인덱스를 체크해야함\n",
        "if 10 in a:\n",
        "    print(a.index(10))"
      ],
      "execution_count": null,
      "outputs": []
    },
    {
      "cell_type": "code",
      "metadata": {
        "id": "fRx8bCeUn2V7",
        "colab": {
          "base_uri": "https://localhost:8080/"
        },
        "outputId": "5b1dd3f9-1086-4c06-b81a-4a09b747b2e2"
      },
      "source": [
        "a = [1, 2, 2, 3, 4, 5, 5, 5]\n",
        "print(a)\n",
        "\n",
        "# index() 함수는 파라미터의 위치(인덱스) 반환\n",
        "print(a.index(2))\n",
        "\n",
        "# count() 함수는 파라미터의 중복된 갯수 반환\n",
        "print(a.count(5))"
      ],
      "execution_count": null,
      "outputs": [
        {
          "output_type": "stream",
          "text": [
            "[1, 2, 2, 3, 4, 5, 5, 5]\n",
            "1\n",
            "3\n"
          ],
          "name": "stdout"
        }
      ]
    },
    {
      "cell_type": "markdown",
      "metadata": {
        "id": "9GdHHvnqQbDm"
      },
      "source": [
        "# 리스트의 항목 추가\n",
        "- insert()\n",
        "- append()\n",
        "- extend()"
      ]
    },
    {
      "cell_type": "code",
      "metadata": {
        "colab": {
          "base_uri": "https://localhost:8080/"
        },
        "id": "hmu7ssKxQae9",
        "outputId": "6ec828f0-9484-4ded-bf8f-2c2cfa5e9158"
      },
      "source": [
        "a = [1, 2, 4, 5]\n",
        "a.insert(3, 3) # 원하는 인덱스에 원하는 값 삽입\n",
        "a.append(6) # 리스트의 마지막에 값 추가\n",
        "print(a)\n"
      ],
      "execution_count": null,
      "outputs": [
        {
          "output_type": "stream",
          "text": [
            "[1, 2, 4, 3, 5, 6]\n"
          ],
          "name": "stdout"
        }
      ]
    },
    {
      "cell_type": "code",
      "metadata": {
        "colab": {
          "base_uri": "https://localhost:8080/"
        },
        "id": "Zd9VXzalQik-",
        "outputId": "3e4f0c92-3510-40dc-86a0-f4474805ac19"
      },
      "source": [
        "# entend( ) 메쏘드는 리스트의 끝에 다른 리스트를 덧붙인다.\n",
        "a = [1, 2, 3, 4, 5, 6]\n",
        "a.extend([7,8,9])\n",
        "print(a)"
      ],
      "execution_count": null,
      "outputs": [
        {
          "output_type": "stream",
          "text": [
            "[1, 2, 3, 4, 5, 6, 7, 8, 9]\n"
          ],
          "name": "stdout"
        }
      ]
    },
    {
      "cell_type": "markdown",
      "metadata": {
        "id": "OAWN9NLXdV8Y"
      },
      "source": [
        "# 리스트의 항목 삭제\n",
        "- remove()"
      ]
    },
    {
      "cell_type": "code",
      "metadata": {
        "id": "j1WJi3NRpgPA",
        "colab": {
          "base_uri": "https://localhost:8080/"
        },
        "outputId": "da1a2d70-4727-4740-8a51-90491e11a4d9"
      },
      "source": [
        "# 리스트의 항목 삭제\n",
        "\n",
        "a = [1, 2, 3, 4, 5, 5]\n",
        "\n",
        "# remove() 메쏘드 사용\n",
        "a.remove(4)\n",
        "print(a)"
      ],
      "execution_count": null,
      "outputs": [
        {
          "output_type": "stream",
          "text": [
            "[1, 2, 3, 5, 5]\n"
          ],
          "name": "stdout"
        }
      ]
    },
    {
      "cell_type": "code",
      "metadata": {
        "id": "jYz9iKxBzsFL",
        "colab": {
          "base_uri": "https://localhost:8080/",
          "height": 181
        },
        "outputId": "ee2545ff-f5c6-4301-dc5d-90115686deb8"
      },
      "source": [
        "# 삭제할 값이 없으면 ValueError 발생\n",
        "a.remove(10) \n"
      ],
      "execution_count": null,
      "outputs": [
        {
          "output_type": "error",
          "ename": "ValueError",
          "evalue": "ignored",
          "traceback": [
            "\u001b[0;31m---------------------------------------------------------------------------\u001b[0m",
            "\u001b[0;31mValueError\u001b[0m                                Traceback (most recent call last)",
            "\u001b[0;32m<ipython-input-34-f77e3ec4c933>\u001b[0m in \u001b[0;36m<module>\u001b[0;34m()\u001b[0m\n\u001b[1;32m      1\u001b[0m \u001b[0;31m# 삭제할 값이 없으면 ValueError 발생\u001b[0m\u001b[0;34m\u001b[0m\u001b[0;34m\u001b[0m\u001b[0;34m\u001b[0m\u001b[0m\n\u001b[0;32m----> 2\u001b[0;31m \u001b[0ma\u001b[0m\u001b[0;34m.\u001b[0m\u001b[0mremove\u001b[0m\u001b[0;34m(\u001b[0m\u001b[0;36m10\u001b[0m\u001b[0;34m)\u001b[0m\u001b[0;34m\u001b[0m\u001b[0;34m\u001b[0m\u001b[0m\n\u001b[0m",
            "\u001b[0;31mValueError\u001b[0m: list.remove(x): x not in list"
          ]
        }
      ]
    },
    {
      "cell_type": "code",
      "metadata": {
        "id": "XYceCu63zvi5"
      },
      "source": [
        "# 따라서 아래와 같이 값이 존재하는 지를 먼저 체크하는 것이 안전함\n",
        "if 10 in a:\n",
        "    a.remove(10)"
      ],
      "execution_count": null,
      "outputs": []
    },
    {
      "cell_type": "code",
      "metadata": {
        "id": "FBBtb_brzudR",
        "colab": {
          "base_uri": "https://localhost:8080/"
        },
        "outputId": "7bd5985c-4a7f-41e9-cfbe-53f8ea310b81"
      },
      "source": [
        "# 키워드 del을 이용한 삭제\n",
        "# del은 함수가 아닙니다. 연산자 또는 키워드입니다.\n",
        "\n",
        "# 아래는 리스트 중의 하나의 항목 삭제입니다.\n",
        "print(a)\n",
        "\n",
        "del a[2]\n",
        "\n",
        "print(a)\n"
      ],
      "execution_count": null,
      "outputs": [
        {
          "output_type": "stream",
          "text": [
            "[1, 2, 3, 5, 5]\n",
            "[1, 2, 5, 5]\n"
          ],
          "name": "stdout"
        }
      ]
    },
    {
      "cell_type": "code",
      "metadata": {
        "id": "A5XwAH7Gz6oa",
        "colab": {
          "base_uri": "https://localhost:8080/",
          "height": 198
        },
        "outputId": "17bd2f7d-0687-4165-ea92-bad9dfab6279"
      },
      "source": [
        "# 아래는 리스트 전체(리스트 자체)를 삭제합니다.\n",
        "del a\n",
        "\n",
        "# 따라서 아래의 문장을 실행하면 오류가 발생합니다.\n",
        "print(a)"
      ],
      "execution_count": null,
      "outputs": [
        {
          "output_type": "error",
          "ename": "NameError",
          "evalue": "ignored",
          "traceback": [
            "\u001b[0;31m---------------------------------------------------------------------------\u001b[0m",
            "\u001b[0;31mNameError\u001b[0m                                 Traceback (most recent call last)",
            "\u001b[0;32m<ipython-input-37-ee72d7a5cee8>\u001b[0m in \u001b[0;36m<module>\u001b[0;34m()\u001b[0m\n\u001b[1;32m      3\u001b[0m \u001b[0;34m\u001b[0m\u001b[0m\n\u001b[1;32m      4\u001b[0m \u001b[0;31m# 따라서 아래의 문장을 실행하면 오류가 발생합니다.\u001b[0m\u001b[0;34m\u001b[0m\u001b[0;34m\u001b[0m\u001b[0;34m\u001b[0m\u001b[0m\n\u001b[0;32m----> 5\u001b[0;31m \u001b[0mprint\u001b[0m\u001b[0;34m(\u001b[0m\u001b[0ma\u001b[0m\u001b[0;34m)\u001b[0m\u001b[0;34m\u001b[0m\u001b[0;34m\u001b[0m\u001b[0m\n\u001b[0m",
            "\u001b[0;31mNameError\u001b[0m: name 'a' is not defined"
          ]
        }
      ]
    },
    {
      "cell_type": "markdown",
      "metadata": {
        "id": "-Nx8cI_QdhLu"
      },
      "source": [
        "# 리스트 정렬"
      ]
    },
    {
      "cell_type": "code",
      "metadata": {
        "colab": {
          "base_uri": "https://localhost:8080/"
        },
        "id": "uqR3aD4kdjXu",
        "outputId": "47efadfc-679f-4cae-af21-96840cdbcc21"
      },
      "source": [
        "# 리스트 내의 요소를 오름차순으로 정리하다.\n",
        "a = [5,2,1,4,3]\n",
        "a.sort()\n",
        "print(a)\n",
        "\n",
        "# 내림차순으로 정리하고 싶다면 sort(reverse=True)라 입력하면 된다.\n",
        "a = [5,2,1,4,3]\n",
        "a.sort(reverse=True)\n",
        "print(a)"
      ],
      "execution_count": null,
      "outputs": [
        {
          "output_type": "stream",
          "name": "stdout",
          "text": [
            "[1, 2, 3, 4, 5]\n",
            "[5, 4, 3, 2, 1]\n"
          ]
        }
      ]
    },
    {
      "cell_type": "code",
      "metadata": {
        "colab": {
          "base_uri": "https://localhost:8080/"
        },
        "id": "U2OrycEuByaY",
        "outputId": "66e3da77-0dac-4e00-9d0e-86f74a5b6204"
      },
      "source": [
        "# sort와 sorted 차이\n",
        "\n",
        "# sorted 함수는 정렬된 새로운 리스트를 리턴시켜준다.\n",
        "# 반면에 sort 메소드는 아무것도 리턴시켜주지 않는다. (None을 리턴시켜줌)\n",
        "b = [5, 7, 2, 3, 1]\n",
        "\n",
        "print(sorted(b))\n",
        "print(b.sort())\n",
        "\n",
        "# sorted 함수는 b리스트 에 영향을 주지 않는다. 새로운 리스트를 만들어 리턴해준다.\n",
        "b = [5, 7, 2, 3, 1]\n",
        "\n",
        "sorted(b)\n",
        "print(sorted(b))\n",
        "print(b)\n",
        "\n",
        "# 반면에 sort 메소드는 b 리스트 자체를 정렬한다.\n",
        "b = [5, 7, 2, 3, 1]\n",
        "\n",
        "b.sort()\n",
        "print(b)"
      ],
      "execution_count": null,
      "outputs": [
        {
          "output_type": "stream",
          "name": "stdout",
          "text": [
            "[1, 2, 3, 5, 7]\n",
            "None\n",
            "[1, 2, 3, 5, 7]\n",
            "[5, 7, 2, 3, 1]\n",
            "[1, 2, 3, 5, 7]\n"
          ]
        }
      ]
    },
    {
      "cell_type": "markdown",
      "metadata": {
        "id": "3lfv6eChd8b-"
      },
      "source": [
        "# 리스트와 for 반복문"
      ]
    },
    {
      "cell_type": "code",
      "metadata": {
        "id": "y5D61t9yYHCe",
        "colab": {
          "base_uri": "https://localhost:8080/"
        },
        "outputId": "5d7465b6-5e16-4e84-f373-e20c484c271e"
      },
      "source": [
        "# 리스트와 for 반복문\n",
        "\n",
        "l = ['one', 'two', 'three']\n",
        "for i in l:\n",
        "    print(i)\n",
        "\n",
        "score = [90, 100, 80, 70, 60] "
      ],
      "execution_count": null,
      "outputs": [
        {
          "output_type": "stream",
          "text": [
            "one\n",
            "two\n",
            "three\n"
          ],
          "name": "stdout"
        }
      ]
    },
    {
      "cell_type": "code",
      "metadata": {
        "id": "QaW8xlrfYIm9",
        "colab": {
          "base_uri": "https://localhost:8080/"
        },
        "outputId": "476d17f8-9d9a-4344-c5b9-647fe24d171e"
      },
      "source": [
        "number = [1, 2, 3, 4, 5, 6]\n",
        "sum = 0\n",
        "\n",
        "for x in number:\n",
        "    sum += x\n",
        "print(sum)\n",
        "\n",
        "num = 10\n",
        "sum = 0\n",
        "\n",
        "for x in range(num):\n",
        "    sum += x\n",
        "print(sum)"
      ],
      "execution_count": null,
      "outputs": [
        {
          "output_type": "stream",
          "text": [
            "21\n",
            "45\n"
          ],
          "name": "stdout"
        }
      ]
    },
    {
      "cell_type": "code",
      "metadata": {
        "id": "d13hNI0Kj6So"
      },
      "source": [],
      "execution_count": null,
      "outputs": []
    }
  ]
}