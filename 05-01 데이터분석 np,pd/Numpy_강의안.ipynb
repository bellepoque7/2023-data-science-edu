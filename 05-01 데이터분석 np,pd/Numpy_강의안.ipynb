{
  "cells": [
    {
      "cell_type": "markdown",
      "metadata": {
        "colab_type": "text",
        "id": "view-in-github"
      },
      "source": [
        "<a href=\"https://colab.research.google.com/github/bellepoque7/2023-data-science-edu/blob/main/Numpy_%EA%B0%95%EC%9D%98%EC%95%88.ipynb\" target=\"_parent\"><img src=\"https://colab.research.google.com/assets/colab-badge.svg\" alt=\"Open In Colab\"/></a>"
      ]
    },
    {
      "cell_type": "markdown",
      "metadata": {
        "id": "zqDIU2QTigNZ"
      },
      "source": [
        "# Numpy 이해\n"
      ]
    },
    {
      "cell_type": "markdown",
      "metadata": {
        "id": "6Z-Eyupi5N9x"
      },
      "source": [
        "* Numpy를 활용한 배열 생성 및 초기화"
      ]
    },
    {
      "cell_type": "markdown",
      "metadata": {
        "id": "KKWkEaROM5j0"
      },
      "source": [
        "#**0. Numpy?**\n",
        "*  pandas, matplotlib, pytorch 등, 데이터 분석 및 딥러닝을 위한 python package의 baseline\n",
        "*  Python에서 벡터, 행렬 등 수치 연산을 수행하는 선형대수(Linear algebra) 라이브러리\n",
        "*  범용적 데이터 처리에 사용 가능\n",
        "*  선형대수학 관련 수치 연산을 지원\n",
        "    - N차원 배열 객체 (ndarray)\n",
        "    - Random variable\n",
        "    - 코드 연산의 효율성을 향상시키는 Broadcasting 기능"
      ]
    },
    {
      "cell_type": "markdown",
      "metadata": {
        "id": "JLBRNKM0QmBY"
      },
      "source": [
        "numpy는 범용적으로 활용되는 파이썬 패키지이지만, 기본적으로 파이썬에 포함되어있는 패키지는 아닙니다.\n",
        "\n",
        "활용하기 위해서는 다음 명령어를 통해 설치 및 임포트를 해야 합니다."
      ]
    },
    {
      "cell_type": "code",
      "execution_count": null,
      "metadata": {
        "colab": {
          "base_uri": "https://localhost:8080/"
        },
        "id": "8bpXy28nQiC9",
        "outputId": "65514238-c596-4dfc-9fc9-f0b19f04fb21"
      },
      "outputs": [
        {
          "name": "stdout",
          "output_type": "stream",
          "text": [
            "Looking in indexes: https://pypi.org/simple, https://us-python.pkg.dev/colab-wheels/public/simple/\n",
            "Requirement already satisfied: numpy in /usr/local/lib/python3.8/dist-packages (1.21.6)\n",
            "numpy version:  1.21.6\n"
          ]
        }
      ],
      "source": [
        "# !pip install numpy\n",
        "import numpy as np\n",
        "print(\"numpy version: \", np.__version__)"
      ]
    },
    {
      "cell_type": "markdown",
      "metadata": {
        "id": "vj3NbtEWS8Ey"
      },
      "source": [
        "#**1. 배열(ndarray) 이해 및 생성**"
      ]
    },
    {
      "cell_type": "code",
      "execution_count": null,
      "metadata": {
        "colab": {
          "base_uri": "https://localhost:8080/"
        },
        "id": "7YKxqREgHZFL",
        "outputId": "02772b19-e6da-47fc-bdc8-37420c33321d"
      },
      "outputs": [
        {
          "data": {
            "text/plain": [
              "array([3, 5])"
            ]
          },
          "execution_count": 2,
          "metadata": {},
          "output_type": "execute_result"
        }
      ],
      "source": [
        "np.array([1, 1]) + np.array([2, 4])"
      ]
    },
    {
      "cell_type": "markdown",
      "metadata": {
        "id": "Aum_LEFVOoRa"
      },
      "source": [
        "Numpy는 다차원 배열(ndarray)을 지원합니다. 여기서 각 차원(Dimension)을 축(axis)이라고 표현합니다.\n",
        "\n",
        "3D Space의 포인트를 [1, 2, 1] 과 같은 배열로 표현가능 한데, 1개의 축을 가진다고 표현합니다. 또한 여기서 축은 3개의 요소(Element)를 가지고 있다고 하며 길이(Length)도 3입니다.\n",
        "\n",
        "아래와 같은 데이터는 2개의 축을 가집니다. 1번째 축은 길이가 2이며, 2번째 축은 길이가 3입니다."
      ]
    },
    {
      "cell_type": "code",
      "execution_count": null,
      "metadata": {
        "colab": {
          "base_uri": "https://localhost:8080/"
        },
        "id": "bWFbEvluQ260",
        "outputId": "7c0d0ee5-d7a5-4498-d7d0-df94e648b892"
      },
      "outputs": [
        {
          "name": "stdout",
          "output_type": "stream",
          "text": [
            "(2, 3)\n"
          ]
        }
      ],
      "source": [
        "a = np.array([[ 1, 0, 0],\n",
        "              [ 0, 1, 2]])\n",
        "\n",
        "print(a.shape)"
      ]
    },
    {
      "cell_type": "markdown",
      "metadata": {
        "id": "H5eYprCcMkiG"
      },
      "source": [
        "numpy.ndarray의 대표적인 속성값들은 다음과 같습니다.\n",
        "\n",
        "* ndarray.shape : 배열의 각 축(axis)의 크기\n",
        "* ndarray.ndim : 축의 개수(Dimension)\n",
        "* ndarray.dtype : 각 요소(Element)의 타입\n",
        "* ndarray.size : 전체 요소(Element)의 개수"
      ]
    },
    {
      "cell_type": "code",
      "execution_count": null,
      "metadata": {
        "colab": {
          "base_uri": "https://localhost:8080/"
        },
        "id": "0xjrg5aoMoYQ",
        "outputId": "9c416e5d-d522-4995-d4ca-adaa050b56d7"
      },
      "outputs": [
        {
          "name": "stdout",
          "output_type": "stream",
          "text": [
            "shape of array:  (2, 3)\n",
            "ndim of array:  2\n",
            "dtype of array:  int64\n",
            "number of elements in array:  6\n",
            "array composition: \n",
            " [[1 0 0]\n",
            " [0 1 2]]\n",
            "\n"
          ]
        }
      ],
      "source": [
        "def array_attribute(a):\n",
        "    print('shape of array: ', a.shape)\n",
        "    print('ndim of array: ', a.ndim)\n",
        "    print('dtype of array: ', a.dtype)\n",
        "    print('number of elements in array: ', a.size)\n",
        "    print('array composition: \\n', a)\n",
        "    print('')\n",
        "array_attribute(a)"
      ]
    },
    {
      "cell_type": "markdown",
      "metadata": {
        "id": "9xRaYT91R4fk"
      },
      "source": [
        "##1-1 임의의 배열 생성하기"
      ]
    },
    {
      "cell_type": "markdown",
      "metadata": {
        "id": "pquRLTrFPQOt"
      },
      "source": [
        "np.array()를 이용하여 Python에서 사용하는 Tuple(튜플)이나 List(리스트)를 입력으로 numpy.ndarray를 만들 수 있습니다."
      ]
    },
    {
      "cell_type": "markdown",
      "metadata": {
        "id": "C21I5FBSR_ab"
      },
      "source": [
        "2D 배열이나 3D 배열등도 마찬가지 방법으로 입력으로 주면 생성할 수 있습니다."
      ]
    },
    {
      "cell_type": "code",
      "execution_count": null,
      "metadata": {
        "colab": {
          "base_uri": "https://localhost:8080/"
        },
        "id": "ZN35ya7jSB0e",
        "outputId": "b3ebae3e-d8d3-4828-f88a-efffb67f5041"
      },
      "outputs": [
        {
          "name": "stdout",
          "output_type": "stream",
          "text": [
            "shape of array:  (2, 3)\n",
            "ndim of array:  2\n",
            "dtype of array:  float64\n",
            "number of elements in array:  6\n",
            "array composition: \n",
            " [[1.5 2.  3. ]\n",
            " [4.  5.  6. ]]\n",
            "\n"
          ]
        }
      ],
      "source": [
        "b = np.array([[1.5,2,3], [4,5,6]])\n",
        "array_attribute(b)"
      ]
    },
    {
      "cell_type": "markdown",
      "metadata": {
        "id": "kPJdLXIJTPTw"
      },
      "source": [
        "모든 array는 고유한 데이터형을 가집니다. array를 정의할 때 사용자가 데이터형을 따로 명시하지 않은 경우, numpy에서는 가장 적절한 데이터형을 자동으로 인식하여 해당 array에 부여합니다.\n",
        "\n",
        "여러분이 array를 정의할 때 데이터형을 직접 지정할 수도 있습니다. array의 데이터형을 지정하고자 할 경우, np.array() 함수를 호출할 시 아래의 예시와 같이 dtype 인자의 값을 명시하면 됩니다.\n",
        "\n",
        "    arr = np.array(data, dtype=np.float64)\n"
      ]
    },
    {
      "cell_type": "code",
      "execution_count": null,
      "metadata": {
        "colab": {
          "base_uri": "https://localhost:8080/"
        },
        "id": "VI61RSbPOl-J",
        "outputId": "948bc28d-0fcf-4d93-dc55-611b771c9bdf"
      },
      "outputs": [
        {
          "name": "stdout",
          "output_type": "stream",
          "text": [
            "shape of array:  (3,)\n",
            "ndim of array:  1\n",
            "dtype of array:  int64\n",
            "number of elements in array:  3\n",
            "array composition: \n",
            " [1 2 3]\n",
            "\n",
            "shape of array:  (3,)\n",
            "ndim of array:  1\n",
            "dtype of array:  float32\n",
            "number of elements in array:  3\n",
            "array composition: \n",
            " [1. 2. 3.]\n",
            "\n",
            "shape of array:  (3,)\n",
            "ndim of array:  1\n",
            "dtype of array:  float64\n",
            "number of elements in array:  3\n",
            "array composition: \n",
            " [1.  2.2 3. ]\n",
            "\n"
          ]
        }
      ],
      "source": [
        "a = np.array([1,2,3])\n",
        "array_attribute(a)\n",
        "\n",
        "a = np.array([1,2,3], dtype=np.float32)\n",
        "array_attribute(a)\n",
        "\n",
        "a = np.array([1., 2.2 ,3])\n",
        "array_attribute(a)"
      ]
    },
    {
      "cell_type": "markdown",
      "metadata": {
        "id": "EwQT2qVSOi2P"
      },
      "source": [
        "int나 float 뒤에 붙는 숫자는, 해당 array의 각 성분을 표현할 때 메모리 상에서 몇 비트를 사용할 것인지 나타내는 숫자입니다. 이 숫자가 더 클 수록, 해당 array 상에서 길이가 더 긴 정수 혹은 실수를 사용할 수 있습니다. array의 데이터형을 간단하게 나타내기 위해, numpy에서는 'i', 'u', 'f', 'c' 등과 같이 축약된 코드를 사용하기도 합니다.\n",
        "\n",
        "여러분들이 기존에 정의한 array의 데이터형을 변환할 수도 있는데, 이 때는 .astype() 함수를 사용하면 됩니다. .astype() 함수의 인자에, 변환할 데이터형을 명시해 줍니다.\n"
      ]
    },
    {
      "cell_type": "code",
      "execution_count": null,
      "metadata": {
        "colab": {
          "base_uri": "https://localhost:8080/"
        },
        "id": "I7314TvmO-0Y",
        "outputId": "a626ed0c-4ca2-4983-f202-1aa1f6624e3d"
      },
      "outputs": [
        {
          "name": "stdout",
          "output_type": "stream",
          "text": [
            "shape of array:  (3,)\n",
            "ndim of array:  1\n",
            "dtype of array:  int64\n",
            "number of elements in array:  3\n",
            "array composition: \n",
            " [1 2 3]\n",
            "\n",
            "shape of array:  (3,)\n",
            "ndim of array:  1\n",
            "dtype of array:  float32\n",
            "number of elements in array:  3\n",
            "array composition: \n",
            " [1. 2. 3.]\n",
            "\n"
          ]
        }
      ],
      "source": [
        "a = np.array([1,2,3])\n",
        "array_attribute(a)\n",
        "\n",
        "a = a.astype(np.float32)\n",
        "array_attribute(a)\n"
      ]
    },
    {
      "cell_type": "markdown",
      "metadata": {
        "id": "g1EfJXUdT6e3"
      },
      "source": [
        "numpy에서 사용가능한 dtype은 다음과 같습니다.\n",
        "\n",
        "|데이터형 | 데이터형 코드 | 설명|\n",
        "|------|---|---|\n",
        "|int8, int16, int32, int64 | i1, i2, i4, i8 | 부호가 있는 [8, 16, 32, 64]비트 정수|\n",
        "|uint8, uint16, uint32, uint64 | u1, u2, u4, u8 | 부호가 없는 [8, 16, 32, 64]비트 정수|\n",
        "|float16, float32, float64, float128 | f2, f4, f8, f16 | [16, 32, 64, 128]비트 실수|\n",
        "|complex64, complex128, complex256 | c8, c16, c32 | [64, 128, 256]비트 복소수 |\n",
        "|bool |b | 불리언 (True 또는 False)|\n",
        "|object | O | Python 오브젝트 형|\n",
        "|string_ | S | 문자열|\n",
        "|unicode_ |U |유니코드 문자열|"
      ]
    },
    {
      "cell_type": "markdown",
      "metadata": {
        "id": "xDrLhHwJPoqc"
      },
      "source": [
        "##1-2 정해진 형식의 배열 생성하기"
      ]
    },
    {
      "cell_type": "markdown",
      "metadata": {
        "id": "TeRl12XjQ0ez"
      },
      "source": [
        "#### Numpy에는 자주 쓰이는 배열 형식을 코드 한줄만으로 구현할 수 있게끔 만들어둔 코드들이 있습니다."
      ]
    },
    {
      "cell_type": "markdown",
      "metadata": {
        "id": "tgHUUyejQ8mf"
      },
      "source": [
        "### ## np.zeros(shape, dtype=np.float64)\n",
        "\n",
        "모든 요소들이 0으로 초기화된 N차원 배열 생성"
      ]
    },
    {
      "cell_type": "code",
      "execution_count": null,
      "metadata": {
        "colab": {
          "base_uri": "https://localhost:8080/"
        },
        "id": "PV98DnE_REtp",
        "outputId": "4aa243a5-87ec-45cd-c8fc-4c10462de741"
      },
      "outputs": [
        {
          "name": "stdout",
          "output_type": "stream",
          "text": [
            "shape of array:  (3, 4)\n",
            "ndim of array:  2\n",
            "dtype of array:  float64\n",
            "number of elements in array:  12\n",
            "array composition: \n",
            " [[0. 0. 0. 0.]\n",
            " [0. 0. 0. 0.]\n",
            " [0. 0. 0. 0.]]\n",
            "\n"
          ]
        }
      ],
      "source": [
        "a = np.zeros((3,4))\n",
        "array_attribute(a)"
      ]
    },
    {
      "cell_type": "markdown",
      "metadata": {
        "id": "3FqV8yt7RIWe"
      },
      "source": [
        "### ## np.ones(shape, dtype=np.float64)\n",
        "\n",
        "모든 요소들이 1로 초기화된 N차원 배열 생성"
      ]
    },
    {
      "cell_type": "code",
      "execution_count": null,
      "metadata": {
        "colab": {
          "base_uri": "https://localhost:8080/"
        },
        "id": "STUYGChCROCj",
        "outputId": "9f097586-5bff-460f-da79-b040b5b391d6"
      },
      "outputs": [
        {
          "name": "stdout",
          "output_type": "stream",
          "text": [
            "shape of array:  (3, 4)\n",
            "ndim of array:  2\n",
            "dtype of array:  float64\n",
            "number of elements in array:  12\n",
            "array composition: \n",
            " [[1. 1. 1. 1.]\n",
            " [1. 1. 1. 1.]\n",
            " [1. 1. 1. 1.]]\n",
            "\n"
          ]
        }
      ],
      "source": [
        "a = np.ones((3,4), dtype=np.float64)\n",
        "array_attribute(a)"
      ]
    },
    {
      "cell_type": "markdown",
      "metadata": {
        "id": "3LCPLoL9RUno"
      },
      "source": [
        "### ## np.empty(shape, dtype=float64)\n",
        "\n",
        "모든 요소들이 초기화되지 않은 N차원 배열 생성\n",
        "\n",
        "요소들이 초기화되지 않기 때문에, 메모리에 존재하는 값들을 그대로 사용\n",
        "\n",
        "이에 따라 예상하지 않았던 값들로 채워지는 경우 발생"
      ]
    },
    {
      "cell_type": "code",
      "execution_count": null,
      "metadata": {
        "colab": {
          "base_uri": "https://localhost:8080/"
        },
        "id": "GV83JjMgRURu",
        "outputId": "dd342f92-8a39-400d-8f9e-de7b186d87b5"
      },
      "outputs": [
        {
          "name": "stdout",
          "output_type": "stream",
          "text": [
            "shape of array:  (3, 4)\n",
            "ndim of array:  2\n",
            "dtype of array:  float64\n",
            "number of elements in array:  12\n",
            "array composition: \n",
            " [[1. 1. 1. 1.]\n",
            " [1. 1. 1. 1.]\n",
            " [1. 1. 1. 1.]]\n",
            "\n"
          ]
        }
      ],
      "source": [
        "a = np.empty((3,4))\n",
        "array_attribute(a)"
      ]
    },
    {
      "cell_type": "markdown",
      "metadata": {
        "id": "mV4_oxdORvXC"
      },
      "source": [
        "### ## np.full(shape, fill_value, dtype=None)\n",
        "\n",
        "모든 요소들이 fill_value로 초기화된 N차원 배열 생성"
      ]
    },
    {
      "cell_type": "code",
      "execution_count": null,
      "metadata": {
        "colab": {
          "base_uri": "https://localhost:8080/"
        },
        "id": "Qjn_lqrDRt6K",
        "outputId": "e22c037f-c530-483c-f954-dee3868815f5"
      },
      "outputs": [
        {
          "name": "stdout",
          "output_type": "stream",
          "text": [
            "shape of array:  (3, 4)\n",
            "ndim of array:  2\n",
            "dtype of array:  int64\n",
            "number of elements in array:  12\n",
            "array composition: \n",
            " [[3 3 3 3]\n",
            " [3 3 3 3]\n",
            " [3 3 3 3]]\n",
            "\n"
          ]
        }
      ],
      "source": [
        "a = np.full((3,4), 3)\n",
        "array_attribute(a)"
      ]
    },
    {
      "cell_type": "markdown",
      "metadata": {
        "id": "ssqdV1FsTEPd"
      },
      "source": [
        "### ## np.eye(N, M=None, k=0, dtype=np.float32)\n",
        "\n",
        "(N, M) shape를 가진 단위행렬을 생성  \n",
        "*단위행렬: 대각행렬이 1이고 나머지는 모두 0인 행렬"
      ]
    },
    {
      "cell_type": "code",
      "execution_count": null,
      "metadata": {
        "colab": {
          "base_uri": "https://localhost:8080/"
        },
        "id": "T7E5KX8BS-Mc",
        "outputId": "12eb3f2f-4aa9-4f9d-8fa7-d7bdec1ec150"
      },
      "outputs": [],
      "source": [
        "a = np.eye(3, k=0)\n",
        "array_attribute(a)\n",
        "\n",
        "a = np.eye(3, 4, k=0)\n",
        "array_attribute(a)\n",
        "\n",
        "\n",
        "a = np.eye(3, k=1)\n",
        "array_attribute(a)\n",
        "\n",
        "a = np.eye(3, k=-1)\n",
        "array_attribute(a)\n"
      ]
    },
    {
      "cell_type": "markdown",
      "metadata": {
        "id": "2LcX_m4bTq8J"
      },
      "source": [
        "#### 지정된 배열과 동일한 shape을 갖도록 행렬을 만드는 함수도 제공됩니다.\n",
        " * np.zeros_like(ndarray)\n",
        " * np.ones_like(ndarray)\n",
        " * np.full_like(ndarray, fill_value)\n",
        " * np.emtpy_like(ndarray)\n",
        " "
      ]
    },
    {
      "cell_type": "code",
      "execution_count": null,
      "metadata": {
        "colab": {
          "base_uri": "https://localhost:8080/"
        },
        "id": "2GlPf0_DUDRu",
        "outputId": "02ceddb9-651b-49bc-d9c5-cc53431fcdfa"
      },
      "outputs": [
        {
          "name": "stdout",
          "output_type": "stream",
          "text": [
            "##zeros_like##\n",
            "shape of array:  (2, 3)\n",
            "ndim of array:  2\n",
            "dtype of array:  int64\n",
            "number of elements in array:  6\n",
            "array composition: \n",
            " [[0 0 0]\n",
            " [0 0 0]]\n",
            "\n",
            "##ones_like##\n",
            "shape of array:  (2, 3)\n",
            "ndim of array:  2\n",
            "dtype of array:  int64\n",
            "number of elements in array:  6\n",
            "array composition: \n",
            " [[1 1 1]\n",
            " [1 1 1]]\n",
            "\n",
            "##full_like##\n",
            "shape of array:  (2, 3)\n",
            "ndim of array:  2\n",
            "dtype of array:  int64\n",
            "number of elements in array:  6\n",
            "array composition: \n",
            " [[7 7 7]\n",
            " [7 7 7]]\n",
            "\n",
            "##empty_like##\n",
            "shape of array:  (2, 3)\n",
            "ndim of array:  2\n",
            "dtype of array:  int64\n",
            "number of elements in array:  6\n",
            "array composition: \n",
            " [[1 1 1]\n",
            " [1 1 1]]\n",
            "\n"
          ]
        }
      ],
      "source": [
        "a = np.array([[1,2,3],\n",
        "              [2,3,4]])\n",
        "\n",
        "b = np.zeros_like(a)\n",
        "print('##zeros_like##')\n",
        "array_attribute(b)\n",
        "\n",
        "b = np.ones_like(a)\n",
        "print('##ones_like##')\n",
        "array_attribute(b)\n",
        "\n",
        "b = np.full_like(a, 7)\n",
        "print('##full_like##')\n",
        "array_attribute(b)\n",
        "\n",
        "b = np.empty_like(a)\n",
        "print('##empty_like##')\n",
        "array_attribute(b)"
      ]
    },
    {
      "cell_type": "markdown",
      "metadata": {
        "id": "xdSwareMU5E4"
      },
      "source": [
        "##1-3 연속적인 값을 가지는 배열 생성"
      ]
    },
    {
      "cell_type": "code",
      "execution_count": null,
      "metadata": {
        "colab": {
          "base_uri": "https://localhost:8080/"
        },
        "id": "-Cro7BQtQwDt",
        "outputId": "2ed63663-addc-402a-ed4f-cf84a9ebe95e"
      },
      "outputs": [
        {
          "name": "stdout",
          "output_type": "stream",
          "text": [
            "[0, 1, 2, 3, 4, 5, 6, 7, 8, 9]\n"
          ]
        }
      ],
      "source": [
        "a = list(range(0,10,1))\n",
        "print(a)\n"
      ]
    },
    {
      "cell_type": "markdown",
      "metadata": {
        "id": "NDM2Ibf1W4_v"
      },
      "source": [
        "### ## numpy.arange([start,] stop[, step,], dtype=None)\n",
        "\n",
        "start부터 stop 미만까지 step 간격으로 데이터 생성한 후 배열\n",
        "을 만듦\n",
        "\n",
        "범위내에서 간격을 기준 균등 간격의 배열\n",
        "\n",
        "데이터의 간격을 기준으로 배열 생성"
      ]
    },
    {
      "cell_type": "code",
      "execution_count": null,
      "metadata": {
        "colab": {
          "base_uri": "https://localhost:8080/"
        },
        "id": "eDMzMVe5XC22",
        "outputId": "b7ff3989-4720-4ad9-a635-bc51e4cc1dfb"
      },
      "outputs": [
        {
          "name": "stdout",
          "output_type": "stream",
          "text": [
            "shape of array:  (5,)\n",
            "ndim of array:  1\n",
            "dtype of array:  float64\n",
            "number of elements in array:  5\n",
            "array composition: \n",
            " [0. 2. 4. 6. 8.]\n",
            "\n"
          ]
        },
        {
          "name": "stderr",
          "output_type": "stream",
          "text": [
            "<ipython-input-23-1ef1f135a613>:1: DeprecationWarning: `np.float` is a deprecated alias for the builtin `float`. To silence this warning, use `float` by itself. Doing this will not modify any behavior and is safe. If you specifically wanted the numpy scalar type, use `np.float64` here.\n",
            "Deprecated in NumPy 1.20; for more details and guidance: https://numpy.org/devdocs/release/1.20.0-notes.html#deprecations\n",
            "  a = np.arange(0, 10, 2, np.float)\n"
          ]
        }
      ],
      "source": [
        "a = np.arange(0, 10, 2, np.float)\n",
        "array_attribute(a)"
      ]
    },
    {
      "cell_type": "markdown",
      "metadata": {
        "id": "EYIAIdHoXOU2"
      },
      "source": [
        "0부터 시작해서 9에 도달하기 전까지만 증가하여 배열 생성"
      ]
    },
    {
      "cell_type": "code",
      "execution_count": null,
      "metadata": {
        "colab": {
          "base_uri": "https://localhost:8080/"
        },
        "id": "IPxAl03-RUFX",
        "outputId": "9be22ec3-ac0b-4088-8701-57c1ae29463a"
      },
      "outputs": [
        {
          "name": "stdout",
          "output_type": "stream",
          "text": [
            "shape of array:  (9,)\n",
            "ndim of array:  1\n",
            "dtype of array:  int64\n",
            "number of elements in array:  9\n",
            "array composition: \n",
            " [0 1 2 3 4 5 6 7 8]\n",
            "\n"
          ]
        }
      ],
      "source": [
        "a = np.arange(9)\n",
        "array_attribute(a)"
      ]
    },
    {
      "cell_type": "code",
      "execution_count": null,
      "metadata": {
        "colab": {
          "base_uri": "https://localhost:8080/"
        },
        "id": "NB_ZvlNxXKhP",
        "outputId": "60954495-6afe-4605-c53b-4b34500d003f"
      },
      "outputs": [
        {
          "name": "stdout",
          "output_type": "stream",
          "text": [
            "shape of array:  (5,)\n",
            "ndim of array:  1\n",
            "dtype of array:  float64\n",
            "number of elements in array:  5\n",
            "array composition: \n",
            " [0. 2. 4. 6. 8.]\n",
            "\n"
          ]
        },
        {
          "name": "stderr",
          "output_type": "stream",
          "text": [
            "<ipython-input-25-f70cbe3373e0>:1: DeprecationWarning: `np.float` is a deprecated alias for the builtin `float`. To silence this warning, use `float` by itself. Doing this will not modify any behavior and is safe. If you specifically wanted the numpy scalar type, use `np.float64` here.\n",
            "Deprecated in NumPy 1.20; for more details and guidance: https://numpy.org/devdocs/release/1.20.0-notes.html#deprecations\n",
            "  a = np.arange(0, 9, 2, np.float)\n"
          ]
        }
      ],
      "source": [
        "a = np.arange(0, 9, 2, np.float)\n",
        "array_attribute(a)"
      ]
    },
    {
      "cell_type": "markdown",
      "metadata": {
        "id": "hcGGuYxOVFS7"
      },
      "source": [
        "### ## numpy.linspace(start, stop, num=50, endpoint=True,\n",
        "retstep=False, dtype=None)\n",
        "\n",
        "start부터 stop의 범위에서 num개를 균일한 간격으로 데이터를 생성하고 배열을 만듦\n",
        "\n",
        "데이터 간격이 아닌, 요소 개수를 기준으로 균등 간격의 배열을 생성"
      ]
    },
    {
      "cell_type": "code",
      "execution_count": null,
      "metadata": {
        "colab": {
          "base_uri": "https://localhost:8080/"
        },
        "id": "Be2fA_gYVith",
        "outputId": "bc182b16-5386-473d-dc7d-e07b51048502"
      },
      "outputs": [
        {
          "name": "stdout",
          "output_type": "stream",
          "text": [
            "shape of array:  (11,)\n",
            "ndim of array:  1\n",
            "dtype of array:  float64\n",
            "number of elements in array:  11\n",
            "array composition: \n",
            " [  0.  10.  20.  30.  40.  50.  60.  70.  80.  90. 100.]\n",
            "\n"
          ]
        }
      ],
      "source": [
        "a = np.linspace(0, 100, 11)\n",
        "array_attribute(a)"
      ]
    },
    {
      "cell_type": "code",
      "execution_count": null,
      "metadata": {
        "colab": {
          "base_uri": "https://localhost:8080/"
        },
        "id": "FIZBoBePW0Ml",
        "outputId": "d7b247d0-6286-4745-c4bd-97a3f9f1e5e0"
      },
      "outputs": [
        {
          "name": "stdout",
          "output_type": "stream",
          "text": [
            "shape of array:  (100,)\n",
            "ndim of array:  1\n",
            "dtype of array:  float64\n",
            "number of elements in array:  100\n",
            "array composition: \n",
            " [  1.   2.   3.   4.   5.   6.   7.   8.   9.  10.  11.  12.  13.  14.\n",
            "  15.  16.  17.  18.  19.  20.  21.  22.  23.  24.  25.  26.  27.  28.\n",
            "  29.  30.  31.  32.  33.  34.  35.  36.  37.  38.  39.  40.  41.  42.\n",
            "  43.  44.  45.  46.  47.  48.  49.  50.  51.  52.  53.  54.  55.  56.\n",
            "  57.  58.  59.  60.  61.  62.  63.  64.  65.  66.  67.  68.  69.  70.\n",
            "  71.  72.  73.  74.  75.  76.  77.  78.  79.  80.  81.  82.  83.  84.\n",
            "  85.  86.  87.  88.  89.  90.  91.  92.  93.  94.  95.  96.  97.  98.\n",
            "  99. 100.]\n",
            "\n"
          ]
        }
      ],
      "source": [
        "a = np.linspace(1, 100, 100)\n",
        "array_attribute(a)"
      ]
    },
    {
      "cell_type": "code",
      "execution_count": null,
      "metadata": {
        "colab": {
          "base_uri": "https://localhost:8080/"
        },
        "id": "he2GovGiRxI5",
        "outputId": "a02a408f-d7b3-450b-8481-fe4b45e915c0"
      },
      "outputs": [
        {
          "name": "stdout",
          "output_type": "stream",
          "text": [
            "shape of array:  (199,)\n",
            "ndim of array:  1\n",
            "dtype of array:  float64\n",
            "number of elements in array:  199\n",
            "array composition: \n",
            " [  1.    1.5   2.    2.5   3.    3.5   4.    4.5   5.    5.5   6.    6.5\n",
            "   7.    7.5   8.    8.5   9.    9.5  10.   10.5  11.   11.5  12.   12.5\n",
            "  13.   13.5  14.   14.5  15.   15.5  16.   16.5  17.   17.5  18.   18.5\n",
            "  19.   19.5  20.   20.5  21.   21.5  22.   22.5  23.   23.5  24.   24.5\n",
            "  25.   25.5  26.   26.5  27.   27.5  28.   28.5  29.   29.5  30.   30.5\n",
            "  31.   31.5  32.   32.5  33.   33.5  34.   34.5  35.   35.5  36.   36.5\n",
            "  37.   37.5  38.   38.5  39.   39.5  40.   40.5  41.   41.5  42.   42.5\n",
            "  43.   43.5  44.   44.5  45.   45.5  46.   46.5  47.   47.5  48.   48.5\n",
            "  49.   49.5  50.   50.5  51.   51.5  52.   52.5  53.   53.5  54.   54.5\n",
            "  55.   55.5  56.   56.5  57.   57.5  58.   58.5  59.   59.5  60.   60.5\n",
            "  61.   61.5  62.   62.5  63.   63.5  64.   64.5  65.   65.5  66.   66.5\n",
            "  67.   67.5  68.   68.5  69.   69.5  70.   70.5  71.   71.5  72.   72.5\n",
            "  73.   73.5  74.   74.5  75.   75.5  76.   76.5  77.   77.5  78.   78.5\n",
            "  79.   79.5  80.   80.5  81.   81.5  82.   82.5  83.   83.5  84.   84.5\n",
            "  85.   85.5  86.   86.5  87.   87.5  88.   88.5  89.   89.5  90.   90.5\n",
            "  91.   91.5  92.   92.5  93.   93.5  94.   94.5  95.   95.5  96.   96.5\n",
            "  97.   97.5  98.   98.5  99.   99.5 100. ]\n",
            "\n"
          ]
        }
      ],
      "source": [
        "a = np.linspace(1, 100, 199)\n",
        "array_attribute(a)"
      ]
    },
    {
      "cell_type": "markdown",
      "metadata": {
        "id": "ac0oV_AVXa6D"
      },
      "source": [
        "### ## numpy.logspace(start, stop, num=50, endpoint=True,\n",
        "base=10.0, dtype=None)\n",
        "\n",
        "로그 스케일의 linspace 함수\n",
        "\n",
        "로그 스케일로 지정된 범위에서 num 개수만큼 균등 간격으로 데이터 생성한 후 배열 만듦"
      ]
    },
    {
      "cell_type": "code",
      "execution_count": null,
      "metadata": {
        "colab": {
          "base_uri": "https://localhost:8080/"
        },
        "id": "iFbCzoG3SHPn",
        "outputId": "a304b1f7-08bf-4c03-d241-0e4e332e45f1"
      },
      "outputs": [
        {
          "data": {
            "text/plain": [
              "array([ 1.,  2.,  3.,  4.,  5.,  6.,  7.,  8.,  9., 10.])"
            ]
          },
          "execution_count": 29,
          "metadata": {},
          "output_type": "execute_result"
        }
      ],
      "source": [
        "a = np.linspace(1, 10, 10)\n",
        "a"
      ]
    },
    {
      "cell_type": "code",
      "execution_count": null,
      "metadata": {
        "colab": {
          "base_uri": "https://localhost:8080/"
        },
        "id": "-BTwKKAmXlf7",
        "outputId": "3c6a6125-5557-4b67-ebd1-3e45a5d773e7"
      },
      "outputs": [
        {
          "name": "stdout",
          "output_type": "stream",
          "text": [
            "shape of array:  (10,)\n",
            "ndim of array:  1\n",
            "dtype of array:  float64\n",
            "number of elements in array:  10\n",
            "array composition: \n",
            " [   2.    4.    8.   16.   32.   64.  128.  256.  512. 1024.]\n",
            "\n"
          ]
        }
      ],
      "source": [
        "a = np.logspace(1, 10, 10, base=2)\n",
        "array_attribute(a)"
      ]
    },
    {
      "cell_type": "code",
      "execution_count": null,
      "metadata": {
        "colab": {
          "base_uri": "https://localhost:8080/"
        },
        "id": "lLrix0L1Xk7M",
        "outputId": "ec44e25d-6722-4720-db75-71dbfa068d65"
      },
      "outputs": [
        {
          "name": "stdout",
          "output_type": "stream",
          "text": [
            "shape of array:  (20,)\n",
            "ndim of array:  1\n",
            "dtype of array:  float64\n",
            "number of elements in array:  20\n",
            "array composition: \n",
            " [ 1.25892541  1.40400425  1.565802    1.74624535  1.94748304  2.1719114\n",
            "  2.42220294  2.70133812  3.0126409   3.35981829  3.74700446  4.17881006\n",
            "  4.66037703  5.19743987  5.79639395  6.46437163  7.2093272   8.04013161\n",
            "  8.9666781  10.        ]\n",
            "\n"
          ]
        }
      ],
      "source": [
        "a = np.logspace(0.1, 1, 20)\n",
        "array_attribute(a)"
      ]
    },
    {
      "cell_type": "markdown",
      "metadata": {
        "id": "dp-RtTDZY-_W"
      },
      "source": [
        "##1-4 난수 기반 배열 생성"
      ]
    },
    {
      "cell_type": "markdown",
      "metadata": {
        "id": "V4nCnQ-3cAqc"
      },
      "source": [
        "시각화를 위한 파이썬 패키지 matplotlib 임포트"
      ]
    },
    {
      "cell_type": "code",
      "execution_count": 6,
      "metadata": {
        "id": "_JclJEZEb9Wp"
      },
      "outputs": [],
      "source": [
        "# !pip3 install matplotlib\n",
        "import matplotlib.pyplot as plt"
      ]
    },
    {
      "cell_type": "markdown",
      "metadata": {
        "id": "OCLqKh-tcb-5"
      },
      "source": [
        "plot, hist 등의 함수를 통해 데이터를 시각화할 수 있음"
      ]
    },
    {
      "cell_type": "code",
      "execution_count": null,
      "metadata": {
        "colab": {
          "base_uri": "https://localhost:8080/",
          "height": 445
        },
        "id": "7zOlSYbTcY1U",
        "outputId": "86783033-9140-4eee-feb9-4cdf97c20e51"
      },
      "outputs": [
        {
          "name": "stdout",
          "output_type": "stream",
          "text": [
            "shape of array:  (20,)\n",
            "ndim of array:  1\n",
            "dtype of array:  float64\n",
            "number of elements in array:  20\n",
            "array composition: \n",
            " [ 1.25892541  1.40400425  1.565802    1.74624535  1.94748304  2.1719114\n",
            "  2.42220294  2.70133812  3.0126409   3.35981829  3.74700446  4.17881006\n",
            "  4.66037703  5.19743987  5.79639395  6.46437163  7.2093272   8.04013161\n",
            "  8.9666781  10.        ]\n",
            "\n"
          ]
        },
        {
          "data": {
            "image/png": "[encoded data removed]",
            "text/plain": [
              "<Figure size 432x288 with 1 Axes>"
            ]
          },
          "metadata": {
            "needs_background": "light"
          },
          "output_type": "display_data"
        }
      ],
      "source": [
        "a = np.logspace(0.1, 1, 20)\n",
        "array_attribute(a)\n",
        "plt.plot(a)\n",
        "plt.show()"
      ]
    },
    {
      "cell_type": "markdown",
      "metadata": {
        "id": "6bvDZJ-Jcm9f"
      },
      "source": [
        "### ## np.random.normal(loc=0.0, scale=1.0, size=None)\n",
        "\n",
        "1.   항목 추가\n",
        "2.   항목 추가\n",
        "\n",
        "\n",
        "\n",
        "정규 분포 확률 밀도에서 표본 추출\n",
        "\n",
        "loc: 정규 분포의 평균\n",
        "\n",
        "scale: 표준편차"
      ]
    },
    {
      "cell_type": "code",
      "execution_count": null,
      "metadata": {
        "colab": {
          "base_uri": "https://localhost:8080/"
        },
        "id": "WahKG8lYc0K-",
        "outputId": "192d75a0-1077-4d0d-b462-1264cad9dcc1"
      },
      "outputs": [
        {
          "name": "stdout",
          "output_type": "stream",
          "text": [
            "shape of array:  (2, 3)\n",
            "ndim of array:  2\n",
            "dtype of array:  float64\n",
            "number of elements in array:  6\n",
            "array composition: \n",
            " [[-0.05060798 -0.49663042  1.35328326]\n",
            " [-1.22601848 -2.10804453 -0.40032168]]\n",
            "\n"
          ]
        }
      ],
      "source": [
        "mean = 0\n",
        "std = 1\n",
        "a = np.random.normal(mean, std, (2, 3))\n",
        "array_attribute(a)"
      ]
    },
    {
      "cell_type": "markdown",
      "metadata": {
        "id": "H-e4A2WUdC6n"
      },
      "source": [
        "np.random.normal이 생성한 난수는 정규 분포의 형상을 갖습니다.\n",
        "\n",
        "다음 예제는 정규 분포로 100,000개 표본을 뽑은 결과를 히스토그램으로 표현한 예입니다.\n",
        "\n",
        "표본 100,000개의 배열을 100개 구간으로 구분할 때, 정규 분포 형태를 보이고 있습니다."
      ]
    },
    {
      "cell_type": "code",
      "execution_count": null,
      "metadata": {
        "colab": {
          "base_uri": "https://localhost:8080/",
          "height": 267
        },
        "id": "hz3ouVGbc8l9",
        "outputId": "e165654d-3075-4f60-8ee2-9ddbc232b81e"
      },
      "outputs": [
        {
          "data": {
            "image/png": "[encoded data removed]",
            "text/plain": [
              "<Figure size 432x288 with 1 Axes>"
            ]
          },
          "metadata": {
            "needs_background": "light"
          },
          "output_type": "display_data"
        }
      ],
      "source": [
        "data = np.random.normal(5, 3, 100000)\n",
        "plt.hist(data, bins=100)\n",
        "plt.show()"
      ]
    },
    {
      "cell_type": "markdown",
      "metadata": {
        "id": "ma4HpWmddLcg"
      },
      "source": [
        "### ## np.random.rand(d0, d1, ..., dn)\n",
        "\n",
        "Shape이 (d0, d1, ..., dn) 인 배열 생성 후 난수로 초기화\n",
        "\n",
        "난수:  0 -  1 의 균등 분포(Uniform Distribution) 형상으로 표본 추출  \n",
        "*균등분포: 정해진 범위에서 모든 확률이 균일한 분포를 의미"
      ]
    },
    {
      "cell_type": "code",
      "execution_count": null,
      "metadata": {
        "colab": {
          "base_uri": "https://localhost:8080/"
        },
        "id": "k-Bq_T4vTxTT",
        "outputId": "4e2be4c0-9f3b-4b81-b426-d9b8d3ab0619"
      },
      "outputs": [
        {
          "name": "stdout",
          "output_type": "stream",
          "text": [
            "shape of array:  (3, 2)\n",
            "ndim of array:  2\n",
            "dtype of array:  float64\n",
            "number of elements in array:  6\n",
            "array composition: \n",
            " [[0.56830653 0.65896681]\n",
            " [0.19479434 0.76736662]\n",
            " [0.28727388 0.18715424]]\n",
            "\n"
          ]
        }
      ],
      "source": [
        "a = np.random.rand(3,2)\n",
        "array_attribute(a)"
      ]
    },
    {
      "cell_type": "markdown",
      "metadata": {
        "id": "sUq563ppdhkN"
      },
      "source": [
        "np.random.rand는 균등한 비율로 표본 추출\n",
        "\n",
        "다음 예제는 균등 분포로 100,000개를 표본 추출한 결과를 히스토그램으로 표현한 예입니다.\n",
        "\n",
        "표본 100,000개의 배열을 100개 구간으로 구분했을때 균등한 분포 형태를 보이고 있습니다."
      ]
    },
    {
      "cell_type": "code",
      "execution_count": null,
      "metadata": {
        "colab": {
          "base_uri": "https://localhost:8080/",
          "height": 265
        },
        "id": "DosUHpIxdfY4",
        "outputId": "8cad19d3-0b21-4796-dd8c-0bf58eb14557"
      },
      "outputs": [
        {
          "data": {
            "image/png": "[encoded data removed]",
            "text/plain": [
              "<Figure size 432x288 with 1 Axes>"
            ]
          },
          "metadata": {
            "needs_background": "light"
          },
          "output_type": "display_data"
        }
      ],
      "source": [
        "data = np.random.rand(100000)\n",
        "plt.hist(data, bins=100)\n",
        "plt.show()"
      ]
    },
    {
      "cell_type": "markdown",
      "metadata": {
        "id": "vhnQ_Xn6dp1u"
      },
      "source": [
        "### ## np.random.randn(d0, d1, ..., dn)\n",
        "\n",
        "(d0, d1, ..., dn) shape 배열 생성 후 난수로 초기화\n",
        "\n",
        "난수: 표준 정규 분포(standard normal distribution)에서 표본 추출\n",
        "\n",
        "*표준 정규 분포: 평균이 0이고 표준편차가 1인 정규분포"
      ]
    },
    {
      "cell_type": "code",
      "execution_count": null,
      "metadata": {
        "colab": {
          "base_uri": "https://localhost:8080/"
        },
        "id": "gXUZcyV7dmhw",
        "outputId": "8f22d18a-6aa2-45a3-93ee-f6fc06966313"
      },
      "outputs": [
        {
          "name": "stdout",
          "output_type": "stream",
          "text": [
            "shape of array:  (2, 4)\n",
            "ndim of array:  2\n",
            "dtype of array:  float64\n",
            "number of elements in array:  8\n",
            "array composition: \n",
            " [[-0.4658976   0.98585921  0.46035898 -0.27839502]\n",
            " [ 0.93691805 -0.01171935 -0.74848003 -1.63398757]]\n",
            "\n"
          ]
        }
      ],
      "source": [
        "a = np.random.randn(2, 4)\n",
        "array_attribute(a)"
      ]
    },
    {
      "cell_type": "markdown",
      "metadata": {
        "id": "CBeb4jdVd9LT"
      },
      "source": [
        "np.random.randn은 정규 분포로 표본 추출\n",
        "\n",
        "다음 예제는 정규 분포로 100,000개를 표본 추출한 결과를 히스토그램으로 표현한 예입니다.\n",
        "\n",
        "표본 100,000개의 배열을 100개 구간으로 구분했을때 정규 분포 형태를 보이고 있습니다."
      ]
    },
    {
      "cell_type": "code",
      "execution_count": null,
      "metadata": {
        "colab": {
          "base_uri": "https://localhost:8080/",
          "height": 265
        },
        "id": "fCsQMIkPd6oY",
        "outputId": "520f7517-c5c6-487f-f5d9-ff71f5679c22"
      },
      "outputs": [
        {
          "data": {
            "image/png": "[encoded data removed]",
            "text/plain": [
              "<Figure size 432x288 with 1 Axes>"
            ]
          },
          "metadata": {
            "needs_background": "light"
          },
          "output_type": "display_data"
        }
      ],
      "source": [
        "data = np.random.randn(100000)\n",
        "plt.hist(data, bins=100)\n",
        "plt.show()"
      ]
    },
    {
      "cell_type": "markdown",
      "metadata": {
        "id": "geZ0cZ-tei_k"
      },
      "source": [
        "### ## np.random.randint(low, high=None, size=None)\n",
        "\n",
        "지정된 shape으로 배열을 만들고 low 부터 high 미만의 범위에서 정수 표본 추출"
      ]
    },
    {
      "cell_type": "code",
      "execution_count": null,
      "metadata": {
        "colab": {
          "base_uri": "https://localhost:8080/"
        },
        "id": "cin0ffRzfHfL",
        "outputId": "b78d7715-bee3-446c-fe70-4a276eeee5d1"
      },
      "outputs": [
        {
          "name": "stdout",
          "output_type": "stream",
          "text": [
            "shape of array:  (2, 4)\n",
            "ndim of array:  2\n",
            "dtype of array:  int64\n",
            "number of elements in array:  8\n",
            "array composition: \n",
            " [[6 9 7 6]\n",
            " [7 8 5 9]]\n",
            "\n"
          ]
        }
      ],
      "source": [
        "a = np.random.randint(5, 10, size=(2, 4))\n",
        "array_attribute(a)"
      ]
    },
    {
      "cell_type": "code",
      "execution_count": 9,
      "metadata": {
        "colab": {
          "base_uri": "https://localhost:8080/"
        },
        "id": "J-QVwv1XeYNE",
        "outputId": "a0fb2bf7-2428-483e-cf95-33afdf5f9d80"
      },
      "outputs": [
        {
          "data": {
            "text/plain": [
              "array([1, 0, 0, 4, 1, 0, 4, 0, 4, 4])"
            ]
          },
          "execution_count": 9,
          "metadata": {},
          "output_type": "execute_result"
        }
      ],
      "source": [
        "import numpy as np\n",
        "a = np.random.randint(5, size=10)\n",
        "a\n",
        "# array_attribute(a)"
      ]
    },
    {
      "cell_type": "markdown",
      "metadata": {
        "id": "1O5mgvKSfYf-"
      },
      "source": [
        "100에서 100의 범위에서 정수를 균등하게 표본 추출합니다.\n",
        "\n",
        "다음 예제에서 균등 분포로 10000개를 표본 추출한 결과를 히스토그램으로 표현한 예입니다.\n",
        "\n",
        "표본 10000개의 배열을 10개 구간으로 구분했을때 균등한 분포 형태를 보이고 있습니다."
      ]
    },
    {
      "cell_type": "code",
      "execution_count": null,
      "metadata": {
        "colab": {
          "base_uri": "https://localhost:8080/",
          "height": 265
        },
        "id": "qqiYVbp3fQiN",
        "outputId": "65277e26-e67e-46b8-e71b-4748b5b187ae"
      },
      "outputs": [
        {
          "data": {
            "image/png": "[encoded data removed]",
            "text/plain": [
              "<Figure size 432x288 with 1 Axes>"
            ]
          },
          "metadata": {
            "needs_background": "light"
          },
          "output_type": "display_data"
        }
      ],
      "source": [
        "data = np.random.randint(-100, 100, 10000)\n",
        "plt.hist(data, bins=10)\n",
        "plt.show()"
      ]
    },
    {
      "cell_type": "markdown",
      "metadata": {
        "id": "xn8KRlx_fehC"
      },
      "source": [
        "### ##  np.random.random(size=None)\n",
        "\n",
        "난수: 0 - 1 의 균등 분포(Uniform Distribution)에서 표본 추출  \n",
        "*np.random.random 함수는 rand 함수와 거의 동일하나, 원하는 차원의 형태를 튜플 자료형으로 넣어주어야 한다는 차이점"
      ]
    },
    {
      "cell_type": "code",
      "execution_count": null,
      "metadata": {
        "colab": {
          "base_uri": "https://localhost:8080/"
        },
        "id": "YPoPJH7vfbRr",
        "outputId": "039b884e-33a4-4c73-e7ec-0ba58311c968"
      },
      "outputs": [
        {
          "name": "stdout",
          "output_type": "stream",
          "text": [
            "shape of array:  (2, 4)\n",
            "ndim of array:  2\n",
            "dtype of array:  float64\n",
            "number of elements in array:  8\n",
            "array composition: \n",
            " [[0.58106216 0.83038406 0.50501838 0.47384948]\n",
            " [0.0162005  0.1738463  0.40202557 0.56514116]]\n",
            "\n",
            "shape of array:  (2, 4)\n",
            "ndim of array:  2\n",
            "dtype of array:  float64\n",
            "number of elements in array:  8\n",
            "array composition: \n",
            " [[0.66576202 0.83305829 0.47979961 0.38220407]\n",
            " [0.321533   0.26795426 0.59065165 0.9473139 ]]\n",
            "\n"
          ]
        }
      ],
      "source": [
        "a = np.random.random((2, 4))\n",
        "b = np.random.rand(2,4)\n",
        "array_attribute(a)\n",
        "array_attribute(b)"
      ]
    },
    {
      "cell_type": "markdown",
      "metadata": {
        "id": "kG6bmN3xfzP1"
      },
      "source": [
        "np.random.random은 균등 분포로 표본을 추출합니다.\n",
        "다음 예제는 정규 분포로 10000개를 표본 추출한 결과를 히스토그램으로 표현한 예입니다.\n",
        "표본 10000개의 배열을 10개 구간으로 구분했을때 정규 분포 형태를 보이고 있습니다."
      ]
    },
    {
      "cell_type": "code",
      "execution_count": null,
      "metadata": {
        "colab": {
          "base_uri": "https://localhost:8080/",
          "height": 265
        },
        "id": "9sHcwCxhf0FP",
        "outputId": "da40c3c3-b2eb-4368-da22-6fca4709b07b"
      },
      "outputs": [
        {
          "data": {
            "image/png": "[encoded data removed]",
            "text/plain": [
              "<Figure size 432x288 with 1 Axes>"
            ]
          },
          "metadata": {
            "needs_background": "light"
          },
          "output_type": "display_data"
        }
      ],
      "source": [
        "data = np.random.random(10000)\n",
        "plt.hist(data, bins=10)\n",
        "plt.show()\n"
      ]
    },
    {
      "cell_type": "markdown",
      "metadata": {
        "id": "TNPWL2cAgf_Q"
      },
      "source": [
        "### ## Seed값을 통해 생성될 난수 고정하기"
      ]
    },
    {
      "cell_type": "markdown",
      "metadata": {
        "id": "7adxmzU5gmK-"
      },
      "source": [
        "무작위 수를 만드는 난수는 특정 시작 숫자로부터 난수처럼 보이는 수열을 만드는 알고리즘의 결과물입니다. \n",
        "\n",
        "따라서 시작점을 설정함으로써 난수 발생을 재연할 수 있고, 이렇게 난수의 시작점을 설정하는 함수가 np.random.seed 입니다.\n",
        "\n"
      ]
    },
    {
      "cell_type": "code",
      "execution_count": null,
      "metadata": {
        "colab": {
          "base_uri": "https://localhost:8080/"
        },
        "id": "At9ZEUsNgp6m",
        "outputId": "c727f2fe-6310-401e-b7e7-fe1acc5d43bd"
      },
      "outputs": [
        {
          "name": "stdout",
          "output_type": "stream",
          "text": [
            "try 1 \n",
            " [0.35347302 0.24936132 0.67011418 0.22760634 0.20048587 0.21083886\n",
            " 0.62264487 0.98802895 0.49820203 0.83728939 0.98362216 0.10285004\n",
            " 0.541058   0.33117521 0.95179345 0.1860623  0.79658538 0.37884087\n",
            " 0.69787144 0.51614023]\n",
            "\n",
            " try 2 \n",
            " [0.03803428 0.54615778 0.11319692 0.91141179 0.75822562 0.47522272\n",
            " 0.64457101 0.72252888 0.17263461 0.52865423 0.0076419  0.80449604\n",
            " 0.17654347 0.58212931 0.55485724 0.58537746 0.4733601  0.91938866\n",
            " 0.82204802 0.63340204]\n",
            "\n",
            " try 3 \n",
            " [0.48842202 0.63584989 0.19140362 0.41325555 0.14873137 0.49785912\n",
            " 0.53798153 0.80668871 0.26091896 0.6481986  0.09954295 0.63376795\n",
            " 0.77571804 0.8557286  0.48661663 0.98578987 0.98465857 0.99305115\n",
            " 0.63588048 0.56215162]\n"
          ]
        }
      ],
      "source": [
        "a = np.random.random(20)\n",
        "print('try 1 \\n', a)\n",
        "\n",
        "a = np.random.random(20)\n",
        "print('\\n try 2 \\n', a)\n",
        "\n",
        "a = np.random.random(20)\n",
        "print('\\n try 3 \\n', a)"
      ]
    },
    {
      "cell_type": "code",
      "execution_count": null,
      "metadata": {
        "colab": {
          "base_uri": "https://localhost:8080/"
        },
        "id": "QUp8cYfEg5pY",
        "outputId": "71675b3a-d4e3-4077-a668-4c9abd2c3058"
      },
      "outputs": [
        {
          "name": "stdout",
          "output_type": "stream",
          "text": [
            "try 1 \n",
            " [0.77132064 0.02075195 0.63364823 0.74880388 0.49850701 0.22479665\n",
            " 0.19806286 0.76053071 0.16911084 0.08833981 0.68535982 0.95339335\n",
            " 0.00394827 0.51219226 0.81262096 0.61252607 0.72175532 0.29187607\n",
            " 0.91777412 0.71457578]\n",
            "\n",
            " try 2 \n",
            " [0.77132064 0.02075195 0.63364823 0.74880388 0.49850701 0.22479665\n",
            " 0.19806286 0.76053071 0.16911084 0.08833981 0.68535982 0.95339335\n",
            " 0.00394827 0.51219226 0.81262096 0.61252607 0.72175532 0.29187607\n",
            " 0.91777412 0.71457578]\n",
            "\n",
            " try 3 \n",
            " [0.77132064 0.02075195 0.63364823 0.74880388 0.49850701 0.22479665\n",
            " 0.19806286 0.76053071 0.16911084 0.08833981 0.68535982 0.95339335\n",
            " 0.00394827 0.51219226 0.81262096 0.61252607 0.72175532 0.29187607\n",
            " 0.91777412 0.71457578]\n"
          ]
        }
      ],
      "source": [
        "np.random.seed(10)\n",
        "a = np.random.random(20)\n",
        "print('try 1 \\n', a)\n",
        "\n",
        "np.random.seed(10)\n",
        "a = np.random.random(20)\n",
        "print('\\n try 2 \\n', a)\n",
        "\n",
        "np.random.seed(10)\n",
        "a = np.random.random(20)\n",
        "print('\\n try 3 \\n', a)"
      ]
    },
    {
      "cell_type": "code",
      "execution_count": null,
      "metadata": {
        "colab": {
          "base_uri": "https://localhost:8080/"
        },
        "id": "Rs8jwJIvg_ia",
        "outputId": "8fa2b68a-1c6f-48c5-c70c-572a4e61bad0"
      },
      "outputs": [
        {
          "name": "stdout",
          "output_type": "stream",
          "text": [
            "try 1 \n",
            " [0.77132064 0.02075195 0.63364823 0.74880388 0.49850701 0.22479665\n",
            " 0.19806286 0.76053071 0.16911084 0.08833981 0.68535982 0.95339335\n",
            " 0.00394827 0.51219226 0.81262096 0.61252607 0.72175532 0.29187607\n",
            " 0.91777412 0.71457578]\n",
            "\n",
            " try 2 \n",
            " [0.77132064 0.02075195 0.63364823 0.74880388 0.49850701 0.22479665\n",
            " 0.19806286 0.76053071 0.16911084 0.08833981 0.68535982 0.95339335\n",
            " 0.00394827 0.51219226 0.81262096 0.61252607 0.72175532 0.29187607\n",
            " 0.91777412 0.71457578]\n",
            "\n",
            " try 3 \n",
            " [0.15416284 0.7400497  0.26331502 0.53373939 0.01457496 0.91874701\n",
            " 0.90071485 0.03342143 0.95694934 0.13720932 0.28382835 0.60608318\n",
            " 0.94422514 0.85273554 0.00225923 0.52122603 0.55203763 0.48537741\n",
            " 0.76813415 0.16071675]\n",
            "\n",
            " try 4 \n",
            " [0.15416284 0.7400497  0.26331502 0.53373939 0.01457496 0.91874701\n",
            " 0.90071485 0.03342143 0.95694934 0.13720932 0.28382835 0.60608318\n",
            " 0.94422514 0.85273554 0.00225923 0.52122603 0.55203763 0.48537741\n",
            " 0.76813415 0.16071675]\n"
          ]
        }
      ],
      "source": [
        "# 난수를 발생시키는 코드마다 seed를 지정해주어야 함\n",
        "# seed가 난수 발생의 시작점을 지정해주는 것으로 이해\n",
        "\n",
        "np.random.seed(10)\n",
        "a = np.random.random(20)\n",
        "print('try 1 \\n', a)\n",
        "\n",
        "np.random.seed(10)\n",
        "a = np.random.random(20)\n",
        "print('\\n try 2 \\n', a)\n",
        "\n",
        "np.random.seed(12)\n",
        "a = np.random.random(20)\n",
        "print('\\n try 3 \\n', a)\n",
        "\n",
        "np.random.seed(12)\n",
        "a = np.random.random(20)\n",
        "print('\\n try 4 \\n', a)"
      ]
    },
    {
      "cell_type": "markdown",
      "metadata": {
        "id": "kkbazuUSiCTv"
      },
      "source": [
        "#**2. 배열의 연산**"
      ]
    },
    {
      "cell_type": "markdown",
      "metadata": {
        "id": "VPWu7a96kCJ5"
      },
      "source": [
        "##2-1 일반 산술 연산"
      ]
    },
    {
      "cell_type": "markdown",
      "metadata": {
        "id": "0FBC-3DokHAa"
      },
      "source": [
        "NumPy는 기본 연산자를 연산자 재정의하여 배열(행렬) 연산에 대한 직관적으로 표현을 강화하였습니다. 모든 산술 연산 함수는 np 모듈에 포함되어 있습니다."
      ]
    },
    {
      "cell_type": "code",
      "execution_count": null,
      "metadata": {
        "id": "Bw00X7KUkLn0"
      },
      "outputs": [],
      "source": [
        "a = np.array([[1,2,3],\n",
        "              [4,5,6],\n",
        "              [7,8,9],])\n",
        "\n",
        "b = np.array([[9,8,7],\n",
        "              [6,5,4],\n",
        "              [3,2,1],])"
      ]
    },
    {
      "cell_type": "markdown",
      "metadata": {
        "id": "GAeKt-zMklTw"
      },
      "source": [
        "### ## 배열 연산: 뺄셈"
      ]
    },
    {
      "cell_type": "code",
      "execution_count": null,
      "metadata": {
        "colab": {
          "base_uri": "https://localhost:8080/"
        },
        "id": "F5RixLSFkj4M",
        "outputId": "7f1f6772-1524-4f3a-d4a6-d067b98d7400"
      },
      "outputs": [
        {
          "data": {
            "text/plain": [
              "array([[-8, -6, -4],\n",
              "       [-2,  0,  2],\n",
              "       [ 4,  6,  8]])"
            ]
          },
          "execution_count": 49,
          "metadata": {},
          "output_type": "execute_result"
        }
      ],
      "source": [
        "a - b"
      ]
    },
    {
      "cell_type": "code",
      "execution_count": null,
      "metadata": {
        "colab": {
          "base_uri": "https://localhost:8080/"
        },
        "id": "uB4-ZOsTkpKV",
        "outputId": "220cbc5e-2fcc-495c-91f0-f36aef17afa0"
      },
      "outputs": [
        {
          "data": {
            "text/plain": [
              "array([[-8, -6, -4],\n",
              "       [-2,  0,  2],\n",
              "       [ 4,  6,  8]])"
            ]
          },
          "execution_count": 50,
          "metadata": {},
          "output_type": "execute_result"
        }
      ],
      "source": [
        "np.subtract(a, b)"
      ]
    },
    {
      "cell_type": "markdown",
      "metadata": {
        "id": "IqLnJyb2ktnf"
      },
      "source": [
        "### ## 배열 연산: 덧셈"
      ]
    },
    {
      "cell_type": "code",
      "execution_count": null,
      "metadata": {
        "colab": {
          "base_uri": "https://localhost:8080/"
        },
        "id": "s6fiaqbZiKKM",
        "outputId": "c8d460bd-f4ff-49f1-f897-bce6546975a0"
      },
      "outputs": [
        {
          "data": {
            "text/plain": [
              "array([[10, 10, 10],\n",
              "       [10, 10, 10],\n",
              "       [10, 10, 10]])"
            ]
          },
          "execution_count": 51,
          "metadata": {},
          "output_type": "execute_result"
        }
      ],
      "source": [
        "a + b"
      ]
    },
    {
      "cell_type": "code",
      "execution_count": null,
      "metadata": {
        "colab": {
          "base_uri": "https://localhost:8080/"
        },
        "id": "LeE5sbZ9lMXA",
        "outputId": "f39214e4-0d9e-4af7-c86e-7fc6baae2c8c"
      },
      "outputs": [
        {
          "data": {
            "text/plain": [
              "array([[10, 10, 10],\n",
              "       [10, 10, 10],\n",
              "       [10, 10, 10]])"
            ]
          },
          "execution_count": 52,
          "metadata": {},
          "output_type": "execute_result"
        }
      ],
      "source": [
        "np.add(a, b)"
      ]
    },
    {
      "cell_type": "markdown",
      "metadata": {
        "id": "FYUxtATVlNoU"
      },
      "source": [
        "### ## 배열 연산: 원소 단위 나눗셈"
      ]
    },
    {
      "cell_type": "code",
      "execution_count": null,
      "metadata": {
        "colab": {
          "base_uri": "https://localhost:8080/"
        },
        "id": "A_HD6-valRjU",
        "outputId": "c976c94c-226e-4c44-d473-bf7290bfa9e7"
      },
      "outputs": [
        {
          "data": {
            "text/plain": [
              "array([[0.11111111, 0.25      , 0.42857143],\n",
              "       [0.66666667, 1.        , 1.5       ],\n",
              "       [2.33333333, 4.        , 9.        ]])"
            ]
          },
          "execution_count": 53,
          "metadata": {},
          "output_type": "execute_result"
        }
      ],
      "source": [
        "a/b"
      ]
    },
    {
      "cell_type": "code",
      "execution_count": null,
      "metadata": {
        "colab": {
          "base_uri": "https://localhost:8080/"
        },
        "id": "8TRuSQnYlS08",
        "outputId": "f050a0d0-6ea6-4064-d576-f6ca753cb0a0"
      },
      "outputs": [
        {
          "data": {
            "text/plain": [
              "array([[0.11111111, 0.25      , 0.42857143],\n",
              "       [0.66666667, 1.        , 1.5       ],\n",
              "       [2.33333333, 4.        , 9.        ]])"
            ]
          },
          "execution_count": 54,
          "metadata": {},
          "output_type": "execute_result"
        }
      ],
      "source": [
        "np.divide(a, b)"
      ]
    },
    {
      "cell_type": "markdown",
      "metadata": {
        "id": "EyWbrbVxlU-X"
      },
      "source": [
        "### ## 배열 연산: 원소 단위 곱셈"
      ]
    },
    {
      "cell_type": "code",
      "execution_count": null,
      "metadata": {
        "colab": {
          "base_uri": "https://localhost:8080/"
        },
        "id": "tB-MDUzqlWUl",
        "outputId": "9d9800e7-9938-46af-eeb5-9b8b84affdd0"
      },
      "outputs": [
        {
          "data": {
            "text/plain": [
              "array([[ 9, 16, 21],\n",
              "       [24, 25, 24],\n",
              "       [21, 16,  9]])"
            ]
          },
          "execution_count": 55,
          "metadata": {},
          "output_type": "execute_result"
        }
      ],
      "source": [
        "a*b"
      ]
    },
    {
      "cell_type": "code",
      "execution_count": null,
      "metadata": {
        "colab": {
          "base_uri": "https://localhost:8080/"
        },
        "id": "adEkrXFdlYbm",
        "outputId": "4caff547-2c43-43d6-ed13-a1d1ded20b44"
      },
      "outputs": [
        {
          "data": {
            "text/plain": [
              "array([[ 9, 16, 21],\n",
              "       [24, 25, 24],\n",
              "       [21, 16,  9]])"
            ]
          },
          "execution_count": 56,
          "metadata": {},
          "output_type": "execute_result"
        }
      ],
      "source": [
        "np.multiply(a, b)"
      ]
    },
    {
      "cell_type": "markdown",
      "metadata": {
        "id": "J2ESxQAgl42P"
      },
      "source": [
        "### ## 배열연산: 제곱/제곱근"
      ]
    },
    {
      "cell_type": "code",
      "execution_count": null,
      "metadata": {
        "colab": {
          "base_uri": "https://localhost:8080/"
        },
        "id": "HhR0LnQwli8J",
        "outputId": "046aff9e-9e58-444c-f4d5-a7762c444465"
      },
      "outputs": [
        {
          "name": "stdout",
          "output_type": "stream",
          "text": [
            "[[1 2 3]\n",
            " [4 5 6]\n",
            " [7 8 9]]\n",
            "\n"
          ]
        },
        {
          "data": {
            "text/plain": [
              "array([[ 1,  4,  9],\n",
              "       [16, 25, 36],\n",
              "       [49, 64, 81]])"
            ]
          },
          "execution_count": 57,
          "metadata": {},
          "output_type": "execute_result"
        }
      ],
      "source": [
        "print(a)\n",
        "print('')\n",
        "np.square(a)"
      ]
    },
    {
      "cell_type": "code",
      "execution_count": null,
      "metadata": {
        "colab": {
          "base_uri": "https://localhost:8080/"
        },
        "id": "lC9tFcO8l9hf",
        "outputId": "78a23358-ea13-451b-b468-bd3036b7d627"
      },
      "outputs": [
        {
          "name": "stdout",
          "output_type": "stream",
          "text": [
            "[[1 2 3]\n",
            " [4 5 6]\n",
            " [7 8 9]]\n",
            "\n"
          ]
        },
        {
          "data": {
            "text/plain": [
              "array([[1.        , 1.41421356, 1.73205081],\n",
              "       [2.        , 2.23606798, 2.44948974],\n",
              "       [2.64575131, 2.82842712, 3.        ]])"
            ]
          },
          "execution_count": 58,
          "metadata": {},
          "output_type": "execute_result"
        }
      ],
      "source": [
        "print(a)\n",
        "print('')\n",
        "\n",
        "np.sqrt(a)"
      ]
    },
    {
      "cell_type": "code",
      "execution_count": null,
      "metadata": {
        "colab": {
          "base_uri": "https://localhost:8080/"
        },
        "id": "61R7CjKbmG5a",
        "outputId": "b537470f-4db1-474f-ebe2-16243d00969a"
      },
      "outputs": [
        {
          "name": "stdout",
          "output_type": "stream",
          "text": [
            "[[    1    32   243]\n",
            " [ 1024  3125  7776]\n",
            " [16807 32768 59049]]\n",
            "\n",
            "[[1.         1.41421356 1.73205081]\n",
            " [2.         2.23606798 2.44948974]\n",
            " [2.64575131 2.82842712 3.        ]]\n"
          ]
        }
      ],
      "source": [
        "print(a**5)\n",
        "print('')\n",
        "print(a**0.5)"
      ]
    },
    {
      "cell_type": "markdown",
      "metadata": {
        "id": "NHHEQ2OCmQoO"
      },
      "source": [
        "### ## 배열연산: 나눗셈 나머지/몫"
      ]
    },
    {
      "cell_type": "code",
      "execution_count": null,
      "metadata": {
        "colab": {
          "base_uri": "https://localhost:8080/"
        },
        "id": "dRWetiE3YE87",
        "outputId": "1087a756-021a-4568-c36e-f161776726ae"
      },
      "outputs": [
        {
          "data": {
            "text/plain": [
              "2"
            ]
          },
          "execution_count": 60,
          "metadata": {},
          "output_type": "execute_result"
        }
      ],
      "source": [
        "5%3"
      ]
    },
    {
      "cell_type": "code",
      "execution_count": null,
      "metadata": {
        "colab": {
          "base_uri": "https://localhost:8080/"
        },
        "id": "8rFNBx8cmbcB",
        "outputId": "ac607247-70f7-4568-e994-dfc0ea8476e6"
      },
      "outputs": [
        {
          "name": "stdout",
          "output_type": "stream",
          "text": [
            "[[1 2 3]\n",
            " [4 5 6]\n",
            " [7 8 9]]\n",
            "\n"
          ]
        },
        {
          "data": {
            "text/plain": [
              "array([[1, 2, 0],\n",
              "       [1, 2, 0],\n",
              "       [1, 2, 0]])"
            ]
          },
          "execution_count": 61,
          "metadata": {},
          "output_type": "execute_result"
        }
      ],
      "source": [
        "print(a)\n",
        "print('')\n",
        "\n",
        "a%3"
      ]
    },
    {
      "cell_type": "code",
      "execution_count": null,
      "metadata": {
        "colab": {
          "base_uri": "https://localhost:8080/"
        },
        "id": "QJCILca3mdcc",
        "outputId": "9e6ac964-38cc-4df1-d041-d254decd016f"
      },
      "outputs": [
        {
          "name": "stdout",
          "output_type": "stream",
          "text": [
            "[[1 2 3]\n",
            " [4 5 6]\n",
            " [7 8 9]]\n",
            "\n"
          ]
        },
        {
          "data": {
            "text/plain": [
              "array([[0, 0, 1],\n",
              "       [1, 1, 2],\n",
              "       [2, 2, 3]])"
            ]
          },
          "execution_count": 62,
          "metadata": {},
          "output_type": "execute_result"
        }
      ],
      "source": [
        "print(a)\n",
        "print('')\n",
        "\n",
        "\n",
        "a//3"
      ]
    },
    {
      "cell_type": "markdown",
      "metadata": {
        "id": "kVKPz5xomrzf"
      },
      "source": [
        "##2-2 Numpy에서 지원하는 배열 연산"
      ]
    },
    {
      "cell_type": "markdown",
      "metadata": {
        "id": "TvziEWcemwoz"
      },
      "source": [
        "### ## 배열연산: 삼각함수"
      ]
    },
    {
      "cell_type": "code",
      "execution_count": null,
      "metadata": {
        "colab": {
          "base_uri": "https://localhost:8080/"
        },
        "id": "nPWe57vtmyB0",
        "outputId": "5e7ae049-7b5f-416a-9576-bb69f2a964fb"
      },
      "outputs": [
        {
          "name": "stdout",
          "output_type": "stream",
          "text": [
            "[[1 2 3]\n",
            " [4 5 6]\n",
            " [7 8 9]]\n",
            "\n"
          ]
        },
        {
          "data": {
            "text/plain": [
              "array([[ 0.84147098,  0.90929743,  0.14112001],\n",
              "       [-0.7568025 , -0.95892427, -0.2794155 ],\n",
              "       [ 0.6569866 ,  0.98935825,  0.41211849]])"
            ]
          },
          "execution_count": 63,
          "metadata": {},
          "output_type": "execute_result"
        }
      ],
      "source": [
        "print(a)\n",
        "print('')\n",
        "\n",
        "np.sin(a)"
      ]
    },
    {
      "cell_type": "code",
      "execution_count": null,
      "metadata": {
        "colab": {
          "base_uri": "https://localhost:8080/"
        },
        "id": "WZdnTwkmm0My",
        "outputId": "bd8737c7-f55f-4920-de52-17ab22623b3b"
      },
      "outputs": [
        {
          "data": {
            "text/plain": [
              "array([[ 0.54030231, -0.41614684, -0.9899925 ],\n",
              "       [-0.65364362,  0.28366219,  0.96017029],\n",
              "       [ 0.75390225, -0.14550003, -0.91113026]])"
            ]
          },
          "execution_count": 64,
          "metadata": {},
          "output_type": "execute_result"
        }
      ],
      "source": [
        "np.cos(a)"
      ]
    },
    {
      "cell_type": "code",
      "execution_count": null,
      "metadata": {
        "colab": {
          "base_uri": "https://localhost:8080/"
        },
        "id": "CTsMezW4m3rU",
        "outputId": "a4931b2d-2e10-4934-a2b0-0b5552fc0329"
      },
      "outputs": [
        {
          "data": {
            "text/plain": [
              "array([[ 1.55740772, -2.18503986, -0.14254654],\n",
              "       [ 1.15782128, -3.38051501, -0.29100619],\n",
              "       [ 0.87144798, -6.79971146, -0.45231566]])"
            ]
          },
          "execution_count": 65,
          "metadata": {},
          "output_type": "execute_result"
        }
      ],
      "source": [
        "np.tan(a)"
      ]
    },
    {
      "cell_type": "code",
      "execution_count": null,
      "metadata": {
        "colab": {
          "base_uri": "https://localhost:8080/"
        },
        "id": "q4bHl4Nam1mv",
        "outputId": "88a34652-5a15-4947-d391-1048ecb0459b"
      },
      "outputs": [
        {
          "data": {
            "text/plain": [
              "3.141592653589793"
            ]
          },
          "execution_count": 66,
          "metadata": {},
          "output_type": "execute_result"
        }
      ],
      "source": [
        "np.pi"
      ]
    },
    {
      "cell_type": "code",
      "execution_count": null,
      "metadata": {
        "colab": {
          "base_uri": "https://localhost:8080/"
        },
        "id": "4Ml3BvHBYhxS",
        "outputId": "b62d673e-91d5-4ea7-b452-5e07e470815f"
      },
      "outputs": [
        {
          "data": {
            "text/plain": [
              "array([1.57079633, 0.78539816])"
            ]
          },
          "execution_count": 67,
          "metadata": {},
          "output_type": "execute_result"
        }
      ],
      "source": [
        "d = np.array([0.5, 0.25])\n",
        "d = d * np.pi\n",
        "d"
      ]
    },
    {
      "cell_type": "markdown",
      "metadata": {
        "id": "_t-WoLMwoM_Z"
      },
      "source": [
        "### ## 배열연산: 내적"
      ]
    },
    {
      "cell_type": "markdown",
      "metadata": {
        "id": "jJR3UkPzZt-A"
      },
      "source": [
        "matrix multiplication / dot product(내적)"
      ]
    },
    {
      "cell_type": "markdown",
      "metadata": {
        "id": "efW3roDEon-O"
      },
      "source": [
        "$$ \\left[ \\begin{matrix} a & b \\\\ c & d \\\\ \\end{matrix} \\right] \\cdot\n",
        " \\left[ \\begin{matrix} x & y \\\\ z & w \\\\ \\end{matrix} \\right] \n",
        " = \\left[ \\begin{matrix} ax+bz & ay+bw \\\\ cx+dz & cy+dw \\\\ \\end{matrix} \\right]$$\n"
      ]
    },
    {
      "cell_type": "code",
      "execution_count": null,
      "metadata": {
        "colab": {
          "base_uri": "https://localhost:8080/"
        },
        "id": "dda9bPLRobUx",
        "outputId": "5fe77cd9-3f29-4c5c-dc3f-9c1d59a7ed94"
      },
      "outputs": [
        {
          "name": "stdout",
          "output_type": "stream",
          "text": [
            "[[1 2 3]\n",
            " [4 5 6]\n",
            " [7 8 9]]\n",
            "\n",
            "[[9 8 7]\n",
            " [6 5 4]\n",
            " [3 2 1]]\n",
            "\n"
          ]
        },
        {
          "data": {
            "text/plain": [
              "array([[ 30,  24,  18],\n",
              "       [ 84,  69,  54],\n",
              "       [138, 114,  90]])"
            ]
          },
          "execution_count": 68,
          "metadata": {},
          "output_type": "execute_result"
        }
      ],
      "source": [
        "print(a)\n",
        "print('')\n",
        "print(b)\n",
        "print('')\n",
        "\n",
        "np.dot(a, b)"
      ]
    },
    {
      "cell_type": "markdown",
      "metadata": {
        "id": "mtzWSL5OqHV4"
      },
      "source": [
        "### ## 배열연산: 절댓값"
      ]
    },
    {
      "cell_type": "code",
      "execution_count": null,
      "metadata": {
        "colab": {
          "base_uri": "https://localhost:8080/"
        },
        "id": "3rf__90Ep4qE",
        "outputId": "cf3989b5-ec76-4cea-873e-fbc62873ee72"
      },
      "outputs": [
        {
          "data": {
            "text/plain": [
              "array([[1.566, 2.321],\n",
              "       [2.388, 9.971]])"
            ]
          },
          "execution_count": 69,
          "metadata": {},
          "output_type": "execute_result"
        }
      ],
      "source": [
        "c = np.array([[-1.566, 2.321],\n",
        "             [-2.388, 9.971]])\n",
        "np.abs(c)"
      ]
    },
    {
      "cell_type": "code",
      "execution_count": null,
      "metadata": {
        "colab": {
          "base_uri": "https://localhost:8080/"
        },
        "id": "RQZPBs26qQsv",
        "outputId": "effe717a-74f3-480e-db86-410d088988a6"
      },
      "outputs": [
        {
          "data": {
            "text/plain": [
              "array([[1.566, 2.321],\n",
              "       [2.388, 9.971]])"
            ]
          },
          "execution_count": 70,
          "metadata": {},
          "output_type": "execute_result"
        }
      ],
      "source": [
        "abs(c)"
      ]
    },
    {
      "cell_type": "markdown",
      "metadata": {
        "id": "V7mAwbTxqaE8"
      },
      "source": [
        "### ## 배열연산: 올림/내림/반올림/버림"
      ]
    },
    {
      "cell_type": "code",
      "execution_count": null,
      "metadata": {
        "colab": {
          "base_uri": "https://localhost:8080/"
        },
        "id": "4bwZjzAuqu5H",
        "outputId": "c1978f86-76ce-41b9-9ebf-6fc96cac574d"
      },
      "outputs": [
        {
          "name": "stdout",
          "output_type": "stream",
          "text": [
            "[[-1.566  2.321]\n",
            " [-2.388  9.971]] \n",
            "\n"
          ]
        },
        {
          "data": {
            "text/plain": [
              "array([[-1.,  3.],\n",
              "       [-2., 10.]])"
            ]
          },
          "execution_count": 71,
          "metadata": {},
          "output_type": "execute_result"
        }
      ],
      "source": [
        "# 올림\n",
        "print(c, '\\n')\n",
        "np.ceil(c)"
      ]
    },
    {
      "cell_type": "code",
      "execution_count": null,
      "metadata": {
        "colab": {
          "base_uri": "https://localhost:8080/"
        },
        "id": "wUC7NfAGq27j",
        "outputId": "688c90e2-6e4b-4029-a6e6-5e8c663021aa"
      },
      "outputs": [
        {
          "data": {
            "text/plain": [
              "array([[-2.,  2.],\n",
              "       [-3.,  9.]])"
            ]
          },
          "execution_count": 72,
          "metadata": {},
          "output_type": "execute_result"
        }
      ],
      "source": [
        "# 내림\n",
        "np.floor(c)"
      ]
    },
    {
      "cell_type": "code",
      "execution_count": null,
      "metadata": {
        "colab": {
          "base_uri": "https://localhost:8080/"
        },
        "id": "o_MxQ0Kpq4Ok",
        "outputId": "fb461612-eaa3-4074-8f6b-30f712d2311f"
      },
      "outputs": [
        {
          "name": "stdout",
          "output_type": "stream",
          "text": [
            "[[-1.566  2.321]\n",
            " [-2.388  9.971]] \n",
            "\n"
          ]
        },
        {
          "data": {
            "text/plain": [
              "array([[-2.,  2.],\n",
              "       [-2., 10.]])"
            ]
          },
          "execution_count": 73,
          "metadata": {},
          "output_type": "execute_result"
        }
      ],
      "source": [
        "# 반올림\n",
        "print(c, '\\n')\n",
        "np.round(c)"
      ]
    },
    {
      "cell_type": "code",
      "execution_count": null,
      "metadata": {
        "colab": {
          "base_uri": "https://localhost:8080/"
        },
        "id": "n3U9uPlcq69R",
        "outputId": "5e303525-57db-4068-f3c2-a4131ba7949d"
      },
      "outputs": [
        {
          "data": {
            "text/plain": [
              "array([[-1.57,  2.32],\n",
              "       [-2.39,  9.97]])"
            ]
          },
          "execution_count": 74,
          "metadata": {},
          "output_type": "execute_result"
        }
      ],
      "source": [
        "np.round(c, 2)"
      ]
    },
    {
      "cell_type": "code",
      "execution_count": null,
      "metadata": {
        "colab": {
          "base_uri": "https://localhost:8080/"
        },
        "id": "hvuiIykqrMHV",
        "outputId": "ea9d3a0f-bee6-485f-bdcc-58e405597a77"
      },
      "outputs": [
        {
          "name": "stdout",
          "output_type": "stream",
          "text": [
            "[[-1.566  2.321]\n",
            " [-2.388  9.971]] \n",
            "\n"
          ]
        },
        {
          "data": {
            "text/plain": [
              "array([[-1.,  2.],\n",
              "       [-2.,  9.]])"
            ]
          },
          "execution_count": 75,
          "metadata": {},
          "output_type": "execute_result"
        }
      ],
      "source": [
        "# 소숫점 아래 버림\n",
        "print(c, '\\n')\n",
        "np.trunc(c)"
      ]
    },
    {
      "cell_type": "markdown",
      "metadata": {
        "id": "7C6M_z_Erzfa"
      },
      "source": [
        "### ## 배열연산: 비교 연산"
      ]
    },
    {
      "cell_type": "code",
      "execution_count": null,
      "metadata": {
        "colab": {
          "base_uri": "https://localhost:8080/"
        },
        "id": "McjxvPzWbcXV",
        "outputId": "bdfbf4b2-f2d8-4a03-c9c6-b81d11570c36"
      },
      "outputs": [
        {
          "data": {
            "text/plain": [
              "False"
            ]
          },
          "execution_count": 76,
          "metadata": {},
          "output_type": "execute_result"
        }
      ],
      "source": [
        "(3 > 4)"
      ]
    },
    {
      "cell_type": "code",
      "execution_count": null,
      "metadata": {
        "colab": {
          "base_uri": "https://localhost:8080/"
        },
        "id": "pS4ujagzsM1V",
        "outputId": "78d1a465-4b64-4edf-a0e7-315b4760347f"
      },
      "outputs": [
        {
          "name": "stdout",
          "output_type": "stream",
          "text": [
            "a \n",
            " [[1 2 3]\n",
            " [4 5 6]\n",
            " [7 8 9]]\n",
            "\n",
            "b \n",
            " [[9 8 7]\n",
            " [6 5 4]\n",
            " [3 2 1]]\n"
          ]
        }
      ],
      "source": [
        "print('a \\n', a)\n",
        "print('')\n",
        "print('b \\n', b)"
      ]
    },
    {
      "cell_type": "code",
      "execution_count": null,
      "metadata": {
        "colab": {
          "base_uri": "https://localhost:8080/"
        },
        "id": "lAgcD_ZJsaaI",
        "outputId": "3dcf1521-01a2-4990-9461-8cfb2ce46ca6"
      },
      "outputs": [
        {
          "data": {
            "text/plain": [
              "array([[False, False, False],\n",
              "       [False,  True, False],\n",
              "       [False, False, False]])"
            ]
          },
          "execution_count": 78,
          "metadata": {},
          "output_type": "execute_result"
        }
      ],
      "source": [
        "a == b"
      ]
    },
    {
      "cell_type": "code",
      "execution_count": null,
      "metadata": {
        "colab": {
          "base_uri": "https://localhost:8080/"
        },
        "id": "_4EI1FOHsdav",
        "outputId": "ae1181a0-ae5d-4ef4-9a04-dd186ee1dc72"
      },
      "outputs": [
        {
          "data": {
            "text/plain": [
              "array([[False, False, False],\n",
              "       [False, False,  True],\n",
              "       [ True,  True,  True]])"
            ]
          },
          "execution_count": 79,
          "metadata": {},
          "output_type": "execute_result"
        }
      ],
      "source": [
        "a > b"
      ]
    },
    {
      "cell_type": "code",
      "execution_count": null,
      "metadata": {
        "id": "zkfvBN0ibsh5"
      },
      "outputs": [],
      "source": [
        "4>=4"
      ]
    },
    {
      "cell_type": "code",
      "execution_count": null,
      "metadata": {
        "id": "nGjLHicOsfXy"
      },
      "outputs": [],
      "source": [
        "a >= b"
      ]
    },
    {
      "cell_type": "code",
      "execution_count": null,
      "metadata": {
        "id": "DGiWGfwnslb8"
      },
      "outputs": [],
      "source": [
        "# 배열 전체가 같은지 다른지 비교\n",
        "np.array_equal(a, b)"
      ]
    },
    {
      "cell_type": "markdown",
      "metadata": {
        "id": "C-ugjAOBxKWz"
      },
      "source": [
        "### ## 배열연산: 배열의 합, 평균, 표준편차"
      ]
    },
    {
      "cell_type": "code",
      "execution_count": null,
      "metadata": {
        "id": "wBWQJXoNxMfO"
      },
      "outputs": [],
      "source": [
        "a = np.array([1,2,3,4,5])"
      ]
    },
    {
      "cell_type": "code",
      "execution_count": null,
      "metadata": {
        "id": "nSrKENJZxRdq"
      },
      "outputs": [],
      "source": [
        "#합\n",
        "np.sum(a)"
      ]
    },
    {
      "cell_type": "code",
      "execution_count": null,
      "metadata": {
        "id": "EautXzbhxWfF"
      },
      "outputs": [],
      "source": [
        "a.sum()\n",
        "np.array([1,2,3,4,5]).sum()"
      ]
    },
    {
      "cell_type": "code",
      "execution_count": null,
      "metadata": {
        "id": "a1Ql3BiKxUBI"
      },
      "outputs": [],
      "source": [
        "#평균\n",
        "np.mean(a)"
      ]
    },
    {
      "cell_type": "code",
      "execution_count": null,
      "metadata": {
        "id": "thEVtrAixYCu"
      },
      "outputs": [],
      "source": [
        "a.mean()"
      ]
    },
    {
      "cell_type": "code",
      "execution_count": null,
      "metadata": {
        "id": "5a5MpbCExZPz"
      },
      "outputs": [],
      "source": [
        "#표준편차 standard deviation\n",
        "np.std(a)"
      ]
    },
    {
      "cell_type": "code",
      "execution_count": null,
      "metadata": {
        "id": "g9OtvTdbxbnA"
      },
      "outputs": [],
      "source": [
        "a.std()"
      ]
    },
    {
      "cell_type": "markdown",
      "metadata": {
        "id": "WuIUQ8bntDqa"
      },
      "source": [
        "## 2-3 브로드캐스팅 (Broadcasting)"
      ]
    },
    {
      "cell_type": "markdown",
      "metadata": {
        "id": "yJoRVpIotDn1"
      },
      "source": [
        "Shape가 다른 np.ndarray 끼리 연산을 지원\n",
        "\n",
        "배열 연산 간의 Shape를 반드시 맞춰야하는 번거로움을 피하기 위함\n",
        "\n",
        "혼란을 피하기 위해서, 웬만하면 Shape를 같게 맞춘 후에 연산하는 것이 바람직하지만, 편의성과 코드 구현의 명료함을 위해 많은 경우에서 활용"
      ]
    },
    {
      "cell_type": "code",
      "execution_count": null,
      "metadata": {
        "id": "ZgrAOcs_t_t-"
      },
      "outputs": [],
      "source": [
        "np.array([1,2,3,4,5]) * 3"
      ]
    },
    {
      "cell_type": "code",
      "execution_count": null,
      "metadata": {
        "id": "C1fxfmaiuB5t"
      },
      "outputs": [],
      "source": [
        "[1,2,3,4,5] * 3"
      ]
    },
    {
      "cell_type": "markdown",
      "metadata": {
        "id": "QJ5q7wBgur-z"
      },
      "source": [
        "\n",
        "\n",
        "![broadcast.png](data:image/png;base64,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)"
      ]
    },
    {
      "cell_type": "markdown",
      "metadata": {
        "id": "c8kkIQ6XurzJ"
      },
      "source": [
        "###### 그림출처 https://mathematica.stackexchange.com/questions/99171/how-to-implement-the-general-array-broadcasting-method-from-numpy"
      ]
    },
    {
      "cell_type": "code",
      "execution_count": null,
      "metadata": {
        "id": "DzVGqKNdu6Ms"
      },
      "outputs": [],
      "source": [
        "a = np.ones((3,3))\n",
        "b = np.random.random((3,3))\n",
        "print('연산 전 a')\n",
        "print(a)\n",
        "print('')\n",
        "\n",
        "print('연산 전 b')\n",
        "print(b)\n",
        "print('')\n",
        "\n",
        "print('a + b')\n",
        "print(a + b)"
      ]
    },
    {
      "cell_type": "code",
      "execution_count": null,
      "metadata": {
        "id": "QrEudCg0v03U"
      },
      "outputs": [],
      "source": [
        "a = np.ones((3,3))\n",
        "b = np.array([1,2,3])\n",
        "print('연산 전 a')\n",
        "print(a)\n",
        "print(a.shape)\n",
        "print('')\n",
        "\n",
        "print('연산 전 b')\n",
        "print(b)\n",
        "print(b.shape)\n",
        "print('')\n",
        "\n",
        "print('a + b')\n",
        "print(a + b)"
      ]
    },
    {
      "cell_type": "code",
      "execution_count": null,
      "metadata": {
        "id": "htHxcQLuvDIO"
      },
      "outputs": [],
      "source": [
        "a = np.ones((3,3))\n",
        "b = 3\n",
        "print('연산 전 a')\n",
        "print(a)\n",
        "print('')\n",
        "\n",
        "print('연산 전 b')\n",
        "print(b)\n",
        "print('')\n",
        "\n",
        "print('a + b')\n",
        "print(a + b)"
      ]
    },
    {
      "cell_type": "markdown",
      "metadata": {
        "id": "yF8rjHsuwLBy"
      },
      "source": [
        "##2-4 벡터 연산"
      ]
    },
    {
      "cell_type": "markdown",
      "metadata": {
        "id": "7Mvbt28jwOI_"
      },
      "source": [
        "NumPy는 벡터 연산을 지원합니다. NumPy의 집합 연산에는 Vectorization이 적용되어 있습니다. 배열 처리에 대한 벡터 연산을 적용할 경우 처리 속도가 100배 이상 향상됩니다. 머신러닝에서 선형대수 연산을 처리할 때 매우 높은 효과가 있습니다.\n",
        "\n"
      ]
    },
    {
      "cell_type": "markdown",
      "metadata": {
        "id": "woiIeF5JyKUG"
      },
      "source": [
        "### ## 예시 1"
      ]
    },
    {
      "cell_type": "code",
      "execution_count": null,
      "metadata": {
        "id": "DZKI7n5CwS0M"
      },
      "outputs": [],
      "source": [
        "# 시간 계산을 위한 파이썬 패키지 임포트\n",
        "import time\n",
        "\n",
        "# 10,000,000개의 배열 생성\n",
        "a = np.arange(10000000)"
      ]
    },
    {
      "cell_type": "code",
      "execution_count": null,
      "metadata": {
        "id": "IKfSdKl0wutI"
      },
      "outputs": [],
      "source": [
        "# loop문을 통해 하나 하나 계산하는 경우\n",
        "result = 0\n",
        "\n",
        "tic = time.time()\n",
        "for i in a:\n",
        "    result += i\n",
        "toc = time.time()\n",
        "print(result)\n",
        "print('소요시간 :', toc - tic, 'sec')"
      ]
    },
    {
      "cell_type": "code",
      "execution_count": null,
      "metadata": {
        "id": "FaKC3hkvx8Vv"
      },
      "outputs": [],
      "source": [
        "# vectorization을 활용하는 경우\n",
        "tic = time.time()\n",
        "result = np.sum(a)\n",
        "toc = time.time()\n",
        "print(result)\n",
        "print('소요시간 :', toc - tic, 'sec')"
      ]
    },
    {
      "cell_type": "markdown",
      "metadata": {
        "id": "3nwFcfLayT0L"
      },
      "source": [
        "### ## 예시 2"
      ]
    },
    {
      "cell_type": "code",
      "execution_count": null,
      "metadata": {
        "id": "F5aDP3wdyVBP"
      },
      "outputs": [],
      "source": [
        "a = np.arange(1, 10000001, 1)\n",
        "b = np.arange(10000000, 0, -1)\n",
        "print(a)\n",
        "print(b)"
      ]
    },
    {
      "cell_type": "code",
      "execution_count": null,
      "metadata": {
        "id": "RGZ1yBTvybdw"
      },
      "outputs": [],
      "source": [
        "# 요소를 하나 하나 곱해서 더하는 경우\n",
        "result = 0\n",
        "\n",
        "tic = time.time()\n",
        "for i, j in zip(a, b):\n",
        "    result += i * j\n",
        "toc = time.time()\n",
        "\n",
        "print(result)\n",
        "print('소요시간 :', toc - tic, 'sec')"
      ]
    },
    {
      "cell_type": "code",
      "execution_count": null,
      "metadata": {
        "id": "EM3SIqiAy-yb"
      },
      "outputs": [],
      "source": [
        "# vectorization을 활용하는 경우\n",
        "import time\n",
        "tic = time.time()\n",
        "result = np.dot(a, b)\n",
        "toc = time.time()\n",
        "print(result)\n",
        "print('소요시간 :', toc - tic, 'sec')"
      ]
    },
    {
      "cell_type": "markdown",
      "metadata": {
        "id": "YUCNCeojtaQW"
      },
      "source": [
        "# **3 배열 모양(shape) 다루기**"
      ]
    },
    {
      "cell_type": "markdown",
      "metadata": {
        "id": "ulVbdCdzvZOY"
      },
      "source": [
        "## 3-1 배열 모양 재조정"
      ]
    },
    {
      "cell_type": "markdown",
      "metadata": {
        "id": "0KwLaaazthb6"
      },
      "source": [
        "np.reshape함수를 이용하여, 배열의 모양을 원하는대로 수정할 수 있습니다."
      ]
    },
    {
      "cell_type": "code",
      "execution_count": null,
      "metadata": {
        "id": "XPpq5NETtk20"
      },
      "outputs": [],
      "source": [
        "a0 = np.arange(24) # 1차원 배열\n",
        "array_attribute(a0)\n",
        "\n",
        "a1 = np.arange(24).reshape((4, 6)) #2차원 배열\n",
        "array_attribute(a1)\n",
        "\n",
        "a2 = np.arange(24).reshape((2, 4, 3)) # 3차원 배열\n",
        "array_attribute(a2)"
      ]
    },
    {
      "cell_type": "code",
      "execution_count": null,
      "metadata": {
        "id": "Jvm-yuIsuJrU"
      },
      "outputs": [],
      "source": [
        "a3 = np.arange(24).reshape((2, 2, 2, 3)) # 4차원 배열\n",
        "array_attribute(a3)\n",
        "# curse of dimensionality\n"
      ]
    },
    {
      "cell_type": "markdown",
      "metadata": {
        "id": "sFJVHZJ3lHah"
      },
      "source": [
        ".ravel()은 1차원으로, .T는 전치(Transpose) 변환을 지원합니다.\n",
        "\n",
        "하지만 데이터 원본은 변경시키지 않고 복사하여 연산한 결과가 return 됩니다."
      ]
    },
    {
      "cell_type": "code",
      "execution_count": null,
      "metadata": {
        "id": "-Tli8Ag43K5g"
      },
      "outputs": [],
      "source": [
        "a = np.arange(15)\n",
        "a.resize(4,5)\n",
        "print(a)"
      ]
    },
    {
      "cell_type": "code",
      "execution_count": null,
      "metadata": {
        "id": "MuPSDgGolLyd"
      },
      "outputs": [],
      "source": [
        "a = np.random.randint(0, 5, (3,4))\n",
        "print(a)\n",
        "print(a.shape)"
      ]
    },
    {
      "cell_type": "code",
      "execution_count": null,
      "metadata": {
        "id": "VMgWHFbPlj5T"
      },
      "outputs": [],
      "source": [
        "# 모든 원소를 1차원으로 변경\n",
        "print(a.ravel())\n",
        "print(a.ravel().shape)\n",
        "\n",
        "print(a.reshape(-1))\n",
        "print(a.reshape(-1).shape)\n"
      ]
    },
    {
      "cell_type": "code",
      "execution_count": null,
      "metadata": {
        "id": "J4SDwFZ0vkmX"
      },
      "outputs": [],
      "source": []
    },
    {
      "cell_type": "code",
      "execution_count": null,
      "metadata": {
        "id": "J4t0RZfNlz3a"
      },
      "outputs": [],
      "source": [
        "print(a)\n",
        "print(a.shape)\n",
        "print('')\n",
        "\n",
        "print(a.T)\n",
        "print(a.T.shape)"
      ]
    },
    {
      "cell_type": "code",
      "execution_count": null,
      "metadata": {
        "id": "UOA6q7fPvotL"
      },
      "outputs": [],
      "source": [
        "a = np.random.randint(0,5,(3,4))\n",
        "b = np.random.randint(0,5,(3,4))\n",
        "print(a)\n",
        "print(b)"
      ]
    },
    {
      "cell_type": "code",
      "execution_count": null,
      "metadata": {
        "id": "VF2X6EoJvwXV"
      },
      "outputs": [],
      "source": [
        "# np.dot(a, b)\n",
        "# (3, 4) . (3, 4)"
      ]
    },
    {
      "cell_type": "code",
      "execution_count": null,
      "metadata": {
        "id": "OkFe18gKv4sX"
      },
      "outputs": [],
      "source": [
        "np.dot(a.T, b)\n",
        "# (4,3) (3,4) ==> (4,4)"
      ]
    },
    {
      "cell_type": "code",
      "execution_count": null,
      "metadata": {
        "id": "-Bn5_V5zdgff"
      },
      "outputs": [],
      "source": [
        "# (a.T*b).shape"
      ]
    },
    {
      "cell_type": "code",
      "execution_count": null,
      "metadata": {
        "id": "eEUggnE5wJZ1"
      },
      "outputs": [],
      "source": [
        "np.dot(a, b.T)\n",
        "# (3,4) (4,3) ==> (3,3)"
      ]
    },
    {
      "cell_type": "markdown",
      "metadata": {
        "id": "_KNGHk4Sua6A"
      },
      "source": [
        "다차원의 배열을 for문을 적용하면 axis=0 기준으로 적용됩니다. \n",
        "\n",
        "만약 다차원 배열의 모든 원소를 for문 적용하고 싶은 경우 .reshape()을 해도 되지만, .ravel()을 이용할 수 있습니다."
      ]
    },
    {
      "cell_type": "code",
      "execution_count": null,
      "metadata": {
        "id": "m6CZBGfGum8M"
      },
      "outputs": [],
      "source": [
        "b = np.arange(12)\n",
        "print(b)\n",
        "print(b.shape)\n",
        "\n",
        "print('')\n",
        "b = b.reshape((4,3))\n",
        "print(b)\n",
        "print(b.shape)"
      ]
    },
    {
      "cell_type": "code",
      "execution_count": null,
      "metadata": {
        "id": "zhbip1yLmGZo"
      },
      "outputs": [],
      "source": [
        "for row in b:\n",
        "    print(row)\n",
        "    print('')"
      ]
    },
    {
      "cell_type": "code",
      "execution_count": null,
      "metadata": {
        "id": "MiYUD6eXmJ1m"
      },
      "outputs": [],
      "source": [
        "for element in b.ravel():\n",
        "    print(element)\n",
        "    print('')"
      ]
    },
    {
      "cell_type": "code",
      "execution_count": null,
      "metadata": {
        "id": "B9XJ2TLbwzDH"
      },
      "outputs": [],
      "source": [
        "b = np.arange(12).reshape(2,2,3)\n",
        "print(b)\n",
        "print(b.shape)"
      ]
    },
    {
      "cell_type": "code",
      "execution_count": null,
      "metadata": {
        "id": "YbNdmvl7w4NM"
      },
      "outputs": [],
      "source": [
        "for i in b:\n",
        "    print(i)\n",
        "    print(i.shape)"
      ]
    },
    {
      "cell_type": "markdown",
      "metadata": {
        "id": "_ZyPhH_lvTfF"
      },
      "source": [
        ".resize()는 위의 .reshape()와 동일한 기능이지만 원본 데이터 자체를 변경시킵니다. \n",
        "\n",
        ".reshape()를 할 때 차원값에 -1를 입력하면 -1 부분은 자동으로 차원을 채워줍니다. \n",
        "\n",
        "여러 차원에서 -1는 하나만 사용할 수 있고 나머지가 지정된 결과를 바탕으로 자동으로 계산해줍니다"
      ]
    },
    {
      "cell_type": "code",
      "execution_count": null,
      "metadata": {
        "id": "bHdd05alvWPi"
      },
      "outputs": [],
      "source": [
        "a = np.arange(12)\n",
        "print('original')\n",
        "print(a)\n",
        "print(a.shape)\n",
        "print('')\n",
        "\n",
        "print('resize: (2,6)')\n",
        "a.resize((2,6))\n",
        "print(a)\n",
        "print(a.shape)\n",
        "print('')\n",
        "#.reshape => 새로운 배열을 출력\n",
        "#.resize => 원본 배열을 수정하는 함수\n",
        "print('reshape: (3,-1)')\n",
        "print(a.reshape(3,-1))\n",
        "print(a.shape)\n",
        "print('')\n",
        "\n",
        "print('reshape: (2, 2, -1)')\n",
        "print(a.reshape(2,2,-1))\n",
        "print(a.shape)\n",
        "print('')\n",
        "\n"
      ]
    },
    {
      "cell_type": "code",
      "execution_count": null,
      "metadata": {
        "id": "koYJYbS8-qbf"
      },
      "outputs": [],
      "source": [
        "a = np.arange(12)\n",
        "print('original')\n",
        "print(a)\n",
        "print(a.shape)\n",
        "print('')\n",
        "\n",
        "print('resize: (2,6)')\n",
        "a.resize((2,6))\n",
        "print(a)\n",
        "print(a.shape)\n",
        "print('')\n",
        "\n",
        "print(a)"
      ]
    },
    {
      "cell_type": "code",
      "execution_count": null,
      "metadata": {
        "id": "AD2ZQTur-fCr"
      },
      "outputs": [],
      "source": [
        "a = np.arange(12)\n",
        "print('original')\n",
        "print(a)\n",
        "print(a.shape)\n",
        "print('')\n",
        "\n",
        "#.reshape => 새로운 배열을 출력\n",
        "#.resize => 원본 배열을 수정하는 함수\n",
        "print('reshape: (3,-1)')\n",
        "print(a.reshape(3,-1))\n",
        "print(a.shape)\n",
        "print('')\n",
        "\n",
        "print(a)"
      ]
    },
    {
      "cell_type": "code",
      "execution_count": null,
      "metadata": {
        "id": "WWfBU4DAxnFp"
      },
      "outputs": [],
      "source": [
        "a = np.arange(24)\n",
        "a = a.reshape(2,2,-1)\n",
        "a"
      ]
    },
    {
      "cell_type": "code",
      "execution_count": null,
      "metadata": {
        "id": "UboG1LTXyFTz"
      },
      "outputs": [],
      "source": [
        "#가장 기본적으로는,\n",
        "#np.reshape를 통해 모든 것을 할 수 있습니다.\n",
        "#expand_dims, squeeze, ravel등 => reshape를 통해 자주 활용하는 함수를 하나 정의해두었다."
      ]
    },
    {
      "cell_type": "markdown",
      "metadata": {
        "id": "tyJLZ_4VvjEu"
      },
      "source": [
        "np.squeeze()와, np.expand_dims()를 통해\n",
        "n_dim을 자유자재로 수정할 수 있습니다.\n",
        "\n",
        "해당 과정은 일반적으로 broadcasting, vectorizing연산을 위한 배열 재조정을 위하여 활용되고, 이후 딥러닝 기반의 모델 연산 설계에서 매우 유용하게 쓰입니다."
      ]
    },
    {
      "cell_type": "code",
      "execution_count": null,
      "metadata": {
        "id": "u7ye_Z_ywynU"
      },
      "outputs": [],
      "source": [
        "a = np.array([[1,2,3]])\n",
        "print(a)\n",
        "print(a.shape)\n",
        "\n",
        "print('')\n",
        "\n",
        "a = np.squeeze(a)\n",
        "print(a)\n",
        "print(a.shape)\n",
        "\n",
        "a = np.array([[1,2,3]])\n",
        "a = a.reshape(-1)\n",
        "print(a)\n",
        "print(a.shape)"
      ]
    },
    {
      "cell_type": "code",
      "execution_count": null,
      "metadata": {
        "id": "WbP1uig8wHML"
      },
      "outputs": [],
      "source": [
        "a = np.array([1,2,3])\n",
        "array_attribute(a)\n",
        "\n",
        "b = a.reshape(3,1)\n",
        "array_attribute(b)"
      ]
    },
    {
      "cell_type": "code",
      "execution_count": null,
      "metadata": {
        "id": "h_R61MZdm5vY"
      },
      "outputs": [],
      "source": [
        "# print(a + b)\n",
        "# print('')\n",
        "\n",
        "a = np.expand_dims(a, -1)\n",
        "# print(a + b)\n",
        "print(a)"
      ]
    },
    {
      "cell_type": "code",
      "execution_count": null,
      "metadata": {
        "id": "CODRFfb-zmYZ"
      },
      "outputs": [],
      "source": [
        "a = np.array([1,2,3])\n",
        "array_attribute(a)\n",
        "\n",
        "a = np.expand_dims(a, 0)\n",
        "array_attribute(a)\n",
        "\n",
        "a = np.expand_dims(a, -1)\n",
        "array_attribute(a)\n",
        "\n",
        "a = np.expand_dims(a, 0)\n",
        "array_attribute(a)\n",
        "\n",
        "a = a.squeeze()\n",
        "array_attribute(a)\n"
      ]
    },
    {
      "cell_type": "code",
      "execution_count": null,
      "metadata": {
        "id": "c5OeYZ8C0K-g"
      },
      "outputs": [],
      "source": [
        "a = np.array([1,2,3])\n",
        "b = a.reshape(-1,1)\n",
        "print(a)\n",
        "print(a.shape)\n",
        "print('')\n",
        "print(b)\n",
        "print(b.shape)"
      ]
    },
    {
      "cell_type": "code",
      "execution_count": null,
      "metadata": {
        "id": "XSTS9V_j0Xtx"
      },
      "outputs": [],
      "source": [
        "np.dot(np.expand_dims(a, 0), b)\n",
        "# (1, 3), (3, 1)\n",
        "\n",
        "np.dot(b,np.expand_dims(a, 0))\n",
        "# (3, 1), (1, 3)"
      ]
    },
    {
      "cell_type": "markdown",
      "metadata": {
        "id": "AY1CL8g3xuQj"
      },
      "source": [
        "##3-2 데이터 연결"
      ]
    },
    {
      "cell_type": "markdown",
      "metadata": {
        "id": "wRCjraTS1iK_"
      },
      "source": [
        "np.vstack() 와 np.hstack()를 통해 데이터를 합칠 수 있습니다.\n",
        "\n",
        "np.vstack(): axis=0 기준으로 쌓음\n",
        "\n",
        "np.hstack(): axis=1 기준으로 쌓음"
      ]
    },
    {
      "cell_type": "code",
      "execution_count": null,
      "metadata": {
        "id": "vSxZksm61lIz"
      },
      "outputs": [],
      "source": [
        "a = np.array([[1,2,3],\n",
        "              [2,3,4]])\n",
        "\n",
        "b = np.array([[3,4,5],\n",
        "              [4,5,6]])\n",
        "\n",
        "print('vstack')\n",
        "print(np.vstack((a,b)))\n",
        "print(np.vstack((a,b)).shape)\n",
        "print('')\n",
        "\n",
        "print('hstack')\n",
        "print(np.hstack((a,b)))\n",
        "print(np.hstack((a,b)).shape)"
      ]
    },
    {
      "cell_type": "markdown",
      "metadata": {
        "id": "slmhn-IjnW6X"
      },
      "source": [
        "데이터를 합치는 과정은 np.concatenate로도 수행할 수 있습니다."
      ]
    },
    {
      "cell_type": "code",
      "execution_count": null,
      "metadata": {
        "id": "2YKIK4YHnac0"
      },
      "outputs": [],
      "source": [
        "print(a.shape, b.shape)\n",
        "print('')\n",
        "\n",
        "print(np.concatenate([a, b], axis=0))\n",
        "print(np.concatenate([a, b], axis=0).shape)\n",
        "print('')\n",
        "\n",
        "print(np.concatenate([a, b], axis=1))\n",
        "print(np.concatenate([a, b], axis=1).shape)"
      ]
    },
    {
      "cell_type": "markdown",
      "metadata": {
        "id": "_uL_7vC3oeCX"
      },
      "source": [
        "단, concatenate 대상으로 설정하는 axis를 제외한, 나머지 axis에 대해서는 모두 동일한 모양을 가져야 함"
      ]
    },
    {
      "cell_type": "code",
      "execution_count": null,
      "metadata": {
        "id": "cyzqX6ocoV2S"
      },
      "outputs": [],
      "source": [
        "a = np.array([[1,2,3],\n",
        "              [2,3,4]])\n",
        "\n",
        "\n",
        "b = np.array([[3,4,5],\n",
        "              [4,5,6],\n",
        "              [5,6,7]])\n",
        "\n",
        "print(a.shape, b.shape)\n",
        "\n",
        "\n",
        "# print(np.concatenate([a,b], axis=0))\n",
        "# print(np.concatenate([a,b], axis=0).shape)\n",
        "\n",
        "# print(np.concatenate([a,b], axis=1))\n"
      ]
    },
    {
      "cell_type": "code",
      "execution_count": null,
      "metadata": {
        "id": "gjD5c5zufprA"
      },
      "outputs": [],
      "source": [
        "a = np.random.randint(0, 5, (4,6,8))\n",
        "b = np.random.randint(0, 5, (4,6,8))\n",
        "np.concatenate([a,b], axis=2).shape\n",
        "print(np.concatenate([a,b], axis=2))"
      ]
    },
    {
      "cell_type": "markdown",
      "metadata": {
        "id": "rrR87nmks1m3"
      },
      "source": [
        "np.vsplit과 np.hsplit을 통해 데이터를 분할할 수 있습니다."
      ]
    },
    {
      "cell_type": "code",
      "execution_count": null,
      "metadata": {
        "id": "6olCzwtUtKg8"
      },
      "outputs": [],
      "source": [
        "a = np.random.randint(0, 5, (4,6))\n",
        "\n",
        "print(np.hsplit(a, 2))\n",
        "# print('')\n",
        "print(len(np.hsplit(a, 2)))\n",
        "print(np.hsplit(a, 2)[0].shape)"
      ]
    },
    {
      "cell_type": "code",
      "execution_count": null,
      "metadata": {
        "id": "ua7StgANtMlX"
      },
      "outputs": [],
      "source": [
        "a = np.random.randint(0, 5, (4,6))\n",
        "\n",
        "print(np.vsplit(a, 2))\n",
        "print('')\n",
        "print(len(np.vsplit(a, 2)))\n",
        "print(np.vsplit(a, 2)[1].shape)"
      ]
    },
    {
      "cell_type": "markdown",
      "metadata": {
        "id": "Rkb-tiPctNNm"
      },
      "source": [
        "3차원 이상의 다차원 배열을 분할하는 경우, 첫번째와 두번째 axis에 대한 분할로 진행됩니다."
      ]
    },
    {
      "cell_type": "code",
      "execution_count": null,
      "metadata": {
        "id": "1kkcoNHltVo4"
      },
      "outputs": [],
      "source": [
        "a = np.random.randint(0, 5, (4,6,8))\n",
        "\n",
        "print(np.hsplit(a, 2))\n",
        "print('')\n",
        "print(np.hsplit(a, 2)[0].shape)"
      ]
    },
    {
      "cell_type": "code",
      "execution_count": null,
      "metadata": {
        "id": "Pr5lEvJdtWLL"
      },
      "outputs": [],
      "source": [
        "a = np.random.randint(0, 5, (4,6,8))\n",
        "\n",
        "print(np.vsplit(a, 2))\n",
        "print('')\n",
        "print(np.vsplit(a, 2)[0].shape)"
      ]
    },
    {
      "cell_type": "markdown",
      "metadata": {
        "id": "cxxu-Kzzx9Bf"
      },
      "source": [
        "##3-3 배열의 통계적 연산"
      ]
    },
    {
      "cell_type": "markdown",
      "metadata": {
        "id": "tQ8QpFYeyEQD"
      },
      "source": [
        "앞서 진행했던 배열 연산의 연장선상, 배열의 shape과 axis에 대해 완벽하게 이해한 이후에 진행"
      ]
    },
    {
      "cell_type": "code",
      "execution_count": null,
      "metadata": {
        "id": "5ZFaNS2uf5eI"
      },
      "outputs": [],
      "source": [
        "a = np.array([1,2,3])\n",
        "np.sum(a)"
      ]
    },
    {
      "cell_type": "markdown",
      "metadata": {
        "id": "K0BiPRngysz-"
      },
      "source": [
        "### ## sum"
      ]
    },
    {
      "cell_type": "code",
      "execution_count": null,
      "metadata": {
        "id": "CcbgqGbXyYzo"
      },
      "outputs": [],
      "source": [
        "a = np.arange(1, 13).reshape(4, 3)\n",
        "array_attribute(a)"
      ]
    },
    {
      "cell_type": "code",
      "execution_count": null,
      "metadata": {
        "id": "8ygWadL6ycn0"
      },
      "outputs": [],
      "source": [
        "print(a.sum())\n",
        "print(np.sum(a))"
      ]
    },
    {
      "cell_type": "code",
      "execution_count": null,
      "metadata": {
        "id": "ZoRRurHryolp"
      },
      "outputs": [],
      "source": [
        "a.sum(axis=0) #, np.sum(a, axis=0)"
      ]
    },
    {
      "cell_type": "code",
      "execution_count": null,
      "metadata": {
        "id": "bfLrIYJLyqUy"
      },
      "outputs": [],
      "source": [
        "a.sum(axis=1) #, np.sum(a, axis=1)"
      ]
    },
    {
      "cell_type": "markdown",
      "metadata": {
        "id": "VP6Y8qRxywfH"
      },
      "source": [
        "### ## min/max"
      ]
    },
    {
      "cell_type": "code",
      "execution_count": null,
      "metadata": {
        "id": "vMAmbViCgoEy"
      },
      "outputs": [],
      "source": [
        "a"
      ]
    },
    {
      "cell_type": "code",
      "execution_count": null,
      "metadata": {
        "id": "xQ7k287lyzE9"
      },
      "outputs": [],
      "source": [
        "a.min() #, np.min(a)"
      ]
    },
    {
      "cell_type": "code",
      "execution_count": null,
      "metadata": {
        "id": "dWCGYZyfy2Yc"
      },
      "outputs": [],
      "source": [
        "a.min(axis=0) #, np.min(a, axis=0)"
      ]
    },
    {
      "cell_type": "code",
      "execution_count": null,
      "metadata": {
        "id": "l6M0Kttiy4WC"
      },
      "outputs": [],
      "source": [
        "a.min(axis=1) #, np.min(a, axis=1)"
      ]
    },
    {
      "cell_type": "code",
      "execution_count": null,
      "metadata": {
        "id": "lmq1TpuszBTJ"
      },
      "outputs": [],
      "source": [
        "a.max() #, np.max(a)"
      ]
    },
    {
      "cell_type": "code",
      "execution_count": null,
      "metadata": {
        "id": "eJMyDptYzFky"
      },
      "outputs": [],
      "source": [
        "a.max(axis=0) #, np.max(a, axis=0)"
      ]
    },
    {
      "cell_type": "code",
      "execution_count": null,
      "metadata": {
        "id": "cbsz1GCszGAG"
      },
      "outputs": [],
      "source": [
        "a.max(axis=1) #, np.max(a, axis=1)"
      ]
    },
    {
      "cell_type": "markdown",
      "metadata": {
        "id": "u_l3IPEFzJTR"
      },
      "source": [
        "### ## cumsum : 지정된 axis를 기준으로 각 요소의 누적 합의 결과를 반환합니다"
      ]
    },
    {
      "cell_type": "code",
      "execution_count": null,
      "metadata": {
        "id": "-X8raaCvg7hg"
      },
      "outputs": [],
      "source": [
        "a"
      ]
    },
    {
      "cell_type": "code",
      "execution_count": null,
      "metadata": {
        "id": "5FWwAKcfzLeI"
      },
      "outputs": [],
      "source": [
        "a.cumsum() #, np.cumsum(a) # axis를 지정하지 않는다 = 1차원 배열로 만들고자 한다."
      ]
    },
    {
      "cell_type": "code",
      "execution_count": null,
      "metadata": {
        "id": "C_PXe-_SzNlY"
      },
      "outputs": [],
      "source": [
        "a.cumsum(axis=0) #, np.cumsum(a, axis=0)"
      ]
    },
    {
      "cell_type": "code",
      "execution_count": null,
      "metadata": {
        "id": "q3aEg01KzO8k"
      },
      "outputs": [],
      "source": [
        "a.cumsum(axis=1) #, np.cumsum(a, axis=1)"
      ]
    },
    {
      "cell_type": "markdown",
      "metadata": {
        "id": "xPdVDe8bzR1L"
      },
      "source": [
        "### ## mean / std"
      ]
    },
    {
      "cell_type": "code",
      "execution_count": null,
      "metadata": {
        "id": "gSKgEwoPzTe9"
      },
      "outputs": [],
      "source": [
        "a.mean() #, np.mean(a)"
      ]
    },
    {
      "cell_type": "code",
      "execution_count": null,
      "metadata": {
        "id": "5aYMjvNRzWKd"
      },
      "outputs": [],
      "source": [
        "a.mean(axis=0) #, np.mean(a, axis=0)"
      ]
    },
    {
      "cell_type": "code",
      "execution_count": null,
      "metadata": {
        "id": "XoQR3xMRzXtE"
      },
      "outputs": [],
      "source": [
        "a.mean(axis=1) #, np.mean(a, axis=1)"
      ]
    },
    {
      "cell_type": "code",
      "execution_count": null,
      "metadata": {
        "id": "t4emgNGczY7t"
      },
      "outputs": [],
      "source": [
        "a.std() #, np.std(a)"
      ]
    },
    {
      "cell_type": "code",
      "execution_count": null,
      "metadata": {
        "id": "iBDWFPEezY2f"
      },
      "outputs": [],
      "source": [
        "a.std(axis=0) #, np.std(a, axis=0)"
      ]
    },
    {
      "cell_type": "code",
      "execution_count": null,
      "metadata": {
        "id": "10wpYwznzYlR"
      },
      "outputs": [],
      "source": [
        "a.std(axis=1) #, np.std(a, axis=1)"
      ]
    },
    {
      "cell_type": "markdown",
      "metadata": {
        "id": "zf11xY2Ezd1N"
      },
      "source": [
        "### ## 중앙값"
      ]
    },
    {
      "cell_type": "code",
      "execution_count": null,
      "metadata": {
        "id": "l4-2NfUfhm3w"
      },
      "outputs": [],
      "source": [
        "a = np.random.randint(0,10,(4,3))\n",
        "a"
      ]
    },
    {
      "cell_type": "code",
      "execution_count": null,
      "metadata": {
        "id": "xv8efLZ_zfPw"
      },
      "outputs": [],
      "source": [
        "np.median(a)"
      ]
    },
    {
      "cell_type": "code",
      "execution_count": null,
      "metadata": {
        "id": "HS7bstz0zipp"
      },
      "outputs": [],
      "source": [
        "np.median(a, axis=0)"
      ]
    },
    {
      "cell_type": "code",
      "execution_count": null,
      "metadata": {
        "id": "x92V8DzYzj72"
      },
      "outputs": [],
      "source": [
        "np.median(a, axis=1)"
      ]
    },
    {
      "cell_type": "markdown",
      "metadata": {
        "id": "nBCQZ_REz15n"
      },
      "source": [
        "### ## 배열 정렬"
      ]
    },
    {
      "cell_type": "code",
      "execution_count": null,
      "metadata": {
        "id": "fofqfLQDz3dk"
      },
      "outputs": [],
      "source": [
        "a = np.random.randint(0,20,(4,3))\n",
        "array_attribute(a)"
      ]
    },
    {
      "cell_type": "code",
      "execution_count": null,
      "metadata": {
        "id": "e1ChNX-qia-r"
      },
      "outputs": [],
      "source": [
        "a.sort() # axis가 맨 마지막껄 기준으로 해서 정렬이 됩니다.\n",
        "a"
      ]
    },
    {
      "cell_type": "code",
      "execution_count": null,
      "metadata": {
        "id": "KOXNonXw0AEm"
      },
      "outputs": [],
      "source": [
        "a.sort(axis=0)\n",
        "array_attribute(a)"
      ]
    },
    {
      "cell_type": "code",
      "execution_count": null,
      "metadata": {
        "id": "XR7lBj780B3p"
      },
      "outputs": [],
      "source": [
        "a.sort(axis=1)\n",
        "array_attribute(a)"
      ]
    },
    {
      "cell_type": "markdown",
      "metadata": {
        "id": "tUn6U4kV2gX1"
      },
      "source": [
        "##3-4 배열의 추가 및 제거"
      ]
    },
    {
      "cell_type": "markdown",
      "metadata": {
        "id": "k3u1DvBt2jAS"
      },
      "source": [
        "### ## append()\n",
        "np.append(arr, values, axis=None)\n",
        "\n",
        "배열의 끝에 값을 추가\n",
        "\n",
        "np.append 함수는 arr의 끝에 values(배열)을 추가합니다. axis로 배열이 추가되는 방향을 지정할 수 있습니다."
      ]
    },
    {
      "cell_type": "code",
      "execution_count": null,
      "metadata": {
        "id": "IcE6aNwq3ion"
      },
      "outputs": [],
      "source": [
        "a = np.arange(1, 10).reshape(3, 3)\n",
        "print(a)\n",
        "print(a.shape)\n",
        "print('')\n",
        "b = np.arange(10, 19).reshape(3, 3)\n",
        "print(b)\n",
        "print(b.shape)"
      ]
    },
    {
      "cell_type": "code",
      "execution_count": null,
      "metadata": {
        "id": "g7Lug0-nqF1V"
      },
      "outputs": [],
      "source": [
        "# axis 지정 없이 추가 ==> axis를 지정하지 않으면 배열은 1차원 배열로 변형되어 결합됩니다\n",
        "result = np.append(a, b)\n",
        "print(result)\n",
        "print(result.shape)"
      ]
    },
    {
      "cell_type": "markdown",
      "metadata": {
        "id": "XLSbVi1HqXAW"
      },
      "source": [
        "axis = 0 설정 시, shape[0]를 제외한 나머지 shape은 같아야 합니다.\n",
        "\n",
        "shape[0]를 제외한 나머지 shape이 다를 경우 append는 오류를 발생합니다."
      ]
    },
    {
      "cell_type": "code",
      "execution_count": null,
      "metadata": {
        "id": "VdVe0iuaqQK1"
      },
      "outputs": [],
      "source": [
        "# axis 0 방향으로 b 배열 추가\n",
        "result = np.append(a, b, axis=0)\n",
        "print(result)\n",
        "print(result.shape)"
      ]
    },
    {
      "cell_type": "markdown",
      "metadata": {
        "id": "QaurtJm_qsQ2"
      },
      "source": [
        "axis = 0 설정 시, shape[0]를 제외한 나머지 shape은 같아야 합니다.\n",
        "\n",
        "shape[0]를 제외한 나머지 shape이 다를 경우 append는 오류를 발생합니다."
      ]
    },
    {
      "cell_type": "code",
      "execution_count": null,
      "metadata": {
        "id": "6yPj79fvqpmx"
      },
      "outputs": [],
      "source": [
        "# axis 1 방향으로 b 배열 추가\n",
        "result = np.append(a, b, axis=1)\n",
        "print(result)\n",
        "print(result.shape)"
      ]
    },
    {
      "cell_type": "markdown",
      "metadata": {
        "id": "0Q_uSOGJqxKD"
      },
      "source": [
        "### ## insert()\n",
        "\n",
        "np.insert(arr, obj, values, axis=None)\n",
        "\n",
        "axis를 지정하지 않으며 1차원 배열로 변환\n",
        "\n",
        "추가할 방향을 axis로 지정"
      ]
    },
    {
      "cell_type": "code",
      "execution_count": null,
      "metadata": {
        "id": "egVzBM98jgd8"
      },
      "outputs": [],
      "source": [
        "a = [1,2,3,4,5,6]\n",
        "a.insert(1,99)\n",
        "a"
      ]
    },
    {
      "cell_type": "code",
      "execution_count": null,
      "metadata": {
        "id": "PkeGJenTq2BC"
      },
      "outputs": [],
      "source": [
        "a = np.arange(1, 10).reshape(3, 3)\n",
        "print(a)\n",
        "print(a.shape)"
      ]
    },
    {
      "cell_type": "code",
      "execution_count": null,
      "metadata": {
        "id": "N0zV7-myq6RF"
      },
      "outputs": [],
      "source": [
        "#  a 배열을 일차원 배열로 변환하고 1번 index에 99 추가\n",
        "np.insert(a, 1, 999)"
      ]
    },
    {
      "cell_type": "code",
      "execution_count": null,
      "metadata": {
        "id": "kM5W_Yk8q-xS"
      },
      "outputs": [],
      "source": [
        "# a 배열의 axis 0 방향 1번 인덱스에 추가\n",
        "# index가 1인 row에 999가 추가됨\n",
        "np.insert(a, 1, 999, axis=0)"
      ]
    },
    {
      "cell_type": "code",
      "execution_count": null,
      "metadata": {
        "id": "Cw2ZOwFerC8e"
      },
      "outputs": [],
      "source": [
        "# a 배열의 axis 1 방향 1번 인덱스에 추가\n",
        "# index가 1인 column에 999가 추가됨\n",
        "np.insert(a, 1, 999, axis=1)"
      ]
    },
    {
      "cell_type": "markdown",
      "metadata": {
        "id": "4jq0jW6ArF9Y"
      },
      "source": [
        "### ## delete()\n",
        "\n",
        "np.delete(arr, obj, axis=None)\n",
        "\n",
        "axis를 지정하지 않으며 1차원 배열로 변환\n",
        "\n",
        "삭제할 방향을 axis로 지정\n",
        "\n",
        "delete 함수는 원본 배열을 변경하지 않으며 새로운 배열을 반환"
      ]
    },
    {
      "cell_type": "code",
      "execution_count": null,
      "metadata": {
        "id": "dYIkRt_orLUZ"
      },
      "outputs": [],
      "source": [
        "a = np.arange(1, 10).reshape(3, 3)\n",
        "print(a)\n",
        "print(a.shape)"
      ]
    },
    {
      "cell_type": "code",
      "execution_count": null,
      "metadata": {
        "id": "fV4HlRtqrNdw"
      },
      "outputs": [],
      "source": [
        "#  a 배열을 일차원 배열로 변환하고 1번 index 삭제\n",
        "np.delete(a, 1)"
      ]
    },
    {
      "cell_type": "code",
      "execution_count": null,
      "metadata": {
        "id": "nWlohgaprPg1"
      },
      "outputs": [],
      "source": [
        "# a 배열의 axis 0 방향 1번 인덱스인 행을 삭제한 배열을 생성하여 반환\n",
        "np.delete(a, 1, axis=0)"
      ]
    },
    {
      "cell_type": "code",
      "execution_count": null,
      "metadata": {
        "id": "-fZwUR_jrQ5L"
      },
      "outputs": [],
      "source": [
        "# a 배열의 axis 1 방향 1번 인덱스인 열을 삭제한 배열을 생성하여 반환\n",
        "np.delete(a, 1, axis=1)"
      ]
    },
    {
      "cell_type": "markdown",
      "metadata": {
        "id": "nbDqUsHesBCy"
      },
      "source": [
        "#**4. 다차원 배열의 인덱싱**"
      ]
    },
    {
      "cell_type": "markdown",
      "metadata": {
        "id": "SNzYzQHssF6o"
      },
      "source": [
        "기본적인 인덱싱은 Python 리스트와 매우 유사합니다. \n",
        "\n",
        "arr이라는 array가 있을 때\n",
        " * arr[5]와 같이 특정한 인덱스를 명시\n",
        " *  arr[5:8]과 같이 범위 형태의 인덱스를 명시\n",
        " *  arr[:]의 경우, 해당 array의 전체 성분을 모두 선택한 결과에 해당\n",
        "\n",
        "이러한 인덱싱 방식은 2차원 array에 대해서도 아주 유사한 방식으로 적용됩니다. \n",
        "\n",
        "arr2d라는 2차원 array가 있을 때, \n",
        " * arr2d[2, :]를 실행하게 되면 arr2d에서 인덱스가 2에 해당하는 행(3행)의 모든 성분이 1차원 array의 형태로 얻어집니다. \n",
        " * arr2d[:, 3]을 실행하면, arr2d에서 인덱스가 3에 해당하는 열(4열)의 모든 성분이 1차원 array의 형태로 얻어집니다.\n",
        "\n",
        "\n",
        "2차원 array에서는 이렇게 두 개의 인덱스를 받을 수 있는데, ','를 기준으로 앞부분에는 '행'에 대한 인덱스가, 뒷부분에는 '열'에 대한 인덱스가 입력됩니다. arr2d[1:3, :] 혹은 arr2d[:, :2]와 같이, 행 또는 열에 범위 인덱스를 적용하여 여러 개의 행 혹은 열을 얻을 수도 있습니다.\n",
        "\n",
        "한편 2차원 array에서 4행 3열에 위치한 하나의 성분을 얻고자 하는 경우, arr2d[3, 2]를 실행하면 됩니다. 인덱싱을 통해 선택한 성분에 새로운 값을 대입하는 경우에도, arr2d[:2, 1:3] = 0과 같이 하면 됩니다.\n",
        "\n",
        "여러 가지 방법으로 인덱싱을 시도하면서, array에 대한 인덱싱 방식에 익숙해지시길 바랍니다."
      ]
    },
    {
      "cell_type": "markdown",
      "metadata": {
        "id": "hVxk-mEnt7CL"
      },
      "source": [
        "##4-1 기본적인 인덱싱"
      ]
    },
    {
      "cell_type": "code",
      "execution_count": null,
      "metadata": {
        "id": "n8b3-5n6sUvq"
      },
      "outputs": [],
      "source": [
        "b = np.arange(20).reshape((4,5))\n",
        "print(b)\n",
        "print(b.shape)"
      ]
    },
    {
      "cell_type": "code",
      "execution_count": null,
      "metadata": {
        "id": "nbhjJ2qit8Tq"
      },
      "outputs": [],
      "source": [
        "print(b[2,3])"
      ]
    },
    {
      "cell_type": "code",
      "execution_count": null,
      "metadata": {
        "id": "aiLaA99Tt-UV"
      },
      "outputs": [],
      "source": [
        "print(b[0:3, 1]) #0:3 0,1,1"
      ]
    },
    {
      "cell_type": "code",
      "execution_count": null,
      "metadata": {
        "id": "A29nPxbquArz"
      },
      "outputs": [],
      "source": [
        "print(b[ : ,2])"
      ]
    },
    {
      "cell_type": "code",
      "execution_count": null,
      "metadata": {
        "id": "IILJR6G1uKM-"
      },
      "outputs": [],
      "source": [
        "print(b[1:3, :3])"
      ]
    },
    {
      "cell_type": "code",
      "execution_count": null,
      "metadata": {
        "id": "CR6_BFffuMhP"
      },
      "outputs": [],
      "source": [
        "print(b[-1]) # 인덱스를 한개만 지정하는 경우, 이를 axis=0에 대한 인덱스로 간주합니다."
      ]
    },
    {
      "cell_type": "markdown",
      "metadata": {
        "id": "feM4Bw2nuCBe"
      },
      "source": [
        "...은 차원이 너무 많을 때 실수를 줄여줄 수 있습니다. 만약 x가 5차원이라고 할 때 아래 처럼 표현할 수 있습니다.\n",
        "\n",
        "x[1, 2, …] 는 x[1, 2, :, :, :] 와 같습니다.\n",
        "\n",
        "x[…, 3] 는 x[:, :, :, :, 3] 와 같습니다.\n",
        "\n",
        "x[4, …, 5, :] 는 x[4, :, :, 5, :] 와 같습니다.\n",
        "\n",
        "\n"
      ]
    },
    {
      "cell_type": "code",
      "execution_count": null,
      "metadata": {
        "id": "M5Z8wU4QuGH4"
      },
      "outputs": [],
      "source": [
        "# a 3D array (two stacked 2D arrays)\n",
        "c = np.array( [[[  0,  1,  2],        \n",
        "                [ 10, 12, 13]],\n",
        "               [[100,101,102],\n",
        "                [110,112,113]]])\n",
        "print(c.shape)"
      ]
    },
    {
      "cell_type": "code",
      "execution_count": null,
      "metadata": {
        "id": "j_yX9vKbaLdU"
      },
      "outputs": [],
      "source": [
        "c = np.arange(24).reshape((2,3,4))\n",
        "print(c)\n",
        "print(c.shape)"
      ]
    },
    {
      "cell_type": "code",
      "execution_count": null,
      "metadata": {
        "id": "AghuRtXpu68F"
      },
      "outputs": [],
      "source": [
        "print(c[1,1,...]) # same as c[1,:,:] or c[1]\n",
        "print(c[1,1,...].shape)"
      ]
    },
    {
      "cell_type": "code",
      "execution_count": null,
      "metadata": {
        "id": "XhNfHXQQvEnA"
      },
      "outputs": [],
      "source": [
        "print(c[...,2]) # same as c[:,:,2]\n",
        "print(c[...,2].shape)"
      ]
    },
    {
      "cell_type": "markdown",
      "metadata": {
        "id": "U6XzYoWZ00D7"
      },
      "source": [
        "### ## 인덱싱 기반 슬라이싱"
      ]
    },
    {
      "cell_type": "markdown",
      "metadata": {
        "id": "L7zsB9bm06lU"
      },
      "source": [
        "여러개의 배열 요소를 참조할 때 슬라이싱을 사용합니다. \n",
        "\n",
        "슬라이싱은 axis 별로 범위를 지정하여 실행합니다."
      ]
    },
    {
      "cell_type": "code",
      "execution_count": null,
      "metadata": {
        "id": "GL44MLVxan2x"
      },
      "outputs": [],
      "source": [
        "a = np.arange(24).reshape(2,3,4)\n",
        "array_attribute(a)"
      ]
    },
    {
      "cell_type": "code",
      "execution_count": null,
      "metadata": {
        "id": "C6GPde9kas2M"
      },
      "outputs": [],
      "source": [
        "np.hsplit(a, 3)[0].shape"
      ]
    },
    {
      "cell_type": "code",
      "execution_count": null,
      "metadata": {
        "id": "Wj0O0N6V02lp"
      },
      "outputs": [],
      "source": [
        "# 데모 배열 생성\n",
        "a1 = np.arange(1, 25).reshape((4, 6)) #2차원 배열\n",
        "print(a1)\n",
        "print(a1.shape)"
      ]
    },
    {
      "cell_type": "code",
      "execution_count": null,
      "metadata": {
        "id": "MQZUumLH1Cnv"
      },
      "outputs": [],
      "source": [
        "a1[1:3, 1:5]"
      ]
    },
    {
      "cell_type": "code",
      "execution_count": null,
      "metadata": {
        "id": "SXX6WSNNbHdd"
      },
      "outputs": [],
      "source": [
        "a = np.arange(24).reshape(2,3,4)\n",
        "array_attribute(a)"
      ]
    },
    {
      "cell_type": "code",
      "execution_count": null,
      "metadata": {
        "id": "HP7xq9ZabOSd"
      },
      "outputs": [],
      "source": [
        "b = np.vsplit(a, 2)\n",
        "b[0].shape"
      ]
    },
    {
      "cell_type": "code",
      "execution_count": null,
      "metadata": {
        "id": "3TNlDXs7bPKA"
      },
      "outputs": [],
      "source": [
        "c1 = a[0]\n",
        "c2 = a[1]"
      ]
    },
    {
      "cell_type": "code",
      "execution_count": null,
      "metadata": {
        "id": "byTh4DzdbW3t"
      },
      "outputs": [],
      "source": [
        "b[0]"
      ]
    },
    {
      "cell_type": "code",
      "execution_count": null,
      "metadata": {
        "id": "ADCc3ACUbYhS"
      },
      "outputs": [],
      "source": [
        "np.expand_dims(c1, 0)"
      ]
    },
    {
      "cell_type": "markdown",
      "metadata": {
        "id": "7gmw5mNr1C-8"
      },
      "source": [
        "음수 인덱스를 이용한 범위 설정\n",
        "\n",
        "음수 인덱스는 지정한 axis의 마지막 요소로 부터 반대 방향의 인덱스입니다.\n",
        "\n",
        "-1은 마지막 요소의 인덱스를 의미합니다.\n",
        "\n",
        "다음 슬라이싱은 위 슬라이싱과 동일한 결과를 만듭니다."
      ]
    },
    {
      "cell_type": "code",
      "execution_count": null,
      "metadata": {
        "id": "cXxY0EBv1MvI"
      },
      "outputs": [],
      "source": [
        "print(a1[1:3, 1:5])\n",
        "print(a1[1:-1, 1:-1])"
      ]
    },
    {
      "cell_type": "markdown",
      "metadata": {
        "id": "zkL8bq0nvWJo"
      },
      "source": [
        "인덱싱한 배열 수정"
      ]
    },
    {
      "cell_type": "code",
      "execution_count": null,
      "metadata": {
        "id": "r1_EffI-2MJJ"
      },
      "outputs": [],
      "source": [
        "slide_arr = a1[1:3, 1:5]\n",
        "print(slide_arr)\n",
        "print(slide_arr.shape)\n",
        "slide_arr[:, 1:3]=99999\n",
        "print(slide_arr)\n",
        "print(slide_arr.shape)\n",
        "print(a1)"
      ]
    },
    {
      "cell_type": "markdown",
      "metadata": {
        "id": "4TOE7a6asTo4"
      },
      "source": [
        "## 4-2 인덱스 배열로 인덱싱 - Indexing with Arrays of Indices\n",
        "인덱스를 가진 배열로 인덱싱을 할 수 있습니다."
      ]
    },
    {
      "cell_type": "code",
      "execution_count": null,
      "metadata": {
        "id": "hHa20DoesFui"
      },
      "outputs": [],
      "source": [
        "a = np.arange(12)**2\n",
        "print(a)"
      ]
    },
    {
      "cell_type": "code",
      "execution_count": null,
      "metadata": {
        "id": "eX6cmY3Qv7iL"
      },
      "outputs": [],
      "source": [
        "i = np.array([1, 1, 3, 8, 5])\n",
        "print(a[i])"
      ]
    },
    {
      "cell_type": "code",
      "execution_count": null,
      "metadata": {
        "id": "5ToY4jEov97U"
      },
      "outputs": [],
      "source": [
        "j = np.array([[3, 4], [9, 7]])\n",
        "print(a[j])"
      ]
    },
    {
      "cell_type": "markdown",
      "metadata": {
        "id": "rLYtU5nGyfOU"
      },
      "source": [
        "인덱싱한 원소를 수정하면 본 배열의 값이 수정됩니다."
      ]
    },
    {
      "cell_type": "code",
      "execution_count": null,
      "metadata": {
        "id": "V2hlT_GOs0YC"
      },
      "outputs": [],
      "source": [
        "a = np.arange(5)\n",
        "print(a)\n",
        "print('')\n",
        "\n",
        "a[[1,3,4]] = 0\n",
        "print(a)"
      ]
    },
    {
      "cell_type": "code",
      "execution_count": null,
      "metadata": {
        "id": "gFl6TANkyoXW"
      },
      "outputs": [],
      "source": [
        "a = np.arange(5)\n",
        "print(a)\n",
        "\n",
        "a[[0,0,2]] += 1\n",
        "print(a)"
      ]
    },
    {
      "cell_type": "markdown",
      "metadata": {
        "id": "UM6yk3UoscGu"
      },
      "source": [
        "## 4-3 불리언 인덱싱 (Boolean Indexing)"
      ]
    },
    {
      "cell_type": "markdown",
      "metadata": {
        "id": "QYBf0rWwyznD"
      },
      "source": [
        "array와 관련하여 중요하게 사용되는 또 다른 인덱싱 방식이 불리언 인덱싱입니다."
      ]
    },
    {
      "cell_type": "code",
      "execution_count": null,
      "metadata": {
        "id": "xXjH9eSbtG5s"
      },
      "outputs": [],
      "source": [
        "names = np.array([\"Charles\", \"Kilho\", \"Hayoung\", \"Charles\", \"Hayoung\", \"Kilho\", \"Kilho\"])\n",
        "data = np.arange(28).reshape((7,4))\n",
        "print(names)\n",
        "print(names.shape)\n",
        "print('')\n",
        "print(data)\n",
        "print(data.shape)"
      ]
    },
    {
      "cell_type": "markdown",
      "metadata": {
        "id": "5MMNO9i6y3nb"
      },
      "source": [
        "\n",
        "위와 같은 names array와 data array가 정의되었다고 가정합시다. \n",
        "\n",
        "names array 내 각각의 성분이, data array의 각 행에 순서대로 대응된다고 가정합시다. \n",
        "\n",
        "이러한 상황에서 이름이 \"Charles\"인 사람의 행 데이터만을 추출하고 싶다고 할 때, names == \"Charles\"를 실행하면 다음과 같은 결과를 얻을 수 있습니다."
      ]
    },
    {
      "cell_type": "code",
      "execution_count": null,
      "metadata": {
        "id": "6ElvXV7AqKzf"
      },
      "outputs": [],
      "source": [
        "print(data[[0,3]])\n",
        "print(data[np.array([ True, False, False,  True, False, False, False])])"
      ]
    },
    {
      "cell_type": "code",
      "execution_count": null,
      "metadata": {
        "id": "cjfhGz0ay742"
      },
      "outputs": [],
      "source": [
        "names == \"Charles\""
      ]
    },
    {
      "cell_type": "markdown",
      "metadata": {
        "id": "6-9bLyzJzJcl"
      },
      "source": [
        "얻어진 array를 잘 보면, 값이 \"Charles\"인 성분의 위치에는 True가, 그 외의 위치에는 False가 들어가 있는 것을 확인할 수 있습니다.\n",
        "\n",
        "이렇게 names == \"Charles\"와 같은 조건식 형태의 코드를 실행하였을 때 생성되는 불리언 array를 다른 말로 '마스크(mask)'라고 합니다.\n",
        "\n",
        "이런 마스크는 다른 array를 인덱싱하는 데 사용할 수 있습니다. 예를 들어 data[names == \"Charles\", :]를 실행하면, 위에서 보인 마스크가 True에 해당하는 행만을 data array로부터 가져오게 되고, 이들만으로 구성된 array를 얻을 수 있습니다."
      ]
    },
    {
      "cell_type": "code",
      "execution_count": null,
      "metadata": {
        "id": "jFuxkLvCzM4m"
      },
      "outputs": [],
      "source": [
        "data[names == \"Charles\", :]"
      ]
    },
    {
      "cell_type": "markdown",
      "metadata": {
        "id": "8G6IWCXfzPSH"
      },
      "source": [
        "이러한 조건을 여러 개 추가할 수도 있습니다.\n",
        "\n",
        " 예를 들어 값이 \"Charles\" 혹은 \"Kilho\"인 성분에 대응되는 행을 얻고 싶다면 다음과 같이 하면 됩니다."
      ]
    },
    {
      "cell_type": "code",
      "execution_count": null,
      "metadata": {
        "id": "2b6HiafGzuS5"
      },
      "outputs": [],
      "source": [
        "print((names == \"Charles\") | (names == \"Kilho\")) \n",
        "data[(names == \"Charles\") | (names == \"Kilho\"), :]"
      ]
    },
    {
      "cell_type": "markdown",
      "metadata": {
        "id": "IcJ9PXh7z2Fq"
      },
      "source": [
        "혹은 기존의 data array의 각 성분의 값을 기준으로 불리언 인덱싱을 수행할 수도 있습니다. 예를 들어 data[:, 3]을 실행하여 4열만의 값을 본다고 할 때, data[:, 3] < 0을 실행하여 4열 상에서 그 값이 0보다 작은 성분을 조사하면, 다음과 같은 마스크를 얻을 수 있습니다."
      ]
    },
    {
      "cell_type": "code",
      "execution_count": null,
      "metadata": {
        "id": "MT_iWlqUrTG1"
      },
      "outputs": [],
      "source": [
        "data"
      ]
    },
    {
      "cell_type": "code",
      "execution_count": null,
      "metadata": {
        "id": "UsUc83C5z-Xn"
      },
      "outputs": [],
      "source": [
        "data[:, 3] < 9"
      ]
    },
    {
      "cell_type": "markdown",
      "metadata": {
        "id": "b7ILJaLspyT7"
      },
      "source": [
        "#**5. 배열 할당 및 복사**"
      ]
    },
    {
      "cell_type": "code",
      "execution_count": null,
      "metadata": {
        "id": "rpEJgpSrsOtv"
      },
      "outputs": [],
      "source": [
        "a = np.array([[1,2,3],[2,3,4]])\n",
        "b = a[0]\n",
        "print(a)\n",
        "print(b)\n",
        "print('')\n",
        "b[0] = 5\n",
        "print(a)\n",
        "print(b)\n"
      ]
    },
    {
      "cell_type": "markdown",
      "metadata": {
        "id": "htnJMF4_qHyn"
      },
      "source": [
        "### ## 복사되지 않는 경우 - No Copy at All\n",
        "\n",
        "아래와 같이 np.array를 변수에 넣는다고 해서 복사가 되지 않습니다. \n",
        "\n",
        "레퍼런스를 참조할 뿐입니다. id()를 통해 주소값을 반환해서 확인할 수 있습니다.\n",
        "\n",
        "---\n",
        "\n"
      ]
    },
    {
      "cell_type": "code",
      "execution_count": null,
      "metadata": {
        "id": "bC5zYJLhqKS-"
      },
      "outputs": [],
      "source": [
        "a = np.array([[ 0,  1,  2,  3],\n",
        "              [ 4,  5,  6,  7],\n",
        "              [ 8,  9, 10, 11]])\n",
        "# 두 개가 사실상 같습니다. (복사가 아님)\n",
        "b = a\n",
        "print(b is a)"
      ]
    },
    {
      "cell_type": "code",
      "execution_count": null,
      "metadata": {
        "id": "ZQNHrSr-1SON"
      },
      "outputs": [],
      "source": [
        "print(a)\n",
        "print(id(a))\n",
        "print('')\n",
        "print(b)\n",
        "print(id(b))"
      ]
    },
    {
      "cell_type": "code",
      "execution_count": null,
      "metadata": {
        "id": "52Roc9vv1Yjk"
      },
      "outputs": [],
      "source": [
        "a[0, 0] = 999\n",
        "print(a)\n",
        "print('')\n",
        "print(b)"
      ]
    },
    {
      "cell_type": "markdown",
      "metadata": {
        "id": "p3b-FjDnqY1A"
      },
      "source": [
        "### ## 얕은복사 - View or Shallow Copy\n",
        "\n",
        "view()를 통해 Shallow Copy를 할 수 있습니다. Shallow Copy, Deep Copy의 개념을 이해하고 있다면 이것으로 이해하실 수 있을 것입니다. Numpy 관점에서 쉽게 설명드리면 view()는 실제로 데이터가 복사된다기 보다는 데이터 각각의 참조값이 복사됩니다. c와 a의 참조값은 다르지만 각각의 데이터 참조값이 복사됐다는 의미입니다. 따라서 a와 c는 다르지만 c[0, 4]는 a[0, 4]는 같은 참조값을 보고 있어 a가 변경되는 것을 확인할 수 있습니다. 마찬가지로 s에 a를 슬라이싱하여 데이터를 가져가도 s를 변경하면 a가 변경됩니다."
      ]
    },
    {
      "cell_type": "code",
      "execution_count": null,
      "metadata": {
        "id": "XcB9VX2qp6-e"
      },
      "outputs": [],
      "source": [
        "c = a.view()\n",
        "print(c is a)"
      ]
    },
    {
      "cell_type": "code",
      "execution_count": null,
      "metadata": {
        "id": "m2OK5a7YyYdv"
      },
      "outputs": [],
      "source": [
        "print(c)"
      ]
    },
    {
      "cell_type": "code",
      "execution_count": null,
      "metadata": {
        "id": "QCS3Na432FZh"
      },
      "outputs": [],
      "source": [
        "# c의 데이터와 a의 데이터의 참조값은 같음\n",
        "c[0, 3] = 1234\n",
        "print(c)\n",
        "print(c.shape)\n",
        "print('')\n",
        "print(a)\n",
        "print(a.shape)"
      ]
    },
    {
      "cell_type": "code",
      "execution_count": null,
      "metadata": {
        "id": "9MgzpYjj2uaG"
      },
      "outputs": [],
      "source": [
        "# c의 데이터와 a의 데이터의 참조값은 같음\n",
        "a[0, 0] = 12345\n",
        "print(c)\n",
        "print(c.shape)\n",
        "print('')\n",
        "print(a)\n",
        "print(a.shape)"
      ]
    },
    {
      "cell_type": "code",
      "execution_count": null,
      "metadata": {
        "id": "wQcuC39n2Vva"
      },
      "outputs": [],
      "source": [
        "# a를 슬라이싱해도 데이터의 참조값은 같음\n",
        "a = np.arange(12).reshape(3,4)\n",
        "print(a)\n",
        "s = a[ : , 1:3]\n",
        "s[:] = 10\n",
        "print(a)"
      ]
    },
    {
      "cell_type": "markdown",
      "metadata": {
        "id": "tQL5nhzQqysV"
      },
      "source": [
        "### ## 깊은복사 - Deep copy\n",
        ".copy()를 이용하면 Deep Copy를 할 수 있습니다. 즉 a와 d의 참조값 뿐만 아니라 a의 각각의 데이터 전부가 새로운 객체로 생성됩니다."
      ]
    },
    {
      "cell_type": "code",
      "execution_count": null,
      "metadata": {
        "id": "50GhGRGyqw3A"
      },
      "outputs": [],
      "source": [
        "a = np.arange(12).reshape((3,4))\n",
        "d = a.copy()\n",
        "# a와 d의 참조값은 다름\n",
        "print(d is a)"
      ]
    },
    {
      "cell_type": "code",
      "execution_count": null,
      "metadata": {
        "id": "TYVEOhhm26cG"
      },
      "outputs": [],
      "source": [
        "# a와 d의 데이터의 참조값도 다름\n",
        "d[0,0] = 9999\n",
        "print(d)\n",
        "print(d.shape)\n",
        "print('')\n",
        "print(a)\n",
        "print(a.shape)"
      ]
    },
    {
      "cell_type": "markdown",
      "metadata": {
        "id": "F_1QHG_zg8JR"
      },
      "source": [
        "#**6. 배열의 저장 및 로드**"
      ]
    },
    {
      "cell_type": "markdown",
      "metadata": {
        "id": "i6mCyN6iGcDW"
      },
      "source": [
        "### ## 구글 드라이브 마운트"
      ]
    },
    {
      "cell_type": "code",
      "execution_count": null,
      "metadata": {
        "id": "yEuYpAijEay2"
      },
      "outputs": [],
      "source": [
        "import numpy as np\n",
        "import os"
      ]
    },
    {
      "cell_type": "code",
      "execution_count": null,
      "metadata": {
        "id": "1hsVrOQIFTA3"
      },
      "outputs": [],
      "source": [
        "from google.colab import drive\n",
        "drive.mount('/content/drive', force_remount=True)\n",
        "\n",
        "save_path = \"/content/drive/MyDrive/data\""
      ]
    },
    {
      "cell_type": "code",
      "execution_count": null,
      "metadata": {
        "id": "0ugCniMBzA0G"
      },
      "outputs": [],
      "source": [
        "os.getcwd()"
      ]
    },
    {
      "cell_type": "code",
      "execution_count": null,
      "metadata": {
        "id": "ulTRTXKeA6PY"
      },
      "outputs": [],
      "source": [
        "os.listdir(save_path)"
      ]
    },
    {
      "cell_type": "markdown",
      "metadata": {
        "id": "vWdXQpQcHebm"
      },
      "source": [
        "### ## Numpy 함수를 이용한 배열의 저장"
      ]
    },
    {
      "cell_type": "markdown",
      "metadata": {
        "id": "EJnlJGg8FSpB"
      },
      "source": [
        "|명령어 | 기능 | 입/출력 형식|\n",
        "|------|---|---|\n",
        "np.save()|NumPy배열 객체 1개를 파일에 저장|바이너리\n",
        "np.savez()|NumPy 배열 객체 복수개를 파일에 저장|바이너리\n",
        "np.load()|NumPy 배열 저장 파일로 부터 객체 로딩|바이너리\n",
        "np.loadtxt()|텍스트 파일로 부터 배열 로딩|텍스트\n",
        "np.savetxt()|텍스트 파일에 NumPy 배열 객체 저장|텍스트"
      ]
    },
    {
      "cell_type": "code",
      "execution_count": null,
      "metadata": {
        "id": "EGqLmbpoFR27"
      },
      "outputs": [],
      "source": [
        "a = np.random.randint(0, 10, (2, 3))\n",
        "b = np.random.randint(0, 10, (2, 3))\n",
        "array_attribute(a)\n",
        "array_attribute(b)"
      ]
    },
    {
      "cell_type": "markdown",
      "metadata": {
        "id": "dh5gKj1GHbsd"
      },
      "source": [
        "### ##np.save 함수와 np.savez 함수를 이용하여 배열 객체를 파일로 저장할 수 있습니다. (Default: 바이너리 형식)  \n",
        "\n",
        "NumPy에서 지원하는 바이너리 파일을 .npy, .npz라고 한다. .npy는 1개의 ndarray를, .npz는 여러개의 ndarray를 저장하는 데 사용된다.\n",
        "\n",
        "np.save: 1개 배열 저장, 확장자: npy\n",
        "\n",
        "np.savez: 복수 배열을 1개의 파일에 저장, 확장자: pnz\n",
        "\n",
        "배열 저장 파일은 바이너리 형태입니다.  \n",
        "\n",
        "(ex. 기계가 읽을 수 있는 형태를 말하는 binary형태와, 사람이 읽을 수 있는 json의 형태)"
      ]
    },
    {
      "cell_type": "code",
      "execution_count": null,
      "metadata": {
        "id": "lYbvubAJHa6_"
      },
      "outputs": [],
      "source": [
        "# a배열 파일에 저장\n",
        "os.path.join(save_path, \"my_array1\")\n",
        "np.save(os.path.join(save_path, \"my_array1\"), a)"
      ]
    },
    {
      "cell_type": "code",
      "execution_count": null,
      "metadata": {
        "id": "q2ihnyiEIWZS"
      },
      "outputs": [],
      "source": [
        "# 불러와서 확인해보기\n",
        "one_file = np.load(os.path.join(save_path, \"my_array1.npy\"))\n",
        "array_attribute(one_file)"
      ]
    },
    {
      "cell_type": "code",
      "execution_count": null,
      "metadata": {
        "id": "I5jco8B2IdCZ"
      },
      "outputs": [],
      "source": [
        "np.savez(os.path.join(save_path, \"my_array2\"), a, b)"
      ]
    },
    {
      "cell_type": "code",
      "execution_count": null,
      "metadata": {
        "id": "OKUzxJRqIwgs"
      },
      "outputs": [],
      "source": [
        "many_files = np.load(os.path.join(save_path, \"my_array2.npz\"))\n",
        "many_files.files"
      ]
    },
    {
      "cell_type": "code",
      "execution_count": null,
      "metadata": {
        "id": "wqElecicI2tJ"
      },
      "outputs": [],
      "source": [
        "many_files['arr_0']"
      ]
    },
    {
      "cell_type": "code",
      "execution_count": null,
      "metadata": {
        "id": "jj3Tju4jJCIF"
      },
      "outputs": [],
      "source": [
        "many_files['arr_1']"
      ]
    },
    {
      "cell_type": "markdown",
      "metadata": {
        "id": "_vvAL8cRJjKQ"
      },
      "source": [
        "### ## 배열을 텍스트 파일로 저장 및 불러오기"
      ]
    },
    {
      "cell_type": "markdown",
      "metadata": {
        "id": "yJPxPyAiK0D-"
      },
      "source": [
        "배열 객체 텍스트 파일로 저장\n",
        "\n",
        "np.savetxt 함수를 이용하여 배열 객체를 텍스트 파일로 저장할 수 있습니다.\n",
        "\n",
        "np.savetxt(fname, X, fmt='%.18e', delimiter=' ', newline='\\n', header='', footer='', comments='# ')"
      ]
    },
    {
      "cell_type": "code",
      "execution_count": null,
      "metadata": {
        "id": "GlHas6uMK2Al"
      },
      "outputs": [],
      "source": [
        "data = np.random.random((3, 4))\n",
        "array_attribute(data)"
      ]
    },
    {
      "cell_type": "code",
      "execution_count": null,
      "metadata": {
        "id": "XLGEVOBjK9vU"
      },
      "outputs": [],
      "source": [
        "# 배열 객체 텍스트 파일로 저장\n",
        "np.savetxt(os.path.join(save_path, \"my_arr3.csv\"), data, delimiter=\",\")"
      ]
    },
    {
      "cell_type": "markdown",
      "metadata": {
        "id": "3Jn-FvaxJd9G"
      },
      "source": [
        "텍스트 파일을 np.loadtxt 로 로딩 할 수 있습니다.\n",
        "\n",
        "**np.loadtxt(fname, dtype=<class 'float'>, comments='#', delimiter=None, converters=None, skiprows=0, usecols=None, unpack=False, ndmin=0)**\n",
        "\n",
        "fname: 파일명\n",
        "\n",
        "dtype: 데이터 타입\n",
        "\n",
        "comments: comment 시작 부호\n",
        "\n",
        "delimiter: 구분자\n",
        "\n",
        "skiprows: 제외 라인 수(header 제거용)"
      ]
    },
    {
      "cell_type": "code",
      "execution_count": null,
      "metadata": {
        "id": "jzdeWQu9KMoD"
      },
      "outputs": [],
      "source": [
        "# 데이터 파일 로딩\n",
        "data = np.loadtxt(os.path.join(save_path, \"my_arr3.csv\"), delimiter=',')\n",
        "array_attribute(data)"
      ]
    },
    {
      "cell_type": "code",
      "execution_count": null,
      "metadata": {
        "id": "GxTYLETkLc-_"
      },
      "outputs": [],
      "source": [
        "# 배열 객체 텍스트 파일로 저장 및 불러오기\n",
        "array_attribute(data)\n",
        "np.savetxt(os.path.join(save_path, \"my_arr4.txt\"), data, delimiter=\",\")\n",
        "data2 = np.loadtxt(os.path.join(save_path, \"my_arr4.txt\"), delimiter=',')\n",
        "array_attribute(data2)"
      ]
    },
    {
      "cell_type": "markdown",
      "metadata": {
        "id": "sjaSAKWmoqzP"
      },
      "source": [
        "참조\n",
        "\n",
        "*   https://cycorld.gitbooks.io/python/content/numpy.html\n",
        "*   https://laboputer.github.io/machine-learning/2020/04/25/numpy-quickstart/\n",
        "*   http://taewan.kim/post/numpy_cheat_sheet/"
      ]
    },
    {
      "cell_type": "code",
      "execution_count": null,
      "metadata": {
        "id": "-GkFKeK5DVAm"
      },
      "outputs": [],
      "source": []
    }
  ],
  "metadata": {
    "colab": {
      "include_colab_link": true,
      "provenance": []
    },
    "kernelspec": {
      "display_name": "Python 3",
      "language": "python",
      "name": "python3"
    },
    "language_info": {
      "codemirror_mode": {
        "name": "ipython",
        "version": 3
      },
      "file_extension": ".py",
      "mimetype": "text/x-python",
      "name": "python",
      "nbconvert_exporter": "python",
      "pygments_lexer": "ipython3",
      "version": "3.10.9"
    },
    "vscode": {
      "interpreter": {
        "hash": "aee8b7b246df8f9039afb4144a1f6fd8d2ca17a180786b69acc140d282b71a49"
      }
    }
  },
  "nbformat": 4,
  "nbformat_minor": 0
}
