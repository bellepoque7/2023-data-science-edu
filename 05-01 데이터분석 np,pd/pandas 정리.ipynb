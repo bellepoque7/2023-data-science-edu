{
 "cells": [
  {
   "attachments": {},
   "cell_type": "markdown",
   "metadata": {},
   "source": [
    "#### 조건으로 검색하기"
   ]
  },
  {
   "cell_type": "code",
   "execution_count": null,
   "metadata": {},
   "outputs": [],
   "source": [
    "import numpy as np\n",
    "import pandas as pd\n",
    "\n",
    "df = pd.DataFrame(np.arange(6).reshape(3,2), columns=[\"A\", \"B\"])\n",
    "print(df, \"\\n\")\n",
    "'''\n",
    "   A  B\n",
    "0  0  1\n",
    "1  2  3\n",
    "2  4  5\n",
    "'''\n",
    "\n",
    "#slicing으로 찾기\n",
    "print(df[(df[\"B\"]>1)&(df[\"A\"]<3)])\n",
    "#query메소드 사용하기\n",
    "print(df.query(\"B>1 and A<3\"))\n",
    "'''\n",
    "   A  B\n",
    "1  2  3\n",
    "'''"
   ]
  },
  {
   "attachments": {},
   "cell_type": "markdown",
   "metadata": {},
   "source": [
    "### 슬라이싱 하기 "
   ]
  },
  {
   "cell_type": "code",
   "execution_count": 12,
   "metadata": {},
   "outputs": [
    {
     "name": "stdout",
     "output_type": "stream",
     "text": [
      "     A  B\n",
      "1st  0  1\n",
      "2nd  2  3\n",
      "3rd  4  5\n",
      "     A  B\n",
      "1st  0  1\n",
      "A    0\n",
      "B    1\n",
      "Name: 1st, dtype: int64\n",
      "1st    0\n",
      "2nd    2\n",
      "3rd    4\n",
      "Name: A, dtype: int64\n"
     ]
    }
   ],
   "source": [
    "import pandas as pd\n",
    "import numpy as np\n",
    "df = pd.DataFrame(np.arange(6).reshape(3,2),index = ['1st','2nd','3rd'],columns=[\"A\", \"B\"])\n",
    "\n",
    "print(df)\n",
    "'''   \n",
    "   A  B\n",
    "0  0  1\n",
    "1  2  3\n",
    "2  4  5\n",
    "'''\n",
    "\n",
    "#행 인덱스로 슬라이싱\n",
    "print(df.iloc[[0]])\n",
    "'''\n",
    "   A  B\n",
    "0  0  1\n",
    "'''\n",
    "#행 이름으로 으로 슬라이싱 후 전치\n",
    "print(df.loc['1st'])\n",
    "'''\n",
    "A    0\n",
    "B    1\n",
    "'''\n",
    "#열 이름으로 으로 슬라이싱 \n",
    "print(df.loc[:,'A'])\n",
    "'''\n",
    "1st    0\n",
    "2nd    2\n",
    "3rd    4\n",
    "'''\n"
   ]
  },
  {
   "attachments": {},
   "cell_type": "markdown",
   "metadata": {},
   "source": [
    "### Apply 메소드 사용하기"
   ]
  },
  {
   "cell_type": "code",
   "execution_count": null,
   "metadata": {},
   "outputs": [],
   "source": [
    "import numpy as np\n",
    "import pandas as pd\n",
    "\n",
    "df = pd.DataFrame(np.arange(5), columns=[\"Num\"])\n",
    "print(df, \"\\n\")\n",
    "'''\n",
    "\tNum\n",
    "0    0\n",
    "1    1\n",
    "2    2\n",
    "3    3\n",
    "4    4\n",
    "'''\n",
    "\n",
    "# 값을 받으면 제곱을 해서 돌려주는 함수\n",
    "def square(x):\n",
    "    return x**2\n",
    "\n",
    "# apply로 컬럼에 함수 적용\n",
    "df['Square'] = df['Num'].apply(square)\n",
    "\n",
    "# 람다 표현식으로도 적용하기\n",
    "df['Square'] = df['Num'].apply(lambda x: x**2)\n",
    "\n",
    "print(df)\n",
    "'''\n",
    "    Num  Square\n",
    "0    0       0\n",
    "1    1       1\n",
    "2    2       4\n",
    "3    3       9\n",
    "4    4      16\n",
    "'''"
   ]
  },
  {
   "attachments": {},
   "cell_type": "markdown",
   "metadata": {},
   "source": [
    "### 집계하기"
   ]
  },
  {
   "cell_type": "code",
   "execution_count": null,
   "metadata": {},
   "outputs": [],
   "source": [
    "df = pd.DataFrame({\n",
    "    'key': ['A', 'B', 'C', 'A', 'B', 'C'],\n",
    "    'data1': [1, 2, 3, 1, 2, 3],\n",
    "    'data2': [4, 4, 6, 0, 6, 1]\n",
    "})\n",
    "print(df)\n",
    "'''\n",
    "   key  data1  data2\n",
    "0   A      1      4\n",
    "1   B      2      4\n",
    "2   C      3      6\n",
    "3   A      1      0\n",
    "4   B      2      6\n",
    "5   C      3      1\n",
    "'''\n",
    "\n",
    "# groupby 함수를 이용\n",
    "# key를 기준으로 묶어 합계를 구해 출력\n",
    "\n",
    "x = df.groupby(['key']).sum()\n",
    "print(x)\n",
    "\n",
    "'''\n",
    "key    data1  data2    \n",
    " A        2      4\n",
    " B        4     10\n",
    " C        6      7\n",
    "'''\n",
    "# key와 data1을 기준으로 묶어 합계를 구해 출력\n",
    "y = df.groupby(['key','data1']).sum()\n",
    "print(y)\n",
    "\n",
    "'''\n",
    "key data1  data2  \n",
    " A   1       4\n",
    " B   2       10\n",
    " C   3       7\n",
    "'''\n",
    "\n",
    "# 데이터 프레임을 'key' 칼럼으로 묶고, data1과 data2 각각의 최솟값, 중앙값, 최댓값을 출력\n",
    "x = df.groupby(['key']).aggregate(['min','median','max'])\n",
    "print(x)\n",
    "\n",
    "'''\n",
    "\t\t\t\t\tdata1            data2           \n",
    "key    min median max   min median max                                  \n",
    "A       1      1   1     0    2.0   4\n",
    "B       2      2   2     4    5.0   6\n",
    "C       3      3   3     1    3.5   6\n",
    "'''\n",
    "\n",
    "# 데이터 프레임을 'key' 칼럼으로 묶고, data1의 최솟값, data2의 합계를 출력\n",
    "y = df.groupby('key').aggregate({'data1' : ['min'], 'data2' : ['sum']})\n",
    "print(y)\n",
    "'''\n",
    "\t\tdata1 data2\n",
    "key   min   sum         \n",
    "A       1     4\n",
    "B       2    10\n",
    "C       3     7\n",
    "'''"
   ]
  },
  {
   "attachments": {},
   "cell_type": "markdown",
   "metadata": {},
   "source": [
    "### filter, lambda 이용해서 활용하기"
   ]
  },
  {
   "cell_type": "code",
   "execution_count": null,
   "metadata": {},
   "outputs": [],
   "source": [
    "import numpy as np\n",
    "import pandas as pd\n",
    "\n",
    "df = pd.DataFrame({\n",
    "    'key': ['A', 'B', 'C', 'A', 'B', 'C'],\n",
    "    'data1': [0, 1, 2, 3, 4, 5],\n",
    "    'data2': [4, 4, 6, 0, 6, 1]})\n",
    "'''\n",
    "   key  data1  data2\n",
    "0   A      0      4\n",
    "1   B      1      4\n",
    "2   C      2      6\n",
    "3   A      3      0\n",
    "4   B      4      6\n",
    "5   C      5      1\n",
    "'''\n",
    "def filter_by_mean(x) :\n",
    "    return x['data2'].mean() > 3\n",
    "\n",
    "# groupby()로 묶은 데이터에 filter를 적용\n",
    "# key별 data2의 평균이 3이 넘는 인덱스만 출력\n",
    "x = df.groupby('key').filter(filter_by_mean)\n",
    "print(x)\n",
    "'''\n",
    "   key  data1  data2\n",
    "1   B      1      4\n",
    "2   C      2      6\n",
    "4   B      4      6\n",
    "5   C      5      1\n",
    "'''\n",
    "\n",
    "\n",
    "# groupby()로 묶은 데이터에 apply도 적용\n",
    "# 람다식을 이용해 최댓값에서 최솟값을 뺀 값을 적용\n",
    "y = df.groupby('key').apply(lambda x : x.max() - x.min())\n",
    "print(y)\n",
    "'''\n",
    "   key  data1  data2\n",
    "1   B      1      4\n",
    "2   C      2      6\n",
    "4   B      4      6\n",
    "5   C      5      1\n",
    "'''"
   ]
  }
 ],
 "metadata": {
  "kernelspec": {
   "display_name": "Python 3",
   "language": "python",
   "name": "python3"
  },
  "language_info": {
   "codemirror_mode": {
    "name": "ipython",
    "version": 3
   },
   "file_extension": ".py",
   "mimetype": "text/x-python",
   "name": "python",
   "nbconvert_exporter": "python",
   "pygments_lexer": "ipython3",
   "version": "3.10.9"
  },
  "orig_nbformat": 4,
  "vscode": {
   "interpreter": {
    "hash": "aee8b7b246df8f9039afb4144a1f6fd8d2ca17a180786b69acc140d282b71a49"
   }
  }
 },
 "nbformat": 4,
 "nbformat_minor": 2
}
