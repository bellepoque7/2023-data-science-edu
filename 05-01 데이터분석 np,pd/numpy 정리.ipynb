{
 "cells": [
  {
   "attachments": {},
   "cell_type": "markdown",
   "metadata": {},
   "source": [
    "### **Numpy library에서 자주 사용되는 함수**\n",
    "\n",
    "- np.array - 배열생성\n",
    "- np.zeros - 0이 들어있는 배열 생성\n",
    "- np.ones - 1이 들어있는 배열 생성\n",
    "- np.empty - 초기화가 없는 값으로 배열을 반환\n",
    "- np.arange(n) - 배열 버전의 range 함수\n",
    "- np.random - 다양한 난수가 들어있는 배열 생성\n",
    "- np.eye: 단위행렬 생성"
   ]
  },
  {
   "attachments": {},
   "cell_type": "markdown",
   "metadata": {},
   "source": [
    "### 1차원 배열"
   ]
  },
  {
   "cell_type": "code",
   "execution_count": null,
   "metadata": {},
   "outputs": [],
   "source": [
    "import numpy as np\n",
    "array = np.arange(10)\n",
    "type(array)\n",
    "# <class 'numpy.ndarray'>\n",
    "\n",
    "# 차원: 1차원\n",
    "array.ndim\n",
    "# 모양: (10,)\n",
    "array.shape\n",
    "# 크기: 10\n",
    "array.size\n",
    "# 요소의 데이터 타입: int64\n",
    "array.dtype\n",
    "\n",
    "#reshape\n",
    "array.reshape(2,5)\n",
    "'''\n",
    "[[0 1 2 3 4]\n",
    " [5 6 7 8 9]]\n",
    "'''\n",
    "\n",
    "#concatenate\n",
    "#axis =0 가로붙이기, axis = 1 세로 붙이기\n",
    "np.concatenate((array, array), axis = 0)\n",
    "'''[0 1 2 3 4 5 6 7 8 9 0 1 2 3 4 5 6 7 8 9]'''\n",
    "\n",
    "\n",
    "#split 하기 \n",
    "matrix = np.array([[ 0, 1, 2, 3],\n",
    "                   [ 4, 5, 6, 7],\n",
    "                   [ 8, 9,10,11], \n",
    "                   [12,13,14,15]])\n",
    "np.split(matrix,[3],axis = 0)\n",
    "'''\n",
    "[[ 0]\n",
    " [ 4]\n",
    " [ 8]\n",
    " [12]],\n",
    "\n",
    "[[ 1  2  3]\n",
    " [ 5  6  7]\n",
    " [ 9 10 11]\n",
    " [13 14 15]]\n",
    "'''"
   ]
  },
  {
   "attachments": {},
   "cell_type": "markdown",
   "metadata": {},
   "source": [
    "### 2차원 배열"
   ]
  },
  {
   "cell_type": "code",
   "execution_count": 16,
   "metadata": {},
   "outputs": [
    {
     "name": "stdout",
     "output_type": "stream",
     "text": [
      "[[ 1  2  3  4  5]\n",
      " [ 6  7  8  9 10]\n",
      " [11 12 13 14 15]]\n",
      "14\n",
      "[[2 3 4]\n",
      " [7 8 9]]\n"
     ]
    },
    {
     "data": {
      "text/plain": [
       "'\\n[[2 3 4]\\n [7 8 9]]\\n'"
      ]
     },
     "execution_count": 16,
     "metadata": {},
     "output_type": "execute_result"
    }
   ],
   "source": [
    "import numpy as np\n",
    "matrix = np.arange(1, 16).reshape(3,5)  #1부터 15까지 들어있는 (3,5)짜리 배열\n",
    "print(matrix)\n",
    "'''\n",
    "[[ 1  2  3  4  5]\n",
    " [ 6  7  8  9 10]\n",
    " [11 12 13 14 15]]\n",
    "'''\n",
    "#인덱싱 하기(2행3열 값 찾기)\n",
    "print(matrix[2,3])\n",
    "'''14'''\n",
    "#슬라이싱 하기(,기준으로 좌측은 행 우측은 열)\n",
    "print(matrix[0:2,1:4])\n",
    "'''\n",
    "[[2 3 4]\n",
    " [7 8 9]]\n",
    "'''"
   ]
  },
  {
   "attachments": {},
   "cell_type": "markdown",
   "metadata": {},
   "source": [
    "### 3차원 배열"
   ]
  },
  {
   "cell_type": "code",
   "execution_count": 14,
   "metadata": {},
   "outputs": [
    {
     "name": "stdout",
     "output_type": "stream",
     "text": [
      "[[[ 0  1  2  3]\n",
      "  [ 4  5  6  7]\n",
      "  [ 8  9 10 11]]\n",
      "\n",
      " [[12 13 14 15]\n",
      "  [16 17 18 19]\n",
      "  [20 21 22 23]]]\n",
      "----\n",
      "(1, 3, 4)\n",
      "[[[ 0  1  2  3]\n",
      "  [ 4  5  6  7]\n",
      "  [ 8  9 10 11]]]\n",
      "----\n",
      "(2, 1, 4)\n",
      "[[[ 0  1  2  3]]\n",
      "\n",
      " [[12 13 14 15]]]\n",
      "----\n",
      "(2, 3, 1)\n",
      "[[[ 0]\n",
      "  [ 4]\n",
      "  [ 8]]\n",
      "\n",
      " [[12]\n",
      "  [16]\n",
      "  [20]]]\n"
     ]
    }
   ],
   "source": [
    "import numpy as np\n",
    "#3차원에서는 층,행,열 이라고 할수있음\n",
    "array = np.arange(24).reshape(2,3,4)\n",
    "print(array)\n",
    "print('----')\n",
    "# (2,3,4) Array 자르는것은 axis=0 은 첫번째, axis = 1은 두번째.. 파라미터 기준으로 나눈다고 생각하기.\n",
    "print(np.split(array,2,axis = 0)[0].shape)\n",
    "print(np.split(array,2,axis = 0)[0],)\n",
    "print('----')\n",
    "print(np.split(array,3,axis = 1)[0].shape)\n",
    "print(np.split(array,3,axis = 1)[0])\n",
    "print('----')\n",
    "print(np.split(array,4,axis = 2)[0].shape)\n",
    "print(np.split(array,4,axis = 2)[0])"
   ]
  },
  {
   "attachments": {},
   "cell_type": "markdown",
   "metadata": {},
   "source": [
    "### 연산"
   ]
  },
  {
   "cell_type": "code",
   "execution_count": null,
   "metadata": {},
   "outputs": [],
   "source": [
    "import numpy as np\n",
    "array = np.array([1,2,3,4,5])\n",
    "\n",
    "#단순 연산\n",
    "print(array + 5)\n",
    "'''[ 6  7  8  9 10]'''\n",
    "array2 = np.array([5,4,3,2,1])\n",
    "\n",
    "#원소끼리 더하기 element wise\n",
    "print(array + array2)\n",
    "'''[6 6 6 6 6]'''\n",
    "\n",
    "\n",
    "#broadcast 연산\n",
    "A = np.arange(6).reshape(6,1)\n",
    "B = np.arange(6)\n",
    "'''[[0]\n",
    " [1]\n",
    " [2]\n",
    " [3]\n",
    " [4]\n",
    " [5]]\n",
    "\n",
    "[0 1 2 3 4 5]\n",
    "'''\n",
    "\n",
    "print(A+B)\n",
    "'''\n",
    "[[ 0  1  2  3  4  5]\n",
    " [ 1  2  3  4  5  6]\n",
    " [ 2  3  4  5  6  7]\n",
    " [ 3  4  5  6  7  8]\n",
    " [ 4  5  6  7  8  9]\n",
    " [ 5  6  7  8  9 10]]\n",
    "'''"
   ]
  },
  {
   "attachments": {},
   "cell_type": "markdown",
   "metadata": {},
   "source": [
    "### 집계함수 연산"
   ]
  },
  {
   "cell_type": "code",
   "execution_count": null,
   "metadata": {},
   "outputs": [],
   "source": [
    "import numpy as np\n",
    "\n",
    "matrix = np.arange(8).reshape((2, 4))\n",
    "print(matrix)\n",
    "'''\n",
    "[[0 1 2 3]\n",
    " [4 5 6 7]]\n",
    "[0 1 2 3 4]\n",
    "'''\n",
    "# 집계연산 mean, min,max, std 가능\n",
    "print(np.sum(matrix))\n",
    "''' 28'''\n",
    "# 각 열의 합 구하기\n",
    "print(np.sum(matrix, axis=0))\n",
    "'''[ 4  6  8 10]'''"
   ]
  }
 ],
 "metadata": {
  "kernelspec": {
   "display_name": "Python 3",
   "language": "python",
   "name": "python3"
  },
  "language_info": {
   "codemirror_mode": {
    "name": "ipython",
    "version": 3
   },
   "file_extension": ".py",
   "mimetype": "text/x-python",
   "name": "python",
   "nbconvert_exporter": "python",
   "pygments_lexer": "ipython3",
   "version": "3.10.9"
  },
  "orig_nbformat": 4,
  "vscode": {
   "interpreter": {
    "hash": "aee8b7b246df8f9039afb4144a1f6fd8d2ca17a180786b69acc140d282b71a49"
   }
  }
 },
 "nbformat": 4,
 "nbformat_minor": 2
}
