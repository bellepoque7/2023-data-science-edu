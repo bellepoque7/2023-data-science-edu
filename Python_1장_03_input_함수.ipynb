{
  "nbformat": 4,
  "nbformat_minor": 0,
  "metadata": {
    "colab": {
      "provenance": [],
      "include_colab_link": true
    },
    "kernelspec": {
      "name": "python3",
      "display_name": "Python 3"
    },
    "accelerator": "GPU"
  },
  "cells": [
    {
      "cell_type": "markdown",
      "metadata": {
        "id": "view-in-github",
        "colab_type": "text"
      },
      "source": [
        "<a href=\"https://colab.research.google.com/github/bellepoque7/2023-data-science-edu/blob/main/Python_1%EC%9E%A5_03_input_%ED%95%A8%EC%88%98.ipynb\" target=\"_parent\"><img src=\"https://colab.research.google.com/assets/colab-badge.svg\" alt=\"Open In Colab\"/></a>"
      ]
    },
    {
      "cell_type": "markdown",
      "metadata": {
        "id": "-qaVL4PuEKne"
      },
      "source": [
        "# input() 함수로 값을 입력받자.\n",
        "- print() 함수와 반대의 기능을 수행한다."
      ]
    },
    {
      "cell_type": "code",
      "metadata": {
        "id": "bDrmxFQRtQOB",
        "colab": {
          "base_uri": "https://localhost:8080/"
        },
        "outputId": "8ad7c76c-5ef9-4f75-cb5a-01ed12619e75"
      },
      "source": [
        "# print() 함수와 input() 함수를 연속해서 사용함으로써 입력값을 확인할 수 있다.\n",
        "# 프로그램을 실행한 후에, 아래와 같이 콘솔 창에서 숫자를 입력해보자. \n",
        "\n",
        "print('Please, input a number:')\n",
        "a = input()\n",
        "print('You entered:', a)"
      ],
      "execution_count": null,
      "outputs": [
        {
          "output_type": "stream",
          "name": "stdout",
          "text": [
            "Please, input a number:\n",
            "123\n",
            "You entered: 123\n"
          ]
        }
      ]
    },
    {
      "cell_type": "code",
      "metadata": {
        "id": "QVIBINIy8Gc_",
        "colab": {
          "base_uri": "https://localhost:8080/"
        },
        "outputId": "6ea8e1e2-cc3a-4659-e105-508fe615bdb8"
      },
      "source": [
        "# 각 셀은 먼저 위에서 실행된 셀의 결과를 내부적으로 저장하고 있다.\n",
        "# 따라서, 이 셀을 실행하면, 바로 위의 셀에서 사용한 a라는 변수값을 가지고 있는 것이다.\n",
        "print(type(a))\n",
        "\n",
        "# 입력값의 자료형을 출력해보자.\n",
        "# 입력값은 무조건 str(문자열)이다.\n",
        "# 숫자를 입력하더라도 문자열로 입력된다."
      ],
      "execution_count": null,
      "outputs": [
        {
          "output_type": "stream",
          "name": "stdout",
          "text": [
            "<class 'str'>\n"
          ]
        }
      ]
    },
    {
      "cell_type": "markdown",
      "metadata": {
        "id": "ApPVVD3BEyFa"
      },
      "source": [
        "# 위의 출력 결과를 통해서 input() 함수는 문자열을 반환하는 것을 확인할 수 있다."
      ]
    },
    {
      "cell_type": "code",
      "metadata": {
        "id": "tpJ2bNBrtUXW",
        "colab": {
          "base_uri": "https://localhost:8080/"
        },
        "outputId": "54ac6ba6-4896-447b-8970-34fb17aa8044"
      },
      "source": [
        "# 또는 아래와 같이 input( ) 함수를 사용할 수도 있다.\n",
        "# input() 함수에 문자열을 파라미터로 사용하면 메세지 출력 후에 값을 입력받을 수 있다.\n",
        "\n",
        "b = input('Please, input a second number:')\n",
        "print('You entered:', b)"
      ],
      "execution_count": null,
      "outputs": [
        {
          "output_type": "stream",
          "name": "stdout",
          "text": [
            "Please, input a second number:123\n",
            "You entered: 123\n"
          ]
        }
      ]
    },
    {
      "cell_type": "code",
      "metadata": {
        "id": "WWJlThpLhw6T",
        "colab": {
          "base_uri": "https://localhost:8080/"
        },
        "outputId": "bba583fc-cae2-4d5e-ca1b-14789d25d4d4"
      },
      "source": [
        "# '자료형(data types)'에 대해 간단하게 설명했었는데..\n",
        "# 자료형들 간에 변환할 수 있는 함수가 있다.\n",
        "# 이런 함수들은 자료형 그 자체의 이름을 그대로 사용하고 있는데...\n",
        "\n",
        "print(int(3.14))\n",
        "print(int(\"12345\"))\n",
        "print(float(10))\n",
        "print(str(3.14))\n",
        "print(bool(1))\n",
        "print(bool(0))\n",
        "print(int(float(\"123.1\")))\n",
        "\n",
        "# 위의 내용은 지금은 몰라도 된다.\n",
        "# 나중에 자세하게 다시 설명한다."
      ],
      "execution_count": null,
      "outputs": [
        {
          "output_type": "stream",
          "name": "stdout",
          "text": [
            "3\n",
            "12345\n",
            "10.0\n",
            "3.14\n",
            "True\n",
            "False\n",
            "123\n"
          ]
        }
      ]
    },
    {
      "cell_type": "code",
      "metadata": {
        "id": "H9wWI5GFtZYt",
        "colab": {
          "base_uri": "https://localhost:8080/"
        },
        "outputId": "90aaebf2-f81a-448a-805b-9c52d92e434b"
      },
      "source": [
        "# input() 함수는 문자열을 반환한다.\n",
        "# 따라서 정수를 입력받고 싶으면 int() 함수를 이용해서 문자열을 숫자로 변환할 수 있다.\n",
        "# 즉, input( ) 함수는 문자열로 입력받기 때문에 숫자를 입력받으려면 int( ) 함수로 변환해서 사용한다.\n",
        "\n",
        "msg = input(\"Enter any number and l will add 10 to the number: \")\n",
        "no = int(float(msg))\n",
        "\n",
        "\n",
        "print(\"You entered\", no)\n",
        "print(\"I'll add\", 10, \"to it\")\n",
        "print(\"So, the result is...\", no + 10)"
      ],
      "execution_count": null,
      "outputs": [
        {
          "output_type": "stream",
          "name": "stdout",
          "text": [
            "Enter any number and l will add 10 to the number: 123.1\n",
            "You entered 123\n",
            "I'll add 10 to it\n",
            "So, the result is... 133\n"
          ]
        }
      ]
    },
    {
      "cell_type": "code",
      "metadata": {
        "id": "4BKt-TlFbsxF"
      },
      "source": [
        "msg = input(\"Enter any number and l will add 10 to the number: \")\n",
        "no = # 코드를 작성해 보세요\n",
        "\n",
        "print(\"You entered\", no)\n",
        "print(\"I'll add\", 10, \"to it\")\n",
        "print(\"So, the result is...\", #코드를 작성해 보세요 + 10)\n",
        "\n",
        "# input 123.1\n",
        "# 형변환\n",
        "# 변수\n"
      ],
      "execution_count": null,
      "outputs": []
    },
    {
      "cell_type": "code",
      "metadata": {
        "id": "BgZDpRYfb4sG",
        "colab": {
          "base_uri": "https://localhost:8080/",
          "height": 198
        },
        "outputId": "01c70ae7-5c0c-4ac8-c07f-a47e2464d10d"
      },
      "source": [
        "# int() 함수를 통해서 파라미터를 int 자료형으로 변경할 수 있다고 했다.\n",
        "# 그렇지만 아래 문장은 에러다\n",
        "# \"1\", \"123\" 처럼 숫자로 된 문자열만 변경이 가능하다.\n",
        "print(int(\"AA\"))"
      ],
      "execution_count": null,
      "outputs": [
        {
          "output_type": "error",
          "ename": "ValueError",
          "evalue": "ignored",
          "traceback": [
            "\u001b[0;31m---------------------------------------------------------------------------\u001b[0m",
            "\u001b[0;31mValueError\u001b[0m                                Traceback (most recent call last)",
            "\u001b[0;32m<ipython-input-11-3688a62e4fa1>\u001b[0m in \u001b[0;36m<module>\u001b[0;34m()\u001b[0m\n\u001b[1;32m      2\u001b[0m \u001b[0;31m# 그렇지만 아래 문장은 에러다\u001b[0m\u001b[0;34m\u001b[0m\u001b[0;34m\u001b[0m\u001b[0;34m\u001b[0m\u001b[0m\n\u001b[1;32m      3\u001b[0m \u001b[0;31m# \"1\", \"123\" 처럼 숫자로 된 문자열만 변경이 가능하다.\u001b[0m\u001b[0;34m\u001b[0m\u001b[0;34m\u001b[0m\u001b[0;34m\u001b[0m\u001b[0m\n\u001b[0;32m----> 4\u001b[0;31m \u001b[0mprint\u001b[0m\u001b[0;34m(\u001b[0m\u001b[0mint\u001b[0m\u001b[0;34m(\u001b[0m\u001b[0;34m\"AA\"\u001b[0m\u001b[0;34m)\u001b[0m\u001b[0;34m)\u001b[0m\u001b[0;34m\u001b[0m\u001b[0;34m\u001b[0m\u001b[0m\n\u001b[0m",
            "\u001b[0;31mValueError\u001b[0m: invalid literal for int() with base 10: 'AA'"
          ]
        }
      ]
    },
    {
      "cell_type": "markdown",
      "metadata": {
        "id": "AVUV2EwEESb3"
      },
      "source": [
        "# [각자 실습 해보자]\n",
        "\n",
        "아래의 셀에서 각각 다양한 형식으로 input() 함수와 print() 함수를 활용해보자."
      ]
    },
    {
      "cell_type": "code",
      "metadata": {
        "id": "e-Br7UDw433e"
      },
      "source": [
        "# 여기에...\n",
        "\n",
        "print(type(int('100')))\n",
        "\n",
        "a = type(int('1234q'))\n",
        "print(a)"
      ],
      "execution_count": null,
      "outputs": []
    }
  ]
}