{
 "cells": [
  {
   "cell_type": "code",
   "execution_count": 2,
   "metadata": {},
   "outputs": [
    {
     "name": "stdout",
     "output_type": "stream",
     "text": [
      "1\n"
     ]
    },
    {
     "data": {
      "text/plain": [
       "[2, 1]"
      ]
     },
     "execution_count": 2,
     "metadata": {},
     "output_type": "execute_result"
    }
   ],
   "source": [
    "data = [2,1]\n",
    "mid = len(data)//2\n",
    "print(mid)\n",
    "data[:0]\n",
    "data[0:]"
   ]
  },
  {
   "cell_type": "code",
   "execution_count": 5,
   "metadata": {},
   "outputs": [
    {
     "name": "stdout",
     "output_type": "stream",
     "text": [
      "A\n",
      "B\n",
      "C\n",
      "A\n",
      "B\n",
      "C\n",
      "A\n",
      "B\n",
      "C\n"
     ]
    }
   ],
   "source": [
    "for i in range(3):\n",
    "    for i in ['A','B','C']:\n",
    "        print(i)"
   ]
  },
  {
   "cell_type": "code",
   "execution_count": null,
   "metadata": {},
   "outputs": [],
   "source": [
    "import sys\n",
    "\n",
    "def reservation(meetingList) :\n",
    "    '''\n",
    "    회의 일정이 list로 주어질 때, 엘리스씨가 준비해야 하는 회의실의 수의 최솟값을 반환하는 함수를 작성하세요.\n",
    "\n",
    "    각 일정은 tuple로 주어진다. 예를 들어, 주어진 입력의 경우 다음과 같이 저장된다.\n",
    "    \n",
    "    meetingList[0] = (1, 4)\n",
    "    meetingList[1] = (3, 5)\n",
    "    meetingList[2] = (2, 7)\n",
    "    meetingList[3] = (4, 6)\n",
    "    '''\n",
    "    m_room = [[] for _ in range(len(meetingList))]\n",
    "    m_cnt = 0\n",
    "    for i in range(len(meetingList)):\n",
    "        if i == 0:\n",
    "            m_room[0].append(meetingList[i][0])\n",
    "            m_room[0].append(meetingList[i][1])\n",
    "            m_cnt +=1\n",
    "        else:\n",
    "            for j in range(len(m_room)):\n",
    "                # print(i,j, m_room,meetingList,m_cnt)\n",
    "                if m_room[j][1] > meetingList[i][0]: # 미팅룸 끝나는시간이 더늦으면\n",
    "                    m_room[i].append(meetingList[i][0])\n",
    "                    m_room[i].append(meetingList[i][1])\n",
    "                    m_cnt +=1\n",
    "                else: # 같거나 새로들어오는 시작시간이 더 늦으면\n",
    "                    m_room[j].append(meetingList[i][0])\n",
    "                    m_room[j].append(meetingList[i][1])\n",
    "                break\n",
    "    return m_cnt\n",
    "\n",
    "def main():\n",
    "    '''\n",
    "    이 부분은 수정하지 마세요.\n",
    "    '''\n",
    "\n",
    "    n = int(input())\n",
    "    meetingList = []\n",
    "\n",
    "    for i in range(n) :\n",
    "        data = [int(x) for x in input().split()]\n",
    "        meetingList.append( (data[0], data[1]) )\n",
    "\n",
    "    print(reservation(meetingList))\n",
    "\n",
    "if __name__ == \"__main__\":\n",
    "    main()\n"
   ]
  },
  {
   "cell_type": "code",
   "execution_count": 5,
   "metadata": {},
   "outputs": [
    {
     "data": {
      "text/plain": [
       "'가'"
      ]
     },
     "execution_count": 5,
     "metadata": {},
     "output_type": "execute_result"
    }
   ],
   "source": [
    "my_dict = {1:'가',2:'나',3:'다'}\n",
    "my_dict[1]"
   ]
  },
  {
   "cell_type": "code",
   "execution_count": 6,
   "metadata": {},
   "outputs": [
    {
     "data": {
      "text/plain": [
       "{1: '가', 2: '나', 3: '다'}"
      ]
     },
     "execution_count": 6,
     "metadata": {},
     "output_type": "execute_result"
    }
   ],
   "source": [
    "my_dict"
   ]
  },
  {
   "cell_type": "code",
   "execution_count": 10,
   "metadata": {},
   "outputs": [],
   "source": [
    "assert([True,True] == [True,True])"
   ]
  },
  {
   "cell_type": "code",
   "execution_count": 11,
   "metadata": {},
   "outputs": [
    {
     "data": {
      "text/plain": [
       "<map at 0x110ef15a0>"
      ]
     },
     "execution_count": 11,
     "metadata": {},
     "output_type": "execute_result"
    }
   ],
   "source": [
    "map(int,['1','2','3'])"
   ]
  },
  {
   "cell_type": "code",
   "execution_count": 2,
   "metadata": {},
   "outputs": [],
   "source": [
    "my_list = [1]\n",
    "for i in my_list[1:]:\n",
    "    print(i)"
   ]
  },
  {
   "cell_type": "code",
   "execution_count": 5,
   "metadata": {},
   "outputs": [
    {
     "name": "stdout",
     "output_type": "stream",
     "text": [
      "2 check\n"
     ]
    }
   ],
   "source": [
    "my_dict = {1:'A',2:'B'}\n",
    "my_list = [2,3]\n",
    "\n",
    "for i in my_list: # 2, 3\n",
    "    if my_dict.get(i,-1) != -1:\n",
    "        print(i, 'check')"
   ]
  },
  {
   "cell_type": "code",
   "execution_count": 7,
   "metadata": {},
   "outputs": [
    {
     "name": "stdout",
     "output_type": "stream",
     "text": [
      "1 check\n",
      "2 check\n"
     ]
    }
   ],
   "source": [
    "stack = [1,2,3] \n",
    "\n",
    "for i in stack:\n",
    "    if stack:\n",
    "        print(i,'check')\n",
    "        stack.pop()"
   ]
  },
  {
   "cell_type": "code",
   "execution_count": 4,
   "metadata": {},
   "outputs": [
    {
     "name": "stdout",
     "output_type": "stream",
     "text": [
      "0\n",
      "1\n",
      "2\n"
     ]
    }
   ],
   "source": [
    "from collections import *\n",
    "q = deque([1,2,3])\n",
    "\n",
    "for i in range(len(q)):\n",
    "    print(i)\n",
    "    a = q.popleft()\n"
   ]
  },
  {
   "cell_type": "code",
   "execution_count": 7,
   "metadata": {},
   "outputs": [
    {
     "name": "stdout",
     "output_type": "stream",
     "text": [
      "10\n"
     ]
    }
   ],
   "source": [
    "N = int(input())\n",
    "arr = input().strip()\n",
    "stack = []\n",
    "cnt = 0 \n",
    "for i in arr:\n",
    "    if len(stack) == 0:\n",
    "        stack.append(i)\n",
    "\n",
    "    elif i=='(' :\n",
    "        stack.append(i) \n",
    "    elif i ==')' and stack[-1] == '(':\n",
    "        \n",
    "        stack.pop() \n",
    "        cnt+=1\n",
    "\n",
    "print(cnt*2)\n",
    "# print(stack)"
   ]
  },
  {
   "cell_type": "code",
   "execution_count": 9,
   "metadata": {},
   "outputs": [
    {
     "name": "stdout",
     "output_type": "stream",
     "text": [
      "(1, 2)\n",
      "(1, 3)\n",
      "(2, 1)\n",
      "(2, 3)\n",
      "(3, 1)\n",
      "(3, 2)\n"
     ]
    }
   ],
   "source": [
    "from itertools import *\n",
    "for i in permutations([1,2,3],2):\n",
    "    print(i)"
   ]
  },
  {
   "cell_type": "code",
   "execution_count": 11,
   "metadata": {},
   "outputs": [
    {
     "name": "stderr",
     "output_type": "stream",
     "text": [
      "2023-03-03 15:05:33.090459: I tensorflow/core/platform/cpu_feature_guard.cc:193] This TensorFlow binary is optimized with oneAPI Deep Neural Network Library (oneDNN) to use the following CPU instructions in performance-critical operations:  AVX2 FMA\n",
      "To enable them in other operations, rebuild TensorFlow with the appropriate compiler flags.\n",
      "2023-03-03 15:05:45.182751: I tensorflow/core/platform/cpu_feature_guard.cc:193] This TensorFlow binary is optimized with oneAPI Deep Neural Network Library (oneDNN) to use the following CPU instructions in performance-critical operations:  AVX2 FMA\n",
      "To enable them in other operations, rebuild TensorFlow with the appropriate compiler flags.\n"
     ]
    },
    {
     "data": {
      "text/plain": [
       "<tf.Tensor: shape=(3,), dtype=float32, numpy=array([ 1.5,  6. , 10.5], dtype=float32)>"
      ]
     },
     "execution_count": 11,
     "metadata": {},
     "output_type": "execute_result"
    }
   ],
   "source": [
    "import tensorflow as tf\n",
    "tf.linspace(1.5, 10.5, 3)"
   ]
  },
  {
   "cell_type": "code",
   "execution_count": null,
   "metadata": {},
   "outputs": [],
   "source": [
    "ss"
   ]
  }
 ],
 "metadata": {
  "kernelspec": {
   "display_name": "Python 3",
   "language": "python",
   "name": "python3"
  },
  "language_info": {
   "codemirror_mode": {
    "name": "ipython",
    "version": 3
   },
   "file_extension": ".py",
   "mimetype": "text/x-python",
   "name": "python",
   "nbconvert_exporter": "python",
   "pygments_lexer": "ipython3",
   "version": "3.10.9"
  },
  "orig_nbformat": 4,
  "vscode": {
   "interpreter": {
    "hash": "aee8b7b246df8f9039afb4144a1f6fd8d2ca17a180786b69acc140d282b71a49"
   }
  }
 },
 "nbformat": 4,
 "nbformat_minor": 2
}
