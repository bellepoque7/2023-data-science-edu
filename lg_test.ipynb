{
 "cells": [
  {
   "cell_type": "code",
   "execution_count": 2,
   "metadata": {},
   "outputs": [
    {
     "name": "stdout",
     "output_type": "stream",
     "text": [
      "1\n"
     ]
    },
    {
     "data": {
      "text/plain": [
       "[2, 1]"
      ]
     },
     "execution_count": 2,
     "metadata": {},
     "output_type": "execute_result"
    }
   ],
   "source": [
    "data = [2,1]\n",
    "mid = len(data)//2\n",
    "print(mid)\n",
    "data[:0]\n",
    "data[0:]"
   ]
  },
  {
   "cell_type": "code",
   "execution_count": 5,
   "metadata": {},
   "outputs": [
    {
     "name": "stdout",
     "output_type": "stream",
     "text": [
      "A\n",
      "B\n",
      "C\n",
      "A\n",
      "B\n",
      "C\n",
      "A\n",
      "B\n",
      "C\n"
     ]
    }
   ],
   "source": [
    "for i in range(3):\n",
    "    for i in ['A','B','C']:\n",
    "        print(i)"
   ]
  },
  {
   "cell_type": "code",
   "execution_count": null,
   "metadata": {},
   "outputs": [],
   "source": [
    "import sys\n",
    "\n",
    "def reservation(meetingList) :\n",
    "    '''\n",
    "    회의 일정이 list로 주어질 때, 엘리스씨가 준비해야 하는 회의실의 수의 최솟값을 반환하는 함수를 작성하세요.\n",
    "\n",
    "    각 일정은 tuple로 주어진다. 예를 들어, 주어진 입력의 경우 다음과 같이 저장된다.\n",
    "    \n",
    "    meetingList[0] = (1, 4)\n",
    "    meetingList[1] = (3, 5)\n",
    "    meetingList[2] = (2, 7)\n",
    "    meetingList[3] = (4, 6)\n",
    "    '''\n",
    "    m_room = [[] for _ in range(len(meetingList))]\n",
    "    m_cnt = 0\n",
    "    for i in range(len(meetingList)):\n",
    "        if i == 0:\n",
    "            m_room[0].append(meetingList[i][0])\n",
    "            m_room[0].append(meetingList[i][1])\n",
    "            m_cnt +=1\n",
    "        else:\n",
    "            for j in range(len(m_room)):\n",
    "                # print(i,j, m_room,meetingList,m_cnt)\n",
    "                if m_room[j][1] > meetingList[i][0]: # 미팅룸 끝나는시간이 더늦으면\n",
    "                    m_room[i].append(meetingList[i][0])\n",
    "                    m_room[i].append(meetingList[i][1])\n",
    "                    m_cnt +=1\n",
    "                else: # 같거나 새로들어오는 시작시간이 더 늦으면\n",
    "                    m_room[j].append(meetingList[i][0])\n",
    "                    m_room[j].append(meetingList[i][1])\n",
    "                break\n",
    "    return m_cnt\n",
    "\n",
    "def main():\n",
    "    '''\n",
    "    이 부분은 수정하지 마세요.\n",
    "    '''\n",
    "\n",
    "    n = int(input())\n",
    "    meetingList = []\n",
    "\n",
    "    for i in range(n) :\n",
    "        data = [int(x) for x in input().split()]\n",
    "        meetingList.append( (data[0], data[1]) )\n",
    "\n",
    "    print(reservation(meetingList))\n",
    "\n",
    "if __name__ == \"__main__\":\n",
    "    main()\n"
   ]
  }
 ],
 "metadata": {
  "kernelspec": {
   "display_name": "Python 3",
   "language": "python",
   "name": "python3"
  },
  "language_info": {
   "codemirror_mode": {
    "name": "ipython",
    "version": 3
   },
   "file_extension": ".py",
   "mimetype": "text/x-python",
   "name": "python",
   "nbconvert_exporter": "python",
   "pygments_lexer": "ipython3",
   "version": "3.10.9 (main, Dec 15 2022, 18:25:35) [Clang 14.0.0 (clang-1400.0.29.202)]"
  },
  "orig_nbformat": 4,
  "vscode": {
   "interpreter": {
    "hash": "aee8b7b246df8f9039afb4144a1f6fd8d2ca17a180786b69acc140d282b71a49"
   }
  }
 },
 "nbformat": 4,
 "nbformat_minor": 2
}
