{
  "nbformat": 4,
  "nbformat_minor": 0,
  "metadata": {
    "colab": {
      "provenance": [],
      "include_colab_link": true
    },
    "kernelspec": {
      "name": "python3",
      "display_name": "Python 3"
    }
  },
  "cells": [
    {
      "cell_type": "markdown",
      "metadata": {
        "id": "view-in-github",
        "colab_type": "text"
      },
      "source": [
        "<a href=\"https://colab.research.google.com/github/bellepoque7/2023-data-science-edu/blob/main/python%20%EB%AC%B8%EB%B2%95(%EC%B5%9C%EC%9E%AC%EA%B7%9C%20%EA%B0%95%EC%82%AC)/Python_4%EC%9E%A5_08_break_continue.ipynb\" target=\"_parent\"><img src=\"https://colab.research.google.com/assets/colab-badge.svg\" alt=\"Open In Colab\"/></a>"
      ]
    },
    {
      "cell_type": "markdown",
      "metadata": {
        "id": "jFou1aM7CNEa"
      },
      "source": [
        "# 조금 특별한 명령어\n",
        "- break\n",
        "- continue\n",
        "\n",
        "# break와 continue의 차이점을 처음에는 이해하기 어려울 수 있다."
      ]
    },
    {
      "cell_type": "markdown",
      "metadata": {
        "id": "35jSKKT-yMIO"
      },
      "source": [
        "# 가장 먼저 break 키워드를 공부해봅시다."
      ]
    },
    {
      "cell_type": "code",
      "metadata": {
        "id": "Rqt2qTOaRqP8",
        "colab": {
          "base_uri": "https://localhost:8080/"
        },
        "outputId": "e7439159-5380-4515-c8cf-f2c80455955f"
      },
      "source": [
        "# while 문\n",
        "# 아래는 일반적인 while문 사용 형식으로써 1~10까지의 합을 구하고 있다.\n",
        "\n",
        "total = 0\n",
        "i = 1\n",
        "\n",
        "while i <= 10:   \n",
        "    total = total + i\n",
        "    i = i + 1\n",
        "\n",
        "print(\"sum from 1 to 10 is\", total)"
      ],
      "execution_count": null,
      "outputs": [
        {
          "output_type": "stream",
          "text": [
            "sum from 1 to 10 is 55\n"
          ],
          "name": "stdout"
        }
      ]
    },
    {
      "cell_type": "code",
      "metadata": {
        "id": "PYy6EYX4SFJG",
        "colab": {
          "base_uri": "https://localhost:8080/"
        },
        "outputId": "4d332d70-023a-4700-b867-a110598e57f9"
      },
      "source": [
        "# 위의 프로그램은 아래와 같이 구현할 수도 있다.\n",
        "\n",
        "total = 0\n",
        "i = 1\n",
        "\n",
        "# while True: 문장은 무한 반복(indefinite loop)이다.\n",
        "# 끝나지 않는 반복문을 의미한다.\n",
        "while True:\n",
        "   # 아래의 break문으로 종료 조건을 체크한다. \n",
        "   if i > 10: \n",
        "       break\n",
        "   total = total + i\n",
        "   i = i + 1\n",
        "\n",
        "print(\"sum from 1 to 10 is\", total)\n"
      ],
      "execution_count": null,
      "outputs": [
        {
          "output_type": "stream",
          "text": [
            "sum from 1 to 10 is 55\n"
          ],
          "name": "stdout"
        }
      ]
    },
    {
      "cell_type": "markdown",
      "metadata": {
        "id": "nnUqxRovWSl8"
      },
      "source": [
        "# 아직 list라는 자료형을 배우지는 않았지만... break의 설명을 위해서..."
      ]
    },
    {
      "cell_type": "code",
      "metadata": {
        "colab": {
          "base_uri": "https://localhost:8080/"
        },
        "id": "a6cRXQDr-n0R",
        "outputId": "87f4b0a1-17fd-41bc-c6d6-b1c3eb8b1a49"
      },
      "source": [
        "# 아래는 list라는 자료형이다. \n",
        "# 리스트 자료형은 여러 개의 값을 담아두는 방이라고 생각하자.\n",
        "fruit_list = ['apple', 'berry', 'pineapple', 'banana'] \n",
        "\n",
        "# 리스트에서 'berry'를 검색하는 코드이다.\n",
        "# break문을 사용하고 있다.\n",
        "for i in fruit_list:\n",
        "    print(i)\n",
        "    if i == 'berry':\n",
        "        print('Found '+ i)\n",
        "        break"
      ],
      "execution_count": null,
      "outputs": [
        {
          "output_type": "stream",
          "text": [
            "apple\n",
            "berry\n",
            "Found berry\n"
          ],
          "name": "stdout"
        }
      ]
    },
    {
      "cell_type": "markdown",
      "metadata": {
        "id": "aFUJU8uXyJvW"
      },
      "source": [
        "# continue 키워드를 공부해봅시다."
      ]
    },
    {
      "cell_type": "code",
      "metadata": {
        "id": "-T1YInTixk6q",
        "colab": {
          "base_uri": "https://localhost:8080/"
        },
        "outputId": "4111c127-fac0-49ab-f88f-bfe9a04be06f"
      },
      "source": [
        "# 아래의 코드는 1~10 사이의 숫자 중에서 홀수만 출력한다.\n",
        "\n",
        "for num in range(1, 11):\n",
        "    if num % 2 == 1:\n",
        "        print(num)\n"
      ],
      "execution_count": null,
      "outputs": [
        {
          "output_type": "stream",
          "text": [
            "1\n",
            "3\n",
            "5\n",
            "7\n",
            "9\n"
          ],
          "name": "stdout"
        }
      ]
    },
    {
      "cell_type": "code",
      "metadata": {
        "id": "BHeylftQrRre",
        "colab": {
          "base_uri": "https://localhost:8080/"
        },
        "outputId": "cc45b8be-f4ac-4536-a685-d128c02f8117"
      },
      "source": [
        "# continue 문장은 for문에서 써보면 깔끔하다.\n",
        "\n",
        "for num in range(1, 11):\n",
        "    if num % 2 == 0:\n",
        "        continue\n",
        "    print(num)"
      ],
      "execution_count": null,
      "outputs": [
        {
          "output_type": "stream",
          "text": [
            "1\n",
            "3\n",
            "5\n",
            "7\n",
            "9\n"
          ],
          "name": "stdout"
        }
      ]
    },
    {
      "cell_type": "code",
      "metadata": {
        "id": "Ic74nxVWE9jq",
        "colab": {
          "base_uri": "https://localhost:8080/"
        },
        "outputId": "43cda288-d7b6-4fd4-919e-46f534b89ca1"
      },
      "source": [
        "# in 키워드는 아래와 같이 사용할 수 있다.\n",
        "\n",
        "print(\"B\" in \"AEIOU\")\n",
        "print(\"A\" in \"AEIOU\")\n",
        "print(\"a\" in \"AEIOU\")"
      ],
      "execution_count": null,
      "outputs": [
        {
          "output_type": "stream",
          "text": [
            "False\n",
            "True\n",
            "False\n"
          ],
          "name": "stdout"
        }
      ]
    },
    {
      "cell_type": "code",
      "metadata": {
        "id": "d_pN4jEVVW-D",
        "colab": {
          "base_uri": "https://localhost:8080/"
        },
        "outputId": "46568780-7731-49ce-cf01-75430fe7895f"
      },
      "source": [
        "# 위의 예제는 continue 문장의 사용 효용이 잘 느껴지지 않을 것이다.\n",
        "# 아래는 문자열 중에서 자음만 출력하는 코드이다.\n",
        "\n",
        "for ch in \"HELLO PYTHON\":\n",
        "    if ch in \"AEIOU\":\n",
        "        continue\n",
        "    print(ch)"
      ],
      "execution_count": null,
      "outputs": [
        {
          "output_type": "stream",
          "text": [
            "H\n",
            "L\n",
            "L\n",
            " \n",
            "P\n",
            "Y\n",
            "T\n",
            "H\n",
            "N\n"
          ],
          "name": "stdout"
        }
      ]
    },
    {
      "cell_type": "code",
      "metadata": {
        "id": "TtmJYQIcl52d"
      },
      "source": [],
      "execution_count": null,
      "outputs": []
    }
  ]
}