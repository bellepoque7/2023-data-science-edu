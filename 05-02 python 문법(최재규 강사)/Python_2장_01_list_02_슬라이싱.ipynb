{
  "nbformat": 4,
  "nbformat_minor": 0,
  "metadata": {
    "colab": {
      "provenance": [],
      "include_colab_link": true
    },
    "kernelspec": {
      "name": "python3",
      "display_name": "Python 3"
    }
  },
  "cells": [
    {
      "cell_type": "markdown",
      "metadata": {
        "id": "view-in-github",
        "colab_type": "text"
      },
      "source": [
        "<a href=\"https://colab.research.google.com/github/bellepoque7/2023-data-science-edu/blob/main/Python_2%EC%9E%A5_01_list_02_%EC%8A%AC%EB%9D%BC%EC%9D%B4%EC%8B%B1.ipynb\" target=\"_parent\"><img src=\"https://colab.research.google.com/assets/colab-badge.svg\" alt=\"Open In Colab\"/></a>"
      ]
    },
    {
      "cell_type": "markdown",
      "metadata": {
        "id": "mwcdUHU3JVbg"
      },
      "source": [
        "# 리스트의 슬라이싱 기능을 배워보자.\n",
        "- 우리 챗봇에서는 거의 사용하지 않지만, 실제로 파이썬을 사용하는 경우에 요긴한 기능이다.\n",
        "- 대괄호 [ ]를 이용하여 '특정 항목’을 사용할 수 있는 것과 같이, 리스트의 '부분 리스트'를 만드는 슬라이싱(slicing) 연산은 대괄호 [ ]를 이용하여‘특정 부분’을 사용하는 기능을 말한다(slicing 즉 짤라내는 기능이다). \n",
        "- [  ] 내부에 숫자를 콜른(:)으로 아래와 같이 구분해서 영역을 표시한다.\n",
        "- [시작(이상): 끝(미만): 증감]\n"
      ]
    },
    {
      "cell_type": "code",
      "metadata": {
        "id": "51147iAJQGFu",
        "colab": {
          "base_uri": "https://localhost:8080/"
        },
        "outputId": "cc5ed63a-505b-4eb8-ec52-19062b2290e8"
      },
      "source": [
        "# 슬라이싱하는 방법은 아래와 같다.\n",
        "# list[start: end+1]: start부터 end까지 1만큼 증가\n",
        "# list[start: end+1: step]: start부터 end까지 step 만큼 증가. step을 생략하면 default로 1이다\n",
        "\n",
        "a = [0, 1, 2, 3, 4, 5]\n",
        "print(a[2:4]) # 인덱스 2번째부터 4번째까지(4번째는 포함 안함. 즉 2번째~3번째까지)\n",
        "print(a[0:5:2]) # 위와 같은 의미이다."
      ],
      "execution_count": null,
      "outputs": [
        {
          "output_type": "stream",
          "text": [
            "[2, 3]\n",
            "[0, 2, 4]\n"
          ],
          "name": "stdout"
        }
      ]
    },
    {
      "cell_type": "code",
      "metadata": {
        "colab": {
          "base_uri": "https://localhost:8080/"
        },
        "id": "98hdDzz0yMTj",
        "outputId": "2d6d867a-d94b-480f-956e-d9461dba6051"
      },
      "source": [
        "# 모든 항목을 출력하려면 어떻게 하면 될까?\n",
        "\n",
        "a = [0, 1, 2, 3, 4, 5]\n",
        "print(a) # 방법1\n",
        "\n",
        "print(a[0:6]) # 방법2\n",
        "\n",
        "print(a[0:len(a)]) # 방법3: 굳이 이렇게 할 필요는 없지만... 혹 필요한 경우에는...\n",
        "\n",
        "print(a[:]) # 방법 4: 모든 값을 비워두었으니, 처음부터 끝까지"
      ],
      "execution_count": null,
      "outputs": [
        {
          "output_type": "stream",
          "text": [
            "[0, 1, 2, 3, 4, 5]\n",
            "[0, 1, 2, 3, 4, 5]\n",
            "[0, 1, 2, 3, 4, 5]\n",
            "[0, 1, 2, 3, 4, 5]\n"
          ],
          "name": "stdout"
        }
      ]
    },
    {
      "cell_type": "code",
      "metadata": {
        "id": "zQ1tBkU1mPU8",
        "colab": {
          "base_uri": "https://localhost:8080/"
        },
        "outputId": "e955ffec-f008-414a-da1c-d743c3196407"
      },
      "source": [
        "# 짝수 위치의 값만 출력하려면\n",
        "a = [0, 1, 2, 3, 4, 5, 6, 7, 8, 9]\n",
        "\n",
        "print(a[0:10:2]) # 방법1\n",
        "print(a[::2]) # 방법 2\n",
        "print(a[:2])\n",
        "print(a[:-1])\n",
        "print(a[:])\n"
      ],
      "execution_count": null,
      "outputs": [
        {
          "output_type": "stream",
          "text": [
            "[0, 2, 4, 6, 8]\n",
            "[0, 2, 4, 6, 8]\n",
            "[0, 1]\n",
            "[0, 1, 2, 3, 4, 5, 6, 7, 8]\n",
            "[0, 1, 2, 3, 4, 5, 6, 7, 8, 9]\n"
          ],
          "name": "stdout"
        }
      ]
    },
    {
      "cell_type": "code",
      "metadata": {
        "colab": {
          "base_uri": "https://localhost:8080/"
        },
        "id": "sDFFExVIy80Q",
        "outputId": "be270885-9484-491a-e7f0-2df8a6cb83d2"
      },
      "source": [
        "a = [0, 1, 2, 3, 4, 5, 6, 7, 8, 9]\n",
        "print(a[::2])  # 하나씩 인덱스를 건너뛰면서 출력\n",
        "print(a[::3]) # 인덱스를 2개씩 건너뛰면서 출력"
      ],
      "execution_count": null,
      "outputs": [
        {
          "output_type": "stream",
          "text": [
            "[0, 2, 4, 6, 8]\n",
            "[0, 3, 6, 9]\n"
          ],
          "name": "stdout"
        }
      ]
    },
    {
      "cell_type": "code",
      "metadata": {
        "id": "aKGQMbbBmXmy",
        "colab": {
          "base_uri": "https://localhost:8080/"
        },
        "outputId": "ea5436e8-b14f-4d6a-9c60-15385e78624e"
      },
      "source": [
        "a = [0, 1, 2, 3, 4, 5, 6, 7, 8, 9]\n",
        "print(a[::-1])  # 리스트 값들을 역순으로 출력(증감값이 -이면 끝에서...를 의미)\n",
        "print(a[::-2])  # 끝에서 부터 하나씩 인덱스를 건너뛰면서 출력"
      ],
      "execution_count": null,
      "outputs": [
        {
          "output_type": "stream",
          "text": [
            "[9, 8, 7, 6, 5, 4, 3, 2, 1, 0]\n",
            "[9, 7, 5, 3, 1]\n"
          ],
          "name": "stdout"
        }
      ]
    }
  ]
}